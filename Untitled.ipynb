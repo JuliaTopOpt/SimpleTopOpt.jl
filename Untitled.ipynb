{
 "cells": [
  {
   "cell_type": "code",
   "execution_count": 64,
   "metadata": {},
   "outputs": [],
   "source": [
    "using Symbolics\n",
    "using LinearAlgebra"
   ]
  },
  {
   "cell_type": "code",
   "execution_count": 65,
   "id": "5baa3939",
   "metadata": {},
   "outputs": [
    {
     "data": {
      "text/latex": [
       "$$ \\begin{equation}\n",
       "\\left[\n",
       "\\begin{array}{c}\n",
       "u1 \\\\\n",
       "u2 \\\\\n",
       "u3 \\\\\n",
       "u4 \\\\\n",
       "u5 \\\\\n",
       "u6 \\\\\n",
       "u7 \\\\\n",
       "u8 \\\\\n",
       "p1 \\\\\n",
       "p2 \\\\\n",
       "p3 \\\\\n",
       "p4 \\\\\n",
       "\\end{array}\n",
       "\\right]\n",
       "\\end{equation}\n",
       " $$"
      ],
      "text/plain": [
       "12-element Vector{Num}:\n",
       " u1\n",
       " u2\n",
       " u3\n",
       " u4\n",
       " u5\n",
       " u6\n",
       " u7\n",
       " u8\n",
       " p1\n",
       " p2\n",
       " p3\n",
       " p4"
      ]
     },
     "metadata": {},
     "output_type": "display_data"
    }
   ],
   "source": [
    "# Declare variables\n",
    "@variables ρ μ α dα ξ η dx dy\n",
    "@variables u1 u2 u3 u4 u5 u6 u7 u8 p1 p2 p3 p4"
   ]
  },
  {
   "cell_type": "code",
   "execution_count": 66,
   "id": "c5185489",
   "metadata": {},
   "outputs": [
    {
     "data": {
      "text/latex": [
       "$$ \\begin{equation}\n",
       "\\left[\n",
       "\\begin{array}{c}\n",
       "0.25 \\left( 1 - \\eta \\right) \\left( 1 - \\xi \\right) \\\\\n",
       "0.25 \\left( 1 + \\xi \\right) \\left( 1 - \\eta \\right) \\\\\n",
       "0.25 \\left( 1 + \\eta \\right) \\left( 1 + \\xi \\right) \\\\\n",
       "0.25 \\left( 1 + \\eta \\right) \\left( 1 - \\xi \\right) \\\\\n",
       "\\end{array}\n",
       "\\right]\n",
       "\\end{equation}\n",
       " $$"
      ],
      "text/plain": [
       "4-element Vector{Num}:\n",
       " 0.25(1 - η)*(1 - ξ)\n",
       " 0.25(1 + ξ)*(1 - η)\n",
       " 0.25(1 + η)*(1 + ξ)\n",
       " 0.25(1 + η)*(1 - ξ)"
      ]
     },
     "metadata": {},
     "output_type": "display_data"
    }
   ],
   "source": [
    "# Shape functions and matrices\n",
    "xv = [-1,1,1,-1];\n",
    "yv = [-1,-1,1,1];\n",
    "Np = 1 / 4 * (1 .+ ξ * xv) .* (1 .+ η * yv)"
   ]
  },
  {
   "cell_type": "code",
   "execution_count": 67,
   "id": "a05c0c4b",
   "metadata": {},
   "outputs": [
    {
     "data": {
      "text/plain": [
       "Vector{Num}\u001b[90m (alias for \u001b[39m\u001b[90mArray{Num, 1}\u001b[39m\u001b[90m)\u001b[39m"
      ]
     },
     "metadata": {},
     "output_type": "display_data"
    }
   ],
   "source": [
    "typeof(Np)"
   ]
  },
  {
   "cell_type": "code",
   "execution_count": 68,
   "id": "7ebfd83b",
   "metadata": {},
   "outputs": [],
   "source": [
    "# Nodal coordinates, interpolation and coordinate transforms\n",
    "xc = dx / 2 * xv;\n",
    "yc = dy / 2 * yv;\n",
    "x = Np' * xc;\n",
    "y = Np' * yc;"
   ]
  },
  {
   "cell_type": "code",
   "execution_count": 69,
   "id": "3a978a04",
   "metadata": {},
   "outputs": [
    {
     "data": {
      "text/latex": [
       "$$ \\begin{equation}\n",
       "0.125 dx \\left( 1 + \\eta \\right) \\left( 1 + \\xi \\right) + 0.125 dx \\left( 1 + \\xi \\right) \\left( 1 - \\eta \\right) - 0.125 dx \\left( 1 + \\eta \\right) \\left( 1 - \\xi \\right) - 0.125 dx \\left( 1 - \\eta \\right) \\left( 1 - \\xi \\right)\n",
       "\\end{equation}\n",
       " $$"
      ],
      "text/plain": [
       "0.125dx*(1 + η)*(1 + ξ) + 0.125dx*(1 + ξ)*(1 - η) - 0.125dx*(1 + η)*(1 - ξ) - 0.125dx*(1 - η)*(1 - ξ)"
      ]
     },
     "metadata": {},
     "output_type": "display_data"
    }
   ],
   "source": [
    "x"
   ]
  },
  {
   "cell_type": "code",
   "execution_count": 70,
   "id": "c6b6d385",
   "metadata": {},
   "outputs": [
    {
     "data": {
      "text/latex": [
       "$$ \\begin{equation}\n",
       "0.125 dy \\left( 1 + \\eta \\right) \\left( 1 + \\xi \\right) + 0.125 dy \\left( 1 + \\eta \\right) \\left( 1 - \\xi \\right) - 0.125 dy \\left( 1 + \\xi \\right) \\left( 1 - \\eta \\right) - 0.125 dy \\left( 1 - \\eta \\right) \\left( 1 - \\xi \\right)\n",
       "\\end{equation}\n",
       " $$"
      ],
      "text/plain": [
       "0.125dy*(1 + η)*(1 + ξ) + 0.125dy*(1 + η)*(1 - ξ) - 0.125dy*(1 + ξ)*(1 - η) - 0.125dy*(1 - η)*(1 - ξ)"
      ]
     },
     "metadata": {},
     "output_type": "display_data"
    }
   ],
   "source": [
    "y"
   ]
  },
  {
   "cell_type": "code",
   "execution_count": 71,
   "id": "00514dd8",
   "metadata": {},
   "outputs": [],
   "source": []
  },
  {
   "cell_type": "code",
   "execution_count": 72,
   "id": "c105729c",
   "metadata": {},
   "outputs": [
    {
     "data": {
      "text/latex": [
       "$$ \\begin{equation}\n",
       "\\left[\n",
       "\\begin{array}{c}\n",
       "0.25 \\left( 1 - \\eta \\right) \\left( 1 - \\xi \\right) \\\\\n",
       "0.25 \\left( 1 + \\xi \\right) \\left( 1 - \\eta \\right) \\\\\n",
       "0.25 \\left( 1 + \\eta \\right) \\left( 1 + \\xi \\right) \\\\\n",
       "0.25 \\left( 1 + \\eta \\right) \\left( 1 - \\xi \\right) \\\\\n",
       "\\end{array}\n",
       "\\right]\n",
       "\\end{equation}\n",
       " $$"
      ],
      "text/plain": [
       "4-element Vector{Num}:\n",
       " 0.25(1 - η)*(1 - ξ)\n",
       " 0.25(1 + ξ)*(1 - η)\n",
       " 0.25(1 + η)*(1 + ξ)\n",
       " 0.25(1 + η)*(1 - ξ)"
      ]
     },
     "metadata": {},
     "output_type": "display_data"
    }
   ],
   "source": [
    "Nu = zeros(Num, 2, 8)\n",
    "Nu[1, 1:2:end-1] = Np\n",
    "Nu[2, 2:2:end] = Np\n"
   ]
  },
  {
   "cell_type": "code",
   "execution_count": 73,
   "id": "190ce74a",
   "metadata": {},
   "outputs": [
    {
     "data": {
      "text/latex": [
       "$$ \\begin{equation}\n",
       "\\left[\n",
       "\\begin{array}{cccccccc}\n",
       "0.25 \\left( 1 - \\eta \\right) \\left( 1 - \\xi \\right) & 0 & 0.25 \\left( 1 + \\xi \\right) \\left( 1 - \\eta \\right) & 0 & 0.25 \\left( 1 + \\eta \\right) \\left( 1 + \\xi \\right) & 0 & 0.25 \\left( 1 + \\eta \\right) \\left( 1 - \\xi \\right) & 0 \\\\\n",
       "0 & 0.25 \\left( 1 - \\eta \\right) \\left( 1 - \\xi \\right) & 0 & 0.25 \\left( 1 + \\xi \\right) \\left( 1 - \\eta \\right) & 0 & 0.25 \\left( 1 + \\eta \\right) \\left( 1 + \\xi \\right) & 0 & 0.25 \\left( 1 + \\eta \\right) \\left( 1 - \\xi \\right) \\\\\n",
       "\\end{array}\n",
       "\\right]\n",
       "\\end{equation}\n",
       " $$"
      ],
      "text/plain": [
       "2×8 Matrix{Num}:\n",
       " 0.25(1 - η)*(1 - ξ)  0                    …  0\n",
       " 0                    0.25(1 - η)*(1 - ξ)     0.25(1 + η)*(1 - ξ)"
      ]
     },
     "metadata": {},
     "output_type": "display_data"
    }
   ],
   "source": [
    "Nu # Checks out"
   ]
  },
  {
   "cell_type": "code",
   "execution_count": 74,
   "id": "afe5f526",
   "metadata": {},
   "outputs": [
    {
     "data": {
      "text/plain": [
       "(::Differential) (generic function with 3 methods)"
      ]
     },
     "metadata": {},
     "output_type": "display_data"
    }
   ],
   "source": [
    "# Declare differentials\n",
    "∂η = Differential(η)\n",
    "∂ξ = Differential(ξ)"
   ]
  },
  {
   "cell_type": "code",
   "execution_count": 75,
   "id": "f9de025c",
   "metadata": {},
   "outputs": [
    {
     "data": {
      "text/latex": [
       "$$ \\begin{equation}\n",
       "\\left[\n",
       "\\begin{array}{cc}\n",
       "0.25 dx \\left( 1 + \\eta \\right) + 0.25 dx \\left( 1 - \\eta \\right) & 0 \\\\\n",
       "0 & 0.25 dy \\left( 1 + \\xi \\right) + 0.25 dy \\left( 1 - \\xi \\right) \\\\\n",
       "\\end{array}\n",
       "\\right]\n",
       "\\end{equation}\n",
       " $$"
      ],
      "text/plain": [
       "2×2 Matrix{Num}:\n",
       " 0.25dx*(1 + η) + 0.25dx*(1 - η)  0\n",
       " 0                                0.25dy*(1 + ξ) + 0.25dy*(1 - ξ)"
      ]
     },
     "metadata": {},
     "output_type": "display_data"
    }
   ],
   "source": [
    "J = Symbolics.jacobian(vec([x y]), [ξ ; η]) # Matches up!"
   ]
  },
  {
   "cell_type": "code",
   "execution_count": 85,
   "id": "181dae7b",
   "metadata": {},
   "outputs": [
    {
     "data": {
      "text/latex": [
       "$$ \\begin{equation}\n",
       "\\left[\n",
       "\\begin{array}{cc}\n",
       "\\frac{1}{0.5 dx} & 0 \\\\\n",
       "0 & \\frac{1}{0.5 dy} \\\\\n",
       "\\end{array}\n",
       "\\right]\n",
       "\\end{equation}\n",
       " $$"
      ],
      "text/plain": [
       "2×2 Matrix{Num}:\n",
       " 1 / (0.5dx)       0\n",
       "      0       1 / (0.5dy)"
      ]
     },
     "metadata": {},
     "output_type": "display_data"
    }
   ],
   "source": [
    "iJ = simplify.(inv(J))"
   ]
  },
  {
   "cell_type": "code",
   "execution_count": 80,
   "id": "b8162cd9",
   "metadata": {},
   "outputs": [
    {
     "data": {
      "text/latex": [
       "$$ \\begin{equation}\n",
       "\\left( 0.25 dx \\left( 1 + \\eta \\right) + 0.25 dx \\left( 1 - \\eta \\right) \\right) \\left( 0.25 dy \\left( 1 + \\xi \\right) + 0.25 dy \\left( 1 - \\xi \\right) \\right)\n",
       "\\end{equation}\n",
       " $$"
      ],
      "text/plain": [
       "(0.25dx*(1 + η) + 0.25dx*(1 - η))*(0.25dy*(1 + ξ) + 0.25dy*(1 - ξ))"
      ]
     },
     "metadata": {},
     "output_type": "display_data"
    }
   ],
   "source": [
    "detJ = det(J)"
   ]
  },
  {
   "cell_type": "code",
   "execution_count": 92,
   "id": "ae8cbc65",
   "metadata": {},
   "outputs": [
    {
     "data": {
      "text/latex": [
       "$$ \\begin{equation}\n",
       "\\left[\n",
       "\\begin{array}{cccc}\n",
       "\\frac{ - 0.25 \\left( 1 - \\eta \\right)}{0.5 dx} & \\frac{0.25 \\left( 1 - \\eta \\right)}{0.5 dx} & \\frac{0.25 \\left( 1 + \\eta \\right)}{0.5 dx} & \\frac{ - 0.25 \\left( 1 + \\eta \\right)}{0.5 dx} \\\\\n",
       "\\frac{ - 0.25 \\left( 1 - \\xi \\right)}{0.5 dy} & \\frac{ - 0.25 \\left( 1 + \\xi \\right)}{0.5 dy} & \\frac{0.25 \\left( 1 + \\xi \\right)}{0.5 dy} & \\frac{0.25 \\left( 1 - \\xi \\right)}{0.5 dy} \\\\\n",
       "\\end{array}\n",
       "\\right]\n",
       "\\end{equation}\n",
       " $$"
      ],
      "text/plain": [
       "2×4 Matrix{Num}:\n",
       " (-0.25(1 - η)) / (0.5dx)  …  (-0.25(1 + η)) / (0.5dx)\n",
       " (-0.25(1 - ξ)) / (0.5dy)      (0.25(1 - ξ)) / (0.5dy)"
      ]
     },
     "metadata": {},
     "output_type": "display_data"
    }
   ],
   "source": [
    "dNpdx = iJ[:,1] * (Symbolics.derivative(Np, ξ))' + iJ[:,2] * (Symbolics.derivative(Np, η))'"
   ]
  },
  {
   "cell_type": "code",
   "execution_count": 90,
   "id": "d6e32faf",
   "metadata": {},
   "outputs": [
    {
     "data": {
      "text/plain": [
       "2×8×2 Array{Num, 3}:\n",
       "[:, :, 1] =\n",
       " 0  0  0  0  0  0  0  0\n",
       " 0  0  0  0  0  0  0  0\n",
       "\n",
       "[:, :, 2] =\n",
       " 0  0  0  0  0  0  0  0\n",
       " 0  0  0  0  0  0  0  0"
      ]
     },
     "metadata": {},
     "output_type": "display_data"
    }
   ],
   "source": [
    "dNudx = zeros(Num, 2, 8, 2)"
   ]
  },
  {
   "cell_type": "code",
   "execution_count": 96,
   "id": "a3c9cfac",
   "metadata": {},
   "outputs": [],
   "source": [
    "for i in 1:2\n",
    "    dNudx[i, :, :] = (iJ[:,1] * Symbolics.derivative(Nu[1,:], ξ)' + iJ[:,2] * Symbolics.derivative(Nu[1,:], η)')'\n",
    "end"
   ]
  },
  {
   "cell_type": "code",
   "execution_count": 95,
   "id": "f2e33cf0",
   "metadata": {},
   "outputs": [
    {
     "data": {
      "text/latex": [
       "$$ \\begin{equation}\n",
       "\\left[\n",
       "\\begin{array}{cccccccc}\n",
       "\\frac{ - 0.25 \\left( 1 - \\eta \\right)}{0.5 dx} & 0 & \\frac{0.25 \\left( 1 - \\eta \\right)}{0.5 dx} & 0 & \\frac{0.25 \\left( 1 + \\eta \\right)}{0.5 dx} & 0 & \\frac{ - 0.25 \\left( 1 + \\eta \\right)}{0.5 dx} & 0 \\\\\n",
       "\\frac{ - 0.25 \\left( 1 - \\xi \\right)}{0.5 dy} & 0 & \\frac{ - 0.25 \\left( 1 + \\xi \\right)}{0.5 dy} & 0 & \\frac{0.25 \\left( 1 + \\xi \\right)}{0.5 dy} & 0 & \\frac{0.25 \\left( 1 - \\xi \\right)}{0.5 dy} & 0 \\\\\n",
       "\\end{array}\n",
       "\\right]\n",
       "\\end{equation}\n",
       " $$"
      ],
      "text/plain": [
       "2×8 Matrix{Num}:\n",
       " (-0.25(1 - η)) / (0.5dx)  0  …  0  (-0.25(1 + η)) / (0.5dx)  0\n",
       " (-0.25(1 - ξ)) / (0.5dy)  0     0   (0.25(1 - ξ)) / (0.5dy)  0"
      ]
     },
     "metadata": {},
     "output_type": "display_data"
    }
   ],
   "source": []
  },
  {
   "cell_type": "code",
   "execution_count": 97,
   "id": "d30262ba",
   "metadata": {},
   "outputs": [],
   "source": [
    "u = [u1; u2; u3; u4; u5; u6; u7; u8];\n",
    "p = [p1; p2; p3; p4]; s = [u; p];"
   ]
  },
  {
   "cell_type": "code",
   "execution_count": 102,
   "id": "98c57895",
   "metadata": {},
   "outputs": [
    {
     "data": {
      "text/latex": [
       "$$ \\begin{equation}\n",
       "\\left[\n",
       "\\begin{array}{c}\n",
       "0.25 u1 \\left( 1 - \\eta \\right) \\left( 1 - \\xi \\right) + 0.25 u5 \\left( 1 + \\eta \\right) \\left( 1 + \\xi \\right) + 0.25 u7 \\left( 1 + \\eta \\right) \\left( 1 - \\xi \\right) + 0.25 u3 \\left( 1 + \\xi \\right) \\left( 1 - \\eta \\right) \\\\\n",
       "0.25 u6 \\left( 1 + \\eta \\right) \\left( 1 + \\xi \\right) + 0.25 u8 \\left( 1 + \\eta \\right) \\left( 1 - \\xi \\right) + 0.25 u4 \\left( 1 + \\xi \\right) \\left( 1 - \\eta \\right) + 0.25 u2 \\left( 1 - \\eta \\right) \\left( 1 - \\xi \\right) \\\\\n",
       "\\end{array}\n",
       "\\right]\n",
       "\\end{equation}\n",
       " $$"
      ],
      "text/plain": [
       "2-element Vector{Num}:\n",
       " 0.25u1*(1 - η)*(1 - ξ) + 0.25u5*(1 + η)*(1 + ξ) + 0.25u7*(1 + η)*(1 - ξ) + 0.25u3*(1 + ξ)*(1 - η)\n",
       " 0.25u6*(1 + η)*(1 + ξ) + 0.25u8*(1 + η)*(1 - ξ) + 0.25u4*(1 + ξ)*(1 - η) + 0.25u2*(1 - η)*(1 - ξ)"
      ]
     },
     "metadata": {},
     "output_type": "display_data"
    }
   ],
   "source": [
    "ux = Nu * u\n"
   ]
  },
  {
   "cell_type": "code",
   "execution_count": 101,
   "id": "99a3075c",
   "metadata": {},
   "outputs": [
    {
     "data": {
      "text/latex": [
       "$$ \\begin{equation}\n",
       "\\left[\n",
       "\\begin{array}{c}\n",
       "0.25 u1 \\left( 1 - \\eta \\right) \\left( 1 - \\xi \\right) + 0.25 u5 \\left( 1 + \\eta \\right) \\left( 1 + \\xi \\right) + 0.25 u7 \\left( 1 + \\eta \\right) \\left( 1 - \\xi \\right) + 0.25 u3 \\left( 1 + \\xi \\right) \\left( 1 - \\eta \\right) \\\\\n",
       "0.25 u6 \\left( 1 + \\eta \\right) \\left( 1 + \\xi \\right) + 0.25 u8 \\left( 1 + \\eta \\right) \\left( 1 - \\xi \\right) + 0.25 u4 \\left( 1 + \\xi \\right) \\left( 1 - \\eta \\right) + 0.25 u2 \\left( 1 - \\eta \\right) \\left( 1 - \\xi \\right) \\\\\n",
       "\\end{array}\n",
       "\\right]\n",
       "\\end{equation}\n",
       " $$"
      ],
      "text/plain": [
       "2-element Vector{Num}:\n",
       " 0.25u1*(1 - η)*(1 - ξ) + 0.25u5*(1 + η)*(1 + ξ) + 0.25u7*(1 + η)*(1 - ξ) + 0.25u3*(1 + ξ)*(1 - η)\n",
       " 0.25u6*(1 + η)*(1 + ξ) + 0.25u8*(1 + η)*(1 - ξ) + 0.25u4*(1 + ξ)*(1 - η) + 0.25u2*(1 - η)*(1 - ξ)"
      ]
     },
     "metadata": {},
     "output_type": "display_data"
    }
   ],
   "source": [
    "Nu * u"
   ]
  },
  {
   "cell_type": "code",
   "execution_count": 106,
   "id": "c78c93f3",
   "metadata": {},
   "outputs": [
    {
     "data": {
      "text/latex": [
       "$$ \\begin{equation}\n",
       "\\left[\n",
       "\\begin{array}{cccccccc}\n",
       "0.25 \\left( 1 - \\eta \\right) \\left( 1 - \\xi \\right) & 0 & 0.25 \\left( 1 + \\xi \\right) \\left( 1 - \\eta \\right) & 0 & 0.25 \\left( 1 + \\eta \\right) \\left( 1 + \\xi \\right) & 0 & 0.25 \\left( 1 + \\eta \\right) \\left( 1 - \\xi \\right) & 0 \\\\\n",
       "0 & 0.25 \\left( 1 - \\eta \\right) \\left( 1 - \\xi \\right) & 0 & 0.25 \\left( 1 + \\xi \\right) \\left( 1 - \\eta \\right) & 0 & 0.25 \\left( 1 + \\eta \\right) \\left( 1 + \\xi \\right) & 0 & 0.25 \\left( 1 + \\eta \\right) \\left( 1 - \\xi \\right) \\\\\n",
       "\\end{array}\n",
       "\\right]\n",
       "\\end{equation}\n",
       " $$"
      ],
      "text/plain": [
       "2×8 Matrix{Num}:\n",
       " 0.25(1 - η)*(1 - ξ)  0                    …  0\n",
       " 0                    0.25(1 - η)*(1 - ξ)     0.25(1 + η)*(1 - ξ)"
      ]
     },
     "metadata": {},
     "output_type": "display_data"
    }
   ],
   "source": [
    "Nu"
   ]
  },
  {
   "cell_type": "code",
   "execution_count": 104,
   "id": "28e8e25a",
   "metadata": {},
   "outputs": [
    {
     "data": {
      "text/latex": [
       "$$ \\begin{equation}\n",
       "\\left[\n",
       "\\begin{array}{c}\n",
       "0.25 \\left( 1 - \\eta \\right) \\left( 1 - \\xi \\right) \\\\\n",
       "0.25 \\left( 1 + \\xi \\right) \\left( 1 - \\eta \\right) \\\\\n",
       "0.25 \\left( 1 + \\eta \\right) \\left( 1 + \\xi \\right) \\\\\n",
       "0.25 \\left( 1 + \\eta \\right) \\left( 1 - \\xi \\right) \\\\\n",
       "\\end{array}\n",
       "\\right]\n",
       "\\end{equation}\n",
       " $$"
      ],
      "text/plain": [
       "4-element Vector{Num}:\n",
       " 0.25(1 - η)*(1 - ξ)\n",
       " 0.25(1 + ξ)*(1 - η)\n",
       " 0.25(1 + η)*(1 + ξ)\n",
       " 0.25(1 + η)*(1 - ξ)"
      ]
     },
     "metadata": {},
     "output_type": "display_data"
    }
   ],
   "source": [
    "Np"
   ]
  },
  {
   "cell_type": "code",
   "execution_count": 105,
   "id": "ee779ea9",
   "metadata": {},
   "outputs": [
    {
     "data": {
      "text/latex": [
       "$$ \\begin{equation}\n",
       "\\left[\n",
       "\\begin{array}{c}\n",
       "p1 \\\\\n",
       "p2 \\\\\n",
       "p3 \\\\\n",
       "p4 \\\\\n",
       "\\end{array}\n",
       "\\right]\n",
       "\\end{equation}\n",
       " $$"
      ],
      "text/plain": [
       "4-element Vector{Num}:\n",
       " p1\n",
       " p2\n",
       " p3\n",
       " p4"
      ]
     },
     "metadata": {},
     "output_type": "display_data"
    }
   ],
   "source": [
    "p"
   ]
  },
  {
   "cell_type": "code",
   "execution_count": 107,
   "id": "fe81b3a3",
   "metadata": {},
   "outputs": [
    {
     "data": {
      "text/latex": [
       "$$ \\begin{equation}\n",
       "0.25 p3 \\left( 1 + \\eta \\right) \\left( 1 + \\xi \\right) + 0.25 p2 \\left( 1 + \\xi \\right) \\left( 1 - \\eta \\right) + 0.25 p4 \\left( 1 + \\eta \\right) \\left( 1 - \\xi \\right) + 0.25 p1 \\left( 1 - \\eta \\right) \\left( 1 - \\xi \\right)\n",
       "\\end{equation}\n",
       " $$"
      ],
      "text/plain": [
       "0.25p3*(1 + η)*(1 + ξ) + 0.25p2*(1 + ξ)*(1 - η) + 0.25p4*(1 + η)*(1 - ξ) + 0.25p1*(1 - η)*(1 - ξ)"
      ]
     },
     "metadata": {},
     "output_type": "display_data"
    }
   ],
   "source": [
    "Np' * p"
   ]
  },
  {
   "cell_type": "code",
   "execution_count": 108,
   "id": "9c73d1c7",
   "metadata": {},
   "outputs": [
    {
     "data": {
      "text/latex": [
       "$$ \\begin{equation}\n",
       "\\sqrt{dx^{2} + dy^{2}}\n",
       "\\end{equation}\n",
       " $$"
      ],
      "text/plain": [
       "sqrt(dx^2 + dy^2)"
      ]
     },
     "metadata": {},
     "output_type": "display_data"
    }
   ],
   "source": [
    "h = sqrt(dx^2 + dy^2)"
   ]
  },
  {
   "cell_type": "code",
   "execution_count": 109,
   "id": "894b4a07",
   "metadata": {},
   "outputs": [
    {
     "data": {
      "text/latex": [
       "$$ \\begin{equation}\n",
       "\\left[\n",
       "\\begin{array}{c}\n",
       "\\frac{ - 0.25 u1 \\left( 1 - \\eta \\right)}{0.5 dx} + \\frac{0.25 u3 \\left( 1 - \\eta \\right)}{0.5 dx} + \\frac{0.25 u5 \\left( 1 + \\eta \\right)}{0.5 dx} + \\frac{ - 0.25 u7 \\left( 1 + \\eta \\right)}{0.5 dx} \\\\\n",
       "\\frac{ - 0.25 u1 \\left( 1 - \\eta \\right)}{0.5 dx} + \\frac{0.25 u3 \\left( 1 - \\eta \\right)}{0.5 dx} + \\frac{0.25 u5 \\left( 1 + \\eta \\right)}{0.5 dx} + \\frac{ - 0.25 u7 \\left( 1 + \\eta \\right)}{0.5 dx} \\\\\n",
       "\\end{array}\n",
       "\\right]\n",
       "\\end{equation}\n",
       " $$"
      ],
      "text/plain": [
       "2-element Vector{Num}:\n",
       " (-0.25u1*(1 - η)) / (0.5dx) + (0.25u3*(1 - η)) / (0.5dx) + (0.25u5*(1 + η)) / (0.5dx) + (-0.25u7*(1 + η)) / (0.5dx)\n",
       " (-0.25u1*(1 - η)) / (0.5dx) + (0.25u3*(1 - η)) / (0.5dx) + (0.25u5*(1 + η)) / (0.5dx) + (-0.25u7*(1 + η)) / (0.5dx)"
      ]
     },
     "metadata": {},
     "output_type": "display_data"
    }
   ],
   "source": [
    "dNudx[:, :, 1] * u"
   ]
  },
  {
   "cell_type": "code",
   "execution_count": 113,
   "id": "da8c76dc",
   "metadata": {},
   "outputs": [
    {
     "data": {
      "text/latex": [
       "$$ \\begin{equation}\n",
       "\\left[\n",
       "\\begin{array}{cc}\n",
       "\\frac{ - 0.25 u1 \\left( 1 - \\eta \\right)}{0.5 dx} + \\frac{0.25 u3 \\left( 1 - \\eta \\right)}{0.5 dx} + \\frac{0.25 u5 \\left( 1 + \\eta \\right)}{0.5 dx} + \\frac{ - 0.25 u7 \\left( 1 + \\eta \\right)}{0.5 dx} & \\frac{ - 0.25 u3 \\left( 1 + \\xi \\right)}{0.5 dy} + \\frac{ - 0.25 u1 \\left( 1 - \\xi \\right)}{0.5 dy} + \\frac{0.25 u5 \\left( 1 + \\xi \\right)}{0.5 dy} + \\frac{0.25 u7 \\left( 1 - \\xi \\right)}{0.5 dy} \\\\\n",
       "\\frac{ - 0.25 u1 \\left( 1 - \\eta \\right)}{0.5 dx} + \\frac{0.25 u3 \\left( 1 - \\eta \\right)}{0.5 dx} + \\frac{0.25 u5 \\left( 1 + \\eta \\right)}{0.5 dx} + \\frac{ - 0.25 u7 \\left( 1 + \\eta \\right)}{0.5 dx} & \\frac{ - 0.25 u3 \\left( 1 + \\xi \\right)}{0.5 dy} + \\frac{ - 0.25 u1 \\left( 1 - \\xi \\right)}{0.5 dy} + \\frac{0.25 u5 \\left( 1 + \\xi \\right)}{0.5 dy} + \\frac{0.25 u7 \\left( 1 - \\xi \\right)}{0.5 dy} \\\\\n",
       "\\end{array}\n",
       "\\right]\n",
       "\\end{equation}\n",
       " $$"
      ],
      "text/plain": [
       "2×2 Matrix{Num}:\n",
       " (-0.25u1*(1 - η)) / (0.5dx) + (0.25u3*(1 - η)) / (0.5dx) + (0.25u5*(1 + η)) / (0.5dx) + (-0.25u7*(1 + η)) / (0.5dx)  …  (-0.25u3*(1 + ξ)) / (0.5dy) + (-0.25u1*(1 - ξ)) / (0.5dy) + (0.25u5*(1 + ξ)) / (0.5dy) + (0.25u7*(1 - ξ)) / (0.5dy)\n",
       " (-0.25u1*(1 - η)) / (0.5dx) + (0.25u3*(1 - η)) / (0.5dx) + (0.25u5*(1 + η)) / (0.5dx) + (-0.25u7*(1 + η)) / (0.5dx)     (-0.25u3*(1 + ξ)) / (0.5dy) + (-0.25u1*(1 - ξ)) / (0.5dy) + (0.25u5*(1 + ξ)) / (0.5dy) + (0.25u7*(1 - ξ)) / (0.5dy)"
      ]
     },
     "metadata": {},
     "output_type": "display_data"
    }
   ],
   "source": [
    "[dNudx[:,:,1]*u dNudx[:,:,2]*u]"
   ]
  },
  {
   "cell_type": "code",
   "execution_count": 114,
   "id": "afcf4427",
   "metadata": {},
   "outputs": [
    {
     "data": {
      "text/plain": [
       "2-element Vector{Int64}:\n",
       " 1\n",
       " 2"
      ]
     },
     "metadata": {},
     "output_type": "display_data"
    }
   ],
   "source": [
    "A = [1]; B = [2];\n",
    "[A ; B]"
   ]
  },
  {
   "cell_type": "code",
   "execution_count": 115,
   "id": "92c0c1f5",
   "metadata": {},
   "outputs": [
    {
     "data": {
      "text/plain": [
       "1×2 Matrix{Int64}:\n",
       " 1  2"
      ]
     },
     "metadata": {},
     "output_type": "display_data"
    }
   ],
   "source": [
    "[A B]"
   ]
  },
  {
   "cell_type": "code",
   "execution_count": 116,
   "id": "36b74cd2",
   "metadata": {},
   "outputs": [
    {
     "data": {
      "text/latex": [
       "$$ \\begin{equation}\n",
       "\\left[\n",
       "\\begin{array}{c}\n",
       "\\frac{0.25 p3 \\left( 1 + \\eta \\right)}{0.5 dx} + \\frac{ - 0.25 p4 \\left( 1 + \\eta \\right)}{0.5 dx} + \\frac{ - 0.25 p1 \\left( 1 - \\eta \\right)}{0.5 dx} + \\frac{0.25 p2 \\left( 1 - \\eta \\right)}{0.5 dx} \\\\\n",
       "\\frac{ - 0.25 p2 \\left( 1 + \\xi \\right)}{0.5 dy} + \\frac{ - 0.25 p1 \\left( 1 - \\xi \\right)}{0.5 dy} + \\frac{0.25 p3 \\left( 1 + \\xi \\right)}{0.5 dy} + \\frac{0.25 p4 \\left( 1 - \\xi \\right)}{0.5 dy} \\\\\n",
       "\\end{array}\n",
       "\\right]\n",
       "\\end{equation}\n",
       " $$"
      ],
      "text/plain": [
       "2-element Vector{Num}:\n",
       "  (0.25p3*(1 + η)) / (0.5dx) + (-0.25p4*(1 + η)) / (0.5dx) + (-0.25p1*(1 - η)) / (0.5dx) + (0.25p2*(1 - η)) / (0.5dx)\n",
       " (-0.25p2*(1 + ξ)) / (0.5dy) + (-0.25p1*(1 - ξ)) / (0.5dy) + (0.25p3*(1 + ξ)) / (0.5dy) + (0.25p4*(1 - ξ)) / (0.5dy)"
      ]
     },
     "metadata": {},
     "output_type": "display_data"
    }
   ],
   "source": [
    "dNpdx * p"
   ]
  },
  {
   "cell_type": "code",
   "execution_count": 117,
   "id": "0cad9fa8",
   "metadata": {},
   "outputs": [
    {
     "data": {
      "text/latex": [
       "$$ \\begin{equation}\n",
       "\\left[\n",
       "\\begin{array}{c}\n",
       "u1 \\\\\n",
       "u2 \\\\\n",
       "u3 \\\\\n",
       "u4 \\\\\n",
       "u5 \\\\\n",
       "u6 \\\\\n",
       "u7 \\\\\n",
       "u8 \\\\\n",
       "\\end{array}\n",
       "\\right]\n",
       "\\end{equation}\n",
       " $$"
      ],
      "text/plain": [
       "8-element Vector{Num}:\n",
       " u1\n",
       " u2\n",
       " u3\n",
       " u4\n",
       " u5\n",
       " u6\n",
       " u7\n",
       " u8"
      ]
     },
     "metadata": {},
     "output_type": "display_data"
    }
   ],
   "source": [
    "u"
   ]
  },
  {
   "cell_type": "code",
   "execution_count": 121,
   "id": "0463a02e",
   "metadata": {},
   "outputs": [
    {
     "data": {
      "text/latex": [
       "$$ \\begin{equation}\n",
       "\\left[\n",
       "\\begin{array}{cc}\n",
       "\\frac{ - 0.25 \\left( 1 - \\eta \\right)}{0.5 dx} & \\frac{ - 0.25 \\left( 1 - \\xi \\right)}{0.5 dy} \\\\\n",
       "0 & 0 \\\\\n",
       "\\frac{0.25 \\left( 1 - \\eta \\right)}{0.5 dx} & \\frac{ - 0.25 \\left( 1 + \\xi \\right)}{0.5 dy} \\\\\n",
       "0 & 0 \\\\\n",
       "\\frac{0.25 \\left( 1 + \\eta \\right)}{0.5 dx} & \\frac{0.25 \\left( 1 + \\xi \\right)}{0.5 dy} \\\\\n",
       "0 & 0 \\\\\n",
       "\\frac{ - 0.25 \\left( 1 + \\eta \\right)}{0.5 dx} & \\frac{0.25 \\left( 1 - \\xi \\right)}{0.5 dy} \\\\\n",
       "0 & 0 \\\\\n",
       "\\end{array}\n",
       "\\right]\n",
       "\\end{equation}\n",
       " $$"
      ],
      "text/plain": [
       "8×2 Matrix{Num}:\n",
       " (-0.25(1 - η)) / (0.5dx)  (-0.25(1 - ξ)) / (0.5dy)\n",
       "   0                         0\n",
       "  (0.25(1 - η)) / (0.5dx)  (-0.25(1 + ξ)) / (0.5dy)\n",
       "   0                         0\n",
       "  (0.25(1 + η)) / (0.5dx)   (0.25(1 + ξ)) / (0.5dy)\n",
       "   0                         0\n",
       " (-0.25(1 + η)) / (0.5dx)   (0.25(1 - ξ)) / (0.5dy)\n",
       "   0                         0"
      ]
     },
     "metadata": {},
     "output_type": "display_data"
    }
   ],
   "source": [
    "simplify.(dNudx[1, :, :])"
   ]
  },
  {
   "cell_type": "code",
   "execution_count": 122,
   "id": "4366b0eb",
   "metadata": {},
   "outputs": [
    {
     "data": {
      "text/latex": [
       "$$ \\begin{equation}\n",
       "\\left[\n",
       "\\begin{array}{c}\n",
       "\\frac{0.25 p3 \\left( 1 + \\eta \\right)}{0.5 dx} + \\frac{ - 0.25 p4 \\left( 1 + \\eta \\right)}{0.5 dx} + \\frac{ - 0.25 p1 \\left( 1 - \\eta \\right)}{0.5 dx} + \\frac{0.25 p2 \\left( 1 - \\eta \\right)}{0.5 dx} \\\\\n",
       "\\frac{ - 0.25 p2 \\left( 1 + \\xi \\right)}{0.5 dy} + \\frac{ - 0.25 p1 \\left( 1 - \\xi \\right)}{0.5 dy} + \\frac{0.25 p3 \\left( 1 + \\xi \\right)}{0.5 dy} + \\frac{0.25 p4 \\left( 1 - \\xi \\right)}{0.5 dy} \\\\\n",
       "\\end{array}\n",
       "\\right]\n",
       "\\end{equation}\n",
       " $$"
      ],
      "text/plain": [
       "2-element Vector{Num}:\n",
       "  (0.25p3*(1 + η)) / (0.5dx) + (-0.25p4*(1 + η)) / (0.5dx) + (-0.25p1*(1 - η)) / (0.5dx) + (0.25p2*(1 - η)) / (0.5dx)\n",
       " (-0.25p2*(1 + ξ)) / (0.5dy) + (-0.25p1*(1 - ξ)) / (0.5dy) + (0.25p3*(1 + ξ)) / (0.5dy) + (0.25p4*(1 - ξ)) / (0.5dy)"
      ]
     },
     "metadata": {},
     "output_type": "display_data"
    }
   ],
   "source": [
    "dNpdx * p"
   ]
  },
  {
   "cell_type": "code",
   "execution_count": 123,
   "id": "5e5861e8",
   "metadata": {},
   "outputs": [
    {
     "data": {
      "text/latex": [
       "$$ \\begin{equation}\n",
       "\\sqrt{dx^{2} + dy^{2}}\n",
       "\\end{equation}\n",
       " $$"
      ],
      "text/plain": [
       "sqrt(dx^2 + dy^2)"
      ]
     },
     "metadata": {},
     "output_type": "display_data"
    }
   ],
   "source": [
    "h = sqrt(dx^2 + dy^2)"
   ]
  },
  {
   "cell_type": "code",
   "execution_count": 124,
   "id": "693f81bb",
   "metadata": {},
   "outputs": [],
   "source": [
    "using SymbolicUtils"
   ]
  },
  {
   "cell_type": "code",
   "execution_count": 125,
   "id": "7d629471",
   "metadata": {},
   "outputs": [
    {
     "data": {
      "text/latex": [
       "$$ \\begin{equation}\n",
       "\\left[\n",
       "\\begin{array}{c}\n",
       "0.25 u1 \\left( 1 - \\eta \\right) \\left( 1 - \\xi \\right) + 0.25 u5 \\left( 1 + \\eta \\right) \\left( 1 + \\xi \\right) + 0.25 u7 \\left( 1 + \\eta \\right) \\left( 1 - \\xi \\right) + 0.25 u3 \\left( 1 + \\xi \\right) \\left( 1 - \\eta \\right) \\\\\n",
       "0.25 u6 \\left( 1 + \\eta \\right) \\left( 1 + \\xi \\right) + 0.25 u8 \\left( 1 + \\eta \\right) \\left( 1 - \\xi \\right) + 0.25 u4 \\left( 1 + \\xi \\right) \\left( 1 - \\eta \\right) + 0.25 u2 \\left( 1 - \\eta \\right) \\left( 1 - \\xi \\right) \\\\\n",
       "\\end{array}\n",
       "\\right]\n",
       "\\end{equation}\n",
       " $$"
      ],
      "text/plain": [
       "2-element Vector{Num}:\n",
       " 0.25u1*(1 - η)*(1 - ξ) + 0.25u5*(1 + η)*(1 + ξ) + 0.25u7*(1 + η)*(1 - ξ) + 0.25u3*(1 + ξ)*(1 - η)\n",
       " 0.25u6*(1 + η)*(1 + ξ) + 0.25u8*(1 + η)*(1 - ξ) + 0.25u4*(1 + ξ)*(1 - η) + 0.25u2*(1 - η)*(1 - ξ)"
      ]
     },
     "metadata": {},
     "output_type": "display_data"
    }
   ],
   "source": [
    "ux"
   ]
  },
  {
   "cell_type": "code",
   "execution_count": 132,
   "id": "5a51dbbb",
   "metadata": {},
   "outputs": [
    {
     "data": {
      "text/latex": [
       "$$ \\begin{equation}\n",
       "\\left[\n",
       "\\begin{array}{c}\n",
       "u1 \\left( -1 + \\eta \\right) \\left( -0.25 + \\frac{1}{4} \\xi \\right) + u5 \\left( 1 + \\eta \\right) \\left( 0.25 + \\frac{1}{4} \\xi \\right) - u3 \\left( 0.25 + \\frac{1}{4} \\xi \\right) \\left( -1 + \\eta \\right) - u7 \\left( 1 + \\eta \\right) \\left( -0.25 + \\frac{1}{4} \\xi \\right) \\\\\n",
       "u2 \\left( -1 + \\eta \\right) \\left( -0.25 + \\frac{1}{4} \\xi \\right) + u6 \\left( 1 + \\eta \\right) \\left( 0.25 + \\frac{1}{4} \\xi \\right) - u4 \\left( 0.25 + \\frac{1}{4} \\xi \\right) \\left( -1 + \\eta \\right) - u8 \\left( 1 + \\eta \\right) \\left( -0.25 + \\frac{1}{4} \\xi \\right) \\\\\n",
       "\\end{array}\n",
       "\\right]\n",
       "\\end{equation}\n",
       " $$"
      ],
      "text/plain": [
       "2-element Vector{Num}:\n",
       " u1*(η - 1)*((1//4)*ξ - 0.25) + u5*(1 + η)*(0.25 + (1//4)*ξ) - u3*(0.25 + (1//4)*ξ)*(η - 1) - u7*(1 + η)*((1//4)*ξ - 0.25)\n",
       " u2*(η - 1)*((1//4)*ξ - 0.25) + u6*(1 + η)*(0.25 + (1//4)*ξ) - u4*(0.25 + (1//4)*ξ)*(η - 1) - u8*(1 + η)*((1//4)*ξ - 0.25)"
      ]
     },
     "metadata": {},
     "output_type": "display_data"
    }
   ],
   "source": [
    "asdf = [ u1*(ξ/4 - 1/4)*(η - 1) - u3 * (ξ/4 + 1/4) * (η - 1) + u5 * ( ξ/4 + 1/4) * (η + 1) - u7 * (ξ/4 - 1/4) * (η + 1) ;\n",
    " u2 * (ξ/4 - 1/4) * (η - 1) - u4 * (ξ/4 + 1/4) * ( η - 1) + u6 * (ξ/4 + 1/4) * (η + 1) - u8 * (ξ/4 - 1/4) * (η + 1)]"
   ]
  },
  {
   "cell_type": "code",
   "execution_count": 134,
   "id": "339b4e09",
   "metadata": {},
   "outputs": [
    {
     "data": {
      "text/latex": [
       "$$ \\begin{equation}\n",
       "u3 \\left( 0.25 + \\frac{1}{4} \\xi \\right) \\left( -1 + \\eta \\right) + u7 \\left( 1 + \\eta \\right) \\left( -0.25 + \\frac{1}{4} \\xi \\right) + 0.25 u1 \\left( 1 - \\eta \\right) \\left( 1 - \\xi \\right) - u1 \\left( -1 + \\eta \\right) \\left( -0.25 + \\frac{1}{4} \\xi \\right) - u5 \\left( 1 + \\eta \\right) \\left( 0.25 + \\frac{1}{4} \\xi \\right) + 0.25 u5 \\left( 1 + \\eta \\right) \\left( 1 + \\xi \\right) + 0.25 u7 \\left( 1 + \\eta \\right) \\left( 1 - \\xi \\right) + 0.25 u3 \\left( 1 + \\xi \\right) \\left( 1 - \\eta \\right)\n",
       "\\end{equation}\n",
       " $$"
      ],
      "text/plain": [
       "u3*(0.25 + (1//4)*ξ)*(η - 1) + u7*(1 + η)*((1//4)*ξ - 0.25) + 0.25u1*(1 - η)*(1 - ξ) + 0.25u5*(1 + η)*(1 + ξ) + 0.25u7*(1 + η)*(1 - ξ) + 0.25u3*(1 + ξ)*(1 - η) - u1*(η - 1)*((1//4)*ξ - 0.25) - u5*(1 + η)*(0.25 + (1//4)*ξ)"
      ]
     },
     "metadata": {},
     "output_type": "display_data"
    }
   ],
   "source": [
    "simplify.(ux[1] - asdf[1])"
   ]
  },
  {
   "cell_type": "code",
   "execution_count": null,
   "id": "68e154ff",
   "metadata": {},
   "outputs": [],
   "source": [
    "u0 = SymbolicUtils.substitute(ux, Dict([ξ => 0, η => 0]))"
   ]
  }
 ],
 "metadata": {
  "kernelspec": {
   "display_name": "Julia 1.8.5",
   "language": "julia",
   "name": "julia-1.8"
  },
  "language_info": {
   "file_extension": ".jl",
   "mimetype": "application/julia",
   "name": "julia",
   "version": "1.8.5"
  }
 },
 "nbformat": 4,
 "nbformat_minor": 5
}
