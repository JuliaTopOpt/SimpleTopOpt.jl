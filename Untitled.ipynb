{
 "cells": [
  {
   "cell_type": "code",
   "execution_count": 2,
   "metadata": {},
   "outputs": [],
   "source": [
    "using Symbolics\n",
    "using LinearAlgebra\n",
    "using SymbolicUtils\n",
    "using SymbolicNumericIntegration"
   ]
  },
  {
   "attachments": {},
   "cell_type": "markdown",
   "id": "f9e9cc37",
   "metadata": {},
   "source": [
    "# BEGINNING THINGS"
   ]
  },
  {
   "cell_type": "code",
   "execution_count": 3,
   "id": "5baa3939",
   "metadata": {},
   "outputs": [
    {
     "data": {
      "text/latex": [
       "$$ \\begin{equation}\n",
       "\\left[\n",
       "\\begin{array}{c}\n",
       "u1 \\\\\n",
       "u2 \\\\\n",
       "u3 \\\\\n",
       "u4 \\\\\n",
       "u5 \\\\\n",
       "u6 \\\\\n",
       "u7 \\\\\n",
       "u8 \\\\\n",
       "p1 \\\\\n",
       "p2 \\\\\n",
       "p3 \\\\\n",
       "p4 \\\\\n",
       "\\end{array}\n",
       "\\right]\n",
       "\\end{equation}\n",
       " $$"
      ],
      "text/plain": [
       "12-element Vector{Num}:\n",
       " u1\n",
       " u2\n",
       " u3\n",
       " u4\n",
       " u5\n",
       " u6\n",
       " u7\n",
       " u8\n",
       " p1\n",
       " p2\n",
       " p3\n",
       " p4"
      ]
     },
     "metadata": {},
     "output_type": "display_data"
    }
   ],
   "source": [
    "# Declare variables\n",
    "@variables ρ μ α dα ξ η dx dy\n",
    "@variables u1 u2 u3 u4 u5 u6 u7 u8 p1 p2 p3 p4"
   ]
  },
  {
   "cell_type": "code",
   "execution_count": 20,
   "id": "c5185489",
   "metadata": {},
   "outputs": [
    {
     "data": {
      "text/latex": [
       "$$ \\begin{equation}\n",
       "\\left[\n",
       "\\begin{array}{c}\n",
       "0.25 \\left( 1 - \\eta \\right) \\left( 1 - \\xi \\right) \\\\\n",
       "0.25 \\left( 1 + \\xi \\right) \\left( 1 - \\eta \\right) \\\\\n",
       "0.25 \\left( 1 + \\eta \\right) \\left( 1 + \\xi \\right) \\\\\n",
       "0.25 \\left( 1 + \\eta \\right) \\left( 1 - \\xi \\right) \\\\\n",
       "\\end{array}\n",
       "\\right]\n",
       "\\end{equation}\n",
       " $$"
      ],
      "text/plain": [
       "4-element Vector{Num}:\n",
       " 0.25(1 - η)*(1 - ξ)\n",
       " 0.25(1 + ξ)*(1 - η)\n",
       " 0.25(1 + η)*(1 + ξ)\n",
       " 0.25(1 + η)*(1 - ξ)"
      ]
     },
     "metadata": {},
     "output_type": "display_data"
    }
   ],
   "source": [
    "# Shape functions and matrices\n",
    "xv = [-1,1,1,-1];\n",
    "yv = [-1,-1,1,1];\n",
    "Np = 1 / 4 * (1 .+ ξ * xv) .* (1 .+ η * yv)"
   ]
  },
  {
   "cell_type": "code",
   "execution_count": 99,
   "id": "162f4744",
   "metadata": {},
   "outputs": [
    {
     "data": {
      "text/plain": [
       "(4,)"
      ]
     },
     "metadata": {},
     "output_type": "display_data"
    }
   ],
   "source": [
    "size(Np)"
   ]
  },
  {
   "cell_type": "code",
   "execution_count": 22,
   "id": "a05c0c4b",
   "metadata": {},
   "outputs": [
    {
     "ename": "AssertionError",
     "evalue": "AssertionError: size(Np) == (1, 4)",
     "output_type": "error",
     "traceback": [
      "AssertionError: size(Np) == (1, 4)\n",
      "\n",
      "Stacktrace:\n",
      " [1] top-level scope\n",
      "   @ ~/Summer2023/GSoC/SimpleTopOpt.jl/Untitled.ipynb:4"
     ]
    }
   ],
   "source": [
    "\n",
    "@assert size(xv) == (4,)\n",
    "@assert size(yv) == (4,)\n",
    "@assert size(Np) == (1, 4)"
   ]
  },
  {
   "cell_type": "code",
   "execution_count": 23,
   "id": "7ebfd83b",
   "metadata": {},
   "outputs": [],
   "source": [
    "# Nodal coordinates, interpolation and coordinate transforms\n",
    "xc = dx / 2 * xv;\n",
    "yc = dy / 2 * yv;\n",
    "x = Np' * xc;\n",
    "y = Np' * yc;"
   ]
  },
  {
   "cell_type": "code",
   "execution_count": 24,
   "id": "3c456c41",
   "metadata": {},
   "outputs": [
    {
     "data": {
      "text/latex": [
       "$$ \\begin{equation}\n",
       "\\left[\n",
       "\\begin{array}{c}\n",
       " - \\frac{1}{2} dx \\\\\n",
       "\\frac{1}{2} dx \\\\\n",
       "\\frac{1}{2} dx \\\\\n",
       " - \\frac{1}{2} dx \\\\\n",
       "\\end{array}\n",
       "\\right]\n",
       "\\end{equation}\n",
       " $$"
      ],
      "text/plain": [
       "4-element Vector{Num}:\n",
       " (-1//2)*dx\n",
       "  (1//2)*dx\n",
       "  (1//2)*dx\n",
       " (-1//2)*dx"
      ]
     },
     "metadata": {},
     "output_type": "display_data"
    }
   ],
   "source": [
    "xc"
   ]
  },
  {
   "cell_type": "code",
   "execution_count": 25,
   "id": "3a978a04",
   "metadata": {},
   "outputs": [
    {
     "data": {
      "text/latex": [
       "$$ \\begin{equation}\n",
       "0.125 dx \\left( 1 + \\eta \\right) \\left( 1 + \\xi \\right) + 0.125 dx \\left( 1 + \\xi \\right) \\left( 1 - \\eta \\right) - 0.125 dx \\left( 1 + \\eta \\right) \\left( 1 - \\xi \\right) - 0.125 dx \\left( 1 - \\eta \\right) \\left( 1 - \\xi \\right)\n",
       "\\end{equation}\n",
       " $$"
      ],
      "text/plain": [
       "0.125dx*(1 + η)*(1 + ξ) + 0.125dx*(1 + ξ)*(1 - η) - 0.125dx*(1 + η)*(1 - ξ) - 0.125dx*(1 - η)*(1 - ξ)"
      ]
     },
     "metadata": {},
     "output_type": "display_data"
    }
   ],
   "source": [
    "x  # Validated on paper"
   ]
  },
  {
   "cell_type": "code",
   "execution_count": 26,
   "id": "c6b6d385",
   "metadata": {},
   "outputs": [
    {
     "data": {
      "text/latex": [
       "$$ \\begin{equation}\n",
       "0.125 dy \\left( 1 + \\eta \\right) \\left( 1 + \\xi \\right) + 0.125 dy \\left( 1 + \\eta \\right) \\left( 1 - \\xi \\right) - 0.125 dy \\left( 1 + \\xi \\right) \\left( 1 - \\eta \\right) - 0.125 dy \\left( 1 - \\eta \\right) \\left( 1 - \\xi \\right)\n",
       "\\end{equation}\n",
       " $$"
      ],
      "text/plain": [
       "0.125dy*(1 + η)*(1 + ξ) + 0.125dy*(1 + η)*(1 - ξ) - 0.125dy*(1 + ξ)*(1 - η) - 0.125dy*(1 - η)*(1 - ξ)"
      ]
     },
     "metadata": {},
     "output_type": "display_data"
    }
   ],
   "source": [
    "y  # Validated on paper"
   ]
  },
  {
   "cell_type": "code",
   "execution_count": 27,
   "id": "aad4f836",
   "metadata": {},
   "outputs": [],
   "source": [
    "@assert size(xc) == (4,)\n",
    "@assert size(yc) == (4,)"
   ]
  },
  {
   "cell_type": "code",
   "execution_count": 32,
   "id": "c105729c",
   "metadata": {},
   "outputs": [
    {
     "data": {
      "text/latex": [
       "$$ \\begin{equation}\n",
       "\\left[\n",
       "\\begin{array}{cccccccc}\n",
       "0.25 \\left( 1 - \\eta \\right) \\left( 1 - \\xi \\right) & 0 & 0.25 \\left( 1 + \\xi \\right) \\left( 1 - \\eta \\right) & 0 & 0.25 \\left( 1 + \\eta \\right) \\left( 1 + \\xi \\right) & 0 & 0.25 \\left( 1 + \\eta \\right) \\left( 1 - \\xi \\right) & 0 \\\\\n",
       "0 & 0.25 \\left( 1 - \\eta \\right) \\left( 1 - \\xi \\right) & 0 & 0.25 \\left( 1 + \\xi \\right) \\left( 1 - \\eta \\right) & 0 & 0.25 \\left( 1 + \\eta \\right) \\left( 1 + \\xi \\right) & 0 & 0.25 \\left( 1 + \\eta \\right) \\left( 1 - \\xi \\right) \\\\\n",
       "\\end{array}\n",
       "\\right]\n",
       "\\end{equation}\n",
       " $$"
      ],
      "text/plain": [
       "2×8 Matrix{Num}:\n",
       " 0.25(1 - η)*(1 - ξ)  0                    …  0\n",
       " 0                    0.25(1 - η)*(1 - ξ)     0.25(1 + η)*(1 - ξ)"
      ]
     },
     "metadata": {},
     "output_type": "display_data"
    }
   ],
   "source": [
    "Nu = zeros(Num, 2, 8)\n",
    "Nu[1, 1:2:end-1] = Np\n",
    "Nu[2, 2:2:end] = Np\n",
    "\n",
    "\n",
    "Nu  # Checked manually"
   ]
  },
  {
   "cell_type": "code",
   "execution_count": 33,
   "id": "afe5f526",
   "metadata": {},
   "outputs": [
    {
     "data": {
      "text/plain": [
       "(::Differential) (generic function with 3 methods)"
      ]
     },
     "metadata": {},
     "output_type": "display_data"
    }
   ],
   "source": [
    "# Declare differentials\n",
    "∂η = Differential(η)\n",
    "∂ξ = Differential(ξ)"
   ]
  },
  {
   "attachments": {},
   "cell_type": "markdown",
   "id": "d8db4c78",
   "metadata": {},
   "source": [
    "# NODAL COORDINATES"
   ]
  },
  {
   "cell_type": "code",
   "execution_count": 34,
   "id": "f9de025c",
   "metadata": {},
   "outputs": [
    {
     "data": {
      "text/latex": [
       "$$ \\begin{equation}\n",
       "\\left[\n",
       "\\begin{array}{cc}\n",
       "0.25 dx \\left( 1 + \\eta \\right) + 0.25 dx \\left( 1 - \\eta \\right) & 0 \\\\\n",
       "0 & 0.25 dy \\left( 1 + \\xi \\right) + 0.25 dy \\left( 1 - \\xi \\right) \\\\\n",
       "\\end{array}\n",
       "\\right]\n",
       "\\end{equation}\n",
       " $$"
      ],
      "text/plain": [
       "2×2 Matrix{Num}:\n",
       " 0.25dx*(1 + η) + 0.25dx*(1 - η)  0\n",
       " 0                                0.25dy*(1 + ξ) + 0.25dy*(1 - ξ)"
      ]
     },
     "metadata": {},
     "output_type": "display_data"
    }
   ],
   "source": [
    "J = Symbolics.jacobian(vec([x y]), [ξ ; η]) # Matches up!"
   ]
  },
  {
   "cell_type": "code",
   "execution_count": 37,
   "id": "181dae7b",
   "metadata": {},
   "outputs": [
    {
     "data": {
      "text/latex": [
       "$$ \\begin{equation}\n",
       "\\left[\n",
       "\\begin{array}{cc}\n",
       "\\frac{1}{0.5 dx} & 0 \\\\\n",
       "0 & \\frac{1}{0.5 dy} \\\\\n",
       "\\end{array}\n",
       "\\right]\n",
       "\\end{equation}\n",
       " $$"
      ],
      "text/plain": [
       "2×2 Matrix{Num}:\n",
       " 1 / (0.5dx)       0\n",
       "      0       1 / (0.5dy)"
      ]
     },
     "metadata": {},
     "output_type": "display_data"
    }
   ],
   "source": [
    "iJ = simplify.(inv(J))   # Correct"
   ]
  },
  {
   "cell_type": "code",
   "execution_count": 40,
   "id": "b8162cd9",
   "metadata": {},
   "outputs": [
    {
     "data": {
      "text/latex": [
       "$$ \\begin{equation}\n",
       "0.25 dx dy\n",
       "\\end{equation}\n",
       " $$"
      ],
      "text/plain": [
       "0.25dx*dy"
      ]
     },
     "metadata": {},
     "output_type": "display_data"
    }
   ],
   "source": [
    "detJ = simplify(det(J))   # Correct"
   ]
  },
  {
   "cell_type": "code",
   "execution_count": 41,
   "id": "ae8cbc65",
   "metadata": {},
   "outputs": [
    {
     "data": {
      "text/latex": [
       "$$ \\begin{equation}\n",
       "\\left[\n",
       "\\begin{array}{cccc}\n",
       "\\frac{ - 0.25 \\left( 1 - \\eta \\right)}{0.5 dx} & \\frac{0.25 \\left( 1 - \\eta \\right)}{0.5 dx} & \\frac{0.25 \\left( 1 + \\eta \\right)}{0.5 dx} & \\frac{ - 0.25 \\left( 1 + \\eta \\right)}{0.5 dx} \\\\\n",
       "\\frac{ - 0.25 \\left( 1 - \\xi \\right)}{0.5 dy} & \\frac{ - 0.25 \\left( 1 + \\xi \\right)}{0.5 dy} & \\frac{0.25 \\left( 1 + \\xi \\right)}{0.5 dy} & \\frac{0.25 \\left( 1 - \\xi \\right)}{0.5 dy} \\\\\n",
       "\\end{array}\n",
       "\\right]\n",
       "\\end{equation}\n",
       " $$"
      ],
      "text/plain": [
       "2×4 Matrix{Num}:\n",
       " (-0.25(1 - η)) / (0.5dx)  …  (-0.25(1 + η)) / (0.5dx)\n",
       " (-0.25(1 - ξ)) / (0.5dy)      (0.25(1 - ξ)) / (0.5dy)"
      ]
     },
     "metadata": {},
     "output_type": "display_data"
    }
   ],
   "source": [
    "dNpdx = iJ[:,1] * (Symbolics.derivative(Np, ξ))' + iJ[:,2] * (Symbolics.derivative(Np, η))'   # Correct by manual"
   ]
  },
  {
   "cell_type": "code",
   "execution_count": 42,
   "id": "5229c9f5",
   "metadata": {},
   "outputs": [],
   "source": [
    "# Checking dNpdx\n",
    "@assert size(dNpdx) == (2, 4)\n"
   ]
  },
  {
   "cell_type": "code",
   "execution_count": 55,
   "id": "d6e32faf",
   "metadata": {},
   "outputs": [
    {
     "data": {
      "text/plain": [
       "2×8×2 Array{Num, 3}:\n",
       "[:, :, 1] =\n",
       " 0  0  0  0  0  0  0  0\n",
       " 0  0  0  0  0  0  0  0\n",
       "\n",
       "[:, :, 2] =\n",
       " 0  0  0  0  0  0  0  0\n",
       " 0  0  0  0  0  0  0  0"
      ]
     },
     "metadata": {},
     "output_type": "display_data"
    }
   ],
   "source": [
    "dNudx = zeros(Num, 2, 8, 2)"
   ]
  },
  {
   "cell_type": "code",
   "execution_count": null,
   "id": "2603d6fb",
   "metadata": {},
   "outputs": [],
   "source": []
  },
  {
   "cell_type": "code",
   "execution_count": 56,
   "id": "a3c9cfac",
   "metadata": {},
   "outputs": [],
   "source": [
    "for i in 1:2\n",
    "    dNudx[i, :, :] = (iJ[:,1] * Symbolics.derivative(Nu[i,:], ξ)' + iJ[:,2] * Symbolics.derivative(Nu[i,:], η)')'\n",
    "end"
   ]
  },
  {
   "cell_type": "code",
   "execution_count": 57,
   "id": "f2e33cf0",
   "metadata": {},
   "outputs": [
    {
     "data": {
      "text/latex": [
       "$$ \\begin{equation}\n",
       "\\left[\n",
       "\\begin{array}{cccccccc}\n",
       "\\frac{ - 0.25 \\left( 1 - \\eta \\right)}{0.5 dx} & 0 & \\frac{0.25 \\left( 1 - \\eta \\right)}{0.5 dx} & 0 & \\frac{0.25 \\left( 1 + \\eta \\right)}{0.5 dx} & 0 & \\frac{ - 0.25 \\left( 1 + \\eta \\right)}{0.5 dx} & 0 \\\\\n",
       "0 & \\frac{ - 0.25 \\left( 1 - \\eta \\right)}{0.5 dx} & 0 & \\frac{0.25 \\left( 1 - \\eta \\right)}{0.5 dx} & 0 & \\frac{0.25 \\left( 1 + \\eta \\right)}{0.5 dx} & 0 & \\frac{ - 0.25 \\left( 1 + \\eta \\right)}{0.5 dx} \\\\\n",
       "\\end{array}\n",
       "\\right]\n",
       "\\end{equation}\n",
       " $$"
      ],
      "text/plain": [
       "2×8 Matrix{Num}:\n",
       " (-0.25(1 - η)) / (0.5dx)  …    0\n",
       "   0                          (-0.25(1 + η)) / (0.5dx)"
      ]
     },
     "metadata": {},
     "output_type": "display_data"
    }
   ],
   "source": [
    "dNudx[:,:,1]"
   ]
  },
  {
   "cell_type": "code",
   "execution_count": 58,
   "id": "906b7d16",
   "metadata": {},
   "outputs": [
    {
     "data": {
      "text/latex": [
       "$$ \\begin{equation}\n",
       "\\left[\n",
       "\\begin{array}{cccccccc}\n",
       "\\frac{ - 0.25 \\left( 1 - \\xi \\right)}{0.5 dy} & 0 & \\frac{ - 0.25 \\left( 1 + \\xi \\right)}{0.5 dy} & 0 & \\frac{0.25 \\left( 1 + \\xi \\right)}{0.5 dy} & 0 & \\frac{0.25 \\left( 1 - \\xi \\right)}{0.5 dy} & 0 \\\\\n",
       "0 & \\frac{ - 0.25 \\left( 1 - \\xi \\right)}{0.5 dy} & 0 & \\frac{ - 0.25 \\left( 1 + \\xi \\right)}{0.5 dy} & 0 & \\frac{0.25 \\left( 1 + \\xi \\right)}{0.5 dy} & 0 & \\frac{0.25 \\left( 1 - \\xi \\right)}{0.5 dy} \\\\\n",
       "\\end{array}\n",
       "\\right]\n",
       "\\end{equation}\n",
       " $$"
      ],
      "text/plain": [
       "2×8 Matrix{Num}:\n",
       " (-0.25(1 - ξ)) / (0.5dy)  …   0\n",
       "   0                          (0.25(1 - ξ)) / (0.5dy)"
      ]
     },
     "metadata": {},
     "output_type": "display_data"
    }
   ],
   "source": [
    "dNudx[:,:,2]"
   ]
  },
  {
   "cell_type": "code",
   "execution_count": 60,
   "id": "d30262ba",
   "metadata": {},
   "outputs": [],
   "source": [
    "u = [u1; u2; u3; u4; u5; u6; u7; u8];\n",
    "p = [p1; p2; p3; p4]; s = [u; p];"
   ]
  },
  {
   "cell_type": "code",
   "execution_count": 61,
   "id": "98c57895",
   "metadata": {},
   "outputs": [
    {
     "data": {
      "text/latex": [
       "$$ \\begin{equation}\n",
       "\\left[\n",
       "\\begin{array}{c}\n",
       "0.25 u1 \\left( 1 - \\eta \\right) \\left( 1 - \\xi \\right) + 0.25 u5 \\left( 1 + \\eta \\right) \\left( 1 + \\xi \\right) + 0.25 u7 \\left( 1 + \\eta \\right) \\left( 1 - \\xi \\right) + 0.25 u3 \\left( 1 + \\xi \\right) \\left( 1 - \\eta \\right) \\\\\n",
       "0.25 u6 \\left( 1 + \\eta \\right) \\left( 1 + \\xi \\right) + 0.25 u8 \\left( 1 + \\eta \\right) \\left( 1 - \\xi \\right) + 0.25 u4 \\left( 1 + \\xi \\right) \\left( 1 - \\eta \\right) + 0.25 u2 \\left( 1 - \\eta \\right) \\left( 1 - \\xi \\right) \\\\\n",
       "\\end{array}\n",
       "\\right]\n",
       "\\end{equation}\n",
       " $$"
      ],
      "text/plain": [
       "2-element Vector{Num}:\n",
       " 0.25u1*(1 - η)*(1 - ξ) + 0.25u5*(1 + η)*(1 + ξ) + 0.25u7*(1 + η)*(1 - ξ) + 0.25u3*(1 + ξ)*(1 - η)\n",
       " 0.25u6*(1 + η)*(1 + ξ) + 0.25u8*(1 + η)*(1 - ξ) + 0.25u4*(1 + ξ)*(1 - η) + 0.25u2*(1 - η)*(1 - ξ)"
      ]
     },
     "metadata": {},
     "output_type": "display_data"
    }
   ],
   "source": [
    "ux = Nu * u # Correct"
   ]
  },
  {
   "cell_type": "code",
   "execution_count": 63,
   "id": "fe81b3a3",
   "metadata": {},
   "outputs": [
    {
     "data": {
      "text/latex": [
       "$$ \\begin{equation}\n",
       "0.25 p3 \\left( 1 + \\eta \\right) \\left( 1 + \\xi \\right) + 0.25 p2 \\left( 1 + \\xi \\right) \\left( 1 - \\eta \\right) + 0.25 p4 \\left( 1 + \\eta \\right) \\left( 1 - \\xi \\right) + 0.25 p1 \\left( 1 - \\eta \\right) \\left( 1 - \\xi \\right)\n",
       "\\end{equation}\n",
       " $$"
      ],
      "text/plain": [
       "0.25p3*(1 + η)*(1 + ξ) + 0.25p2*(1 + ξ)*(1 - η) + 0.25p4*(1 + η)*(1 - ξ) + 0.25p1*(1 - η)*(1 - ξ)"
      ]
     },
     "metadata": {},
     "output_type": "display_data"
    }
   ],
   "source": [
    "px = Np' * p"
   ]
  },
  {
   "cell_type": "code",
   "execution_count": 74,
   "id": "b52a8eff",
   "metadata": {},
   "outputs": [
    {
     "data": {
      "text/latex": [
       "$$ \\begin{equation}\n",
       "\\left[\n",
       "\\begin{array}{cc}\n",
       "\\frac{ - 0.25 u1 \\left( 1 - \\eta \\right)}{0.5 dx} + \\frac{0.25 u3 \\left( 1 - \\eta \\right)}{0.5 dx} + \\frac{0.25 u5 \\left( 1 + \\eta \\right)}{0.5 dx} + \\frac{ - 0.25 u7 \\left( 1 + \\eta \\right)}{0.5 dx} & \\frac{ - 0.25 u3 \\left( 1 + \\xi \\right)}{0.5 dy} + \\frac{ - 0.25 u1 \\left( 1 - \\xi \\right)}{0.5 dy} + \\frac{0.25 u5 \\left( 1 + \\xi \\right)}{0.5 dy} + \\frac{0.25 u7 \\left( 1 - \\xi \\right)}{0.5 dy} \\\\\n",
       "\\frac{ - 0.25 u2 \\left( 1 - \\eta \\right)}{0.5 dx} + \\frac{0.25 u6 \\left( 1 + \\eta \\right)}{0.5 dx} + \\frac{0.25 u4 \\left( 1 - \\eta \\right)}{0.5 dx} + \\frac{ - 0.25 u8 \\left( 1 + \\eta \\right)}{0.5 dx} & \\frac{ - 0.25 u2 \\left( 1 - \\xi \\right)}{0.5 dy} + \\frac{ - 0.25 u4 \\left( 1 + \\xi \\right)}{0.5 dy} + \\frac{0.25 u6 \\left( 1 + \\xi \\right)}{0.5 dy} + \\frac{0.25 u8 \\left( 1 - \\xi \\right)}{0.5 dy} \\\\\n",
       "\\end{array}\n",
       "\\right]\n",
       "\\end{equation}\n",
       " $$"
      ],
      "text/plain": [
       "2×2 Matrix{Num}:\n",
       " (-0.25u1*(1 - η)) / (0.5dx) + (0.25u3*(1 - η)) / (0.5dx) + (0.25u5*(1 + η)) / (0.5dx) + (-0.25u7*(1 + η)) / (0.5dx)  …  (-0.25u3*(1 + ξ)) / (0.5dy) + (-0.25u1*(1 - ξ)) / (0.5dy) + (0.25u5*(1 + ξ)) / (0.5dy) + (0.25u7*(1 - ξ)) / (0.5dy)\n",
       " (-0.25u2*(1 - η)) / (0.5dx) + (0.25u6*(1 + η)) / (0.5dx) + (0.25u4*(1 - η)) / (0.5dx) + (-0.25u8*(1 + η)) / (0.5dx)     (-0.25u2*(1 - ξ)) / (0.5dy) + (-0.25u4*(1 + ξ)) / (0.5dy) + (0.25u6*(1 + ξ)) / (0.5dy) + (0.25u8*(1 - ξ)) / (0.5dy)"
      ]
     },
     "metadata": {},
     "output_type": "display_data"
    }
   ],
   "source": [
    "dudx = ([dNudx[:,:,1]*u dNudx[:,:,2]*u])    # TODO -- looks good by a quick eyeball, probably need to actually sit down and check things closely, though"
   ]
  },
  {
   "cell_type": "code",
   "execution_count": 65,
   "id": "551e3eff",
   "metadata": {},
   "outputs": [],
   "source": [
    "# CHECKING dudx\n",
    "@assert size(dudx) == (2,2)"
   ]
  },
  {
   "cell_type": "code",
   "execution_count": 70,
   "id": "70e6e22e",
   "metadata": {},
   "outputs": [
    {
     "data": {
      "text/latex": [
       "$$ \\begin{equation}\n",
       "\\left[\n",
       "\\begin{array}{c}\n",
       "\\frac{0.25 p3 \\left( 1 + \\eta \\right)}{0.5 dx} + \\frac{ - 0.25 p4 \\left( 1 + \\eta \\right)}{0.5 dx} + \\frac{ - 0.25 p1 \\left( 1 - \\eta \\right)}{0.5 dx} + \\frac{0.25 p2 \\left( 1 - \\eta \\right)}{0.5 dx} \\\\\n",
       "\\frac{ - 0.25 p2 \\left( 1 + \\xi \\right)}{0.5 dy} + \\frac{ - 0.25 p1 \\left( 1 - \\xi \\right)}{0.5 dy} + \\frac{0.25 p3 \\left( 1 + \\xi \\right)}{0.5 dy} + \\frac{0.25 p4 \\left( 1 - \\xi \\right)}{0.5 dy} \\\\\n",
       "\\end{array}\n",
       "\\right]\n",
       "\\end{equation}\n",
       " $$"
      ],
      "text/plain": [
       "2-element Vector{Num}:\n",
       "  (0.25p3*(1 + η)) / (0.5dx) + (-0.25p4*(1 + η)) / (0.5dx) + (-0.25p1*(1 - η)) / (0.5dx) + (0.25p2*(1 - η)) / (0.5dx)\n",
       " (-0.25p2*(1 + ξ)) / (0.5dy) + (-0.25p1*(1 - ξ)) / (0.5dy) + (0.25p3*(1 + ξ)) / (0.5dy) + (0.25p4*(1 - ξ)) / (0.5dy)"
      ]
     },
     "metadata": {},
     "output_type": "display_data"
    }
   ],
   "source": [
    "dpdx = dNpdx * p   # Looks good by a quick eyeball"
   ]
  },
  {
   "cell_type": "code",
   "execution_count": 71,
   "id": "46191b65",
   "metadata": {},
   "outputs": [],
   "source": [
    "@assert size(dpdx) == (2,)"
   ]
  },
  {
   "attachments": {},
   "cell_type": "markdown",
   "id": "0d92f923",
   "metadata": {},
   "source": [
    "# STABILIZATION PARAMETERS"
   ]
  },
  {
   "cell_type": "code",
   "execution_count": 72,
   "id": "9c73d1c7",
   "metadata": {},
   "outputs": [
    {
     "data": {
      "text/latex": [
       "$$ \\begin{equation}\n",
       "\\sqrt{dx^{2} + dy^{2}}\n",
       "\\end{equation}\n",
       " $$"
      ],
      "text/plain": [
       "sqrt(dx^2 + dy^2)"
      ]
     },
     "metadata": {},
     "output_type": "display_data"
    }
   ],
   "source": [
    "h = sqrt(dx^2 + dy^2)"
   ]
  },
  {
   "cell_type": "code",
   "execution_count": 121,
   "id": "0463a02e",
   "metadata": {},
   "outputs": [
    {
     "data": {
      "text/latex": [
       "$$ \\begin{equation}\n",
       "\\left[\n",
       "\\begin{array}{cc}\n",
       "\\frac{ - 0.25 \\left( 1 - \\eta \\right)}{0.5 dx} & \\frac{ - 0.25 \\left( 1 - \\xi \\right)}{0.5 dy} \\\\\n",
       "0 & 0 \\\\\n",
       "\\frac{0.25 \\left( 1 - \\eta \\right)}{0.5 dx} & \\frac{ - 0.25 \\left( 1 + \\xi \\right)}{0.5 dy} \\\\\n",
       "0 & 0 \\\\\n",
       "\\frac{0.25 \\left( 1 + \\eta \\right)}{0.5 dx} & \\frac{0.25 \\left( 1 + \\xi \\right)}{0.5 dy} \\\\\n",
       "0 & 0 \\\\\n",
       "\\frac{ - 0.25 \\left( 1 + \\eta \\right)}{0.5 dx} & \\frac{0.25 \\left( 1 - \\xi \\right)}{0.5 dy} \\\\\n",
       "0 & 0 \\\\\n",
       "\\end{array}\n",
       "\\right]\n",
       "\\end{equation}\n",
       " $$"
      ],
      "text/plain": [
       "8×2 Matrix{Num}:\n",
       " (-0.25(1 - η)) / (0.5dx)  (-0.25(1 - ξ)) / (0.5dy)\n",
       "   0                         0\n",
       "  (0.25(1 - η)) / (0.5dx)  (-0.25(1 + ξ)) / (0.5dy)\n",
       "   0                         0\n",
       "  (0.25(1 + η)) / (0.5dx)   (0.25(1 + ξ)) / (0.5dy)\n",
       "   0                         0\n",
       " (-0.25(1 + η)) / (0.5dx)   (0.25(1 - ξ)) / (0.5dy)\n",
       "   0                         0"
      ]
     },
     "metadata": {},
     "output_type": "display_data"
    }
   ],
   "source": [
    "simplify.(dNudx[1, :, :])"
   ]
  },
  {
   "cell_type": "code",
   "execution_count": 122,
   "id": "4366b0eb",
   "metadata": {},
   "outputs": [
    {
     "data": {
      "text/latex": [
       "$$ \\begin{equation}\n",
       "\\left[\n",
       "\\begin{array}{c}\n",
       "\\frac{0.25 p3 \\left( 1 + \\eta \\right)}{0.5 dx} + \\frac{ - 0.25 p4 \\left( 1 + \\eta \\right)}{0.5 dx} + \\frac{ - 0.25 p1 \\left( 1 - \\eta \\right)}{0.5 dx} + \\frac{0.25 p2 \\left( 1 - \\eta \\right)}{0.5 dx} \\\\\n",
       "\\frac{ - 0.25 p2 \\left( 1 + \\xi \\right)}{0.5 dy} + \\frac{ - 0.25 p1 \\left( 1 - \\xi \\right)}{0.5 dy} + \\frac{0.25 p3 \\left( 1 + \\xi \\right)}{0.5 dy} + \\frac{0.25 p4 \\left( 1 - \\xi \\right)}{0.5 dy} \\\\\n",
       "\\end{array}\n",
       "\\right]\n",
       "\\end{equation}\n",
       " $$"
      ],
      "text/plain": [
       "2-element Vector{Num}:\n",
       "  (0.25p3*(1 + η)) / (0.5dx) + (-0.25p4*(1 + η)) / (0.5dx) + (-0.25p1*(1 - η)) / (0.5dx) + (0.25p2*(1 - η)) / (0.5dx)\n",
       " (-0.25p2*(1 + ξ)) / (0.5dy) + (-0.25p1*(1 - ξ)) / (0.5dy) + (0.25p3*(1 + ξ)) / (0.5dy) + (0.25p4*(1 - ξ)) / (0.5dy)"
      ]
     },
     "metadata": {},
     "output_type": "display_data"
    }
   ],
   "source": [
    "dNpdx * p"
   ]
  },
  {
   "cell_type": "code",
   "execution_count": 123,
   "id": "5e5861e8",
   "metadata": {},
   "outputs": [
    {
     "data": {
      "text/latex": [
       "$$ \\begin{equation}\n",
       "\\sqrt{dx^{2} + dy^{2}}\n",
       "\\end{equation}\n",
       " $$"
      ],
      "text/plain": [
       "sqrt(dx^2 + dy^2)"
      ]
     },
     "metadata": {},
     "output_type": "display_data"
    }
   ],
   "source": [
    "h = sqrt(dx^2 + dy^2)"
   ]
  },
  {
   "cell_type": "code",
   "execution_count": 78,
   "id": "98221a65",
   "metadata": {},
   "outputs": [
    {
     "data": {
      "text/latex": [
       "$$ \\begin{equation}\n",
       "\\left[\n",
       "\\begin{array}{c}\n",
       "0.25 u1 + 0.25 u3 + 0.25 u5 + 0.25 u7 \\\\\n",
       "0.25 u2 + 0.25 u4 + 0.25 u6 + 0.25 u8 \\\\\n",
       "\\end{array}\n",
       "\\right]\n",
       "\\end{equation}\n",
       " $$"
      ],
      "text/plain": [
       "2-element Vector{Num}:\n",
       " 0.25u1 + 0.25u3 + 0.25u5 + 0.25u7\n",
       " 0.25u2 + 0.25u4 + 0.25u6 + 0.25u8"
      ]
     },
     "metadata": {},
     "output_type": "display_data"
    }
   ],
   "source": [
    "u0 = SymbolicUtils.substitute(ux, Dict([ξ => 0, η => 0]))"
   ]
  },
  {
   "cell_type": "code",
   "execution_count": 77,
   "id": "427c4d03",
   "metadata": {},
   "outputs": [
    {
     "data": {
      "text/latex": [
       "$$ \\begin{equation}\n",
       "\\sqrt{\\left( 0.25 u1 + 0.25 u3 + 0.25 u5 + 0.25 u7 \\right)^{2} + \\left( 0.25 u2 + 0.25 u4 + 0.25 u6 + 0.25 u8 \\right)^{2}}\n",
       "\\end{equation}\n",
       " $$"
      ],
      "text/plain": [
       "sqrt((0.25u1 + 0.25u3 + 0.25u5 + 0.25u7)^2 + (0.25u2 + 0.25u4 + 0.25u6 + 0.25u8)^2)"
      ]
     },
     "metadata": {},
     "output_type": "display_data"
    }
   ],
   "source": [
    "ue = sqrt(u0' * u0)"
   ]
  },
  {
   "cell_type": "code",
   "execution_count": 79,
   "id": "f3eb1040",
   "metadata": {},
   "outputs": [
    {
     "data": {
      "text/latex": [
       "$$ \\begin{equation}\n",
       "\\frac{\\sqrt{dx^{2} + dy^{2}}}{2 \\sqrt{\\left( 0.25 u1 + 0.25 u3 + 0.25 u5 + 0.25 u7 \\right)^{2} + \\left( 0.25 u2 + 0.25 u4 + 0.25 u6 + 0.25 u8 \\right)^{2}}}\n",
       "\\end{equation}\n",
       " $$"
      ],
      "text/plain": [
       "sqrt(dx^2 + dy^2) / (2sqrt((0.25u1 + 0.25u3 + 0.25u5 + 0.25u7)^2 + (0.25u2 + 0.25u4 + 0.25u6 + 0.25u8)^2))"
      ]
     },
     "metadata": {},
     "output_type": "display_data"
    }
   ],
   "source": [
    "τ1 = h / (2*ue)"
   ]
  },
  {
   "cell_type": "code",
   "execution_count": 80,
   "id": "d712f775",
   "metadata": {},
   "outputs": [
    {
     "data": {
      "text/latex": [
       "$$ \\begin{equation}\n",
       "\\frac{\\left( \\sqrt{dx^{2} + dy^{2}} \\right)^{2} \\rho}{12 \\mu}\n",
       "\\end{equation}\n",
       " $$"
      ],
      "text/plain": [
       "(ρ*(sqrt(dx^2 + dy^2)^2)) / (12μ)"
      ]
     },
     "metadata": {},
     "output_type": "display_data"
    }
   ],
   "source": [
    "\n",
    "τ3 = ρ * h^2 / (12 * μ)"
   ]
  },
  {
   "cell_type": "code",
   "execution_count": 81,
   "id": "6164100f",
   "metadata": {},
   "outputs": [
    {
     "data": {
      "text/latex": [
       "$$ \\begin{equation}\n",
       "\\frac{\\rho}{\\alpha}\n",
       "\\end{equation}\n",
       " $$"
      ],
      "text/plain": [
       "ρ / α"
      ]
     },
     "metadata": {},
     "output_type": "display_data"
    }
   ],
   "source": [
    "\n",
    "τ4 = ρ / α"
   ]
  },
  {
   "cell_type": "code",
   "execution_count": 82,
   "id": "652d1082",
   "metadata": {},
   "outputs": [
    {
     "data": {
      "text/latex": [
       "$$ \\begin{equation}\n",
       "\\frac{1}{\\left( \\left( \\frac{\\alpha}{\\rho} \\right)^{2} + \\left( \\frac{12 \\mu}{\\left( \\sqrt{dx^{2} + dy^{2}} \\right)^{2} \\rho} \\right)^{2} + \\left( \\frac{2 \\sqrt{\\left( 0.25 u1 + 0.25 u3 + 0.25 u5 + 0.25 u7 \\right)^{2} + \\left( 0.25 u2 + 0.25 u4 + 0.25 u6 + 0.25 u8 \\right)^{2}}}{\\sqrt{dx^{2} + dy^{2}}} \\right)^{2} \\right)^{0.5}}\n",
       "\\end{equation}\n",
       " $$"
      ],
      "text/plain": [
       "1 / (((α / ρ)^2 + ((12μ) / (ρ*(sqrt(dx^2 + dy^2)^2)))^2 + ((2sqrt((0.25u1 + 0.25u3 + 0.25u5 + 0.25u7)^2 + (0.25u2 + 0.25u4 + 0.25u6 + 0.25u8)^2)) / sqrt(dx^2 + dy^2))^2)^0.5)"
      ]
     },
     "metadata": {},
     "output_type": "display_data"
    }
   ],
   "source": [
    "\n",
    "τ  = (τ1^(-2) + τ3^(-2) + τ4^(-2))^(-1/2)"
   ]
  },
  {
   "cell_type": "code",
   "execution_count": null,
   "id": "e9a71f63",
   "metadata": {},
   "outputs": [],
   "source": []
  },
  {
   "attachments": {},
   "cell_type": "markdown",
   "id": "b7b67423",
   "metadata": {},
   "source": [
    "# LOOP OVER TENSOR WEAK FORM TO FORM RESIDUAL"
   ]
  },
  {
   "cell_type": "code",
   "execution_count": 100,
   "id": "7711b9ab",
   "metadata": {},
   "outputs": [
    {
     "name": "stdout",
     "output_type": "stream",
     "text": [
      "Building Ru and Rp...\n"
     ]
    }
   ],
   "source": [
    "Ru = zeros(Num, 8, 1)\n",
    "Rp = zeros(Num, 4)\n",
    "\n",
    "println(\"Building Ru and Rp...\")\n",
    "# Momentum equations\n",
    "for g in 1:8\n",
    "    for i in 1:2\n",
    "        Ru[g] += α * Nu[i,g] * ux[i]                                        # Brinkman term\n",
    "        for j in 1:2\n",
    "            Ru[g] += μ * dNudx[i,g,j] * ( dudx[i,j] + dudx[j,i] )           # Viscous term\n",
    "            Ru[g] += ρ * Nu[i,g] * ux[j] * dudx[i,j]                        # Convection term\n",
    "            Ru[g] += τ * ux[j] * dNudx[i,g,j] * α * ux[i]                   # SUPG Brinkman term\n",
    "            for k in 1:2\n",
    "                Ru[g] += τ * ux[j] * dNudx[i,g,j] * ρ * ux[k] * dudx[i,k]   # SUPG convection term\n",
    "            end\n",
    "            Ru[g] += τ * ux[j] * dNudx[i,g,j] * dpdx[i]                     # SUPG pressure term\n",
    "        end\n",
    "        Ru[g] -= dNudx[i,g,i] * px                                          # Pressure term\n",
    "    end\n",
    "end\n",
    "\n",
    "# Incompressibility equations\n",
    "for g in 1:4\n",
    "    for i in 1:2\n",
    "        Rp[g] += Np[g] * dudx[i,i]                                          # Divergence term\n",
    "        Rp[g] += (τ/ρ) * dNpdx[i,g] * α * ux[i]                             # PSPG Brinkman term\n",
    "        for j in 1:2\n",
    "            Rp[g] += τ * dNpdx[i,g] * ux[j] * dudx[i,j]                     # PSPG convection term\n",
    "        end\n",
    "        Rp[g] += (τ/ρ) * dNpdx[i,g] * dpdx[i]                               # PSPG pressure term\n",
    "    end\n",
    "end\n"
   ]
  },
  {
   "cell_type": "code",
   "execution_count": 107,
   "id": "674e7130",
   "metadata": {},
   "outputs": [
    {
     "data": {
      "text/latex": [
       "$$ \\begin{equation}\n",
       "\\left[\n",
       "\\begin{array}{c}\n",
       "0.0625 dy^{2} dx^{2} \\left( \\frac{0.25 \\left( 1 - \\eta \\right) \\left( 0.25 p3 \\left( 1 + \\eta \\right) \\left( 1 + \\xi \\right) + 0.25 p2 \\left( 1 + \\xi \\right) \\left( 1 - \\eta \\right) + 0.25 p4 \\left( 1 + \\eta \\right) \\left( 1 - \\xi \\right) + 0.25 p1 \\left( 1 - \\eta \\right) \\left( 1 - \\xi \\right) \\right)}{0.5 dx} + \\frac{ - 0.25 \\left( 0.25 u1 \\left( 1 - \\eta \\right) \\left( 1 - \\xi \\right) + 0.25 u5 \\left( 1 + \\eta \\right) \\left( 1 + \\xi \\right) + 0.25 u7 \\left( 1 + \\eta \\right) \\left( 1 - \\xi \\right) + 0.25 u3 \\left( 1 + \\xi \\right) \\left( 1 - \\eta \\right) \\right)^{2} \\alpha \\left( 1 - \\eta \\right)}{0.5 \\left( \\left( \\frac{\\alpha}{\\rho} \\right)^{2} + \\left( \\frac{12 \\mu}{\\left( \\sqrt{dx^{2} + dy^{2}} \\right)^{2} \\rho} \\right)^{2} + \\left( \\frac{2 \\sqrt{\\left( 0.25 u1 + 0.25 u3 + 0.25 u5 + 0.25 u7 \\right)^{2} + \\left( 0.25 u2 + 0.25 u4 + 0.25 u6 + 0.25 u8 \\right)^{2}}}{\\sqrt{dx^{2} + dy^{2}}} \\right)^{2} \\right)^{0.5} dx} + \\frac{ - 0.25 \\mu \\left( 1 - \\eta \\right) \\left( \\frac{ - 0.5 u1 \\left( 1 - \\eta \\right)}{0.5 dx} + \\frac{0.5 u3 \\left( 1 - \\eta \\right)}{0.5 dx} + \\frac{0.5 u5 \\left( 1 + \\eta \\right)}{0.5 dx} + \\frac{ - 0.5 u7 \\left( 1 + \\eta \\right)}{0.5 dx} \\right)}{0.5 dx} + \\frac{ - 0.25 \\left( 1 - \\xi \\right) \\left( \\frac{0.25 p3 \\left( 1 + \\eta \\right)}{0.5 dx} + \\frac{ - 0.25 p4 \\left( 1 + \\eta \\right)}{0.5 dx} + \\frac{ - 0.25 p1 \\left( 1 - \\eta \\right)}{0.5 dx} + \\frac{0.25 p2 \\left( 1 - \\eta \\right)}{0.5 dx} \\right) \\left( 0.25 u6 \\left( 1 + \\eta \\right) \\left( 1 + \\xi \\right) + 0.25 u8 \\left( 1 + \\eta \\right) \\left( 1 - \\xi \\right) + 0.25 u4 \\left( 1 + \\xi \\right) \\left( 1 - \\eta \\right) + 0.25 u2 \\left( 1 - \\eta \\right) \\left( 1 - \\xi \\right) \\right)}{0.5 \\left( \\left( \\frac{\\alpha}{\\rho} \\right)^{2} + \\left( \\frac{12 \\mu}{\\left( \\sqrt{dx^{2} + dy^{2}} \\right)^{2} \\rho} \\right)^{2} + \\left( \\frac{2 \\sqrt{\\left( 0.25 u1 + 0.25 u3 + 0.25 u5 + 0.25 u7 \\right)^{2} + \\left( 0.25 u2 + 0.25 u4 + 0.25 u6 + 0.25 u8 \\right)^{2}}}{\\sqrt{dx^{2} + dy^{2}}} \\right)^{2} \\right)^{0.5} dy} + \\frac{ - 0.25 \\mu \\left( 1 - \\xi \\right) \\left( \\frac{ - 0.25 u3 \\left( 1 + \\xi \\right)}{0.5 dy} + \\frac{ - 0.25 u1 \\left( 1 - \\xi \\right)}{0.5 dy} + \\frac{0.25 u5 \\left( 1 + \\xi \\right)}{0.5 dy} + \\frac{ - 0.25 u2 \\left( 1 - \\eta \\right)}{0.5 dx} + \\frac{0.25 u6 \\left( 1 + \\eta \\right)}{0.5 dx} + \\frac{0.25 u4 \\left( 1 - \\eta \\right)}{0.5 dx} + \\frac{0.25 u7 \\left( 1 - \\xi \\right)}{0.5 dy} + \\frac{ - 0.25 u8 \\left( 1 + \\eta \\right)}{0.5 dx} \\right)}{0.5 dy} + \\frac{ - 0.25 \\left( 1 - \\eta \\right) \\left( \\frac{0.25 p3 \\left( 1 + \\eta \\right)}{0.5 dx} + \\frac{ - 0.25 p4 \\left( 1 + \\eta \\right)}{0.5 dx} + \\frac{ - 0.25 p1 \\left( 1 - \\eta \\right)}{0.5 dx} + \\frac{0.25 p2 \\left( 1 - \\eta \\right)}{0.5 dx} \\right) \\left( 0.25 u1 \\left( 1 - \\eta \\right) \\left( 1 - \\xi \\right) + 0.25 u5 \\left( 1 + \\eta \\right) \\left( 1 + \\xi \\right) + 0.25 u7 \\left( 1 + \\eta \\right) \\left( 1 - \\xi \\right) + 0.25 u3 \\left( 1 + \\xi \\right) \\left( 1 - \\eta \\right) \\right)}{0.5 \\left( \\left( \\frac{\\alpha}{\\rho} \\right)^{2} + \\left( \\frac{12 \\mu}{\\left( \\sqrt{dx^{2} + dy^{2}} \\right)^{2} \\rho} \\right)^{2} + \\left( \\frac{2 \\sqrt{\\left( 0.25 u1 + 0.25 u3 + 0.25 u5 + 0.25 u7 \\right)^{2} + \\left( 0.25 u2 + 0.25 u4 + 0.25 u6 + 0.25 u8 \\right)^{2}}}{\\sqrt{dx^{2} + dy^{2}}} \\right)^{2} \\right)^{0.5} dx} + \\frac{ - 0.25 \\alpha \\left( 1 - \\xi \\right) \\left( 0.25 u6 \\left( 1 + \\eta \\right) \\left( 1 + \\xi \\right) + 0.25 u8 \\left( 1 + \\eta \\right) \\left( 1 - \\xi \\right) + 0.25 u4 \\left( 1 + \\xi \\right) \\left( 1 - \\eta \\right) + 0.25 u2 \\left( 1 - \\eta \\right) \\left( 1 - \\xi \\right) \\right) \\left( 0.25 u1 \\left( 1 - \\eta \\right) \\left( 1 - \\xi \\right) + 0.25 u5 \\left( 1 + \\eta \\right) \\left( 1 + \\xi \\right) + 0.25 u7 \\left( 1 + \\eta \\right) \\left( 1 - \\xi \\right) + 0.25 u3 \\left( 1 + \\xi \\right) \\left( 1 - \\eta \\right) \\right)}{0.5 \\left( \\left( \\frac{\\alpha}{\\rho} \\right)^{2} + \\left( \\frac{12 \\mu}{\\left( \\sqrt{dx^{2} + dy^{2}} \\right)^{2} \\rho} \\right)^{2} + \\left( \\frac{2 \\sqrt{\\left( 0.25 u1 + 0.25 u3 + 0.25 u5 + 0.25 u7 \\right)^{2} + \\left( 0.25 u2 + 0.25 u4 + 0.25 u6 + 0.25 u8 \\right)^{2}}}{\\sqrt{dx^{2} + dy^{2}}} \\right)^{2} \\right)^{0.5} dy} + \\frac{ - 0.25 \\left( 0.25 u6 \\left( 1 + \\eta \\right) \\left( 1 + \\xi \\right) + 0.25 u8 \\left( 1 + \\eta \\right) \\left( 1 - \\xi \\right) + 0.25 u4 \\left( 1 + \\xi \\right) \\left( 1 - \\eta \\right) + 0.25 u2 \\left( 1 - \\eta \\right) \\left( 1 - \\xi \\right) \\right)^{2} \\rho \\left( 1 - \\xi \\right) \\left( \\frac{ - 0.25 u3 \\left( 1 + \\xi \\right)}{0.5 dy} + \\frac{ - 0.25 u1 \\left( 1 - \\xi \\right)}{0.5 dy} + \\frac{0.25 u5 \\left( 1 + \\xi \\right)}{0.5 dy} + \\frac{0.25 u7 \\left( 1 - \\xi \\right)}{0.5 dy} \\right)}{0.5 \\left( \\left( \\frac{\\alpha}{\\rho} \\right)^{2} + \\left( \\frac{12 \\mu}{\\left( \\sqrt{dx^{2} + dy^{2}} \\right)^{2} \\rho} \\right)^{2} + \\left( \\frac{2 \\sqrt{\\left( 0.25 u1 + 0.25 u3 + 0.25 u5 + 0.25 u7 \\right)^{2} + \\left( 0.25 u2 + 0.25 u4 + 0.25 u6 + 0.25 u8 \\right)^{2}}}{\\sqrt{dx^{2} + dy^{2}}} \\right)^{2} \\right)^{0.5} dy} + \\frac{ - 0.25 \\left( 0.25 u1 \\left( 1 - \\eta \\right) \\left( 1 - \\xi \\right) + 0.25 u5 \\left( 1 + \\eta \\right) \\left( 1 + \\xi \\right) + 0.25 u7 \\left( 1 + \\eta \\right) \\left( 1 - \\xi \\right) + 0.25 u3 \\left( 1 + \\xi \\right) \\left( 1 - \\eta \\right) \\right)^{2} \\rho \\left( \\frac{ - 0.25 u1 \\left( 1 - \\eta \\right)}{0.5 dx} + \\frac{0.25 u3 \\left( 1 - \\eta \\right)}{0.5 dx} + \\frac{0.25 u5 \\left( 1 + \\eta \\right)}{0.5 dx} + \\frac{ - 0.25 u7 \\left( 1 + \\eta \\right)}{0.5 dx} \\right) \\left( 1 - \\eta \\right)}{0.5 \\left( \\left( \\frac{\\alpha}{\\rho} \\right)^{2} + \\left( \\frac{12 \\mu}{\\left( \\sqrt{dx^{2} + dy^{2}} \\right)^{2} \\rho} \\right)^{2} + \\left( \\frac{2 \\sqrt{\\left( 0.25 u1 + 0.25 u3 + 0.25 u5 + 0.25 u7 \\right)^{2} + \\left( 0.25 u2 + 0.25 u4 + 0.25 u6 + 0.25 u8 \\right)^{2}}}{\\sqrt{dx^{2} + dy^{2}}} \\right)^{2} \\right)^{0.5} dx} + \\frac{ - 0.25 \\rho \\left( 1 - \\xi \\right) \\left( \\frac{ - 0.25 u1 \\left( 1 - \\eta \\right)}{0.5 dx} + \\frac{0.25 u3 \\left( 1 - \\eta \\right)}{0.5 dx} + \\frac{0.25 u5 \\left( 1 + \\eta \\right)}{0.5 dx} + \\frac{ - 0.25 u7 \\left( 1 + \\eta \\right)}{0.5 dx} \\right) \\left( 0.25 u6 \\left( 1 + \\eta \\right) \\left( 1 + \\xi \\right) + 0.25 u8 \\left( 1 + \\eta \\right) \\left( 1 - \\xi \\right) + 0.25 u4 \\left( 1 + \\xi \\right) \\left( 1 - \\eta \\right) + 0.25 u2 \\left( 1 - \\eta \\right) \\left( 1 - \\xi \\right) \\right) \\left( 0.25 u1 \\left( 1 - \\eta \\right) \\left( 1 - \\xi \\right) + 0.25 u5 \\left( 1 + \\eta \\right) \\left( 1 + \\xi \\right) + 0.25 u7 \\left( 1 + \\eta \\right) \\left( 1 - \\xi \\right) + 0.25 u3 \\left( 1 + \\xi \\right) \\left( 1 - \\eta \\right) \\right)}{0.5 \\left( \\left( \\frac{\\alpha}{\\rho} \\right)^{2} + \\left( \\frac{12 \\mu}{\\left( \\sqrt{dx^{2} + dy^{2}} \\right)^{2} \\rho} \\right)^{2} + \\left( \\frac{2 \\sqrt{\\left( 0.25 u1 + 0.25 u3 + 0.25 u5 + 0.25 u7 \\right)^{2} + \\left( 0.25 u2 + 0.25 u4 + 0.25 u6 + 0.25 u8 \\right)^{2}}}{\\sqrt{dx^{2} + dy^{2}}} \\right)^{2} \\right)^{0.5} dy} + \\frac{ - 0.25 \\rho \\left( 1 - \\eta \\right) \\left( \\frac{ - 0.25 u3 \\left( 1 + \\xi \\right)}{0.5 dy} + \\frac{ - 0.25 u1 \\left( 1 - \\xi \\right)}{0.5 dy} + \\frac{0.25 u5 \\left( 1 + \\xi \\right)}{0.5 dy} + \\frac{0.25 u7 \\left( 1 - \\xi \\right)}{0.5 dy} \\right) \\left( 0.25 u6 \\left( 1 + \\eta \\right) \\left( 1 + \\xi \\right) + 0.25 u8 \\left( 1 + \\eta \\right) \\left( 1 - \\xi \\right) + 0.25 u4 \\left( 1 + \\xi \\right) \\left( 1 - \\eta \\right) + 0.25 u2 \\left( 1 - \\eta \\right) \\left( 1 - \\xi \\right) \\right) \\left( 0.25 u1 \\left( 1 - \\eta \\right) \\left( 1 - \\xi \\right) + 0.25 u5 \\left( 1 + \\eta \\right) \\left( 1 + \\xi \\right) + 0.25 u7 \\left( 1 + \\eta \\right) \\left( 1 - \\xi \\right) + 0.25 u3 \\left( 1 + \\xi \\right) \\left( 1 - \\eta \\right) \\right)}{0.5 \\left( \\left( \\frac{\\alpha}{\\rho} \\right)^{2} + \\left( \\frac{12 \\mu}{\\left( \\sqrt{dx^{2} + dy^{2}} \\right)^{2} \\rho} \\right)^{2} + \\left( \\frac{2 \\sqrt{\\left( 0.25 u1 + 0.25 u3 + 0.25 u5 + 0.25 u7 \\right)^{2} + \\left( 0.25 u2 + 0.25 u4 + 0.25 u6 + 0.25 u8 \\right)^{2}}}{\\sqrt{dx^{2} + dy^{2}}} \\right)^{2} \\right)^{0.5} dx} + 0.25 \\alpha \\left( 1 - \\eta \\right) \\left( 1 - \\xi \\right) \\left( 0.25 u1 \\left( 1 - \\eta \\right) \\left( 1 - \\xi \\right) + 0.25 u5 \\left( 1 + \\eta \\right) \\left( 1 + \\xi \\right) + 0.25 u7 \\left( 1 + \\eta \\right) \\left( 1 - \\xi \\right) + 0.25 u3 \\left( 1 + \\xi \\right) \\left( 1 - \\eta \\right) \\right) + 0.25 \\rho \\left( 1 - \\eta \\right) \\left( 1 - \\xi \\right) \\left( \\frac{ - 0.25 u3 \\left( 1 + \\xi \\right)}{0.5 dy} + \\frac{ - 0.25 u1 \\left( 1 - \\xi \\right)}{0.5 dy} + \\frac{0.25 u5 \\left( 1 + \\xi \\right)}{0.5 dy} + \\frac{0.25 u7 \\left( 1 - \\xi \\right)}{0.5 dy} \\right) \\left( 0.25 u6 \\left( 1 + \\eta \\right) \\left( 1 + \\xi \\right) + 0.25 u8 \\left( 1 + \\eta \\right) \\left( 1 - \\xi \\right) + 0.25 u4 \\left( 1 + \\xi \\right) \\left( 1 - \\eta \\right) + 0.25 u2 \\left( 1 - \\eta \\right) \\left( 1 - \\xi \\right) \\right) + 0.25 \\rho \\left( 1 - \\eta \\right) \\left( 1 - \\xi \\right) \\left( \\frac{ - 0.25 u1 \\left( 1 - \\eta \\right)}{0.5 dx} + \\frac{0.25 u3 \\left( 1 - \\eta \\right)}{0.5 dx} + \\frac{0.25 u5 \\left( 1 + \\eta \\right)}{0.5 dx} + \\frac{ - 0.25 u7 \\left( 1 + \\eta \\right)}{0.5 dx} \\right) \\left( 0.25 u1 \\left( 1 - \\eta \\right) \\left( 1 - \\xi \\right) + 0.25 u5 \\left( 1 + \\eta \\right) \\left( 1 + \\xi \\right) + 0.25 u7 \\left( 1 + \\eta \\right) \\left( 1 - \\xi \\right) + 0.25 u3 \\left( 1 + \\xi \\right) \\left( 1 - \\eta \\right) \\right) \\right) \\\\\n",
       "0.0625 dy^{2} dx^{2} \\left( \\frac{0.25 \\left( 1 - \\xi \\right) \\left( 0.25 p3 \\left( 1 + \\eta \\right) \\left( 1 + \\xi \\right) + 0.25 p2 \\left( 1 + \\xi \\right) \\left( 1 - \\eta \\right) + 0.25 p4 \\left( 1 + \\eta \\right) \\left( 1 - \\xi \\right) + 0.25 p1 \\left( 1 - \\eta \\right) \\left( 1 - \\xi \\right) \\right)}{0.5 dy} + \\frac{ - 0.25 \\left( 0.25 u6 \\left( 1 + \\eta \\right) \\left( 1 + \\xi \\right) + 0.25 u8 \\left( 1 + \\eta \\right) \\left( 1 - \\xi \\right) + 0.25 u4 \\left( 1 + \\xi \\right) \\left( 1 - \\eta \\right) + 0.25 u2 \\left( 1 - \\eta \\right) \\left( 1 - \\xi \\right) \\right)^{2} \\alpha \\left( 1 - \\xi \\right)}{0.5 \\left( \\left( \\frac{\\alpha}{\\rho} \\right)^{2} + \\left( \\frac{12 \\mu}{\\left( \\sqrt{dx^{2} + dy^{2}} \\right)^{2} \\rho} \\right)^{2} + \\left( \\frac{2 \\sqrt{\\left( 0.25 u1 + 0.25 u3 + 0.25 u5 + 0.25 u7 \\right)^{2} + \\left( 0.25 u2 + 0.25 u4 + 0.25 u6 + 0.25 u8 \\right)^{2}}}{\\sqrt{dx^{2} + dy^{2}}} \\right)^{2} \\right)^{0.5} dy} + \\frac{ - 0.25 \\mu \\left( 1 - \\eta \\right) \\left( \\frac{ - 0.25 u3 \\left( 1 + \\xi \\right)}{0.5 dy} + \\frac{ - 0.25 u1 \\left( 1 - \\xi \\right)}{0.5 dy} + \\frac{0.25 u5 \\left( 1 + \\xi \\right)}{0.5 dy} + \\frac{ - 0.25 u2 \\left( 1 - \\eta \\right)}{0.5 dx} + \\frac{0.25 u6 \\left( 1 + \\eta \\right)}{0.5 dx} + \\frac{0.25 u4 \\left( 1 - \\eta \\right)}{0.5 dx} + \\frac{0.25 u7 \\left( 1 - \\xi \\right)}{0.5 dy} + \\frac{ - 0.25 u8 \\left( 1 + \\eta \\right)}{0.5 dx} \\right)}{0.5 dx} + \\frac{ - 0.25 \\mu \\left( 1 - \\xi \\right) \\left( \\frac{ - 0.5 u2 \\left( 1 - \\xi \\right)}{0.5 dy} + \\frac{ - 0.5 u4 \\left( 1 + \\xi \\right)}{0.5 dy} + \\frac{0.5 u6 \\left( 1 + \\xi \\right)}{0.5 dy} + \\frac{0.5 u8 \\left( 1 - \\xi \\right)}{0.5 dy} \\right)}{0.5 dy} + \\frac{ - 0.25 \\left( 1 - \\eta \\right) \\left( \\frac{ - 0.25 p2 \\left( 1 + \\xi \\right)}{0.5 dy} + \\frac{ - 0.25 p1 \\left( 1 - \\xi \\right)}{0.5 dy} + \\frac{0.25 p3 \\left( 1 + \\xi \\right)}{0.5 dy} + \\frac{0.25 p4 \\left( 1 - \\xi \\right)}{0.5 dy} \\right) \\left( 0.25 u1 \\left( 1 - \\eta \\right) \\left( 1 - \\xi \\right) + 0.25 u5 \\left( 1 + \\eta \\right) \\left( 1 + \\xi \\right) + 0.25 u7 \\left( 1 + \\eta \\right) \\left( 1 - \\xi \\right) + 0.25 u3 \\left( 1 + \\xi \\right) \\left( 1 - \\eta \\right) \\right)}{0.5 \\left( \\left( \\frac{\\alpha}{\\rho} \\right)^{2} + \\left( \\frac{12 \\mu}{\\left( \\sqrt{dx^{2} + dy^{2}} \\right)^{2} \\rho} \\right)^{2} + \\left( \\frac{2 \\sqrt{\\left( 0.25 u1 + 0.25 u3 + 0.25 u5 + 0.25 u7 \\right)^{2} + \\left( 0.25 u2 + 0.25 u4 + 0.25 u6 + 0.25 u8 \\right)^{2}}}{\\sqrt{dx^{2} + dy^{2}}} \\right)^{2} \\right)^{0.5} dx} + \\frac{ - 0.25 \\left( 1 - \\xi \\right) \\left( \\frac{ - 0.25 p2 \\left( 1 + \\xi \\right)}{0.5 dy} + \\frac{ - 0.25 p1 \\left( 1 - \\xi \\right)}{0.5 dy} + \\frac{0.25 p3 \\left( 1 + \\xi \\right)}{0.5 dy} + \\frac{0.25 p4 \\left( 1 - \\xi \\right)}{0.5 dy} \\right) \\left( 0.25 u6 \\left( 1 + \\eta \\right) \\left( 1 + \\xi \\right) + 0.25 u8 \\left( 1 + \\eta \\right) \\left( 1 - \\xi \\right) + 0.25 u4 \\left( 1 + \\xi \\right) \\left( 1 - \\eta \\right) + 0.25 u2 \\left( 1 - \\eta \\right) \\left( 1 - \\xi \\right) \\right)}{0.5 \\left( \\left( \\frac{\\alpha}{\\rho} \\right)^{2} + \\left( \\frac{12 \\mu}{\\left( \\sqrt{dx^{2} + dy^{2}} \\right)^{2} \\rho} \\right)^{2} + \\left( \\frac{2 \\sqrt{\\left( 0.25 u1 + 0.25 u3 + 0.25 u5 + 0.25 u7 \\right)^{2} + \\left( 0.25 u2 + 0.25 u4 + 0.25 u6 + 0.25 u8 \\right)^{2}}}{\\sqrt{dx^{2} + dy^{2}}} \\right)^{2} \\right)^{0.5} dy} + \\frac{ - 0.25 \\left( 0.25 u6 \\left( 1 + \\eta \\right) \\left( 1 + \\xi \\right) + 0.25 u8 \\left( 1 + \\eta \\right) \\left( 1 - \\xi \\right) + 0.25 u4 \\left( 1 + \\xi \\right) \\left( 1 - \\eta \\right) + 0.25 u2 \\left( 1 - \\eta \\right) \\left( 1 - \\xi \\right) \\right)^{2} \\rho \\left( 1 - \\xi \\right) \\left( \\frac{ - 0.25 u2 \\left( 1 - \\xi \\right)}{0.5 dy} + \\frac{ - 0.25 u4 \\left( 1 + \\xi \\right)}{0.5 dy} + \\frac{0.25 u6 \\left( 1 + \\xi \\right)}{0.5 dy} + \\frac{0.25 u8 \\left( 1 - \\xi \\right)}{0.5 dy} \\right)}{0.5 \\left( \\left( \\frac{\\alpha}{\\rho} \\right)^{2} + \\left( \\frac{12 \\mu}{\\left( \\sqrt{dx^{2} + dy^{2}} \\right)^{2} \\rho} \\right)^{2} + \\left( \\frac{2 \\sqrt{\\left( 0.25 u1 + 0.25 u3 + 0.25 u5 + 0.25 u7 \\right)^{2} + \\left( 0.25 u2 + 0.25 u4 + 0.25 u6 + 0.25 u8 \\right)^{2}}}{\\sqrt{dx^{2} + dy^{2}}} \\right)^{2} \\right)^{0.5} dy} + \\frac{ - 0.25 \\left( 0.25 u1 \\left( 1 - \\eta \\right) \\left( 1 - \\xi \\right) + 0.25 u5 \\left( 1 + \\eta \\right) \\left( 1 + \\xi \\right) + 0.25 u7 \\left( 1 + \\eta \\right) \\left( 1 - \\xi \\right) + 0.25 u3 \\left( 1 + \\xi \\right) \\left( 1 - \\eta \\right) \\right)^{2} \\rho \\left( \\frac{ - 0.25 u2 \\left( 1 - \\eta \\right)}{0.5 dx} + \\frac{0.25 u6 \\left( 1 + \\eta \\right)}{0.5 dx} + \\frac{0.25 u4 \\left( 1 - \\eta \\right)}{0.5 dx} + \\frac{ - 0.25 u8 \\left( 1 + \\eta \\right)}{0.5 dx} \\right) \\left( 1 - \\eta \\right)}{0.5 \\left( \\left( \\frac{\\alpha}{\\rho} \\right)^{2} + \\left( \\frac{12 \\mu}{\\left( \\sqrt{dx^{2} + dy^{2}} \\right)^{2} \\rho} \\right)^{2} + \\left( \\frac{2 \\sqrt{\\left( 0.25 u1 + 0.25 u3 + 0.25 u5 + 0.25 u7 \\right)^{2} + \\left( 0.25 u2 + 0.25 u4 + 0.25 u6 + 0.25 u8 \\right)^{2}}}{\\sqrt{dx^{2} + dy^{2}}} \\right)^{2} \\right)^{0.5} dx} + \\frac{ - 0.25 \\alpha \\left( 1 - \\eta \\right) \\left( 0.25 u6 \\left( 1 + \\eta \\right) \\left( 1 + \\xi \\right) + 0.25 u8 \\left( 1 + \\eta \\right) \\left( 1 - \\xi \\right) + 0.25 u4 \\left( 1 + \\xi \\right) \\left( 1 - \\eta \\right) + 0.25 u2 \\left( 1 - \\eta \\right) \\left( 1 - \\xi \\right) \\right) \\left( 0.25 u1 \\left( 1 - \\eta \\right) \\left( 1 - \\xi \\right) + 0.25 u5 \\left( 1 + \\eta \\right) \\left( 1 + \\xi \\right) + 0.25 u7 \\left( 1 + \\eta \\right) \\left( 1 - \\xi \\right) + 0.25 u3 \\left( 1 + \\xi \\right) \\left( 1 - \\eta \\right) \\right)}{0.5 \\left( \\left( \\frac{\\alpha}{\\rho} \\right)^{2} + \\left( \\frac{12 \\mu}{\\left( \\sqrt{dx^{2} + dy^{2}} \\right)^{2} \\rho} \\right)^{2} + \\left( \\frac{2 \\sqrt{\\left( 0.25 u1 + 0.25 u3 + 0.25 u5 + 0.25 u7 \\right)^{2} + \\left( 0.25 u2 + 0.25 u4 + 0.25 u6 + 0.25 u8 \\right)^{2}}}{\\sqrt{dx^{2} + dy^{2}}} \\right)^{2} \\right)^{0.5} dx} + \\frac{ - 0.25 \\rho \\left( 1 - \\xi \\right) \\left( \\frac{ - 0.25 u2 \\left( 1 - \\eta \\right)}{0.5 dx} + \\frac{0.25 u6 \\left( 1 + \\eta \\right)}{0.5 dx} + \\frac{0.25 u4 \\left( 1 - \\eta \\right)}{0.5 dx} + \\frac{ - 0.25 u8 \\left( 1 + \\eta \\right)}{0.5 dx} \\right) \\left( 0.25 u6 \\left( 1 + \\eta \\right) \\left( 1 + \\xi \\right) + 0.25 u8 \\left( 1 + \\eta \\right) \\left( 1 - \\xi \\right) + 0.25 u4 \\left( 1 + \\xi \\right) \\left( 1 - \\eta \\right) + 0.25 u2 \\left( 1 - \\eta \\right) \\left( 1 - \\xi \\right) \\right) \\left( 0.25 u1 \\left( 1 - \\eta \\right) \\left( 1 - \\xi \\right) + 0.25 u5 \\left( 1 + \\eta \\right) \\left( 1 + \\xi \\right) + 0.25 u7 \\left( 1 + \\eta \\right) \\left( 1 - \\xi \\right) + 0.25 u3 \\left( 1 + \\xi \\right) \\left( 1 - \\eta \\right) \\right)}{0.5 \\left( \\left( \\frac{\\alpha}{\\rho} \\right)^{2} + \\left( \\frac{12 \\mu}{\\left( \\sqrt{dx^{2} + dy^{2}} \\right)^{2} \\rho} \\right)^{2} + \\left( \\frac{2 \\sqrt{\\left( 0.25 u1 + 0.25 u3 + 0.25 u5 + 0.25 u7 \\right)^{2} + \\left( 0.25 u2 + 0.25 u4 + 0.25 u6 + 0.25 u8 \\right)^{2}}}{\\sqrt{dx^{2} + dy^{2}}} \\right)^{2} \\right)^{0.5} dy} + \\frac{ - 0.25 \\rho \\left( 1 - \\eta \\right) \\left( \\frac{ - 0.25 u2 \\left( 1 - \\xi \\right)}{0.5 dy} + \\frac{ - 0.25 u4 \\left( 1 + \\xi \\right)}{0.5 dy} + \\frac{0.25 u6 \\left( 1 + \\xi \\right)}{0.5 dy} + \\frac{0.25 u8 \\left( 1 - \\xi \\right)}{0.5 dy} \\right) \\left( 0.25 u6 \\left( 1 + \\eta \\right) \\left( 1 + \\xi \\right) + 0.25 u8 \\left( 1 + \\eta \\right) \\left( 1 - \\xi \\right) + 0.25 u4 \\left( 1 + \\xi \\right) \\left( 1 - \\eta \\right) + 0.25 u2 \\left( 1 - \\eta \\right) \\left( 1 - \\xi \\right) \\right) \\left( 0.25 u1 \\left( 1 - \\eta \\right) \\left( 1 - \\xi \\right) + 0.25 u5 \\left( 1 + \\eta \\right) \\left( 1 + \\xi \\right) + 0.25 u7 \\left( 1 + \\eta \\right) \\left( 1 - \\xi \\right) + 0.25 u3 \\left( 1 + \\xi \\right) \\left( 1 - \\eta \\right) \\right)}{0.5 \\left( \\left( \\frac{\\alpha}{\\rho} \\right)^{2} + \\left( \\frac{12 \\mu}{\\left( \\sqrt{dx^{2} + dy^{2}} \\right)^{2} \\rho} \\right)^{2} + \\left( \\frac{2 \\sqrt{\\left( 0.25 u1 + 0.25 u3 + 0.25 u5 + 0.25 u7 \\right)^{2} + \\left( 0.25 u2 + 0.25 u4 + 0.25 u6 + 0.25 u8 \\right)^{2}}}{\\sqrt{dx^{2} + dy^{2}}} \\right)^{2} \\right)^{0.5} dx} + 0.25 \\alpha \\left( 1 - \\eta \\right) \\left( 1 - \\xi \\right) \\left( 0.25 u6 \\left( 1 + \\eta \\right) \\left( 1 + \\xi \\right) + 0.25 u8 \\left( 1 + \\eta \\right) \\left( 1 - \\xi \\right) + 0.25 u4 \\left( 1 + \\xi \\right) \\left( 1 - \\eta \\right) + 0.25 u2 \\left( 1 - \\eta \\right) \\left( 1 - \\xi \\right) \\right) + 0.25 \\rho \\left( 1 - \\eta \\right) \\left( 1 - \\xi \\right) \\left( \\frac{ - 0.25 u2 \\left( 1 - \\eta \\right)}{0.5 dx} + \\frac{0.25 u6 \\left( 1 + \\eta \\right)}{0.5 dx} + \\frac{0.25 u4 \\left( 1 - \\eta \\right)}{0.5 dx} + \\frac{ - 0.25 u8 \\left( 1 + \\eta \\right)}{0.5 dx} \\right) \\left( 0.25 u1 \\left( 1 - \\eta \\right) \\left( 1 - \\xi \\right) + 0.25 u5 \\left( 1 + \\eta \\right) \\left( 1 + \\xi \\right) + 0.25 u7 \\left( 1 + \\eta \\right) \\left( 1 - \\xi \\right) + 0.25 u3 \\left( 1 + \\xi \\right) \\left( 1 - \\eta \\right) \\right) + 0.25 \\rho \\left( 1 - \\eta \\right) \\left( 1 - \\xi \\right) \\left( \\frac{ - 0.25 u2 \\left( 1 - \\xi \\right)}{0.5 dy} + \\frac{ - 0.25 u4 \\left( 1 + \\xi \\right)}{0.5 dy} + \\frac{0.25 u6 \\left( 1 + \\xi \\right)}{0.5 dy} + \\frac{0.25 u8 \\left( 1 - \\xi \\right)}{0.5 dy} \\right) \\left( 0.25 u6 \\left( 1 + \\eta \\right) \\left( 1 + \\xi \\right) + 0.25 u8 \\left( 1 + \\eta \\right) \\left( 1 - \\xi \\right) + 0.25 u4 \\left( 1 + \\xi \\right) \\left( 1 - \\eta \\right) + 0.25 u2 \\left( 1 - \\eta \\right) \\left( 1 - \\xi \\right) \\right) \\right) \\\\\n",
       "0.0625 dy^{2} dx^{2} \\left( \\frac{ - 0.25 \\left( 1 - \\eta \\right) \\left( 0.25 p3 \\left( 1 + \\eta \\right) \\left( 1 + \\xi \\right) + 0.25 p2 \\left( 1 + \\xi \\right) \\left( 1 - \\eta \\right) + 0.25 p4 \\left( 1 + \\eta \\right) \\left( 1 - \\xi \\right) + 0.25 p1 \\left( 1 - \\eta \\right) \\left( 1 - \\xi \\right) \\right)}{0.5 dx} + \\frac{ - 0.25 \\left( 1 + \\xi \\right) \\left( \\frac{0.25 p3 \\left( 1 + \\eta \\right)}{0.5 dx} + \\frac{ - 0.25 p4 \\left( 1 + \\eta \\right)}{0.5 dx} + \\frac{ - 0.25 p1 \\left( 1 - \\eta \\right)}{0.5 dx} + \\frac{0.25 p2 \\left( 1 - \\eta \\right)}{0.5 dx} \\right) \\left( 0.25 u6 \\left( 1 + \\eta \\right) \\left( 1 + \\xi \\right) + 0.25 u8 \\left( 1 + \\eta \\right) \\left( 1 - \\xi \\right) + 0.25 u4 \\left( 1 + \\xi \\right) \\left( 1 - \\eta \\right) + 0.25 u2 \\left( 1 - \\eta \\right) \\left( 1 - \\xi \\right) \\right)}{0.5 \\left( \\left( \\frac{\\alpha}{\\rho} \\right)^{2} + \\left( \\frac{12 \\mu}{\\left( \\sqrt{dx^{2} + dy^{2}} \\right)^{2} \\rho} \\right)^{2} + \\left( \\frac{2 \\sqrt{\\left( 0.25 u1 + 0.25 u3 + 0.25 u5 + 0.25 u7 \\right)^{2} + \\left( 0.25 u2 + 0.25 u4 + 0.25 u6 + 0.25 u8 \\right)^{2}}}{\\sqrt{dx^{2} + dy^{2}}} \\right)^{2} \\right)^{0.5} dy} + \\frac{ - 0.25 \\mu \\left( 1 + \\xi \\right) \\left( \\frac{ - 0.25 u3 \\left( 1 + \\xi \\right)}{0.5 dy} + \\frac{ - 0.25 u1 \\left( 1 - \\xi \\right)}{0.5 dy} + \\frac{0.25 u5 \\left( 1 + \\xi \\right)}{0.5 dy} + \\frac{ - 0.25 u2 \\left( 1 - \\eta \\right)}{0.5 dx} + \\frac{0.25 u6 \\left( 1 + \\eta \\right)}{0.5 dx} + \\frac{0.25 u4 \\left( 1 - \\eta \\right)}{0.5 dx} + \\frac{0.25 u7 \\left( 1 - \\xi \\right)}{0.5 dy} + \\frac{ - 0.25 u8 \\left( 1 + \\eta \\right)}{0.5 dx} \\right)}{0.5 dy} + \\frac{0.25 \\left( 0.25 u1 \\left( 1 - \\eta \\right) \\left( 1 - \\xi \\right) + 0.25 u5 \\left( 1 + \\eta \\right) \\left( 1 + \\xi \\right) + 0.25 u7 \\left( 1 + \\eta \\right) \\left( 1 - \\xi \\right) + 0.25 u3 \\left( 1 + \\xi \\right) \\left( 1 - \\eta \\right) \\right)^{2} \\alpha \\left( 1 - \\eta \\right)}{0.5 \\left( \\left( \\frac{\\alpha}{\\rho} \\right)^{2} + \\left( \\frac{12 \\mu}{\\left( \\sqrt{dx^{2} + dy^{2}} \\right)^{2} \\rho} \\right)^{2} + \\left( \\frac{2 \\sqrt{\\left( 0.25 u1 + 0.25 u3 + 0.25 u5 + 0.25 u7 \\right)^{2} + \\left( 0.25 u2 + 0.25 u4 + 0.25 u6 + 0.25 u8 \\right)^{2}}}{\\sqrt{dx^{2} + dy^{2}}} \\right)^{2} \\right)^{0.5} dx} + \\frac{0.25 \\mu \\left( 1 - \\eta \\right) \\left( \\frac{ - 0.5 u1 \\left( 1 - \\eta \\right)}{0.5 dx} + \\frac{0.5 u3 \\left( 1 - \\eta \\right)}{0.5 dx} + \\frac{0.5 u5 \\left( 1 + \\eta \\right)}{0.5 dx} + \\frac{ - 0.5 u7 \\left( 1 + \\eta \\right)}{0.5 dx} \\right)}{0.5 dx} + \\frac{0.25 \\left( 1 - \\eta \\right) \\left( \\frac{0.25 p3 \\left( 1 + \\eta \\right)}{0.5 dx} + \\frac{ - 0.25 p4 \\left( 1 + \\eta \\right)}{0.5 dx} + \\frac{ - 0.25 p1 \\left( 1 - \\eta \\right)}{0.5 dx} + \\frac{0.25 p2 \\left( 1 - \\eta \\right)}{0.5 dx} \\right) \\left( 0.25 u1 \\left( 1 - \\eta \\right) \\left( 1 - \\xi \\right) + 0.25 u5 \\left( 1 + \\eta \\right) \\left( 1 + \\xi \\right) + 0.25 u7 \\left( 1 + \\eta \\right) \\left( 1 - \\xi \\right) + 0.25 u3 \\left( 1 + \\xi \\right) \\left( 1 - \\eta \\right) \\right)}{0.5 \\left( \\left( \\frac{\\alpha}{\\rho} \\right)^{2} + \\left( \\frac{12 \\mu}{\\left( \\sqrt{dx^{2} + dy^{2}} \\right)^{2} \\rho} \\right)^{2} + \\left( \\frac{2 \\sqrt{\\left( 0.25 u1 + 0.25 u3 + 0.25 u5 + 0.25 u7 \\right)^{2} + \\left( 0.25 u2 + 0.25 u4 + 0.25 u6 + 0.25 u8 \\right)^{2}}}{\\sqrt{dx^{2} + dy^{2}}} \\right)^{2} \\right)^{0.5} dx} + \\frac{ - 0.25 \\left( 0.25 u6 \\left( 1 + \\eta \\right) \\left( 1 + \\xi \\right) + 0.25 u8 \\left( 1 + \\eta \\right) \\left( 1 - \\xi \\right) + 0.25 u4 \\left( 1 + \\xi \\right) \\left( 1 - \\eta \\right) + 0.25 u2 \\left( 1 - \\eta \\right) \\left( 1 - \\xi \\right) \\right)^{2} \\rho \\left( 1 + \\xi \\right) \\left( \\frac{ - 0.25 u3 \\left( 1 + \\xi \\right)}{0.5 dy} + \\frac{ - 0.25 u1 \\left( 1 - \\xi \\right)}{0.5 dy} + \\frac{0.25 u5 \\left( 1 + \\xi \\right)}{0.5 dy} + \\frac{0.25 u7 \\left( 1 - \\xi \\right)}{0.5 dy} \\right)}{0.5 \\left( \\left( \\frac{\\alpha}{\\rho} \\right)^{2} + \\left( \\frac{12 \\mu}{\\left( \\sqrt{dx^{2} + dy^{2}} \\right)^{2} \\rho} \\right)^{2} + \\left( \\frac{2 \\sqrt{\\left( 0.25 u1 + 0.25 u3 + 0.25 u5 + 0.25 u7 \\right)^{2} + \\left( 0.25 u2 + 0.25 u4 + 0.25 u6 + 0.25 u8 \\right)^{2}}}{\\sqrt{dx^{2} + dy^{2}}} \\right)^{2} \\right)^{0.5} dy} + \\frac{ - 0.25 \\alpha \\left( 1 + \\xi \\right) \\left( 0.25 u6 \\left( 1 + \\eta \\right) \\left( 1 + \\xi \\right) + 0.25 u8 \\left( 1 + \\eta \\right) \\left( 1 - \\xi \\right) + 0.25 u4 \\left( 1 + \\xi \\right) \\left( 1 - \\eta \\right) + 0.25 u2 \\left( 1 - \\eta \\right) \\left( 1 - \\xi \\right) \\right) \\left( 0.25 u1 \\left( 1 - \\eta \\right) \\left( 1 - \\xi \\right) + 0.25 u5 \\left( 1 + \\eta \\right) \\left( 1 + \\xi \\right) + 0.25 u7 \\left( 1 + \\eta \\right) \\left( 1 - \\xi \\right) + 0.25 u3 \\left( 1 + \\xi \\right) \\left( 1 - \\eta \\right) \\right)}{0.5 \\left( \\left( \\frac{\\alpha}{\\rho} \\right)^{2} + \\left( \\frac{12 \\mu}{\\left( \\sqrt{dx^{2} + dy^{2}} \\right)^{2} \\rho} \\right)^{2} + \\left( \\frac{2 \\sqrt{\\left( 0.25 u1 + 0.25 u3 + 0.25 u5 + 0.25 u7 \\right)^{2} + \\left( 0.25 u2 + 0.25 u4 + 0.25 u6 + 0.25 u8 \\right)^{2}}}{\\sqrt{dx^{2} + dy^{2}}} \\right)^{2} \\right)^{0.5} dy} + \\frac{0.25 \\left( 0.25 u1 \\left( 1 - \\eta \\right) \\left( 1 - \\xi \\right) + 0.25 u5 \\left( 1 + \\eta \\right) \\left( 1 + \\xi \\right) + 0.25 u7 \\left( 1 + \\eta \\right) \\left( 1 - \\xi \\right) + 0.25 u3 \\left( 1 + \\xi \\right) \\left( 1 - \\eta \\right) \\right)^{2} \\rho \\left( \\frac{ - 0.25 u1 \\left( 1 - \\eta \\right)}{0.5 dx} + \\frac{0.25 u3 \\left( 1 - \\eta \\right)}{0.5 dx} + \\frac{0.25 u5 \\left( 1 + \\eta \\right)}{0.5 dx} + \\frac{ - 0.25 u7 \\left( 1 + \\eta \\right)}{0.5 dx} \\right) \\left( 1 - \\eta \\right)}{0.5 \\left( \\left( \\frac{\\alpha}{\\rho} \\right)^{2} + \\left( \\frac{12 \\mu}{\\left( \\sqrt{dx^{2} + dy^{2}} \\right)^{2} \\rho} \\right)^{2} + \\left( \\frac{2 \\sqrt{\\left( 0.25 u1 + 0.25 u3 + 0.25 u5 + 0.25 u7 \\right)^{2} + \\left( 0.25 u2 + 0.25 u4 + 0.25 u6 + 0.25 u8 \\right)^{2}}}{\\sqrt{dx^{2} + dy^{2}}} \\right)^{2} \\right)^{0.5} dx} + \\frac{0.25 \\rho \\left( 1 - \\eta \\right) \\left( \\frac{ - 0.25 u3 \\left( 1 + \\xi \\right)}{0.5 dy} + \\frac{ - 0.25 u1 \\left( 1 - \\xi \\right)}{0.5 dy} + \\frac{0.25 u5 \\left( 1 + \\xi \\right)}{0.5 dy} + \\frac{0.25 u7 \\left( 1 - \\xi \\right)}{0.5 dy} \\right) \\left( 0.25 u6 \\left( 1 + \\eta \\right) \\left( 1 + \\xi \\right) + 0.25 u8 \\left( 1 + \\eta \\right) \\left( 1 - \\xi \\right) + 0.25 u4 \\left( 1 + \\xi \\right) \\left( 1 - \\eta \\right) + 0.25 u2 \\left( 1 - \\eta \\right) \\left( 1 - \\xi \\right) \\right) \\left( 0.25 u1 \\left( 1 - \\eta \\right) \\left( 1 - \\xi \\right) + 0.25 u5 \\left( 1 + \\eta \\right) \\left( 1 + \\xi \\right) + 0.25 u7 \\left( 1 + \\eta \\right) \\left( 1 - \\xi \\right) + 0.25 u3 \\left( 1 + \\xi \\right) \\left( 1 - \\eta \\right) \\right)}{0.5 \\left( \\left( \\frac{\\alpha}{\\rho} \\right)^{2} + \\left( \\frac{12 \\mu}{\\left( \\sqrt{dx^{2} + dy^{2}} \\right)^{2} \\rho} \\right)^{2} + \\left( \\frac{2 \\sqrt{\\left( 0.25 u1 + 0.25 u3 + 0.25 u5 + 0.25 u7 \\right)^{2} + \\left( 0.25 u2 + 0.25 u4 + 0.25 u6 + 0.25 u8 \\right)^{2}}}{\\sqrt{dx^{2} + dy^{2}}} \\right)^{2} \\right)^{0.5} dx} + \\frac{ - 0.25 \\rho \\left( 1 + \\xi \\right) \\left( \\frac{ - 0.25 u1 \\left( 1 - \\eta \\right)}{0.5 dx} + \\frac{0.25 u3 \\left( 1 - \\eta \\right)}{0.5 dx} + \\frac{0.25 u5 \\left( 1 + \\eta \\right)}{0.5 dx} + \\frac{ - 0.25 u7 \\left( 1 + \\eta \\right)}{0.5 dx} \\right) \\left( 0.25 u6 \\left( 1 + \\eta \\right) \\left( 1 + \\xi \\right) + 0.25 u8 \\left( 1 + \\eta \\right) \\left( 1 - \\xi \\right) + 0.25 u4 \\left( 1 + \\xi \\right) \\left( 1 - \\eta \\right) + 0.25 u2 \\left( 1 - \\eta \\right) \\left( 1 - \\xi \\right) \\right) \\left( 0.25 u1 \\left( 1 - \\eta \\right) \\left( 1 - \\xi \\right) + 0.25 u5 \\left( 1 + \\eta \\right) \\left( 1 + \\xi \\right) + 0.25 u7 \\left( 1 + \\eta \\right) \\left( 1 - \\xi \\right) + 0.25 u3 \\left( 1 + \\xi \\right) \\left( 1 - \\eta \\right) \\right)}{0.5 \\left( \\left( \\frac{\\alpha}{\\rho} \\right)^{2} + \\left( \\frac{12 \\mu}{\\left( \\sqrt{dx^{2} + dy^{2}} \\right)^{2} \\rho} \\right)^{2} + \\left( \\frac{2 \\sqrt{\\left( 0.25 u1 + 0.25 u3 + 0.25 u5 + 0.25 u7 \\right)^{2} + \\left( 0.25 u2 + 0.25 u4 + 0.25 u6 + 0.25 u8 \\right)^{2}}}{\\sqrt{dx^{2} + dy^{2}}} \\right)^{2} \\right)^{0.5} dy} + 0.25 \\alpha \\left( 1 + \\xi \\right) \\left( 1 - \\eta \\right) \\left( 0.25 u1 \\left( 1 - \\eta \\right) \\left( 1 - \\xi \\right) + 0.25 u5 \\left( 1 + \\eta \\right) \\left( 1 + \\xi \\right) + 0.25 u7 \\left( 1 + \\eta \\right) \\left( 1 - \\xi \\right) + 0.25 u3 \\left( 1 + \\xi \\right) \\left( 1 - \\eta \\right) \\right) + 0.25 \\rho \\left( 1 + \\xi \\right) \\left( 1 - \\eta \\right) \\left( \\frac{ - 0.25 u3 \\left( 1 + \\xi \\right)}{0.5 dy} + \\frac{ - 0.25 u1 \\left( 1 - \\xi \\right)}{0.5 dy} + \\frac{0.25 u5 \\left( 1 + \\xi \\right)}{0.5 dy} + \\frac{0.25 u7 \\left( 1 - \\xi \\right)}{0.5 dy} \\right) \\left( 0.25 u6 \\left( 1 + \\eta \\right) \\left( 1 + \\xi \\right) + 0.25 u8 \\left( 1 + \\eta \\right) \\left( 1 - \\xi \\right) + 0.25 u4 \\left( 1 + \\xi \\right) \\left( 1 - \\eta \\right) + 0.25 u2 \\left( 1 - \\eta \\right) \\left( 1 - \\xi \\right) \\right) + 0.25 \\rho \\left( 1 + \\xi \\right) \\left( 1 - \\eta \\right) \\left( \\frac{ - 0.25 u1 \\left( 1 - \\eta \\right)}{0.5 dx} + \\frac{0.25 u3 \\left( 1 - \\eta \\right)}{0.5 dx} + \\frac{0.25 u5 \\left( 1 + \\eta \\right)}{0.5 dx} + \\frac{ - 0.25 u7 \\left( 1 + \\eta \\right)}{0.5 dx} \\right) \\left( 0.25 u1 \\left( 1 - \\eta \\right) \\left( 1 - \\xi \\right) + 0.25 u5 \\left( 1 + \\eta \\right) \\left( 1 + \\xi \\right) + 0.25 u7 \\left( 1 + \\eta \\right) \\left( 1 - \\xi \\right) + 0.25 u3 \\left( 1 + \\xi \\right) \\left( 1 - \\eta \\right) \\right) \\right) \\\\\n",
       "0.0625 dy^{2} dx^{2} \\left( \\frac{0.25 \\left( 1 + \\xi \\right) \\left( 0.25 p3 \\left( 1 + \\eta \\right) \\left( 1 + \\xi \\right) + 0.25 p2 \\left( 1 + \\xi \\right) \\left( 1 - \\eta \\right) + 0.25 p4 \\left( 1 + \\eta \\right) \\left( 1 - \\xi \\right) + 0.25 p1 \\left( 1 - \\eta \\right) \\left( 1 - \\xi \\right) \\right)}{0.5 dy} + \\frac{ - 0.25 \\mu \\left( 1 + \\xi \\right) \\left( \\frac{ - 0.5 u2 \\left( 1 - \\xi \\right)}{0.5 dy} + \\frac{ - 0.5 u4 \\left( 1 + \\xi \\right)}{0.5 dy} + \\frac{0.5 u6 \\left( 1 + \\xi \\right)}{0.5 dy} + \\frac{0.5 u8 \\left( 1 - \\xi \\right)}{0.5 dy} \\right)}{0.5 dy} + \\frac{0.25 \\left( 1 - \\eta \\right) \\left( \\frac{ - 0.25 p2 \\left( 1 + \\xi \\right)}{0.5 dy} + \\frac{ - 0.25 p1 \\left( 1 - \\xi \\right)}{0.5 dy} + \\frac{0.25 p3 \\left( 1 + \\xi \\right)}{0.5 dy} + \\frac{0.25 p4 \\left( 1 - \\xi \\right)}{0.5 dy} \\right) \\left( 0.25 u1 \\left( 1 - \\eta \\right) \\left( 1 - \\xi \\right) + 0.25 u5 \\left( 1 + \\eta \\right) \\left( 1 + \\xi \\right) + 0.25 u7 \\left( 1 + \\eta \\right) \\left( 1 - \\xi \\right) + 0.25 u3 \\left( 1 + \\xi \\right) \\left( 1 - \\eta \\right) \\right)}{0.5 \\left( \\left( \\frac{\\alpha}{\\rho} \\right)^{2} + \\left( \\frac{12 \\mu}{\\left( \\sqrt{dx^{2} + dy^{2}} \\right)^{2} \\rho} \\right)^{2} + \\left( \\frac{2 \\sqrt{\\left( 0.25 u1 + 0.25 u3 + 0.25 u5 + 0.25 u7 \\right)^{2} + \\left( 0.25 u2 + 0.25 u4 + 0.25 u6 + 0.25 u8 \\right)^{2}}}{\\sqrt{dx^{2} + dy^{2}}} \\right)^{2} \\right)^{0.5} dx} + \\frac{0.25 \\mu \\left( 1 - \\eta \\right) \\left( \\frac{ - 0.25 u3 \\left( 1 + \\xi \\right)}{0.5 dy} + \\frac{ - 0.25 u1 \\left( 1 - \\xi \\right)}{0.5 dy} + \\frac{0.25 u5 \\left( 1 + \\xi \\right)}{0.5 dy} + \\frac{ - 0.25 u2 \\left( 1 - \\eta \\right)}{0.5 dx} + \\frac{0.25 u6 \\left( 1 + \\eta \\right)}{0.5 dx} + \\frac{0.25 u4 \\left( 1 - \\eta \\right)}{0.5 dx} + \\frac{0.25 u7 \\left( 1 - \\xi \\right)}{0.5 dy} + \\frac{ - 0.25 u8 \\left( 1 + \\eta \\right)}{0.5 dx} \\right)}{0.5 dx} + \\frac{ - 0.25 \\left( 1 + \\xi \\right) \\left( \\frac{ - 0.25 p2 \\left( 1 + \\xi \\right)}{0.5 dy} + \\frac{ - 0.25 p1 \\left( 1 - \\xi \\right)}{0.5 dy} + \\frac{0.25 p3 \\left( 1 + \\xi \\right)}{0.5 dy} + \\frac{0.25 p4 \\left( 1 - \\xi \\right)}{0.5 dy} \\right) \\left( 0.25 u6 \\left( 1 + \\eta \\right) \\left( 1 + \\xi \\right) + 0.25 u8 \\left( 1 + \\eta \\right) \\left( 1 - \\xi \\right) + 0.25 u4 \\left( 1 + \\xi \\right) \\left( 1 - \\eta \\right) + 0.25 u2 \\left( 1 - \\eta \\right) \\left( 1 - \\xi \\right) \\right)}{0.5 \\left( \\left( \\frac{\\alpha}{\\rho} \\right)^{2} + \\left( \\frac{12 \\mu}{\\left( \\sqrt{dx^{2} + dy^{2}} \\right)^{2} \\rho} \\right)^{2} + \\left( \\frac{2 \\sqrt{\\left( 0.25 u1 + 0.25 u3 + 0.25 u5 + 0.25 u7 \\right)^{2} + \\left( 0.25 u2 + 0.25 u4 + 0.25 u6 + 0.25 u8 \\right)^{2}}}{\\sqrt{dx^{2} + dy^{2}}} \\right)^{2} \\right)^{0.5} dy} + \\frac{ - 0.25 \\left( 0.25 u6 \\left( 1 + \\eta \\right) \\left( 1 + \\xi \\right) + 0.25 u8 \\left( 1 + \\eta \\right) \\left( 1 - \\xi \\right) + 0.25 u4 \\left( 1 + \\xi \\right) \\left( 1 - \\eta \\right) + 0.25 u2 \\left( 1 - \\eta \\right) \\left( 1 - \\xi \\right) \\right)^{2} \\alpha \\left( 1 + \\xi \\right)}{0.5 \\left( \\left( \\frac{\\alpha}{\\rho} \\right)^{2} + \\left( \\frac{12 \\mu}{\\left( \\sqrt{dx^{2} + dy^{2}} \\right)^{2} \\rho} \\right)^{2} + \\left( \\frac{2 \\sqrt{\\left( 0.25 u1 + 0.25 u3 + 0.25 u5 + 0.25 u7 \\right)^{2} + \\left( 0.25 u2 + 0.25 u4 + 0.25 u6 + 0.25 u8 \\right)^{2}}}{\\sqrt{dx^{2} + dy^{2}}} \\right)^{2} \\right)^{0.5} dy} + \\frac{0.25 \\alpha \\left( 1 - \\eta \\right) \\left( 0.25 u6 \\left( 1 + \\eta \\right) \\left( 1 + \\xi \\right) + 0.25 u8 \\left( 1 + \\eta \\right) \\left( 1 - \\xi \\right) + 0.25 u4 \\left( 1 + \\xi \\right) \\left( 1 - \\eta \\right) + 0.25 u2 \\left( 1 - \\eta \\right) \\left( 1 - \\xi \\right) \\right) \\left( 0.25 u1 \\left( 1 - \\eta \\right) \\left( 1 - \\xi \\right) + 0.25 u5 \\left( 1 + \\eta \\right) \\left( 1 + \\xi \\right) + 0.25 u7 \\left( 1 + \\eta \\right) \\left( 1 - \\xi \\right) + 0.25 u3 \\left( 1 + \\xi \\right) \\left( 1 - \\eta \\right) \\right)}{0.5 \\left( \\left( \\frac{\\alpha}{\\rho} \\right)^{2} + \\left( \\frac{12 \\mu}{\\left( \\sqrt{dx^{2} + dy^{2}} \\right)^{2} \\rho} \\right)^{2} + \\left( \\frac{2 \\sqrt{\\left( 0.25 u1 + 0.25 u3 + 0.25 u5 + 0.25 u7 \\right)^{2} + \\left( 0.25 u2 + 0.25 u4 + 0.25 u6 + 0.25 u8 \\right)^{2}}}{\\sqrt{dx^{2} + dy^{2}}} \\right)^{2} \\right)^{0.5} dx} + \\frac{ - 0.25 \\left( 0.25 u6 \\left( 1 + \\eta \\right) \\left( 1 + \\xi \\right) + 0.25 u8 \\left( 1 + \\eta \\right) \\left( 1 - \\xi \\right) + 0.25 u4 \\left( 1 + \\xi \\right) \\left( 1 - \\eta \\right) + 0.25 u2 \\left( 1 - \\eta \\right) \\left( 1 - \\xi \\right) \\right)^{2} \\rho \\left( 1 + \\xi \\right) \\left( \\frac{ - 0.25 u2 \\left( 1 - \\xi \\right)}{0.5 dy} + \\frac{ - 0.25 u4 \\left( 1 + \\xi \\right)}{0.5 dy} + \\frac{0.25 u6 \\left( 1 + \\xi \\right)}{0.5 dy} + \\frac{0.25 u8 \\left( 1 - \\xi \\right)}{0.5 dy} \\right)}{0.5 \\left( \\left( \\frac{\\alpha}{\\rho} \\right)^{2} + \\left( \\frac{12 \\mu}{\\left( \\sqrt{dx^{2} + dy^{2}} \\right)^{2} \\rho} \\right)^{2} + \\left( \\frac{2 \\sqrt{\\left( 0.25 u1 + 0.25 u3 + 0.25 u5 + 0.25 u7 \\right)^{2} + \\left( 0.25 u2 + 0.25 u4 + 0.25 u6 + 0.25 u8 \\right)^{2}}}{\\sqrt{dx^{2} + dy^{2}}} \\right)^{2} \\right)^{0.5} dy} + \\frac{0.25 \\left( 0.25 u1 \\left( 1 - \\eta \\right) \\left( 1 - \\xi \\right) + 0.25 u5 \\left( 1 + \\eta \\right) \\left( 1 + \\xi \\right) + 0.25 u7 \\left( 1 + \\eta \\right) \\left( 1 - \\xi \\right) + 0.25 u3 \\left( 1 + \\xi \\right) \\left( 1 - \\eta \\right) \\right)^{2} \\rho \\left( \\frac{ - 0.25 u2 \\left( 1 - \\eta \\right)}{0.5 dx} + \\frac{0.25 u6 \\left( 1 + \\eta \\right)}{0.5 dx} + \\frac{0.25 u4 \\left( 1 - \\eta \\right)}{0.5 dx} + \\frac{ - 0.25 u8 \\left( 1 + \\eta \\right)}{0.5 dx} \\right) \\left( 1 - \\eta \\right)}{0.5 \\left( \\left( \\frac{\\alpha}{\\rho} \\right)^{2} + \\left( \\frac{12 \\mu}{\\left( \\sqrt{dx^{2} + dy^{2}} \\right)^{2} \\rho} \\right)^{2} + \\left( \\frac{2 \\sqrt{\\left( 0.25 u1 + 0.25 u3 + 0.25 u5 + 0.25 u7 \\right)^{2} + \\left( 0.25 u2 + 0.25 u4 + 0.25 u6 + 0.25 u8 \\right)^{2}}}{\\sqrt{dx^{2} + dy^{2}}} \\right)^{2} \\right)^{0.5} dx} + \\frac{0.25 \\rho \\left( 1 - \\eta \\right) \\left( \\frac{ - 0.25 u2 \\left( 1 - \\xi \\right)}{0.5 dy} + \\frac{ - 0.25 u4 \\left( 1 + \\xi \\right)}{0.5 dy} + \\frac{0.25 u6 \\left( 1 + \\xi \\right)}{0.5 dy} + \\frac{0.25 u8 \\left( 1 - \\xi \\right)}{0.5 dy} \\right) \\left( 0.25 u6 \\left( 1 + \\eta \\right) \\left( 1 + \\xi \\right) + 0.25 u8 \\left( 1 + \\eta \\right) \\left( 1 - \\xi \\right) + 0.25 u4 \\left( 1 + \\xi \\right) \\left( 1 - \\eta \\right) + 0.25 u2 \\left( 1 - \\eta \\right) \\left( 1 - \\xi \\right) \\right) \\left( 0.25 u1 \\left( 1 - \\eta \\right) \\left( 1 - \\xi \\right) + 0.25 u5 \\left( 1 + \\eta \\right) \\left( 1 + \\xi \\right) + 0.25 u7 \\left( 1 + \\eta \\right) \\left( 1 - \\xi \\right) + 0.25 u3 \\left( 1 + \\xi \\right) \\left( 1 - \\eta \\right) \\right)}{0.5 \\left( \\left( \\frac{\\alpha}{\\rho} \\right)^{2} + \\left( \\frac{12 \\mu}{\\left( \\sqrt{dx^{2} + dy^{2}} \\right)^{2} \\rho} \\right)^{2} + \\left( \\frac{2 \\sqrt{\\left( 0.25 u1 + 0.25 u3 + 0.25 u5 + 0.25 u7 \\right)^{2} + \\left( 0.25 u2 + 0.25 u4 + 0.25 u6 + 0.25 u8 \\right)^{2}}}{\\sqrt{dx^{2} + dy^{2}}} \\right)^{2} \\right)^{0.5} dx} + \\frac{ - 0.25 \\rho \\left( 1 + \\xi \\right) \\left( \\frac{ - 0.25 u2 \\left( 1 - \\eta \\right)}{0.5 dx} + \\frac{0.25 u6 \\left( 1 + \\eta \\right)}{0.5 dx} + \\frac{0.25 u4 \\left( 1 - \\eta \\right)}{0.5 dx} + \\frac{ - 0.25 u8 \\left( 1 + \\eta \\right)}{0.5 dx} \\right) \\left( 0.25 u6 \\left( 1 + \\eta \\right) \\left( 1 + \\xi \\right) + 0.25 u8 \\left( 1 + \\eta \\right) \\left( 1 - \\xi \\right) + 0.25 u4 \\left( 1 + \\xi \\right) \\left( 1 - \\eta \\right) + 0.25 u2 \\left( 1 - \\eta \\right) \\left( 1 - \\xi \\right) \\right) \\left( 0.25 u1 \\left( 1 - \\eta \\right) \\left( 1 - \\xi \\right) + 0.25 u5 \\left( 1 + \\eta \\right) \\left( 1 + \\xi \\right) + 0.25 u7 \\left( 1 + \\eta \\right) \\left( 1 - \\xi \\right) + 0.25 u3 \\left( 1 + \\xi \\right) \\left( 1 - \\eta \\right) \\right)}{0.5 \\left( \\left( \\frac{\\alpha}{\\rho} \\right)^{2} + \\left( \\frac{12 \\mu}{\\left( \\sqrt{dx^{2} + dy^{2}} \\right)^{2} \\rho} \\right)^{2} + \\left( \\frac{2 \\sqrt{\\left( 0.25 u1 + 0.25 u3 + 0.25 u5 + 0.25 u7 \\right)^{2} + \\left( 0.25 u2 + 0.25 u4 + 0.25 u6 + 0.25 u8 \\right)^{2}}}{\\sqrt{dx^{2} + dy^{2}}} \\right)^{2} \\right)^{0.5} dy} + 0.25 \\alpha \\left( 1 + \\xi \\right) \\left( 1 - \\eta \\right) \\left( 0.25 u6 \\left( 1 + \\eta \\right) \\left( 1 + \\xi \\right) + 0.25 u8 \\left( 1 + \\eta \\right) \\left( 1 - \\xi \\right) + 0.25 u4 \\left( 1 + \\xi \\right) \\left( 1 - \\eta \\right) + 0.25 u2 \\left( 1 - \\eta \\right) \\left( 1 - \\xi \\right) \\right) + 0.25 \\rho \\left( 1 + \\xi \\right) \\left( 1 - \\eta \\right) \\left( \\frac{ - 0.25 u2 \\left( 1 - \\eta \\right)}{0.5 dx} + \\frac{0.25 u6 \\left( 1 + \\eta \\right)}{0.5 dx} + \\frac{0.25 u4 \\left( 1 - \\eta \\right)}{0.5 dx} + \\frac{ - 0.25 u8 \\left( 1 + \\eta \\right)}{0.5 dx} \\right) \\left( 0.25 u1 \\left( 1 - \\eta \\right) \\left( 1 - \\xi \\right) + 0.25 u5 \\left( 1 + \\eta \\right) \\left( 1 + \\xi \\right) + 0.25 u7 \\left( 1 + \\eta \\right) \\left( 1 - \\xi \\right) + 0.25 u3 \\left( 1 + \\xi \\right) \\left( 1 - \\eta \\right) \\right) + 0.25 \\rho \\left( 1 + \\xi \\right) \\left( 1 - \\eta \\right) \\left( \\frac{ - 0.25 u2 \\left( 1 - \\xi \\right)}{0.5 dy} + \\frac{ - 0.25 u4 \\left( 1 + \\xi \\right)}{0.5 dy} + \\frac{0.25 u6 \\left( 1 + \\xi \\right)}{0.5 dy} + \\frac{0.25 u8 \\left( 1 - \\xi \\right)}{0.5 dy} \\right) \\left( 0.25 u6 \\left( 1 + \\eta \\right) \\left( 1 + \\xi \\right) + 0.25 u8 \\left( 1 + \\eta \\right) \\left( 1 - \\xi \\right) + 0.25 u4 \\left( 1 + \\xi \\right) \\left( 1 - \\eta \\right) + 0.25 u2 \\left( 1 - \\eta \\right) \\left( 1 - \\xi \\right) \\right) \\right) \\\\\n",
       "0.0625 dy^{2} dx^{2} \\left( \\frac{ - 0.25 \\left( 1 + \\eta \\right) \\left( 0.25 p3 \\left( 1 + \\eta \\right) \\left( 1 + \\xi \\right) + 0.25 p2 \\left( 1 + \\xi \\right) \\left( 1 - \\eta \\right) + 0.25 p4 \\left( 1 + \\eta \\right) \\left( 1 - \\xi \\right) + 0.25 p1 \\left( 1 - \\eta \\right) \\left( 1 - \\xi \\right) \\right)}{0.5 dx} + \\frac{0.25 \\left( 0.25 u1 \\left( 1 - \\eta \\right) \\left( 1 - \\xi \\right) + 0.25 u5 \\left( 1 + \\eta \\right) \\left( 1 + \\xi \\right) + 0.25 u7 \\left( 1 + \\eta \\right) \\left( 1 - \\xi \\right) + 0.25 u3 \\left( 1 + \\xi \\right) \\left( 1 - \\eta \\right) \\right)^{2} \\alpha \\left( 1 + \\eta \\right)}{0.5 \\left( \\left( \\frac{\\alpha}{\\rho} \\right)^{2} + \\left( \\frac{12 \\mu}{\\left( \\sqrt{dx^{2} + dy^{2}} \\right)^{2} \\rho} \\right)^{2} + \\left( \\frac{2 \\sqrt{\\left( 0.25 u1 + 0.25 u3 + 0.25 u5 + 0.25 u7 \\right)^{2} + \\left( 0.25 u2 + 0.25 u4 + 0.25 u6 + 0.25 u8 \\right)^{2}}}{\\sqrt{dx^{2} + dy^{2}}} \\right)^{2} \\right)^{0.5} dx} + \\frac{0.25 \\mu \\left( 1 + \\eta \\right) \\left( \\frac{ - 0.5 u1 \\left( 1 - \\eta \\right)}{0.5 dx} + \\frac{0.5 u3 \\left( 1 - \\eta \\right)}{0.5 dx} + \\frac{0.5 u5 \\left( 1 + \\eta \\right)}{0.5 dx} + \\frac{ - 0.5 u7 \\left( 1 + \\eta \\right)}{0.5 dx} \\right)}{0.5 dx} + \\frac{0.25 \\mu \\left( 1 + \\xi \\right) \\left( \\frac{ - 0.25 u3 \\left( 1 + \\xi \\right)}{0.5 dy} + \\frac{ - 0.25 u1 \\left( 1 - \\xi \\right)}{0.5 dy} + \\frac{0.25 u5 \\left( 1 + \\xi \\right)}{0.5 dy} + \\frac{ - 0.25 u2 \\left( 1 - \\eta \\right)}{0.5 dx} + \\frac{0.25 u6 \\left( 1 + \\eta \\right)}{0.5 dx} + \\frac{0.25 u4 \\left( 1 - \\eta \\right)}{0.5 dx} + \\frac{0.25 u7 \\left( 1 - \\xi \\right)}{0.5 dy} + \\frac{ - 0.25 u8 \\left( 1 + \\eta \\right)}{0.5 dx} \\right)}{0.5 dy} + \\frac{0.25 \\left( 1 + \\eta \\right) \\left( \\frac{0.25 p3 \\left( 1 + \\eta \\right)}{0.5 dx} + \\frac{ - 0.25 p4 \\left( 1 + \\eta \\right)}{0.5 dx} + \\frac{ - 0.25 p1 \\left( 1 - \\eta \\right)}{0.5 dx} + \\frac{0.25 p2 \\left( 1 - \\eta \\right)}{0.5 dx} \\right) \\left( 0.25 u1 \\left( 1 - \\eta \\right) \\left( 1 - \\xi \\right) + 0.25 u5 \\left( 1 + \\eta \\right) \\left( 1 + \\xi \\right) + 0.25 u7 \\left( 1 + \\eta \\right) \\left( 1 - \\xi \\right) + 0.25 u3 \\left( 1 + \\xi \\right) \\left( 1 - \\eta \\right) \\right)}{0.5 \\left( \\left( \\frac{\\alpha}{\\rho} \\right)^{2} + \\left( \\frac{12 \\mu}{\\left( \\sqrt{dx^{2} + dy^{2}} \\right)^{2} \\rho} \\right)^{2} + \\left( \\frac{2 \\sqrt{\\left( 0.25 u1 + 0.25 u3 + 0.25 u5 + 0.25 u7 \\right)^{2} + \\left( 0.25 u2 + 0.25 u4 + 0.25 u6 + 0.25 u8 \\right)^{2}}}{\\sqrt{dx^{2} + dy^{2}}} \\right)^{2} \\right)^{0.5} dx} + \\frac{0.25 \\left( 1 + \\xi \\right) \\left( \\frac{0.25 p3 \\left( 1 + \\eta \\right)}{0.5 dx} + \\frac{ - 0.25 p4 \\left( 1 + \\eta \\right)}{0.5 dx} + \\frac{ - 0.25 p1 \\left( 1 - \\eta \\right)}{0.5 dx} + \\frac{0.25 p2 \\left( 1 - \\eta \\right)}{0.5 dx} \\right) \\left( 0.25 u6 \\left( 1 + \\eta \\right) \\left( 1 + \\xi \\right) + 0.25 u8 \\left( 1 + \\eta \\right) \\left( 1 - \\xi \\right) + 0.25 u4 \\left( 1 + \\xi \\right) \\left( 1 - \\eta \\right) + 0.25 u2 \\left( 1 - \\eta \\right) \\left( 1 - \\xi \\right) \\right)}{0.5 \\left( \\left( \\frac{\\alpha}{\\rho} \\right)^{2} + \\left( \\frac{12 \\mu}{\\left( \\sqrt{dx^{2} + dy^{2}} \\right)^{2} \\rho} \\right)^{2} + \\left( \\frac{2 \\sqrt{\\left( 0.25 u1 + 0.25 u3 + 0.25 u5 + 0.25 u7 \\right)^{2} + \\left( 0.25 u2 + 0.25 u4 + 0.25 u6 + 0.25 u8 \\right)^{2}}}{\\sqrt{dx^{2} + dy^{2}}} \\right)^{2} \\right)^{0.5} dy} + \\frac{0.25 \\alpha \\left( 1 + \\xi \\right) \\left( 0.25 u6 \\left( 1 + \\eta \\right) \\left( 1 + \\xi \\right) + 0.25 u8 \\left( 1 + \\eta \\right) \\left( 1 - \\xi \\right) + 0.25 u4 \\left( 1 + \\xi \\right) \\left( 1 - \\eta \\right) + 0.25 u2 \\left( 1 - \\eta \\right) \\left( 1 - \\xi \\right) \\right) \\left( 0.25 u1 \\left( 1 - \\eta \\right) \\left( 1 - \\xi \\right) + 0.25 u5 \\left( 1 + \\eta \\right) \\left( 1 + \\xi \\right) + 0.25 u7 \\left( 1 + \\eta \\right) \\left( 1 - \\xi \\right) + 0.25 u3 \\left( 1 + \\xi \\right) \\left( 1 - \\eta \\right) \\right)}{0.5 \\left( \\left( \\frac{\\alpha}{\\rho} \\right)^{2} + \\left( \\frac{12 \\mu}{\\left( \\sqrt{dx^{2} + dy^{2}} \\right)^{2} \\rho} \\right)^{2} + \\left( \\frac{2 \\sqrt{\\left( 0.25 u1 + 0.25 u3 + 0.25 u5 + 0.25 u7 \\right)^{2} + \\left( 0.25 u2 + 0.25 u4 + 0.25 u6 + 0.25 u8 \\right)^{2}}}{\\sqrt{dx^{2} + dy^{2}}} \\right)^{2} \\right)^{0.5} dy} + \\frac{0.25 \\left( 0.25 u6 \\left( 1 + \\eta \\right) \\left( 1 + \\xi \\right) + 0.25 u8 \\left( 1 + \\eta \\right) \\left( 1 - \\xi \\right) + 0.25 u4 \\left( 1 + \\xi \\right) \\left( 1 - \\eta \\right) + 0.25 u2 \\left( 1 - \\eta \\right) \\left( 1 - \\xi \\right) \\right)^{2} \\rho \\left( 1 + \\xi \\right) \\left( \\frac{ - 0.25 u3 \\left( 1 + \\xi \\right)}{0.5 dy} + \\frac{ - 0.25 u1 \\left( 1 - \\xi \\right)}{0.5 dy} + \\frac{0.25 u5 \\left( 1 + \\xi \\right)}{0.5 dy} + \\frac{0.25 u7 \\left( 1 - \\xi \\right)}{0.5 dy} \\right)}{0.5 \\left( \\left( \\frac{\\alpha}{\\rho} \\right)^{2} + \\left( \\frac{12 \\mu}{\\left( \\sqrt{dx^{2} + dy^{2}} \\right)^{2} \\rho} \\right)^{2} + \\left( \\frac{2 \\sqrt{\\left( 0.25 u1 + 0.25 u3 + 0.25 u5 + 0.25 u7 \\right)^{2} + \\left( 0.25 u2 + 0.25 u4 + 0.25 u6 + 0.25 u8 \\right)^{2}}}{\\sqrt{dx^{2} + dy^{2}}} \\right)^{2} \\right)^{0.5} dy} + \\frac{0.25 \\left( 0.25 u1 \\left( 1 - \\eta \\right) \\left( 1 - \\xi \\right) + 0.25 u5 \\left( 1 + \\eta \\right) \\left( 1 + \\xi \\right) + 0.25 u7 \\left( 1 + \\eta \\right) \\left( 1 - \\xi \\right) + 0.25 u3 \\left( 1 + \\xi \\right) \\left( 1 - \\eta \\right) \\right)^{2} \\rho \\left( 1 + \\eta \\right) \\left( \\frac{ - 0.25 u1 \\left( 1 - \\eta \\right)}{0.5 dx} + \\frac{0.25 u3 \\left( 1 - \\eta \\right)}{0.5 dx} + \\frac{0.25 u5 \\left( 1 + \\eta \\right)}{0.5 dx} + \\frac{ - 0.25 u7 \\left( 1 + \\eta \\right)}{0.5 dx} \\right)}{0.5 \\left( \\left( \\frac{\\alpha}{\\rho} \\right)^{2} + \\left( \\frac{12 \\mu}{\\left( \\sqrt{dx^{2} + dy^{2}} \\right)^{2} \\rho} \\right)^{2} + \\left( \\frac{2 \\sqrt{\\left( 0.25 u1 + 0.25 u3 + 0.25 u5 + 0.25 u7 \\right)^{2} + \\left( 0.25 u2 + 0.25 u4 + 0.25 u6 + 0.25 u8 \\right)^{2}}}{\\sqrt{dx^{2} + dy^{2}}} \\right)^{2} \\right)^{0.5} dx} + \\frac{0.25 \\rho \\left( 1 + \\xi \\right) \\left( \\frac{ - 0.25 u1 \\left( 1 - \\eta \\right)}{0.5 dx} + \\frac{0.25 u3 \\left( 1 - \\eta \\right)}{0.5 dx} + \\frac{0.25 u5 \\left( 1 + \\eta \\right)}{0.5 dx} + \\frac{ - 0.25 u7 \\left( 1 + \\eta \\right)}{0.5 dx} \\right) \\left( 0.25 u6 \\left( 1 + \\eta \\right) \\left( 1 + \\xi \\right) + 0.25 u8 \\left( 1 + \\eta \\right) \\left( 1 - \\xi \\right) + 0.25 u4 \\left( 1 + \\xi \\right) \\left( 1 - \\eta \\right) + 0.25 u2 \\left( 1 - \\eta \\right) \\left( 1 - \\xi \\right) \\right) \\left( 0.25 u1 \\left( 1 - \\eta \\right) \\left( 1 - \\xi \\right) + 0.25 u5 \\left( 1 + \\eta \\right) \\left( 1 + \\xi \\right) + 0.25 u7 \\left( 1 + \\eta \\right) \\left( 1 - \\xi \\right) + 0.25 u3 \\left( 1 + \\xi \\right) \\left( 1 - \\eta \\right) \\right)}{0.5 \\left( \\left( \\frac{\\alpha}{\\rho} \\right)^{2} + \\left( \\frac{12 \\mu}{\\left( \\sqrt{dx^{2} + dy^{2}} \\right)^{2} \\rho} \\right)^{2} + \\left( \\frac{2 \\sqrt{\\left( 0.25 u1 + 0.25 u3 + 0.25 u5 + 0.25 u7 \\right)^{2} + \\left( 0.25 u2 + 0.25 u4 + 0.25 u6 + 0.25 u8 \\right)^{2}}}{\\sqrt{dx^{2} + dy^{2}}} \\right)^{2} \\right)^{0.5} dy} + \\frac{0.25 \\rho \\left( 1 + \\eta \\right) \\left( \\frac{ - 0.25 u3 \\left( 1 + \\xi \\right)}{0.5 dy} + \\frac{ - 0.25 u1 \\left( 1 - \\xi \\right)}{0.5 dy} + \\frac{0.25 u5 \\left( 1 + \\xi \\right)}{0.5 dy} + \\frac{0.25 u7 \\left( 1 - \\xi \\right)}{0.5 dy} \\right) \\left( 0.25 u6 \\left( 1 + \\eta \\right) \\left( 1 + \\xi \\right) + 0.25 u8 \\left( 1 + \\eta \\right) \\left( 1 - \\xi \\right) + 0.25 u4 \\left( 1 + \\xi \\right) \\left( 1 - \\eta \\right) + 0.25 u2 \\left( 1 - \\eta \\right) \\left( 1 - \\xi \\right) \\right) \\left( 0.25 u1 \\left( 1 - \\eta \\right) \\left( 1 - \\xi \\right) + 0.25 u5 \\left( 1 + \\eta \\right) \\left( 1 + \\xi \\right) + 0.25 u7 \\left( 1 + \\eta \\right) \\left( 1 - \\xi \\right) + 0.25 u3 \\left( 1 + \\xi \\right) \\left( 1 - \\eta \\right) \\right)}{0.5 \\left( \\left( \\frac{\\alpha}{\\rho} \\right)^{2} + \\left( \\frac{12 \\mu}{\\left( \\sqrt{dx^{2} + dy^{2}} \\right)^{2} \\rho} \\right)^{2} + \\left( \\frac{2 \\sqrt{\\left( 0.25 u1 + 0.25 u3 + 0.25 u5 + 0.25 u7 \\right)^{2} + \\left( 0.25 u2 + 0.25 u4 + 0.25 u6 + 0.25 u8 \\right)^{2}}}{\\sqrt{dx^{2} + dy^{2}}} \\right)^{2} \\right)^{0.5} dx} + 0.25 \\alpha \\left( 1 + \\eta \\right) \\left( 1 + \\xi \\right) \\left( 0.25 u1 \\left( 1 - \\eta \\right) \\left( 1 - \\xi \\right) + 0.25 u5 \\left( 1 + \\eta \\right) \\left( 1 + \\xi \\right) + 0.25 u7 \\left( 1 + \\eta \\right) \\left( 1 - \\xi \\right) + 0.25 u3 \\left( 1 + \\xi \\right) \\left( 1 - \\eta \\right) \\right) + 0.25 \\rho \\left( 1 + \\eta \\right) \\left( 1 + \\xi \\right) \\left( \\frac{ - 0.25 u3 \\left( 1 + \\xi \\right)}{0.5 dy} + \\frac{ - 0.25 u1 \\left( 1 - \\xi \\right)}{0.5 dy} + \\frac{0.25 u5 \\left( 1 + \\xi \\right)}{0.5 dy} + \\frac{0.25 u7 \\left( 1 - \\xi \\right)}{0.5 dy} \\right) \\left( 0.25 u6 \\left( 1 + \\eta \\right) \\left( 1 + \\xi \\right) + 0.25 u8 \\left( 1 + \\eta \\right) \\left( 1 - \\xi \\right) + 0.25 u4 \\left( 1 + \\xi \\right) \\left( 1 - \\eta \\right) + 0.25 u2 \\left( 1 - \\eta \\right) \\left( 1 - \\xi \\right) \\right) + 0.25 \\rho \\left( 1 + \\eta \\right) \\left( 1 + \\xi \\right) \\left( \\frac{ - 0.25 u1 \\left( 1 - \\eta \\right)}{0.5 dx} + \\frac{0.25 u3 \\left( 1 - \\eta \\right)}{0.5 dx} + \\frac{0.25 u5 \\left( 1 + \\eta \\right)}{0.5 dx} + \\frac{ - 0.25 u7 \\left( 1 + \\eta \\right)}{0.5 dx} \\right) \\left( 0.25 u1 \\left( 1 - \\eta \\right) \\left( 1 - \\xi \\right) + 0.25 u5 \\left( 1 + \\eta \\right) \\left( 1 + \\xi \\right) + 0.25 u7 \\left( 1 + \\eta \\right) \\left( 1 - \\xi \\right) + 0.25 u3 \\left( 1 + \\xi \\right) \\left( 1 - \\eta \\right) \\right) \\right) \\\\\n",
       "0.0625 dy^{2} dx^{2} \\left( \\frac{ - 0.25 \\left( 1 + \\xi \\right) \\left( 0.25 p3 \\left( 1 + \\eta \\right) \\left( 1 + \\xi \\right) + 0.25 p2 \\left( 1 + \\xi \\right) \\left( 1 - \\eta \\right) + 0.25 p4 \\left( 1 + \\eta \\right) \\left( 1 - \\xi \\right) + 0.25 p1 \\left( 1 - \\eta \\right) \\left( 1 - \\xi \\right) \\right)}{0.5 dy} + \\frac{0.25 \\mu \\left( 1 + \\xi \\right) \\left( \\frac{ - 0.5 u2 \\left( 1 - \\xi \\right)}{0.5 dy} + \\frac{ - 0.5 u4 \\left( 1 + \\xi \\right)}{0.5 dy} + \\frac{0.5 u6 \\left( 1 + \\xi \\right)}{0.5 dy} + \\frac{0.5 u8 \\left( 1 - \\xi \\right)}{0.5 dy} \\right)}{0.5 dy} + \\frac{0.25 \\left( 1 + \\eta \\right) \\left( \\frac{ - 0.25 p2 \\left( 1 + \\xi \\right)}{0.5 dy} + \\frac{ - 0.25 p1 \\left( 1 - \\xi \\right)}{0.5 dy} + \\frac{0.25 p3 \\left( 1 + \\xi \\right)}{0.5 dy} + \\frac{0.25 p4 \\left( 1 - \\xi \\right)}{0.5 dy} \\right) \\left( 0.25 u1 \\left( 1 - \\eta \\right) \\left( 1 - \\xi \\right) + 0.25 u5 \\left( 1 + \\eta \\right) \\left( 1 + \\xi \\right) + 0.25 u7 \\left( 1 + \\eta \\right) \\left( 1 - \\xi \\right) + 0.25 u3 \\left( 1 + \\xi \\right) \\left( 1 - \\eta \\right) \\right)}{0.5 \\left( \\left( \\frac{\\alpha}{\\rho} \\right)^{2} + \\left( \\frac{12 \\mu}{\\left( \\sqrt{dx^{2} + dy^{2}} \\right)^{2} \\rho} \\right)^{2} + \\left( \\frac{2 \\sqrt{\\left( 0.25 u1 + 0.25 u3 + 0.25 u5 + 0.25 u7 \\right)^{2} + \\left( 0.25 u2 + 0.25 u4 + 0.25 u6 + 0.25 u8 \\right)^{2}}}{\\sqrt{dx^{2} + dy^{2}}} \\right)^{2} \\right)^{0.5} dx} + \\frac{0.25 \\left( 0.25 u6 \\left( 1 + \\eta \\right) \\left( 1 + \\xi \\right) + 0.25 u8 \\left( 1 + \\eta \\right) \\left( 1 - \\xi \\right) + 0.25 u4 \\left( 1 + \\xi \\right) \\left( 1 - \\eta \\right) + 0.25 u2 \\left( 1 - \\eta \\right) \\left( 1 - \\xi \\right) \\right)^{2} \\alpha \\left( 1 + \\xi \\right)}{0.5 \\left( \\left( \\frac{\\alpha}{\\rho} \\right)^{2} + \\left( \\frac{12 \\mu}{\\left( \\sqrt{dx^{2} + dy^{2}} \\right)^{2} \\rho} \\right)^{2} + \\left( \\frac{2 \\sqrt{\\left( 0.25 u1 + 0.25 u3 + 0.25 u5 + 0.25 u7 \\right)^{2} + \\left( 0.25 u2 + 0.25 u4 + 0.25 u6 + 0.25 u8 \\right)^{2}}}{\\sqrt{dx^{2} + dy^{2}}} \\right)^{2} \\right)^{0.5} dy} + \\frac{0.25 \\mu \\left( 1 + \\eta \\right) \\left( \\frac{ - 0.25 u3 \\left( 1 + \\xi \\right)}{0.5 dy} + \\frac{ - 0.25 u1 \\left( 1 - \\xi \\right)}{0.5 dy} + \\frac{0.25 u5 \\left( 1 + \\xi \\right)}{0.5 dy} + \\frac{ - 0.25 u2 \\left( 1 - \\eta \\right)}{0.5 dx} + \\frac{0.25 u6 \\left( 1 + \\eta \\right)}{0.5 dx} + \\frac{0.25 u4 \\left( 1 - \\eta \\right)}{0.5 dx} + \\frac{0.25 u7 \\left( 1 - \\xi \\right)}{0.5 dy} + \\frac{ - 0.25 u8 \\left( 1 + \\eta \\right)}{0.5 dx} \\right)}{0.5 dx} + \\frac{0.25 \\left( 1 + \\xi \\right) \\left( \\frac{ - 0.25 p2 \\left( 1 + \\xi \\right)}{0.5 dy} + \\frac{ - 0.25 p1 \\left( 1 - \\xi \\right)}{0.5 dy} + \\frac{0.25 p3 \\left( 1 + \\xi \\right)}{0.5 dy} + \\frac{0.25 p4 \\left( 1 - \\xi \\right)}{0.5 dy} \\right) \\left( 0.25 u6 \\left( 1 + \\eta \\right) \\left( 1 + \\xi \\right) + 0.25 u8 \\left( 1 + \\eta \\right) \\left( 1 - \\xi \\right) + 0.25 u4 \\left( 1 + \\xi \\right) \\left( 1 - \\eta \\right) + 0.25 u2 \\left( 1 - \\eta \\right) \\left( 1 - \\xi \\right) \\right)}{0.5 \\left( \\left( \\frac{\\alpha}{\\rho} \\right)^{2} + \\left( \\frac{12 \\mu}{\\left( \\sqrt{dx^{2} + dy^{2}} \\right)^{2} \\rho} \\right)^{2} + \\left( \\frac{2 \\sqrt{\\left( 0.25 u1 + 0.25 u3 + 0.25 u5 + 0.25 u7 \\right)^{2} + \\left( 0.25 u2 + 0.25 u4 + 0.25 u6 + 0.25 u8 \\right)^{2}}}{\\sqrt{dx^{2} + dy^{2}}} \\right)^{2} \\right)^{0.5} dy} + \\frac{0.25 \\left( 0.25 u1 \\left( 1 - \\eta \\right) \\left( 1 - \\xi \\right) + 0.25 u5 \\left( 1 + \\eta \\right) \\left( 1 + \\xi \\right) + 0.25 u7 \\left( 1 + \\eta \\right) \\left( 1 - \\xi \\right) + 0.25 u3 \\left( 1 + \\xi \\right) \\left( 1 - \\eta \\right) \\right)^{2} \\rho \\left( 1 + \\eta \\right) \\left( \\frac{ - 0.25 u2 \\left( 1 - \\eta \\right)}{0.5 dx} + \\frac{0.25 u6 \\left( 1 + \\eta \\right)}{0.5 dx} + \\frac{0.25 u4 \\left( 1 - \\eta \\right)}{0.5 dx} + \\frac{ - 0.25 u8 \\left( 1 + \\eta \\right)}{0.5 dx} \\right)}{0.5 \\left( \\left( \\frac{\\alpha}{\\rho} \\right)^{2} + \\left( \\frac{12 \\mu}{\\left( \\sqrt{dx^{2} + dy^{2}} \\right)^{2} \\rho} \\right)^{2} + \\left( \\frac{2 \\sqrt{\\left( 0.25 u1 + 0.25 u3 + 0.25 u5 + 0.25 u7 \\right)^{2} + \\left( 0.25 u2 + 0.25 u4 + 0.25 u6 + 0.25 u8 \\right)^{2}}}{\\sqrt{dx^{2} + dy^{2}}} \\right)^{2} \\right)^{0.5} dx} + \\frac{0.25 \\left( 0.25 u6 \\left( 1 + \\eta \\right) \\left( 1 + \\xi \\right) + 0.25 u8 \\left( 1 + \\eta \\right) \\left( 1 - \\xi \\right) + 0.25 u4 \\left( 1 + \\xi \\right) \\left( 1 - \\eta \\right) + 0.25 u2 \\left( 1 - \\eta \\right) \\left( 1 - \\xi \\right) \\right)^{2} \\rho \\left( 1 + \\xi \\right) \\left( \\frac{ - 0.25 u2 \\left( 1 - \\xi \\right)}{0.5 dy} + \\frac{ - 0.25 u4 \\left( 1 + \\xi \\right)}{0.5 dy} + \\frac{0.25 u6 \\left( 1 + \\xi \\right)}{0.5 dy} + \\frac{0.25 u8 \\left( 1 - \\xi \\right)}{0.5 dy} \\right)}{0.5 \\left( \\left( \\frac{\\alpha}{\\rho} \\right)^{2} + \\left( \\frac{12 \\mu}{\\left( \\sqrt{dx^{2} + dy^{2}} \\right)^{2} \\rho} \\right)^{2} + \\left( \\frac{2 \\sqrt{\\left( 0.25 u1 + 0.25 u3 + 0.25 u5 + 0.25 u7 \\right)^{2} + \\left( 0.25 u2 + 0.25 u4 + 0.25 u6 + 0.25 u8 \\right)^{2}}}{\\sqrt{dx^{2} + dy^{2}}} \\right)^{2} \\right)^{0.5} dy} + \\frac{0.25 \\alpha \\left( 1 + \\eta \\right) \\left( 0.25 u6 \\left( 1 + \\eta \\right) \\left( 1 + \\xi \\right) + 0.25 u8 \\left( 1 + \\eta \\right) \\left( 1 - \\xi \\right) + 0.25 u4 \\left( 1 + \\xi \\right) \\left( 1 - \\eta \\right) + 0.25 u2 \\left( 1 - \\eta \\right) \\left( 1 - \\xi \\right) \\right) \\left( 0.25 u1 \\left( 1 - \\eta \\right) \\left( 1 - \\xi \\right) + 0.25 u5 \\left( 1 + \\eta \\right) \\left( 1 + \\xi \\right) + 0.25 u7 \\left( 1 + \\eta \\right) \\left( 1 - \\xi \\right) + 0.25 u3 \\left( 1 + \\xi \\right) \\left( 1 - \\eta \\right) \\right)}{0.5 \\left( \\left( \\frac{\\alpha}{\\rho} \\right)^{2} + \\left( \\frac{12 \\mu}{\\left( \\sqrt{dx^{2} + dy^{2}} \\right)^{2} \\rho} \\right)^{2} + \\left( \\frac{2 \\sqrt{\\left( 0.25 u1 + 0.25 u3 + 0.25 u5 + 0.25 u7 \\right)^{2} + \\left( 0.25 u2 + 0.25 u4 + 0.25 u6 + 0.25 u8 \\right)^{2}}}{\\sqrt{dx^{2} + dy^{2}}} \\right)^{2} \\right)^{0.5} dx} + \\frac{0.25 \\rho \\left( 1 + \\eta \\right) \\left( \\frac{ - 0.25 u2 \\left( 1 - \\xi \\right)}{0.5 dy} + \\frac{ - 0.25 u4 \\left( 1 + \\xi \\right)}{0.5 dy} + \\frac{0.25 u6 \\left( 1 + \\xi \\right)}{0.5 dy} + \\frac{0.25 u8 \\left( 1 - \\xi \\right)}{0.5 dy} \\right) \\left( 0.25 u6 \\left( 1 + \\eta \\right) \\left( 1 + \\xi \\right) + 0.25 u8 \\left( 1 + \\eta \\right) \\left( 1 - \\xi \\right) + 0.25 u4 \\left( 1 + \\xi \\right) \\left( 1 - \\eta \\right) + 0.25 u2 \\left( 1 - \\eta \\right) \\left( 1 - \\xi \\right) \\right) \\left( 0.25 u1 \\left( 1 - \\eta \\right) \\left( 1 - \\xi \\right) + 0.25 u5 \\left( 1 + \\eta \\right) \\left( 1 + \\xi \\right) + 0.25 u7 \\left( 1 + \\eta \\right) \\left( 1 - \\xi \\right) + 0.25 u3 \\left( 1 + \\xi \\right) \\left( 1 - \\eta \\right) \\right)}{0.5 \\left( \\left( \\frac{\\alpha}{\\rho} \\right)^{2} + \\left( \\frac{12 \\mu}{\\left( \\sqrt{dx^{2} + dy^{2}} \\right)^{2} \\rho} \\right)^{2} + \\left( \\frac{2 \\sqrt{\\left( 0.25 u1 + 0.25 u3 + 0.25 u5 + 0.25 u7 \\right)^{2} + \\left( 0.25 u2 + 0.25 u4 + 0.25 u6 + 0.25 u8 \\right)^{2}}}{\\sqrt{dx^{2} + dy^{2}}} \\right)^{2} \\right)^{0.5} dx} + \\frac{0.25 \\rho \\left( 1 + \\xi \\right) \\left( \\frac{ - 0.25 u2 \\left( 1 - \\eta \\right)}{0.5 dx} + \\frac{0.25 u6 \\left( 1 + \\eta \\right)}{0.5 dx} + \\frac{0.25 u4 \\left( 1 - \\eta \\right)}{0.5 dx} + \\frac{ - 0.25 u8 \\left( 1 + \\eta \\right)}{0.5 dx} \\right) \\left( 0.25 u6 \\left( 1 + \\eta \\right) \\left( 1 + \\xi \\right) + 0.25 u8 \\left( 1 + \\eta \\right) \\left( 1 - \\xi \\right) + 0.25 u4 \\left( 1 + \\xi \\right) \\left( 1 - \\eta \\right) + 0.25 u2 \\left( 1 - \\eta \\right) \\left( 1 - \\xi \\right) \\right) \\left( 0.25 u1 \\left( 1 - \\eta \\right) \\left( 1 - \\xi \\right) + 0.25 u5 \\left( 1 + \\eta \\right) \\left( 1 + \\xi \\right) + 0.25 u7 \\left( 1 + \\eta \\right) \\left( 1 - \\xi \\right) + 0.25 u3 \\left( 1 + \\xi \\right) \\left( 1 - \\eta \\right) \\right)}{0.5 \\left( \\left( \\frac{\\alpha}{\\rho} \\right)^{2} + \\left( \\frac{12 \\mu}{\\left( \\sqrt{dx^{2} + dy^{2}} \\right)^{2} \\rho} \\right)^{2} + \\left( \\frac{2 \\sqrt{\\left( 0.25 u1 + 0.25 u3 + 0.25 u5 + 0.25 u7 \\right)^{2} + \\left( 0.25 u2 + 0.25 u4 + 0.25 u6 + 0.25 u8 \\right)^{2}}}{\\sqrt{dx^{2} + dy^{2}}} \\right)^{2} \\right)^{0.5} dy} + 0.25 \\alpha \\left( 1 + \\eta \\right) \\left( 1 + \\xi \\right) \\left( 0.25 u6 \\left( 1 + \\eta \\right) \\left( 1 + \\xi \\right) + 0.25 u8 \\left( 1 + \\eta \\right) \\left( 1 - \\xi \\right) + 0.25 u4 \\left( 1 + \\xi \\right) \\left( 1 - \\eta \\right) + 0.25 u2 \\left( 1 - \\eta \\right) \\left( 1 - \\xi \\right) \\right) + 0.25 \\rho \\left( 1 + \\eta \\right) \\left( 1 + \\xi \\right) \\left( \\frac{ - 0.25 u2 \\left( 1 - \\xi \\right)}{0.5 dy} + \\frac{ - 0.25 u4 \\left( 1 + \\xi \\right)}{0.5 dy} + \\frac{0.25 u6 \\left( 1 + \\xi \\right)}{0.5 dy} + \\frac{0.25 u8 \\left( 1 - \\xi \\right)}{0.5 dy} \\right) \\left( 0.25 u6 \\left( 1 + \\eta \\right) \\left( 1 + \\xi \\right) + 0.25 u8 \\left( 1 + \\eta \\right) \\left( 1 - \\xi \\right) + 0.25 u4 \\left( 1 + \\xi \\right) \\left( 1 - \\eta \\right) + 0.25 u2 \\left( 1 - \\eta \\right) \\left( 1 - \\xi \\right) \\right) + 0.25 \\rho \\left( 1 + \\eta \\right) \\left( 1 + \\xi \\right) \\left( \\frac{ - 0.25 u2 \\left( 1 - \\eta \\right)}{0.5 dx} + \\frac{0.25 u6 \\left( 1 + \\eta \\right)}{0.5 dx} + \\frac{0.25 u4 \\left( 1 - \\eta \\right)}{0.5 dx} + \\frac{ - 0.25 u8 \\left( 1 + \\eta \\right)}{0.5 dx} \\right) \\left( 0.25 u1 \\left( 1 - \\eta \\right) \\left( 1 - \\xi \\right) + 0.25 u5 \\left( 1 + \\eta \\right) \\left( 1 + \\xi \\right) + 0.25 u7 \\left( 1 + \\eta \\right) \\left( 1 - \\xi \\right) + 0.25 u3 \\left( 1 + \\xi \\right) \\left( 1 - \\eta \\right) \\right) \\right) \\\\\n",
       "0.0625 dy^{2} dx^{2} \\left( \\frac{0.25 \\left( 1 + \\eta \\right) \\left( 0.25 p3 \\left( 1 + \\eta \\right) \\left( 1 + \\xi \\right) + 0.25 p2 \\left( 1 + \\xi \\right) \\left( 1 - \\eta \\right) + 0.25 p4 \\left( 1 + \\eta \\right) \\left( 1 - \\xi \\right) + 0.25 p1 \\left( 1 - \\eta \\right) \\left( 1 - \\xi \\right) \\right)}{0.5 dx} + \\frac{ - 0.25 \\mu \\left( 1 + \\eta \\right) \\left( \\frac{ - 0.5 u1 \\left( 1 - \\eta \\right)}{0.5 dx} + \\frac{0.5 u3 \\left( 1 - \\eta \\right)}{0.5 dx} + \\frac{0.5 u5 \\left( 1 + \\eta \\right)}{0.5 dx} + \\frac{ - 0.5 u7 \\left( 1 + \\eta \\right)}{0.5 dx} \\right)}{0.5 dx} + \\frac{0.25 \\left( 1 - \\xi \\right) \\left( \\frac{0.25 p3 \\left( 1 + \\eta \\right)}{0.5 dx} + \\frac{ - 0.25 p4 \\left( 1 + \\eta \\right)}{0.5 dx} + \\frac{ - 0.25 p1 \\left( 1 - \\eta \\right)}{0.5 dx} + \\frac{0.25 p2 \\left( 1 - \\eta \\right)}{0.5 dx} \\right) \\left( 0.25 u6 \\left( 1 + \\eta \\right) \\left( 1 + \\xi \\right) + 0.25 u8 \\left( 1 + \\eta \\right) \\left( 1 - \\xi \\right) + 0.25 u4 \\left( 1 + \\xi \\right) \\left( 1 - \\eta \\right) + 0.25 u2 \\left( 1 - \\eta \\right) \\left( 1 - \\xi \\right) \\right)}{0.5 \\left( \\left( \\frac{\\alpha}{\\rho} \\right)^{2} + \\left( \\frac{12 \\mu}{\\left( \\sqrt{dx^{2} + dy^{2}} \\right)^{2} \\rho} \\right)^{2} + \\left( \\frac{2 \\sqrt{\\left( 0.25 u1 + 0.25 u3 + 0.25 u5 + 0.25 u7 \\right)^{2} + \\left( 0.25 u2 + 0.25 u4 + 0.25 u6 + 0.25 u8 \\right)^{2}}}{\\sqrt{dx^{2} + dy^{2}}} \\right)^{2} \\right)^{0.5} dy} + \\frac{0.25 \\mu \\left( 1 - \\xi \\right) \\left( \\frac{ - 0.25 u3 \\left( 1 + \\xi \\right)}{0.5 dy} + \\frac{ - 0.25 u1 \\left( 1 - \\xi \\right)}{0.5 dy} + \\frac{0.25 u5 \\left( 1 + \\xi \\right)}{0.5 dy} + \\frac{ - 0.25 u2 \\left( 1 - \\eta \\right)}{0.5 dx} + \\frac{0.25 u6 \\left( 1 + \\eta \\right)}{0.5 dx} + \\frac{0.25 u4 \\left( 1 - \\eta \\right)}{0.5 dx} + \\frac{0.25 u7 \\left( 1 - \\xi \\right)}{0.5 dy} + \\frac{ - 0.25 u8 \\left( 1 + \\eta \\right)}{0.5 dx} \\right)}{0.5 dy} + \\frac{ - 0.25 \\left( 1 + \\eta \\right) \\left( \\frac{0.25 p3 \\left( 1 + \\eta \\right)}{0.5 dx} + \\frac{ - 0.25 p4 \\left( 1 + \\eta \\right)}{0.5 dx} + \\frac{ - 0.25 p1 \\left( 1 - \\eta \\right)}{0.5 dx} + \\frac{0.25 p2 \\left( 1 - \\eta \\right)}{0.5 dx} \\right) \\left( 0.25 u1 \\left( 1 - \\eta \\right) \\left( 1 - \\xi \\right) + 0.25 u5 \\left( 1 + \\eta \\right) \\left( 1 + \\xi \\right) + 0.25 u7 \\left( 1 + \\eta \\right) \\left( 1 - \\xi \\right) + 0.25 u3 \\left( 1 + \\xi \\right) \\left( 1 - \\eta \\right) \\right)}{0.5 \\left( \\left( \\frac{\\alpha}{\\rho} \\right)^{2} + \\left( \\frac{12 \\mu}{\\left( \\sqrt{dx^{2} + dy^{2}} \\right)^{2} \\rho} \\right)^{2} + \\left( \\frac{2 \\sqrt{\\left( 0.25 u1 + 0.25 u3 + 0.25 u5 + 0.25 u7 \\right)^{2} + \\left( 0.25 u2 + 0.25 u4 + 0.25 u6 + 0.25 u8 \\right)^{2}}}{\\sqrt{dx^{2} + dy^{2}}} \\right)^{2} \\right)^{0.5} dx} + \\frac{ - 0.25 \\left( 0.25 u1 \\left( 1 - \\eta \\right) \\left( 1 - \\xi \\right) + 0.25 u5 \\left( 1 + \\eta \\right) \\left( 1 + \\xi \\right) + 0.25 u7 \\left( 1 + \\eta \\right) \\left( 1 - \\xi \\right) + 0.25 u3 \\left( 1 + \\xi \\right) \\left( 1 - \\eta \\right) \\right)^{2} \\alpha \\left( 1 + \\eta \\right)}{0.5 \\left( \\left( \\frac{\\alpha}{\\rho} \\right)^{2} + \\left( \\frac{12 \\mu}{\\left( \\sqrt{dx^{2} + dy^{2}} \\right)^{2} \\rho} \\right)^{2} + \\left( \\frac{2 \\sqrt{\\left( 0.25 u1 + 0.25 u3 + 0.25 u5 + 0.25 u7 \\right)^{2} + \\left( 0.25 u2 + 0.25 u4 + 0.25 u6 + 0.25 u8 \\right)^{2}}}{\\sqrt{dx^{2} + dy^{2}}} \\right)^{2} \\right)^{0.5} dx} + \\frac{0.25 \\alpha \\left( 1 - \\xi \\right) \\left( 0.25 u6 \\left( 1 + \\eta \\right) \\left( 1 + \\xi \\right) + 0.25 u8 \\left( 1 + \\eta \\right) \\left( 1 - \\xi \\right) + 0.25 u4 \\left( 1 + \\xi \\right) \\left( 1 - \\eta \\right) + 0.25 u2 \\left( 1 - \\eta \\right) \\left( 1 - \\xi \\right) \\right) \\left( 0.25 u1 \\left( 1 - \\eta \\right) \\left( 1 - \\xi \\right) + 0.25 u5 \\left( 1 + \\eta \\right) \\left( 1 + \\xi \\right) + 0.25 u7 \\left( 1 + \\eta \\right) \\left( 1 - \\xi \\right) + 0.25 u3 \\left( 1 + \\xi \\right) \\left( 1 - \\eta \\right) \\right)}{0.5 \\left( \\left( \\frac{\\alpha}{\\rho} \\right)^{2} + \\left( \\frac{12 \\mu}{\\left( \\sqrt{dx^{2} + dy^{2}} \\right)^{2} \\rho} \\right)^{2} + \\left( \\frac{2 \\sqrt{\\left( 0.25 u1 + 0.25 u3 + 0.25 u5 + 0.25 u7 \\right)^{2} + \\left( 0.25 u2 + 0.25 u4 + 0.25 u6 + 0.25 u8 \\right)^{2}}}{\\sqrt{dx^{2} + dy^{2}}} \\right)^{2} \\right)^{0.5} dy} + \\frac{0.25 \\left( 0.25 u6 \\left( 1 + \\eta \\right) \\left( 1 + \\xi \\right) + 0.25 u8 \\left( 1 + \\eta \\right) \\left( 1 - \\xi \\right) + 0.25 u4 \\left( 1 + \\xi \\right) \\left( 1 - \\eta \\right) + 0.25 u2 \\left( 1 - \\eta \\right) \\left( 1 - \\xi \\right) \\right)^{2} \\rho \\left( 1 - \\xi \\right) \\left( \\frac{ - 0.25 u3 \\left( 1 + \\xi \\right)}{0.5 dy} + \\frac{ - 0.25 u1 \\left( 1 - \\xi \\right)}{0.5 dy} + \\frac{0.25 u5 \\left( 1 + \\xi \\right)}{0.5 dy} + \\frac{0.25 u7 \\left( 1 - \\xi \\right)}{0.5 dy} \\right)}{0.5 \\left( \\left( \\frac{\\alpha}{\\rho} \\right)^{2} + \\left( \\frac{12 \\mu}{\\left( \\sqrt{dx^{2} + dy^{2}} \\right)^{2} \\rho} \\right)^{2} + \\left( \\frac{2 \\sqrt{\\left( 0.25 u1 + 0.25 u3 + 0.25 u5 + 0.25 u7 \\right)^{2} + \\left( 0.25 u2 + 0.25 u4 + 0.25 u6 + 0.25 u8 \\right)^{2}}}{\\sqrt{dx^{2} + dy^{2}}} \\right)^{2} \\right)^{0.5} dy} + \\frac{ - 0.25 \\left( 0.25 u1 \\left( 1 - \\eta \\right) \\left( 1 - \\xi \\right) + 0.25 u5 \\left( 1 + \\eta \\right) \\left( 1 + \\xi \\right) + 0.25 u7 \\left( 1 + \\eta \\right) \\left( 1 - \\xi \\right) + 0.25 u3 \\left( 1 + \\xi \\right) \\left( 1 - \\eta \\right) \\right)^{2} \\rho \\left( 1 + \\eta \\right) \\left( \\frac{ - 0.25 u1 \\left( 1 - \\eta \\right)}{0.5 dx} + \\frac{0.25 u3 \\left( 1 - \\eta \\right)}{0.5 dx} + \\frac{0.25 u5 \\left( 1 + \\eta \\right)}{0.5 dx} + \\frac{ - 0.25 u7 \\left( 1 + \\eta \\right)}{0.5 dx} \\right)}{0.5 \\left( \\left( \\frac{\\alpha}{\\rho} \\right)^{2} + \\left( \\frac{12 \\mu}{\\left( \\sqrt{dx^{2} + dy^{2}} \\right)^{2} \\rho} \\right)^{2} + \\left( \\frac{2 \\sqrt{\\left( 0.25 u1 + 0.25 u3 + 0.25 u5 + 0.25 u7 \\right)^{2} + \\left( 0.25 u2 + 0.25 u4 + 0.25 u6 + 0.25 u8 \\right)^{2}}}{\\sqrt{dx^{2} + dy^{2}}} \\right)^{2} \\right)^{0.5} dx} + \\frac{0.25 \\rho \\left( 1 - \\xi \\right) \\left( \\frac{ - 0.25 u1 \\left( 1 - \\eta \\right)}{0.5 dx} + \\frac{0.25 u3 \\left( 1 - \\eta \\right)}{0.5 dx} + \\frac{0.25 u5 \\left( 1 + \\eta \\right)}{0.5 dx} + \\frac{ - 0.25 u7 \\left( 1 + \\eta \\right)}{0.5 dx} \\right) \\left( 0.25 u6 \\left( 1 + \\eta \\right) \\left( 1 + \\xi \\right) + 0.25 u8 \\left( 1 + \\eta \\right) \\left( 1 - \\xi \\right) + 0.25 u4 \\left( 1 + \\xi \\right) \\left( 1 - \\eta \\right) + 0.25 u2 \\left( 1 - \\eta \\right) \\left( 1 - \\xi \\right) \\right) \\left( 0.25 u1 \\left( 1 - \\eta \\right) \\left( 1 - \\xi \\right) + 0.25 u5 \\left( 1 + \\eta \\right) \\left( 1 + \\xi \\right) + 0.25 u7 \\left( 1 + \\eta \\right) \\left( 1 - \\xi \\right) + 0.25 u3 \\left( 1 + \\xi \\right) \\left( 1 - \\eta \\right) \\right)}{0.5 \\left( \\left( \\frac{\\alpha}{\\rho} \\right)^{2} + \\left( \\frac{12 \\mu}{\\left( \\sqrt{dx^{2} + dy^{2}} \\right)^{2} \\rho} \\right)^{2} + \\left( \\frac{2 \\sqrt{\\left( 0.25 u1 + 0.25 u3 + 0.25 u5 + 0.25 u7 \\right)^{2} + \\left( 0.25 u2 + 0.25 u4 + 0.25 u6 + 0.25 u8 \\right)^{2}}}{\\sqrt{dx^{2} + dy^{2}}} \\right)^{2} \\right)^{0.5} dy} + \\frac{ - 0.25 \\rho \\left( 1 + \\eta \\right) \\left( \\frac{ - 0.25 u3 \\left( 1 + \\xi \\right)}{0.5 dy} + \\frac{ - 0.25 u1 \\left( 1 - \\xi \\right)}{0.5 dy} + \\frac{0.25 u5 \\left( 1 + \\xi \\right)}{0.5 dy} + \\frac{0.25 u7 \\left( 1 - \\xi \\right)}{0.5 dy} \\right) \\left( 0.25 u6 \\left( 1 + \\eta \\right) \\left( 1 + \\xi \\right) + 0.25 u8 \\left( 1 + \\eta \\right) \\left( 1 - \\xi \\right) + 0.25 u4 \\left( 1 + \\xi \\right) \\left( 1 - \\eta \\right) + 0.25 u2 \\left( 1 - \\eta \\right) \\left( 1 - \\xi \\right) \\right) \\left( 0.25 u1 \\left( 1 - \\eta \\right) \\left( 1 - \\xi \\right) + 0.25 u5 \\left( 1 + \\eta \\right) \\left( 1 + \\xi \\right) + 0.25 u7 \\left( 1 + \\eta \\right) \\left( 1 - \\xi \\right) + 0.25 u3 \\left( 1 + \\xi \\right) \\left( 1 - \\eta \\right) \\right)}{0.5 \\left( \\left( \\frac{\\alpha}{\\rho} \\right)^{2} + \\left( \\frac{12 \\mu}{\\left( \\sqrt{dx^{2} + dy^{2}} \\right)^{2} \\rho} \\right)^{2} + \\left( \\frac{2 \\sqrt{\\left( 0.25 u1 + 0.25 u3 + 0.25 u5 + 0.25 u7 \\right)^{2} + \\left( 0.25 u2 + 0.25 u4 + 0.25 u6 + 0.25 u8 \\right)^{2}}}{\\sqrt{dx^{2} + dy^{2}}} \\right)^{2} \\right)^{0.5} dx} + 0.25 \\alpha \\left( 1 + \\eta \\right) \\left( 1 - \\xi \\right) \\left( 0.25 u1 \\left( 1 - \\eta \\right) \\left( 1 - \\xi \\right) + 0.25 u5 \\left( 1 + \\eta \\right) \\left( 1 + \\xi \\right) + 0.25 u7 \\left( 1 + \\eta \\right) \\left( 1 - \\xi \\right) + 0.25 u3 \\left( 1 + \\xi \\right) \\left( 1 - \\eta \\right) \\right) + 0.25 \\rho \\left( 1 + \\eta \\right) \\left( 1 - \\xi \\right) \\left( \\frac{ - 0.25 u1 \\left( 1 - \\eta \\right)}{0.5 dx} + \\frac{0.25 u3 \\left( 1 - \\eta \\right)}{0.5 dx} + \\frac{0.25 u5 \\left( 1 + \\eta \\right)}{0.5 dx} + \\frac{ - 0.25 u7 \\left( 1 + \\eta \\right)}{0.5 dx} \\right) \\left( 0.25 u1 \\left( 1 - \\eta \\right) \\left( 1 - \\xi \\right) + 0.25 u5 \\left( 1 + \\eta \\right) \\left( 1 + \\xi \\right) + 0.25 u7 \\left( 1 + \\eta \\right) \\left( 1 - \\xi \\right) + 0.25 u3 \\left( 1 + \\xi \\right) \\left( 1 - \\eta \\right) \\right) + 0.25 \\rho \\left( 1 + \\eta \\right) \\left( 1 - \\xi \\right) \\left( \\frac{ - 0.25 u3 \\left( 1 + \\xi \\right)}{0.5 dy} + \\frac{ - 0.25 u1 \\left( 1 - \\xi \\right)}{0.5 dy} + \\frac{0.25 u5 \\left( 1 + \\xi \\right)}{0.5 dy} + \\frac{0.25 u7 \\left( 1 - \\xi \\right)}{0.5 dy} \\right) \\left( 0.25 u6 \\left( 1 + \\eta \\right) \\left( 1 + \\xi \\right) + 0.25 u8 \\left( 1 + \\eta \\right) \\left( 1 - \\xi \\right) + 0.25 u4 \\left( 1 + \\xi \\right) \\left( 1 - \\eta \\right) + 0.25 u2 \\left( 1 - \\eta \\right) \\left( 1 - \\xi \\right) \\right) \\right) \\\\\n",
       "0.0625 dy^{2} dx^{2} \\left( \\frac{ - 0.25 \\left( 1 - \\xi \\right) \\left( 0.25 p3 \\left( 1 + \\eta \\right) \\left( 1 + \\xi \\right) + 0.25 p2 \\left( 1 + \\xi \\right) \\left( 1 - \\eta \\right) + 0.25 p4 \\left( 1 + \\eta \\right) \\left( 1 - \\xi \\right) + 0.25 p1 \\left( 1 - \\eta \\right) \\left( 1 - \\xi \\right) \\right)}{0.5 dy} + \\frac{0.25 \\left( 0.25 u6 \\left( 1 + \\eta \\right) \\left( 1 + \\xi \\right) + 0.25 u8 \\left( 1 + \\eta \\right) \\left( 1 - \\xi \\right) + 0.25 u4 \\left( 1 + \\xi \\right) \\left( 1 - \\eta \\right) + 0.25 u2 \\left( 1 - \\eta \\right) \\left( 1 - \\xi \\right) \\right)^{2} \\alpha \\left( 1 - \\xi \\right)}{0.5 \\left( \\left( \\frac{\\alpha}{\\rho} \\right)^{2} + \\left( \\frac{12 \\mu}{\\left( \\sqrt{dx^{2} + dy^{2}} \\right)^{2} \\rho} \\right)^{2} + \\left( \\frac{2 \\sqrt{\\left( 0.25 u1 + 0.25 u3 + 0.25 u5 + 0.25 u7 \\right)^{2} + \\left( 0.25 u2 + 0.25 u4 + 0.25 u6 + 0.25 u8 \\right)^{2}}}{\\sqrt{dx^{2} + dy^{2}}} \\right)^{2} \\right)^{0.5} dy} + \\frac{0.25 \\mu \\left( 1 - \\xi \\right) \\left( \\frac{ - 0.5 u2 \\left( 1 - \\xi \\right)}{0.5 dy} + \\frac{ - 0.5 u4 \\left( 1 + \\xi \\right)}{0.5 dy} + \\frac{0.5 u6 \\left( 1 + \\xi \\right)}{0.5 dy} + \\frac{0.5 u8 \\left( 1 - \\xi \\right)}{0.5 dy} \\right)}{0.5 dy} + \\frac{0.25 \\left( 1 - \\xi \\right) \\left( \\frac{ - 0.25 p2 \\left( 1 + \\xi \\right)}{0.5 dy} + \\frac{ - 0.25 p1 \\left( 1 - \\xi \\right)}{0.5 dy} + \\frac{0.25 p3 \\left( 1 + \\xi \\right)}{0.5 dy} + \\frac{0.25 p4 \\left( 1 - \\xi \\right)}{0.5 dy} \\right) \\left( 0.25 u6 \\left( 1 + \\eta \\right) \\left( 1 + \\xi \\right) + 0.25 u8 \\left( 1 + \\eta \\right) \\left( 1 - \\xi \\right) + 0.25 u4 \\left( 1 + \\xi \\right) \\left( 1 - \\eta \\right) + 0.25 u2 \\left( 1 - \\eta \\right) \\left( 1 - \\xi \\right) \\right)}{0.5 \\left( \\left( \\frac{\\alpha}{\\rho} \\right)^{2} + \\left( \\frac{12 \\mu}{\\left( \\sqrt{dx^{2} + dy^{2}} \\right)^{2} \\rho} \\right)^{2} + \\left( \\frac{2 \\sqrt{\\left( 0.25 u1 + 0.25 u3 + 0.25 u5 + 0.25 u7 \\right)^{2} + \\left( 0.25 u2 + 0.25 u4 + 0.25 u6 + 0.25 u8 \\right)^{2}}}{\\sqrt{dx^{2} + dy^{2}}} \\right)^{2} \\right)^{0.5} dy} + \\frac{ - 0.25 \\mu \\left( 1 + \\eta \\right) \\left( \\frac{ - 0.25 u3 \\left( 1 + \\xi \\right)}{0.5 dy} + \\frac{ - 0.25 u1 \\left( 1 - \\xi \\right)}{0.5 dy} + \\frac{0.25 u5 \\left( 1 + \\xi \\right)}{0.5 dy} + \\frac{ - 0.25 u2 \\left( 1 - \\eta \\right)}{0.5 dx} + \\frac{0.25 u6 \\left( 1 + \\eta \\right)}{0.5 dx} + \\frac{0.25 u4 \\left( 1 - \\eta \\right)}{0.5 dx} + \\frac{0.25 u7 \\left( 1 - \\xi \\right)}{0.5 dy} + \\frac{ - 0.25 u8 \\left( 1 + \\eta \\right)}{0.5 dx} \\right)}{0.5 dx} + \\frac{ - 0.25 \\left( 1 + \\eta \\right) \\left( \\frac{ - 0.25 p2 \\left( 1 + \\xi \\right)}{0.5 dy} + \\frac{ - 0.25 p1 \\left( 1 - \\xi \\right)}{0.5 dy} + \\frac{0.25 p3 \\left( 1 + \\xi \\right)}{0.5 dy} + \\frac{0.25 p4 \\left( 1 - \\xi \\right)}{0.5 dy} \\right) \\left( 0.25 u1 \\left( 1 - \\eta \\right) \\left( 1 - \\xi \\right) + 0.25 u5 \\left( 1 + \\eta \\right) \\left( 1 + \\xi \\right) + 0.25 u7 \\left( 1 + \\eta \\right) \\left( 1 - \\xi \\right) + 0.25 u3 \\left( 1 + \\xi \\right) \\left( 1 - \\eta \\right) \\right)}{0.5 \\left( \\left( \\frac{\\alpha}{\\rho} \\right)^{2} + \\left( \\frac{12 \\mu}{\\left( \\sqrt{dx^{2} + dy^{2}} \\right)^{2} \\rho} \\right)^{2} + \\left( \\frac{2 \\sqrt{\\left( 0.25 u1 + 0.25 u3 + 0.25 u5 + 0.25 u7 \\right)^{2} + \\left( 0.25 u2 + 0.25 u4 + 0.25 u6 + 0.25 u8 \\right)^{2}}}{\\sqrt{dx^{2} + dy^{2}}} \\right)^{2} \\right)^{0.5} dx} + \\frac{ - 0.25 \\alpha \\left( 1 + \\eta \\right) \\left( 0.25 u6 \\left( 1 + \\eta \\right) \\left( 1 + \\xi \\right) + 0.25 u8 \\left( 1 + \\eta \\right) \\left( 1 - \\xi \\right) + 0.25 u4 \\left( 1 + \\xi \\right) \\left( 1 - \\eta \\right) + 0.25 u2 \\left( 1 - \\eta \\right) \\left( 1 - \\xi \\right) \\right) \\left( 0.25 u1 \\left( 1 - \\eta \\right) \\left( 1 - \\xi \\right) + 0.25 u5 \\left( 1 + \\eta \\right) \\left( 1 + \\xi \\right) + 0.25 u7 \\left( 1 + \\eta \\right) \\left( 1 - \\xi \\right) + 0.25 u3 \\left( 1 + \\xi \\right) \\left( 1 - \\eta \\right) \\right)}{0.5 \\left( \\left( \\frac{\\alpha}{\\rho} \\right)^{2} + \\left( \\frac{12 \\mu}{\\left( \\sqrt{dx^{2} + dy^{2}} \\right)^{2} \\rho} \\right)^{2} + \\left( \\frac{2 \\sqrt{\\left( 0.25 u1 + 0.25 u3 + 0.25 u5 + 0.25 u7 \\right)^{2} + \\left( 0.25 u2 + 0.25 u4 + 0.25 u6 + 0.25 u8 \\right)^{2}}}{\\sqrt{dx^{2} + dy^{2}}} \\right)^{2} \\right)^{0.5} dx} + \\frac{0.25 \\left( 0.25 u6 \\left( 1 + \\eta \\right) \\left( 1 + \\xi \\right) + 0.25 u8 \\left( 1 + \\eta \\right) \\left( 1 - \\xi \\right) + 0.25 u4 \\left( 1 + \\xi \\right) \\left( 1 - \\eta \\right) + 0.25 u2 \\left( 1 - \\eta \\right) \\left( 1 - \\xi \\right) \\right)^{2} \\rho \\left( 1 - \\xi \\right) \\left( \\frac{ - 0.25 u2 \\left( 1 - \\xi \\right)}{0.5 dy} + \\frac{ - 0.25 u4 \\left( 1 + \\xi \\right)}{0.5 dy} + \\frac{0.25 u6 \\left( 1 + \\xi \\right)}{0.5 dy} + \\frac{0.25 u8 \\left( 1 - \\xi \\right)}{0.5 dy} \\right)}{0.5 \\left( \\left( \\frac{\\alpha}{\\rho} \\right)^{2} + \\left( \\frac{12 \\mu}{\\left( \\sqrt{dx^{2} + dy^{2}} \\right)^{2} \\rho} \\right)^{2} + \\left( \\frac{2 \\sqrt{\\left( 0.25 u1 + 0.25 u3 + 0.25 u5 + 0.25 u7 \\right)^{2} + \\left( 0.25 u2 + 0.25 u4 + 0.25 u6 + 0.25 u8 \\right)^{2}}}{\\sqrt{dx^{2} + dy^{2}}} \\right)^{2} \\right)^{0.5} dy} + \\frac{ - 0.25 \\left( 0.25 u1 \\left( 1 - \\eta \\right) \\left( 1 - \\xi \\right) + 0.25 u5 \\left( 1 + \\eta \\right) \\left( 1 + \\xi \\right) + 0.25 u7 \\left( 1 + \\eta \\right) \\left( 1 - \\xi \\right) + 0.25 u3 \\left( 1 + \\xi \\right) \\left( 1 - \\eta \\right) \\right)^{2} \\rho \\left( 1 + \\eta \\right) \\left( \\frac{ - 0.25 u2 \\left( 1 - \\eta \\right)}{0.5 dx} + \\frac{0.25 u6 \\left( 1 + \\eta \\right)}{0.5 dx} + \\frac{0.25 u4 \\left( 1 - \\eta \\right)}{0.5 dx} + \\frac{ - 0.25 u8 \\left( 1 + \\eta \\right)}{0.5 dx} \\right)}{0.5 \\left( \\left( \\frac{\\alpha}{\\rho} \\right)^{2} + \\left( \\frac{12 \\mu}{\\left( \\sqrt{dx^{2} + dy^{2}} \\right)^{2} \\rho} \\right)^{2} + \\left( \\frac{2 \\sqrt{\\left( 0.25 u1 + 0.25 u3 + 0.25 u5 + 0.25 u7 \\right)^{2} + \\left( 0.25 u2 + 0.25 u4 + 0.25 u6 + 0.25 u8 \\right)^{2}}}{\\sqrt{dx^{2} + dy^{2}}} \\right)^{2} \\right)^{0.5} dx} + \\frac{0.25 \\rho \\left( 1 - \\xi \\right) \\left( \\frac{ - 0.25 u2 \\left( 1 - \\eta \\right)}{0.5 dx} + \\frac{0.25 u6 \\left( 1 + \\eta \\right)}{0.5 dx} + \\frac{0.25 u4 \\left( 1 - \\eta \\right)}{0.5 dx} + \\frac{ - 0.25 u8 \\left( 1 + \\eta \\right)}{0.5 dx} \\right) \\left( 0.25 u6 \\left( 1 + \\eta \\right) \\left( 1 + \\xi \\right) + 0.25 u8 \\left( 1 + \\eta \\right) \\left( 1 - \\xi \\right) + 0.25 u4 \\left( 1 + \\xi \\right) \\left( 1 - \\eta \\right) + 0.25 u2 \\left( 1 - \\eta \\right) \\left( 1 - \\xi \\right) \\right) \\left( 0.25 u1 \\left( 1 - \\eta \\right) \\left( 1 - \\xi \\right) + 0.25 u5 \\left( 1 + \\eta \\right) \\left( 1 + \\xi \\right) + 0.25 u7 \\left( 1 + \\eta \\right) \\left( 1 - \\xi \\right) + 0.25 u3 \\left( 1 + \\xi \\right) \\left( 1 - \\eta \\right) \\right)}{0.5 \\left( \\left( \\frac{\\alpha}{\\rho} \\right)^{2} + \\left( \\frac{12 \\mu}{\\left( \\sqrt{dx^{2} + dy^{2}} \\right)^{2} \\rho} \\right)^{2} + \\left( \\frac{2 \\sqrt{\\left( 0.25 u1 + 0.25 u3 + 0.25 u5 + 0.25 u7 \\right)^{2} + \\left( 0.25 u2 + 0.25 u4 + 0.25 u6 + 0.25 u8 \\right)^{2}}}{\\sqrt{dx^{2} + dy^{2}}} \\right)^{2} \\right)^{0.5} dy} + \\frac{ - 0.25 \\rho \\left( 1 + \\eta \\right) \\left( \\frac{ - 0.25 u2 \\left( 1 - \\xi \\right)}{0.5 dy} + \\frac{ - 0.25 u4 \\left( 1 + \\xi \\right)}{0.5 dy} + \\frac{0.25 u6 \\left( 1 + \\xi \\right)}{0.5 dy} + \\frac{0.25 u8 \\left( 1 - \\xi \\right)}{0.5 dy} \\right) \\left( 0.25 u6 \\left( 1 + \\eta \\right) \\left( 1 + \\xi \\right) + 0.25 u8 \\left( 1 + \\eta \\right) \\left( 1 - \\xi \\right) + 0.25 u4 \\left( 1 + \\xi \\right) \\left( 1 - \\eta \\right) + 0.25 u2 \\left( 1 - \\eta \\right) \\left( 1 - \\xi \\right) \\right) \\left( 0.25 u1 \\left( 1 - \\eta \\right) \\left( 1 - \\xi \\right) + 0.25 u5 \\left( 1 + \\eta \\right) \\left( 1 + \\xi \\right) + 0.25 u7 \\left( 1 + \\eta \\right) \\left( 1 - \\xi \\right) + 0.25 u3 \\left( 1 + \\xi \\right) \\left( 1 - \\eta \\right) \\right)}{0.5 \\left( \\left( \\frac{\\alpha}{\\rho} \\right)^{2} + \\left( \\frac{12 \\mu}{\\left( \\sqrt{dx^{2} + dy^{2}} \\right)^{2} \\rho} \\right)^{2} + \\left( \\frac{2 \\sqrt{\\left( 0.25 u1 + 0.25 u3 + 0.25 u5 + 0.25 u7 \\right)^{2} + \\left( 0.25 u2 + 0.25 u4 + 0.25 u6 + 0.25 u8 \\right)^{2}}}{\\sqrt{dx^{2} + dy^{2}}} \\right)^{2} \\right)^{0.5} dx} + 0.25 \\alpha \\left( 1 + \\eta \\right) \\left( 1 - \\xi \\right) \\left( 0.25 u6 \\left( 1 + \\eta \\right) \\left( 1 + \\xi \\right) + 0.25 u8 \\left( 1 + \\eta \\right) \\left( 1 - \\xi \\right) + 0.25 u4 \\left( 1 + \\xi \\right) \\left( 1 - \\eta \\right) + 0.25 u2 \\left( 1 - \\eta \\right) \\left( 1 - \\xi \\right) \\right) + 0.25 \\rho \\left( 1 + \\eta \\right) \\left( 1 - \\xi \\right) \\left( \\frac{ - 0.25 u2 \\left( 1 - \\eta \\right)}{0.5 dx} + \\frac{0.25 u6 \\left( 1 + \\eta \\right)}{0.5 dx} + \\frac{0.25 u4 \\left( 1 - \\eta \\right)}{0.5 dx} + \\frac{ - 0.25 u8 \\left( 1 + \\eta \\right)}{0.5 dx} \\right) \\left( 0.25 u1 \\left( 1 - \\eta \\right) \\left( 1 - \\xi \\right) + 0.25 u5 \\left( 1 + \\eta \\right) \\left( 1 + \\xi \\right) + 0.25 u7 \\left( 1 + \\eta \\right) \\left( 1 - \\xi \\right) + 0.25 u3 \\left( 1 + \\xi \\right) \\left( 1 - \\eta \\right) \\right) + 0.25 \\rho \\left( 1 + \\eta \\right) \\left( 1 - \\xi \\right) \\left( \\frac{ - 0.25 u2 \\left( 1 - \\xi \\right)}{0.5 dy} + \\frac{ - 0.25 u4 \\left( 1 + \\xi \\right)}{0.5 dy} + \\frac{0.25 u6 \\left( 1 + \\xi \\right)}{0.5 dy} + \\frac{0.25 u8 \\left( 1 - \\xi \\right)}{0.5 dy} \\right) \\left( 0.25 u6 \\left( 1 + \\eta \\right) \\left( 1 + \\xi \\right) + 0.25 u8 \\left( 1 + \\eta \\right) \\left( 1 - \\xi \\right) + 0.25 u4 \\left( 1 + \\xi \\right) \\left( 1 - \\eta \\right) + 0.25 u2 \\left( 1 - \\eta \\right) \\left( 1 - \\xi \\right) \\right) \\right) \\\\\n",
       "\\end{array}\n",
       "\\right]\n",
       "\\end{equation}\n",
       " $$"
      ],
      "text/plain": [
       "8-element Vector{Num}:\n",
       " 0.0625((0.25(1 - η)*(0.25p3*(1 + η)*(1 + ξ) + 0.25p2*(1 + ξ)*(1 - η) + 0.25p4*(1 + η)*(1 - ξ) + 0.25p1*(1 - η)*(1 - ξ))) / (0.5dx) + (-0.25α*((0.25u1*(1 - η)*(1 - ξ) + 0.25u5*(1 + η)*(1 + ξ) + 0.25u7*(1 + η)*(1 - ξ) + 0.25u3*(1 + ξ)*(1 - η))^2)*(1 - η)) / (0.5dx*(((α / ρ)^2 + ((12μ) / (ρ*(sqrt(dx^2 + dy^2)^2)))^2 + ((2sqrt((0.25u1 + 0.25u3 + 0.25u5 + 0.25u7)^2 + (0.25u2 + 0.25u4 + 0.25u6 + 0.25u8)^2)) / sqrt(dx^2 + dy^2))^2)^0.5)) + (-0.25μ*(1 - η)*((-0.5u1*(1 - η)) / (0.5dx) + (0.5u3*(1 - η)) / (0.5dx) + (0.5u5*(1 + η)) / (0.5dx) + (-0.5u7*(1 + η)) / (0.5dx))) / (0.5dx) + (-0.25(1 - ξ)*((0.25p3*(1 + η)) / (0.5dx) + (-0.25p4*(1 + η)) / (0.5dx) + (-0.25p1*(1 - η)) / (0.5dx) + (0.25p2*(1 - η)) / (0.5dx))*(0.25u6*(1 + η)*(1 + ξ) + 0.25u8*(1 + η)*(1 - ξ) + 0.25u4*(1 + ξ)*(1 - η) + 0.25u2*(1 - η)*(1 - ξ))) / (0.5dy*(((α / ρ)^2 + ((12μ) / (ρ*(sqrt(dx^2 + dy^2)^2)))^2 + ((2sqrt((0.25u1 + 0.25u3 + 0.25u5 + 0.25u7)^2 + (0.25u2 + 0.25u4 + 0.25u6 + 0.25u8)^2)) / sqrt(dx^2 + dy^2))^2)^0.5)) + (-0.25μ*(1 - ξ)*((-0.25u3*(1 + ξ)) / (0.5dy) + (-0.25u1*(1 - ξ)) / (0.5dy) + (0.25u5*(1 + ξ)) / (0.5dy) + (-0.25u2*(1 - η)) / (0.5dx) + (0.25u6*(1 + η)) / (0.5dx) + (0.25u4*(1 - η)) / (0.5dx) + (0.25u7*(1 - ξ)) / (0.5dy) + (-0.25u8*(1 + η)) / (0.5dx))) / (0.5dy) + (-0.25(1 - η)*((0.25p3*(1 + η)) / (0.5dx) + (-0.25p4*(1 + η)) / (0.5dx) + (-0.25p1*(1 - η)) / (0.5dx) + (0.25p2*(1 - η)) / (0.5dx))*(0.25u1*(1 - η)*(1 - ξ) + 0.25u5*(1 + η)*(1 + ξ) + 0.25u7*(1 + η)*(1 - ξ) + 0.25u3*(1 + ξ)*(1 - η))) / (0.5dx*(((α / ρ)^2 + ((12μ) / (ρ*(sqrt(dx^2 + dy^2)^2)))^2 + ((2sqrt((0.25u1 + 0.25u3 + 0.25u5 + 0.25u7)^2 + (0.25u2 + 0.25u4 + 0.25u6 + 0.25u8)^2)) / sqrt(dx^2 + dy^2))^2)^0.5)) + (-0.25α*(1 - ξ)*(0.25u6*(1 + η)*(1 + ξ) + 0.25u8*(1 + η)*(1 - ξ) + 0.25u4*(1 + ξ)*(1 - η) + 0.25u2*(1 - η)*(1 - ξ))*(0.25u1*(1 - η)*(1 - ξ) + 0.25u5*(1 + η)*(1 + ξ) + 0.25u7*(1 + η)*(1 - ξ) + 0.25u3*(1 + ξ)*(1 - η))) / (0.5dy*(((α / ρ)^2 + ((12μ) / (ρ*(sqrt(dx^2 + dy^2)^2)))^2 + ((2sqrt((0.25u1 + 0.25u3 + 0.25u5 + 0.25u7)^2 + (0.25u2 + 0.25u4 + 0.25u6 + 0.25u8)^2)) / sqrt(dx^2 + dy^2))^2)^0.5)) + (-0.25ρ*(1 - ξ)*((-0.25u3*(1 + ξ)) / (0.5dy) + (-0.25u1*(1 - ξ)) / (0.5dy) + (0.25u5*(1 + ξ)) / (0.5dy) + (0.25u7*(1 - ξ)) / (0.5dy))*((0.25u6*(1 + η)*(1 + ξ) + 0.25u8*(1 + η)*(1 - ξ) + 0.25u4*(1 + ξ)*(1 - η) + 0.25u2*(1 - η)*(1 - ξ))^2)) / (0.5dy*(((α / ρ)^2 + ((12μ) / (ρ*(sqrt(dx^2 + dy^2)^2)))^2 + ((2sqrt((0.25u1 + 0.25u3 + 0.25u5 + 0.25u7)^2 + (0.25u2 + 0.25u4 + 0.25u6 + 0.25u8)^2)) / sqrt(dx^2 + dy^2))^2)^0.5)) + (-0.25ρ*((-0.25u1*(1 - η)) / (0.5dx) + (0.25u3*(1 - η)) / (0.5dx) + (0.25u5*(1 + η)) / (0.5dx) + (-0.25u7*(1 + η)) / (0.5dx))*((0.25u1*(1 - η)*(1 - ξ) + 0.25u5*(1 + η)*(1 + ξ) + 0.25u7*(1 + η)*(1 - ξ) + 0.25u3*(1 + ξ)*(1 - η))^2)*(1 - η)) / (0.5dx*(((α / ρ)^2 + ((12μ) / (ρ*(sqrt(dx^2 + dy^2)^2)))^2 + ((2sqrt((0.25u1 + 0.25u3 + 0.25u5 + 0.25u7)^2 + (0.25u2 + 0.25u4 + 0.25u6 + 0.25u8)^2)) / sqrt(dx^2 + dy^2))^2)^0.5)) + (-0.25ρ*(1 - ξ)*((-0.25u1*(1 - η)) / (0.5dx) + (0.25u3*(1 - η)) / (0.5dx) + (0.25u5*(1 + η)) / (0.5dx) + (-0.25u7*(1 + η)) / (0.5dx))*(0.25u6*(1 + η)*(1 + ξ) + 0.25u8*(1 + η)*(1 - ξ) + 0.25u4*(1 + ξ)*(1 - η) + 0.25u2*(1 - η)*(1 - ξ))*(0.25u1*(1 - η)*(1 - ξ) + 0.25u5*(1 + η)*(1 + ξ) + 0.25u7*(1 + η)*(1 - ξ) + 0.25u3*(1 + ξ)*(1 - η))) / (0.5dy*(((α / ρ)^2 + ((12μ) / (ρ*(sqrt(dx^2 + dy^2)^2)))^2 + ((2sqrt((0.25u1 + 0.25u3 + 0.25u5 + 0.25u7)^2 + (0.25u2 + 0.25u4 + 0.25u6 + 0.25u8)^2)) / sqrt(dx^2 + dy^2))^2)^0.5)) + (-0.25ρ*(1 - η)*((-0.25u3*(1 + ξ)) / (0.5dy) + (-0.25u1*(1 - ξ)) / (0.5dy) + (0.25u5*(1 + ξ)) / (0.5dy) + (0.25u7*(1 - ξ)) / (0.5dy))*(0.25u6*(1 + η)*(1 + ξ) + 0.25u8*(1 + η)*(1 - ξ) + 0.25u4*(1 + ξ)*(1 - η) + 0.25u2*(1 - η)*(1 - ξ))*(0.25u1*(1 - η)*(1 - ξ) + 0.25u5*(1 + η)*(1 + ξ) + 0.25u7*(1 + η)*(1 - ξ) + 0.25u3*(1 + ξ)*(1 - η))) / (0.5dx*(((α / ρ)^2 + ((12μ) / (ρ*(sqrt(dx^2 + dy^2)^2)))^2 + ((2sqrt((0.25u1 + 0.25u3 + 0.25u5 + 0.25u7)^2 + (0.25u2 + 0.25u4 + 0.25u6 + 0.25u8)^2)) / sqrt(dx^2 + dy^2))^2)^0.5)) + 0.25α*(1 - η)*(1 - ξ)*(0.25u1*(1 - η)*(1 - ξ) + 0.25u5*(1 + η)*(1 + ξ) + 0.25u7*(1 + η)*(1 - ξ) + 0.25u3*(1 + ξ)*(1 - η)) + 0.25ρ*(1 - η)*(1 - ξ)*((-0.25u3*(1 + ξ)) / (0.5dy) + (-0.25u1*(1 - ξ)) / (0.5dy) + (0.25u5*(1 + ξ)) / (0.5dy) + (0.25u7*(1 - ξ)) / (0.5dy))*(0.25u6*(1 + η)*(1 + ξ) + 0.25u8*(1 + η)*(1 - ξ) + 0.25u4*(1 + ξ)*(1 - η) + 0.25u2*(1 - η)*(1 - ξ)) + 0.25ρ*(1 - η)*(1 - ξ)*((-0.25u1*(1 - η)) / (0.5dx) + (0.25u3*(1 - η)) / (0.5dx) + (0.25u5*(1 + η)) / (0.5dx) + (-0.25u7*(1 + η)) / (0.5dx))*(0.25u1*(1 - η)*(1 - ξ) + 0.25u5*(1 + η)*(1 + ξ) + 0.25u7*(1 + η)*(1 - ξ) + 0.25u3*(1 + ξ)*(1 - η)))*(dx^2)*(dy^2)\n",
       " 0.0625((0.25(1 - ξ)*(0.25p3*(1 + η)*(1 + ξ) + 0.25p2*(1 + ξ)*(1 - η) + 0.25p4*(1 + η)*(1 - ξ) + 0.25p1*(1 - η)*(1 - ξ))) / (0.5dy) + (-0.25α*((0.25u6*(1 + η)*(1 + ξ) + 0.25u8*(1 + η)*(1 - ξ) + 0.25u4*(1 + ξ)*(1 - η) + 0.25u2*(1 - η)*(1 - ξ))^2)*(1 - ξ)) / (0.5dy*(((α / ρ)^2 + ((12μ) / (ρ*(sqrt(dx^2 + dy^2)^2)))^2 + ((2sqrt((0.25u1 + 0.25u3 + 0.25u5 + 0.25u7)^2 + (0.25u2 + 0.25u4 + 0.25u6 + 0.25u8)^2)) / sqrt(dx^2 + dy^2))^2)^0.5)) + (-0.25μ*(1 - η)*((-0.25u3*(1 + ξ)) / (0.5dy) + (-0.25u1*(1 - ξ)) / (0.5dy) + (0.25u5*(1 + ξ)) / (0.5dy) + (-0.25u2*(1 - η)) / (0.5dx) + (0.25u6*(1 + η)) / (0.5dx) + (0.25u4*(1 - η)) / (0.5dx) + (0.25u7*(1 - ξ)) / (0.5dy) + (-0.25u8*(1 + η)) / (0.5dx))) / (0.5dx) + (-0.25μ*(1 - ξ)*((-0.5u2*(1 - ξ)) / (0.5dy) + (-0.5u4*(1 + ξ)) / (0.5dy) + (0.5u6*(1 + ξ)) / (0.5dy) + (0.5u8*(1 - ξ)) / (0.5dy))) / (0.5dy) + (-0.25(1 - η)*((-0.25p2*(1 + ξ)) / (0.5dy) + (-0.25p1*(1 - ξ)) / (0.5dy) + (0.25p3*(1 + ξ)) / (0.5dy) + (0.25p4*(1 - ξ)) / (0.5dy))*(0.25u1*(1 - η)*(1 - ξ) + 0.25u5*(1 + η)*(1 + ξ) + 0.25u7*(1 + η)*(1 - ξ) + 0.25u3*(1 + ξ)*(1 - η))) / (0.5dx*(((α / ρ)^2 + ((12μ) / (ρ*(sqrt(dx^2 + dy^2)^2)))^2 + ((2sqrt((0.25u1 + 0.25u3 + 0.25u5 + 0.25u7)^2 + (0.25u2 + 0.25u4 + 0.25u6 + 0.25u8)^2)) / sqrt(dx^2 + dy^2))^2)^0.5)) + (-0.25(1 - ξ)*((-0.25p2*(1 + ξ)) / (0.5dy) + (-0.25p1*(1 - ξ)) / (0.5dy) + (0.25p3*(1 + ξ)) / (0.5dy) + (0.25p4*(1 - ξ)) / (0.5dy))*(0.25u6*(1 + η)*(1 + ξ) + 0.25u8*(1 + η)*(1 - ξ) + 0.25u4*(1 + ξ)*(1 - η) + 0.25u2*(1 - η)*(1 - ξ))) / (0.5dy*(((α / ρ)^2 + ((12μ) / (ρ*(sqrt(dx^2 + dy^2)^2)))^2 + ((2sqrt((0.25u1 + 0.25u3 + 0.25u5 + 0.25u7)^2 + (0.25u2 + 0.25u4 + 0.25u6 + 0.25u8)^2)) / sqrt(dx^2 + dy^2))^2)^0.5)) + (-0.25ρ*(1 - ξ)*((-0.25u2*(1 - ξ)) / (0.5dy) + (-0.25u4*(1 + ξ)) / (0.5dy) + (0.25u6*(1 + ξ)) / (0.5dy) + (0.25u8*(1 - ξ)) / (0.5dy))*((0.25u6*(1 + η)*(1 + ξ) + 0.25u8*(1 + η)*(1 - ξ) + 0.25u4*(1 + ξ)*(1 - η) + 0.25u2*(1 - η)*(1 - ξ))^2)) / (0.5dy*(((α / ρ)^2 + ((12μ) / (ρ*(sqrt(dx^2 + dy^2)^2)))^2 + ((2sqrt((0.25u1 + 0.25u3 + 0.25u5 + 0.25u7)^2 + (0.25u2 + 0.25u4 + 0.25u6 + 0.25u8)^2)) / sqrt(dx^2 + dy^2))^2)^0.5)) + (-0.25ρ*((-0.25u2*(1 - η)) / (0.5dx) + (0.25u6*(1 + η)) / (0.5dx) + (0.25u4*(1 - η)) / (0.5dx) + (-0.25u8*(1 + η)) / (0.5dx))*((0.25u1*(1 - η)*(1 - ξ) + 0.25u5*(1 + η)*(1 + ξ) + 0.25u7*(1 + η)*(1 - ξ) + 0.25u3*(1 + ξ)*(1 - η))^2)*(1 - η)) / (0.5dx*(((α / ρ)^2 + ((12μ) / (ρ*(sqrt(dx^2 + dy^2)^2)))^2 + ((2sqrt((0.25u1 + 0.25u3 + 0.25u5 + 0.25u7)^2 + (0.25u2 + 0.25u4 + 0.25u6 + 0.25u8)^2)) / sqrt(dx^2 + dy^2))^2)^0.5)) + (-0.25α*(1 - η)*(0.25u6*(1 + η)*(1 + ξ) + 0.25u8*(1 + η)*(1 - ξ) + 0.25u4*(1 + ξ)*(1 - η) + 0.25u2*(1 - η)*(1 - ξ))*(0.25u1*(1 - η)*(1 - ξ) + 0.25u5*(1 + η)*(1 + ξ) + 0.25u7*(1 + η)*(1 - ξ) + 0.25u3*(1 + ξ)*(1 - η))) / (0.5dx*(((α / ρ)^2 + ((12μ) / (ρ*(sqrt(dx^2 + dy^2)^2)))^2 + ((2sqrt((0.25u1 + 0.25u3 + 0.25u5 + 0.25u7)^2 + (0.25u2 + 0.25u4 + 0.25u6 + 0.25u8)^2)) / sqrt(dx^2 + dy^2))^2)^0.5)) + (-0.25ρ*(1 - ξ)*((-0.25u2*(1 - η)) / (0.5dx) + (0.25u6*(1 + η)) / (0.5dx) + (0.25u4*(1 - η)) / (0.5dx) + (-0.25u8*(1 + η)) / (0.5dx))*(0.25u6*(1 + η)*(1 + ξ) + 0.25u8*(1 + η)*(1 - ξ) + 0.25u4*(1 + ξ)*(1 - η) + 0.25u2*(1 - η)*(1 - ξ))*(0.25u1*(1 - η)*(1 - ξ) + 0.25u5*(1 + η)*(1 + ξ) + 0.25u7*(1 + η)*(1 - ξ) + 0.25u3*(1 + ξ)*(1 - η))) / (0.5dy*(((α / ρ)^2 + ((12μ) / (ρ*(sqrt(dx^2 + dy^2)^2)))^2 + ((2sqrt((0.25u1 + 0.25u3 + 0.25u5 + 0.25u7)^2 + (0.25u2 + 0.25u4 + 0.25u6 + 0.25u8)^2)) / sqrt(dx^2 + dy^2))^2)^0.5)) + (-0.25ρ*(1 - η)*((-0.25u2*(1 - ξ)) / (0.5dy) + (-0.25u4*(1 + ξ)) / (0.5dy) + (0.25u6*(1 + ξ)) / (0.5dy) + (0.25u8*(1 - ξ)) / (0.5dy))*(0.25u6*(1 + η)*(1 + ξ) + 0.25u8*(1 + η)*(1 - ξ) + 0.25u4*(1 + ξ)*(1 - η) + 0.25u2*(1 - η)*(1 - ξ))*(0.25u1*(1 - η)*(1 - ξ) + 0.25u5*(1 + η)*(1 + ξ) + 0.25u7*(1 + η)*(1 - ξ) + 0.25u3*(1 + ξ)*(1 - η))) / (0.5dx*(((α / ρ)^2 + ((12μ) / (ρ*(sqrt(dx^2 + dy^2)^2)))^2 + ((2sqrt((0.25u1 + 0.25u3 + 0.25u5 + 0.25u7)^2 + (0.25u2 + 0.25u4 + 0.25u6 + 0.25u8)^2)) / sqrt(dx^2 + dy^2))^2)^0.5)) + 0.25α*(1 - η)*(1 - ξ)*(0.25u6*(1 + η)*(1 + ξ) + 0.25u8*(1 + η)*(1 - ξ) + 0.25u4*(1 + ξ)*(1 - η) + 0.25u2*(1 - η)*(1 - ξ)) + 0.25ρ*(1 - η)*(1 - ξ)*((-0.25u2*(1 - η)) / (0.5dx) + (0.25u6*(1 + η)) / (0.5dx) + (0.25u4*(1 - η)) / (0.5dx) + (-0.25u8*(1 + η)) / (0.5dx))*(0.25u1*(1 - η)*(1 - ξ) + 0.25u5*(1 + η)*(1 + ξ) + 0.25u7*(1 + η)*(1 - ξ) + 0.25u3*(1 + ξ)*(1 - η)) + 0.25ρ*(1 - η)*(1 - ξ)*((-0.25u2*(1 - ξ)) / (0.5dy) + (-0.25u4*(1 + ξ)) / (0.5dy) + (0.25u6*(1 + ξ)) / (0.5dy) + (0.25u8*(1 - ξ)) / (0.5dy))*(0.25u6*(1 + η)*(1 + ξ) + 0.25u8*(1 + η)*(1 - ξ) + 0.25u4*(1 + ξ)*(1 - η) + 0.25u2*(1 - η)*(1 - ξ)))*(dx^2)*(dy^2)\n",
       " 0.0625((-0.25(1 - η)*(0.25p3*(1 + η)*(1 + ξ) + 0.25p2*(1 + ξ)*(1 - η) + 0.25p4*(1 + η)*(1 - ξ) + 0.25p1*(1 - η)*(1 - ξ))) / (0.5dx) + (-0.25(1 + ξ)*((0.25p3*(1 + η)) / (0.5dx) + (-0.25p4*(1 + η)) / (0.5dx) + (-0.25p1*(1 - η)) / (0.5dx) + (0.25p2*(1 - η)) / (0.5dx))*(0.25u6*(1 + η)*(1 + ξ) + 0.25u8*(1 + η)*(1 - ξ) + 0.25u4*(1 + ξ)*(1 - η) + 0.25u2*(1 - η)*(1 - ξ))) / (0.5dy*(((α / ρ)^2 + ((12μ) / (ρ*(sqrt(dx^2 + dy^2)^2)))^2 + ((2sqrt((0.25u1 + 0.25u3 + 0.25u5 + 0.25u7)^2 + (0.25u2 + 0.25u4 + 0.25u6 + 0.25u8)^2)) / sqrt(dx^2 + dy^2))^2)^0.5)) + (-0.25μ*(1 + ξ)*((-0.25u3*(1 + ξ)) / (0.5dy) + (-0.25u1*(1 - ξ)) / (0.5dy) + (0.25u5*(1 + ξ)) / (0.5dy) + (-0.25u2*(1 - η)) / (0.5dx) + (0.25u6*(1 + η)) / (0.5dx) + (0.25u4*(1 - η)) / (0.5dx) + (0.25u7*(1 - ξ)) / (0.5dy) + (-0.25u8*(1 + η)) / (0.5dx))) / (0.5dy) + (0.25α*((0.25u1*(1 - η)*(1 - ξ) + 0.25u5*(1 + η)*(1 + ξ) + 0.25u7*(1 + η)*(1 - ξ) + 0.25u3*(1 + ξ)*(1 - η))^2)*(1 - η)) / (0.5dx*(((α / ρ)^2 + ((12μ) / (ρ*(sqrt(dx^2 + dy^2)^2)))^2 + ((2sqrt((0.25u1 + 0.25u3 + 0.25u5 + 0.25u7)^2 + (0.25u2 + 0.25u4 + 0.25u6 + 0.25u8)^2)) / sqrt(dx^2 + dy^2))^2)^0.5)) + (0.25μ*(1 - η)*((-0.5u1*(1 - η)) / (0.5dx) + (0.5u3*(1 - η)) / (0.5dx) + (0.5u5*(1 + η)) / (0.5dx) + (-0.5u7*(1 + η)) / (0.5dx))) / (0.5dx) + (0.25(1 - η)*((0.25p3*(1 + η)) / (0.5dx) + (-0.25p4*(1 + η)) / (0.5dx) + (-0.25p1*(1 - η)) / (0.5dx) + (0.25p2*(1 - η)) / (0.5dx))*(0.25u1*(1 - η)*(1 - ξ) + 0.25u5*(1 + η)*(1 + ξ) + 0.25u7*(1 + η)*(1 - ξ) + 0.25u3*(1 + ξ)*(1 - η))) / (0.5dx*(((α / ρ)^2 + ((12μ) / (ρ*(sqrt(dx^2 + dy^2)^2)))^2 + ((2sqrt((0.25u1 + 0.25u3 + 0.25u5 + 0.25u7)^2 + (0.25u2 + 0.25u4 + 0.25u6 + 0.25u8)^2)) / sqrt(dx^2 + dy^2))^2)^0.5)) + (-0.25ρ*(1 + ξ)*((-0.25u3*(1 + ξ)) / (0.5dy) + (-0.25u1*(1 - ξ)) / (0.5dy) + (0.25u5*(1 + ξ)) / (0.5dy) + (0.25u7*(1 - ξ)) / (0.5dy))*((0.25u6*(1 + η)*(1 + ξ) + 0.25u8*(1 + η)*(1 - ξ) + 0.25u4*(1 + ξ)*(1 - η) + 0.25u2*(1 - η)*(1 - ξ))^2)) / (0.5dy*(((α / ρ)^2 + ((12μ) / (ρ*(sqrt(dx^2 + dy^2)^2)))^2 + ((2sqrt((0.25u1 + 0.25u3 + 0.25u5 + 0.25u7)^2 + (0.25u2 + 0.25u4 + 0.25u6 + 0.25u8)^2)) / sqrt(dx^2 + dy^2))^2)^0.5)) + (-0.25α*(1 + ξ)*(0.25u6*(1 + η)*(1 + ξ) + 0.25u8*(1 + η)*(1 - ξ) + 0.25u4*(1 + ξ)*(1 - η) + 0.25u2*(1 - η)*(1 - ξ))*(0.25u1*(1 - η)*(1 - ξ) + 0.25u5*(1 + η)*(1 + ξ) + 0.25u7*(1 + η)*(1 - ξ) + 0.25u3*(1 + ξ)*(1 - η))) / (0.5dy*(((α / ρ)^2 + ((12μ) / (ρ*(sqrt(dx^2 + dy^2)^2)))^2 + ((2sqrt((0.25u1 + 0.25u3 + 0.25u5 + 0.25u7)^2 + (0.25u2 + 0.25u4 + 0.25u6 + 0.25u8)^2)) / sqrt(dx^2 + dy^2))^2)^0.5)) + (0.25ρ*((-0.25u1*(1 - η)) / (0.5dx) + (0.25u3*(1 - η)) / (0.5dx) + (0.25u5*(1 + η)) / (0.5dx) + (-0.25u7*(1 + η)) / (0.5dx))*((0.25u1*(1 - η)*(1 - ξ) + 0.25u5*(1 + η)*(1 + ξ) + 0.25u7*(1 + η)*(1 - ξ) + 0.25u3*(1 + ξ)*(1 - η))^2)*(1 - η)) / (0.5dx*(((α / ρ)^2 + ((12μ) / (ρ*(sqrt(dx^2 + dy^2)^2)))^2 + ((2sqrt((0.25u1 + 0.25u3 + 0.25u5 + 0.25u7)^2 + (0.25u2 + 0.25u4 + 0.25u6 + 0.25u8)^2)) / sqrt(dx^2 + dy^2))^2)^0.5)) + (0.25ρ*(1 - η)*((-0.25u3*(1 + ξ)) / (0.5dy) + (-0.25u1*(1 - ξ)) / (0.5dy) + (0.25u5*(1 + ξ)) / (0.5dy) + (0.25u7*(1 - ξ)) / (0.5dy))*(0.25u6*(1 + η)*(1 + ξ) + 0.25u8*(1 + η)*(1 - ξ) + 0.25u4*(1 + ξ)*(1 - η) + 0.25u2*(1 - η)*(1 - ξ))*(0.25u1*(1 - η)*(1 - ξ) + 0.25u5*(1 + η)*(1 + ξ) + 0.25u7*(1 + η)*(1 - ξ) + 0.25u3*(1 + ξ)*(1 - η))) / (0.5dx*(((α / ρ)^2 + ((12μ) / (ρ*(sqrt(dx^2 + dy^2)^2)))^2 + ((2sqrt((0.25u1 + 0.25u3 + 0.25u5 + 0.25u7)^2 + (0.25u2 + 0.25u4 + 0.25u6 + 0.25u8)^2)) / sqrt(dx^2 + dy^2))^2)^0.5)) + (-0.25ρ*(1 + ξ)*((-0.25u1*(1 - η)) / (0.5dx) + (0.25u3*(1 - η)) / (0.5dx) + (0.25u5*(1 + η)) / (0.5dx) + (-0.25u7*(1 + η)) / (0.5dx))*(0.25u6*(1 + η)*(1 + ξ) + 0.25u8*(1 + η)*(1 - ξ) + 0.25u4*(1 + ξ)*(1 - η) + 0.25u2*(1 - η)*(1 - ξ))*(0.25u1*(1 - η)*(1 - ξ) + 0.25u5*(1 + η)*(1 + ξ) + 0.25u7*(1 + η)*(1 - ξ) + 0.25u3*(1 + ξ)*(1 - η))) / (0.5dy*(((α / ρ)^2 + ((12μ) / (ρ*(sqrt(dx^2 + dy^2)^2)))^2 + ((2sqrt((0.25u1 + 0.25u3 + 0.25u5 + 0.25u7)^2 + (0.25u2 + 0.25u4 + 0.25u6 + 0.25u8)^2)) / sqrt(dx^2 + dy^2))^2)^0.5)) + 0.25α*(1 + ξ)*(1 - η)*(0.25u1*(1 - η)*(1 - ξ) + 0.25u5*(1 + η)*(1 + ξ) + 0.25u7*(1 + η)*(1 - ξ) + 0.25u3*(1 + ξ)*(1 - η)) + 0.25ρ*(1 + ξ)*(1 - η)*((-0.25u3*(1 + ξ)) / (0.5dy) + (-0.25u1*(1 - ξ)) / (0.5dy) + (0.25u5*(1 + ξ)) / (0.5dy) + (0.25u7*(1 - ξ)) / (0.5dy))*(0.25u6*(1 + η)*(1 + ξ) + 0.25u8*(1 + η)*(1 - ξ) + 0.25u4*(1 + ξ)*(1 - η) + 0.25u2*(1 - η)*(1 - ξ)) + 0.25ρ*(1 + ξ)*(1 - η)*((-0.25u1*(1 - η)) / (0.5dx) + (0.25u3*(1 - η)) / (0.5dx) + (0.25u5*(1 + η)) / (0.5dx) + (-0.25u7*(1 + η)) / (0.5dx))*(0.25u1*(1 - η)*(1 - ξ) + 0.25u5*(1 + η)*(1 + ξ) + 0.25u7*(1 + η)*(1 - ξ) + 0.25u3*(1 + ξ)*(1 - η)))*(dx^2)*(dy^2)\n",
       " 0.0625((0.25(1 + ξ)*(0.25p3*(1 + η)*(1 + ξ) + 0.25p2*(1 + ξ)*(1 - η) + 0.25p4*(1 + η)*(1 - ξ) + 0.25p1*(1 - η)*(1 - ξ))) / (0.5dy) + (-0.25μ*(1 + ξ)*((-0.5u2*(1 - ξ)) / (0.5dy) + (-0.5u4*(1 + ξ)) / (0.5dy) + (0.5u6*(1 + ξ)) / (0.5dy) + (0.5u8*(1 - ξ)) / (0.5dy))) / (0.5dy) + (0.25(1 - η)*((-0.25p2*(1 + ξ)) / (0.5dy) + (-0.25p1*(1 - ξ)) / (0.5dy) + (0.25p3*(1 + ξ)) / (0.5dy) + (0.25p4*(1 - ξ)) / (0.5dy))*(0.25u1*(1 - η)*(1 - ξ) + 0.25u5*(1 + η)*(1 + ξ) + 0.25u7*(1 + η)*(1 - ξ) + 0.25u3*(1 + ξ)*(1 - η))) / (0.5dx*(((α / ρ)^2 + ((12μ) / (ρ*(sqrt(dx^2 + dy^2)^2)))^2 + ((2sqrt((0.25u1 + 0.25u3 + 0.25u5 + 0.25u7)^2 + (0.25u2 + 0.25u4 + 0.25u6 + 0.25u8)^2)) / sqrt(dx^2 + dy^2))^2)^0.5)) + (0.25μ*(1 - η)*((-0.25u3*(1 + ξ)) / (0.5dy) + (-0.25u1*(1 - ξ)) / (0.5dy) + (0.25u5*(1 + ξ)) / (0.5dy) + (-0.25u2*(1 - η)) / (0.5dx) + (0.25u6*(1 + η)) / (0.5dx) + (0.25u4*(1 - η)) / (0.5dx) + (0.25u7*(1 - ξ)) / (0.5dy) + (-0.25u8*(1 + η)) / (0.5dx))) / (0.5dx) + (-0.25(1 + ξ)*((-0.25p2*(1 + ξ)) / (0.5dy) + (-0.25p1*(1 - ξ)) / (0.5dy) + (0.25p3*(1 + ξ)) / (0.5dy) + (0.25p4*(1 - ξ)) / (0.5dy))*(0.25u6*(1 + η)*(1 + ξ) + 0.25u8*(1 + η)*(1 - ξ) + 0.25u4*(1 + ξ)*(1 - η) + 0.25u2*(1 - η)*(1 - ξ))) / (0.5dy*(((α / ρ)^2 + ((12μ) / (ρ*(sqrt(dx^2 + dy^2)^2)))^2 + ((2sqrt((0.25u1 + 0.25u3 + 0.25u5 + 0.25u7)^2 + (0.25u2 + 0.25u4 + 0.25u6 + 0.25u8)^2)) / sqrt(dx^2 + dy^2))^2)^0.5)) + (-0.25α*(1 + ξ)*((0.25u6*(1 + η)*(1 + ξ) + 0.25u8*(1 + η)*(1 - ξ) + 0.25u4*(1 + ξ)*(1 - η) + 0.25u2*(1 - η)*(1 - ξ))^2)) / (0.5dy*(((α / ρ)^2 + ((12μ) / (ρ*(sqrt(dx^2 + dy^2)^2)))^2 + ((2sqrt((0.25u1 + 0.25u3 + 0.25u5 + 0.25u7)^2 + (0.25u2 + 0.25u4 + 0.25u6 + 0.25u8)^2)) / sqrt(dx^2 + dy^2))^2)^0.5)) + (0.25α*(1 - η)*(0.25u6*(1 + η)*(1 + ξ) + 0.25u8*(1 + η)*(1 - ξ) + 0.25u4*(1 + ξ)*(1 - η) + 0.25u2*(1 - η)*(1 - ξ))*(0.25u1*(1 - η)*(1 - ξ) + 0.25u5*(1 + η)*(1 + ξ) + 0.25u7*(1 + η)*(1 - ξ) + 0.25u3*(1 + ξ)*(1 - η))) / (0.5dx*(((α / ρ)^2 + ((12μ) / (ρ*(sqrt(dx^2 + dy^2)^2)))^2 + ((2sqrt((0.25u1 + 0.25u3 + 0.25u5 + 0.25u7)^2 + (0.25u2 + 0.25u4 + 0.25u6 + 0.25u8)^2)) / sqrt(dx^2 + dy^2))^2)^0.5)) + (-0.25ρ*(1 + ξ)*((-0.25u2*(1 - ξ)) / (0.5dy) + (-0.25u4*(1 + ξ)) / (0.5dy) + (0.25u6*(1 + ξ)) / (0.5dy) + (0.25u8*(1 - ξ)) / (0.5dy))*((0.25u6*(1 + η)*(1 + ξ) + 0.25u8*(1 + η)*(1 - ξ) + 0.25u4*(1 + ξ)*(1 - η) + 0.25u2*(1 - η)*(1 - ξ))^2)) / (0.5dy*(((α / ρ)^2 + ((12μ) / (ρ*(sqrt(dx^2 + dy^2)^2)))^2 + ((2sqrt((0.25u1 + 0.25u3 + 0.25u5 + 0.25u7)^2 + (0.25u2 + 0.25u4 + 0.25u6 + 0.25u8)^2)) / sqrt(dx^2 + dy^2))^2)^0.5)) + (0.25ρ*((-0.25u2*(1 - η)) / (0.5dx) + (0.25u6*(1 + η)) / (0.5dx) + (0.25u4*(1 - η)) / (0.5dx) + (-0.25u8*(1 + η)) / (0.5dx))*((0.25u1*(1 - η)*(1 - ξ) + 0.25u5*(1 + η)*(1 + ξ) + 0.25u7*(1 + η)*(1 - ξ) + 0.25u3*(1 + ξ)*(1 - η))^2)*(1 - η)) / (0.5dx*(((α / ρ)^2 + ((12μ) / (ρ*(sqrt(dx^2 + dy^2)^2)))^2 + ((2sqrt((0.25u1 + 0.25u3 + 0.25u5 + 0.25u7)^2 + (0.25u2 + 0.25u4 + 0.25u6 + 0.25u8)^2)) / sqrt(dx^2 + dy^2))^2)^0.5)) + (0.25ρ*(1 - η)*((-0.25u2*(1 - ξ)) / (0.5dy) + (-0.25u4*(1 + ξ)) / (0.5dy) + (0.25u6*(1 + ξ)) / (0.5dy) + (0.25u8*(1 - ξ)) / (0.5dy))*(0.25u6*(1 + η)*(1 + ξ) + 0.25u8*(1 + η)*(1 - ξ) + 0.25u4*(1 + ξ)*(1 - η) + 0.25u2*(1 - η)*(1 - ξ))*(0.25u1*(1 - η)*(1 - ξ) + 0.25u5*(1 + η)*(1 + ξ) + 0.25u7*(1 + η)*(1 - ξ) + 0.25u3*(1 + ξ)*(1 - η))) / (0.5dx*(((α / ρ)^2 + ((12μ) / (ρ*(sqrt(dx^2 + dy^2)^2)))^2 + ((2sqrt((0.25u1 + 0.25u3 + 0.25u5 + 0.25u7)^2 + (0.25u2 + 0.25u4 + 0.25u6 + 0.25u8)^2)) / sqrt(dx^2 + dy^2))^2)^0.5)) + (-0.25ρ*(1 + ξ)*((-0.25u2*(1 - η)) / (0.5dx) + (0.25u6*(1 + η)) / (0.5dx) + (0.25u4*(1 - η)) / (0.5dx) + (-0.25u8*(1 + η)) / (0.5dx))*(0.25u6*(1 + η)*(1 + ξ) + 0.25u8*(1 + η)*(1 - ξ) + 0.25u4*(1 + ξ)*(1 - η) + 0.25u2*(1 - η)*(1 - ξ))*(0.25u1*(1 - η)*(1 - ξ) + 0.25u5*(1 + η)*(1 + ξ) + 0.25u7*(1 + η)*(1 - ξ) + 0.25u3*(1 + ξ)*(1 - η))) / (0.5dy*(((α / ρ)^2 + ((12μ) / (ρ*(sqrt(dx^2 + dy^2)^2)))^2 + ((2sqrt((0.25u1 + 0.25u3 + 0.25u5 + 0.25u7)^2 + (0.25u2 + 0.25u4 + 0.25u6 + 0.25u8)^2)) / sqrt(dx^2 + dy^2))^2)^0.5)) + 0.25α*(1 + ξ)*(1 - η)*(0.25u6*(1 + η)*(1 + ξ) + 0.25u8*(1 + η)*(1 - ξ) + 0.25u4*(1 + ξ)*(1 - η) + 0.25u2*(1 - η)*(1 - ξ)) + 0.25ρ*(1 + ξ)*(1 - η)*((-0.25u2*(1 - η)) / (0.5dx) + (0.25u6*(1 + η)) / (0.5dx) + (0.25u4*(1 - η)) / (0.5dx) + (-0.25u8*(1 + η)) / (0.5dx))*(0.25u1*(1 - η)*(1 - ξ) + 0.25u5*(1 + η)*(1 + ξ) + 0.25u7*(1 + η)*(1 - ξ) + 0.25u3*(1 + ξ)*(1 - η)) + 0.25ρ*(1 + ξ)*(1 - η)*((-0.25u2*(1 - ξ)) / (0.5dy) + (-0.25u4*(1 + ξ)) / (0.5dy) + (0.25u6*(1 + ξ)) / (0.5dy) + (0.25u8*(1 - ξ)) / (0.5dy))*(0.25u6*(1 + η)*(1 + ξ) + 0.25u8*(1 + η)*(1 - ξ) + 0.25u4*(1 + ξ)*(1 - η) + 0.25u2*(1 - η)*(1 - ξ)))*(dx^2)*(dy^2)\n",
       " 0.0625((-0.25(1 + η)*(0.25p3*(1 + η)*(1 + ξ) + 0.25p2*(1 + ξ)*(1 - η) + 0.25p4*(1 + η)*(1 - ξ) + 0.25p1*(1 - η)*(1 - ξ))) / (0.5dx) + (0.25α*(1 + η)*((0.25u1*(1 - η)*(1 - ξ) + 0.25u5*(1 + η)*(1 + ξ) + 0.25u7*(1 + η)*(1 - ξ) + 0.25u3*(1 + ξ)*(1 - η))^2)) / (0.5dx*(((α / ρ)^2 + ((12μ) / (ρ*(sqrt(dx^2 + dy^2)^2)))^2 + ((2sqrt((0.25u1 + 0.25u3 + 0.25u5 + 0.25u7)^2 + (0.25u2 + 0.25u4 + 0.25u6 + 0.25u8)^2)) / sqrt(dx^2 + dy^2))^2)^0.5)) + (0.25μ*(1 + η)*((-0.5u1*(1 - η)) / (0.5dx) + (0.5u3*(1 - η)) / (0.5dx) + (0.5u5*(1 + η)) / (0.5dx) + (-0.5u7*(1 + η)) / (0.5dx))) / (0.5dx) + (0.25μ*(1 + ξ)*((-0.25u3*(1 + ξ)) / (0.5dy) + (-0.25u1*(1 - ξ)) / (0.5dy) + (0.25u5*(1 + ξ)) / (0.5dy) + (-0.25u2*(1 - η)) / (0.5dx) + (0.25u6*(1 + η)) / (0.5dx) + (0.25u4*(1 - η)) / (0.5dx) + (0.25u7*(1 - ξ)) / (0.5dy) + (-0.25u8*(1 + η)) / (0.5dx))) / (0.5dy) + (0.25(1 + η)*((0.25p3*(1 + η)) / (0.5dx) + (-0.25p4*(1 + η)) / (0.5dx) + (-0.25p1*(1 - η)) / (0.5dx) + (0.25p2*(1 - η)) / (0.5dx))*(0.25u1*(1 - η)*(1 - ξ) + 0.25u5*(1 + η)*(1 + ξ) + 0.25u7*(1 + η)*(1 - ξ) + 0.25u3*(1 + ξ)*(1 - η))) / (0.5dx*(((α / ρ)^2 + ((12μ) / (ρ*(sqrt(dx^2 + dy^2)^2)))^2 + ((2sqrt((0.25u1 + 0.25u3 + 0.25u5 + 0.25u7)^2 + (0.25u2 + 0.25u4 + 0.25u6 + 0.25u8)^2)) / sqrt(dx^2 + dy^2))^2)^0.5)) + (0.25(1 + ξ)*((0.25p3*(1 + η)) / (0.5dx) + (-0.25p4*(1 + η)) / (0.5dx) + (-0.25p1*(1 - η)) / (0.5dx) + (0.25p2*(1 - η)) / (0.5dx))*(0.25u6*(1 + η)*(1 + ξ) + 0.25u8*(1 + η)*(1 - ξ) + 0.25u4*(1 + ξ)*(1 - η) + 0.25u2*(1 - η)*(1 - ξ))) / (0.5dy*(((α / ρ)^2 + ((12μ) / (ρ*(sqrt(dx^2 + dy^2)^2)))^2 + ((2sqrt((0.25u1 + 0.25u3 + 0.25u5 + 0.25u7)^2 + (0.25u2 + 0.25u4 + 0.25u6 + 0.25u8)^2)) / sqrt(dx^2 + dy^2))^2)^0.5)) + (0.25α*(1 + ξ)*(0.25u6*(1 + η)*(1 + ξ) + 0.25u8*(1 + η)*(1 - ξ) + 0.25u4*(1 + ξ)*(1 - η) + 0.25u2*(1 - η)*(1 - ξ))*(0.25u1*(1 - η)*(1 - ξ) + 0.25u5*(1 + η)*(1 + ξ) + 0.25u7*(1 + η)*(1 - ξ) + 0.25u3*(1 + ξ)*(1 - η))) / (0.5dy*(((α / ρ)^2 + ((12μ) / (ρ*(sqrt(dx^2 + dy^2)^2)))^2 + ((2sqrt((0.25u1 + 0.25u3 + 0.25u5 + 0.25u7)^2 + (0.25u2 + 0.25u4 + 0.25u6 + 0.25u8)^2)) / sqrt(dx^2 + dy^2))^2)^0.5)) + (0.25ρ*(1 + ξ)*((-0.25u3*(1 + ξ)) / (0.5dy) + (-0.25u1*(1 - ξ)) / (0.5dy) + (0.25u5*(1 + ξ)) / (0.5dy) + (0.25u7*(1 - ξ)) / (0.5dy))*((0.25u6*(1 + η)*(1 + ξ) + 0.25u8*(1 + η)*(1 - ξ) + 0.25u4*(1 + ξ)*(1 - η) + 0.25u2*(1 - η)*(1 - ξ))^2)) / (0.5dy*(((α / ρ)^2 + ((12μ) / (ρ*(sqrt(dx^2 + dy^2)^2)))^2 + ((2sqrt((0.25u1 + 0.25u3 + 0.25u5 + 0.25u7)^2 + (0.25u2 + 0.25u4 + 0.25u6 + 0.25u8)^2)) / sqrt(dx^2 + dy^2))^2)^0.5)) + (0.25ρ*(1 + η)*((-0.25u1*(1 - η)) / (0.5dx) + (0.25u3*(1 - η)) / (0.5dx) + (0.25u5*(1 + η)) / (0.5dx) + (-0.25u7*(1 + η)) / (0.5dx))*((0.25u1*(1 - η)*(1 - ξ) + 0.25u5*(1 + η)*(1 + ξ) + 0.25u7*(1 + η)*(1 - ξ) + 0.25u3*(1 + ξ)*(1 - η))^2)) / (0.5dx*(((α / ρ)^2 + ((12μ) / (ρ*(sqrt(dx^2 + dy^2)^2)))^2 + ((2sqrt((0.25u1 + 0.25u3 + 0.25u5 + 0.25u7)^2 + (0.25u2 + 0.25u4 + 0.25u6 + 0.25u8)^2)) / sqrt(dx^2 + dy^2))^2)^0.5)) + (0.25ρ*(1 + ξ)*((-0.25u1*(1 - η)) / (0.5dx) + (0.25u3*(1 - η)) / (0.5dx) + (0.25u5*(1 + η)) / (0.5dx) + (-0.25u7*(1 + η)) / (0.5dx))*(0.25u6*(1 + η)*(1 + ξ) + 0.25u8*(1 + η)*(1 - ξ) + 0.25u4*(1 + ξ)*(1 - η) + 0.25u2*(1 - η)*(1 - ξ))*(0.25u1*(1 - η)*(1 - ξ) + 0.25u5*(1 + η)*(1 + ξ) + 0.25u7*(1 + η)*(1 - ξ) + 0.25u3*(1 + ξ)*(1 - η))) / (0.5dy*(((α / ρ)^2 + ((12μ) / (ρ*(sqrt(dx^2 + dy^2)^2)))^2 + ((2sqrt((0.25u1 + 0.25u3 + 0.25u5 + 0.25u7)^2 + (0.25u2 + 0.25u4 + 0.25u6 + 0.25u8)^2)) / sqrt(dx^2 + dy^2))^2)^0.5)) + (0.25ρ*(1 + η)*((-0.25u3*(1 + ξ)) / (0.5dy) + (-0.25u1*(1 - ξ)) / (0.5dy) + (0.25u5*(1 + ξ)) / (0.5dy) + (0.25u7*(1 - ξ)) / (0.5dy))*(0.25u6*(1 + η)*(1 + ξ) + 0.25u8*(1 + η)*(1 - ξ) + 0.25u4*(1 + ξ)*(1 - η) + 0.25u2*(1 - η)*(1 - ξ))*(0.25u1*(1 - η)*(1 - ξ) + 0.25u5*(1 + η)*(1 + ξ) + 0.25u7*(1 + η)*(1 - ξ) + 0.25u3*(1 + ξ)*(1 - η))) / (0.5dx*(((α / ρ)^2 + ((12μ) / (ρ*(sqrt(dx^2 + dy^2)^2)))^2 + ((2sqrt((0.25u1 + 0.25u3 + 0.25u5 + 0.25u7)^2 + (0.25u2 + 0.25u4 + 0.25u6 + 0.25u8)^2)) / sqrt(dx^2 + dy^2))^2)^0.5)) + 0.25α*(1 + η)*(1 + ξ)*(0.25u1*(1 - η)*(1 - ξ) + 0.25u5*(1 + η)*(1 + ξ) + 0.25u7*(1 + η)*(1 - ξ) + 0.25u3*(1 + ξ)*(1 - η)) + 0.25ρ*(1 + η)*(1 + ξ)*((-0.25u3*(1 + ξ)) / (0.5dy) + (-0.25u1*(1 - ξ)) / (0.5dy) + (0.25u5*(1 + ξ)) / (0.5dy) + (0.25u7*(1 - ξ)) / (0.5dy))*(0.25u6*(1 + η)*(1 + ξ) + 0.25u8*(1 + η)*(1 - ξ) + 0.25u4*(1 + ξ)*(1 - η) + 0.25u2*(1 - η)*(1 - ξ)) + 0.25ρ*(1 + η)*(1 + ξ)*((-0.25u1*(1 - η)) / (0.5dx) + (0.25u3*(1 - η)) / (0.5dx) + (0.25u5*(1 + η)) / (0.5dx) + (-0.25u7*(1 + η)) / (0.5dx))*(0.25u1*(1 - η)*(1 - ξ) + 0.25u5*(1 + η)*(1 + ξ) + 0.25u7*(1 + η)*(1 - ξ) + 0.25u3*(1 + ξ)*(1 - η)))*(dx^2)*(dy^2)\n",
       " 0.0625((-0.25(1 + ξ)*(0.25p3*(1 + η)*(1 + ξ) + 0.25p2*(1 + ξ)*(1 - η) + 0.25p4*(1 + η)*(1 - ξ) + 0.25p1*(1 - η)*(1 - ξ))) / (0.5dy) + (0.25μ*(1 + ξ)*((-0.5u2*(1 - ξ)) / (0.5dy) + (-0.5u4*(1 + ξ)) / (0.5dy) + (0.5u6*(1 + ξ)) / (0.5dy) + (0.5u8*(1 - ξ)) / (0.5dy))) / (0.5dy) + (0.25(1 + η)*((-0.25p2*(1 + ξ)) / (0.5dy) + (-0.25p1*(1 - ξ)) / (0.5dy) + (0.25p3*(1 + ξ)) / (0.5dy) + (0.25p4*(1 - ξ)) / (0.5dy))*(0.25u1*(1 - η)*(1 - ξ) + 0.25u5*(1 + η)*(1 + ξ) + 0.25u7*(1 + η)*(1 - ξ) + 0.25u3*(1 + ξ)*(1 - η))) / (0.5dx*(((α / ρ)^2 + ((12μ) / (ρ*(sqrt(dx^2 + dy^2)^2)))^2 + ((2sqrt((0.25u1 + 0.25u3 + 0.25u5 + 0.25u7)^2 + (0.25u2 + 0.25u4 + 0.25u6 + 0.25u8)^2)) / sqrt(dx^2 + dy^2))^2)^0.5)) + (0.25α*(1 + ξ)*((0.25u6*(1 + η)*(1 + ξ) + 0.25u8*(1 + η)*(1 - ξ) + 0.25u4*(1 + ξ)*(1 - η) + 0.25u2*(1 - η)*(1 - ξ))^2)) / (0.5dy*(((α / ρ)^2 + ((12μ) / (ρ*(sqrt(dx^2 + dy^2)^2)))^2 + ((2sqrt((0.25u1 + 0.25u3 + 0.25u5 + 0.25u7)^2 + (0.25u2 + 0.25u4 + 0.25u6 + 0.25u8)^2)) / sqrt(dx^2 + dy^2))^2)^0.5)) + (0.25μ*(1 + η)*((-0.25u3*(1 + ξ)) / (0.5dy) + (-0.25u1*(1 - ξ)) / (0.5dy) + (0.25u5*(1 + ξ)) / (0.5dy) + (-0.25u2*(1 - η)) / (0.5dx) + (0.25u6*(1 + η)) / (0.5dx) + (0.25u4*(1 - η)) / (0.5dx) + (0.25u7*(1 - ξ)) / (0.5dy) + (-0.25u8*(1 + η)) / (0.5dx))) / (0.5dx) + (0.25(1 + ξ)*((-0.25p2*(1 + ξ)) / (0.5dy) + (-0.25p1*(1 - ξ)) / (0.5dy) + (0.25p3*(1 + ξ)) / (0.5dy) + (0.25p4*(1 - ξ)) / (0.5dy))*(0.25u6*(1 + η)*(1 + ξ) + 0.25u8*(1 + η)*(1 - ξ) + 0.25u4*(1 + ξ)*(1 - η) + 0.25u2*(1 - η)*(1 - ξ))) / (0.5dy*(((α / ρ)^2 + ((12μ) / (ρ*(sqrt(dx^2 + dy^2)^2)))^2 + ((2sqrt((0.25u1 + 0.25u3 + 0.25u5 + 0.25u7)^2 + (0.25u2 + 0.25u4 + 0.25u6 + 0.25u8)^2)) / sqrt(dx^2 + dy^2))^2)^0.5)) + (0.25ρ*(1 + η)*((-0.25u2*(1 - η)) / (0.5dx) + (0.25u6*(1 + η)) / (0.5dx) + (0.25u4*(1 - η)) / (0.5dx) + (-0.25u8*(1 + η)) / (0.5dx))*((0.25u1*(1 - η)*(1 - ξ) + 0.25u5*(1 + η)*(1 + ξ) + 0.25u7*(1 + η)*(1 - ξ) + 0.25u3*(1 + ξ)*(1 - η))^2)) / (0.5dx*(((α / ρ)^2 + ((12μ) / (ρ*(sqrt(dx^2 + dy^2)^2)))^2 + ((2sqrt((0.25u1 + 0.25u3 + 0.25u5 + 0.25u7)^2 + (0.25u2 + 0.25u4 + 0.25u6 + 0.25u8)^2)) / sqrt(dx^2 + dy^2))^2)^0.5)) + (0.25ρ*(1 + ξ)*((-0.25u2*(1 - ξ)) / (0.5dy) + (-0.25u4*(1 + ξ)) / (0.5dy) + (0.25u6*(1 + ξ)) / (0.5dy) + (0.25u8*(1 - ξ)) / (0.5dy))*((0.25u6*(1 + η)*(1 + ξ) + 0.25u8*(1 + η)*(1 - ξ) + 0.25u4*(1 + ξ)*(1 - η) + 0.25u2*(1 - η)*(1 - ξ))^2)) / (0.5dy*(((α / ρ)^2 + ((12μ) / (ρ*(sqrt(dx^2 + dy^2)^2)))^2 + ((2sqrt((0.25u1 + 0.25u3 + 0.25u5 + 0.25u7)^2 + (0.25u2 + 0.25u4 + 0.25u6 + 0.25u8)^2)) / sqrt(dx^2 + dy^2))^2)^0.5)) + (0.25α*(1 + η)*(0.25u6*(1 + η)*(1 + ξ) + 0.25u8*(1 + η)*(1 - ξ) + 0.25u4*(1 + ξ)*(1 - η) + 0.25u2*(1 - η)*(1 - ξ))*(0.25u1*(1 - η)*(1 - ξ) + 0.25u5*(1 + η)*(1 + ξ) + 0.25u7*(1 + η)*(1 - ξ) + 0.25u3*(1 + ξ)*(1 - η))) / (0.5dx*(((α / ρ)^2 + ((12μ) / (ρ*(sqrt(dx^2 + dy^2)^2)))^2 + ((2sqrt((0.25u1 + 0.25u3 + 0.25u5 + 0.25u7)^2 + (0.25u2 + 0.25u4 + 0.25u6 + 0.25u8)^2)) / sqrt(dx^2 + dy^2))^2)^0.5)) + (0.25ρ*(1 + η)*((-0.25u2*(1 - ξ)) / (0.5dy) + (-0.25u4*(1 + ξ)) / (0.5dy) + (0.25u6*(1 + ξ)) / (0.5dy) + (0.25u8*(1 - ξ)) / (0.5dy))*(0.25u6*(1 + η)*(1 + ξ) + 0.25u8*(1 + η)*(1 - ξ) + 0.25u4*(1 + ξ)*(1 - η) + 0.25u2*(1 - η)*(1 - ξ))*(0.25u1*(1 - η)*(1 - ξ) + 0.25u5*(1 + η)*(1 + ξ) + 0.25u7*(1 + η)*(1 - ξ) + 0.25u3*(1 + ξ)*(1 - η))) / (0.5dx*(((α / ρ)^2 + ((12μ) / (ρ*(sqrt(dx^2 + dy^2)^2)))^2 + ((2sqrt((0.25u1 + 0.25u3 + 0.25u5 + 0.25u7)^2 + (0.25u2 + 0.25u4 + 0.25u6 + 0.25u8)^2)) / sqrt(dx^2 + dy^2))^2)^0.5)) + (0.25ρ*(1 + ξ)*((-0.25u2*(1 - η)) / (0.5dx) + (0.25u6*(1 + η)) / (0.5dx) + (0.25u4*(1 - η)) / (0.5dx) + (-0.25u8*(1 + η)) / (0.5dx))*(0.25u6*(1 + η)*(1 + ξ) + 0.25u8*(1 + η)*(1 - ξ) + 0.25u4*(1 + ξ)*(1 - η) + 0.25u2*(1 - η)*(1 - ξ))*(0.25u1*(1 - η)*(1 - ξ) + 0.25u5*(1 + η)*(1 + ξ) + 0.25u7*(1 + η)*(1 - ξ) + 0.25u3*(1 + ξ)*(1 - η))) / (0.5dy*(((α / ρ)^2 + ((12μ) / (ρ*(sqrt(dx^2 + dy^2)^2)))^2 + ((2sqrt((0.25u1 + 0.25u3 + 0.25u5 + 0.25u7)^2 + (0.25u2 + 0.25u4 + 0.25u6 + 0.25u8)^2)) / sqrt(dx^2 + dy^2))^2)^0.5)) + 0.25α*(1 + η)*(1 + ξ)*(0.25u6*(1 + η)*(1 + ξ) + 0.25u8*(1 + η)*(1 - ξ) + 0.25u4*(1 + ξ)*(1 - η) + 0.25u2*(1 - η)*(1 - ξ)) + 0.25ρ*(1 + η)*(1 + ξ)*((-0.25u2*(1 - ξ)) / (0.5dy) + (-0.25u4*(1 + ξ)) / (0.5dy) + (0.25u6*(1 + ξ)) / (0.5dy) + (0.25u8*(1 - ξ)) / (0.5dy))*(0.25u6*(1 + η)*(1 + ξ) + 0.25u8*(1 + η)*(1 - ξ) + 0.25u4*(1 + ξ)*(1 - η) + 0.25u2*(1 - η)*(1 - ξ)) + 0.25ρ*(1 + η)*(1 + ξ)*((-0.25u2*(1 - η)) / (0.5dx) + (0.25u6*(1 + η)) / (0.5dx) + (0.25u4*(1 - η)) / (0.5dx) + (-0.25u8*(1 + η)) / (0.5dx))*(0.25u1*(1 - η)*(1 - ξ) + 0.25u5*(1 + η)*(1 + ξ) + 0.25u7*(1 + η)*(1 - ξ) + 0.25u3*(1 + ξ)*(1 - η)))*(dx^2)*(dy^2)\n",
       " 0.0625((0.25(1 + η)*(0.25p3*(1 + η)*(1 + ξ) + 0.25p2*(1 + ξ)*(1 - η) + 0.25p4*(1 + η)*(1 - ξ) + 0.25p1*(1 - η)*(1 - ξ))) / (0.5dx) + (-0.25μ*(1 + η)*((-0.5u1*(1 - η)) / (0.5dx) + (0.5u3*(1 - η)) / (0.5dx) + (0.5u5*(1 + η)) / (0.5dx) + (-0.5u7*(1 + η)) / (0.5dx))) / (0.5dx) + (0.25(1 - ξ)*((0.25p3*(1 + η)) / (0.5dx) + (-0.25p4*(1 + η)) / (0.5dx) + (-0.25p1*(1 - η)) / (0.5dx) + (0.25p2*(1 - η)) / (0.5dx))*(0.25u6*(1 + η)*(1 + ξ) + 0.25u8*(1 + η)*(1 - ξ) + 0.25u4*(1 + ξ)*(1 - η) + 0.25u2*(1 - η)*(1 - ξ))) / (0.5dy*(((α / ρ)^2 + ((12μ) / (ρ*(sqrt(dx^2 + dy^2)^2)))^2 + ((2sqrt((0.25u1 + 0.25u3 + 0.25u5 + 0.25u7)^2 + (0.25u2 + 0.25u4 + 0.25u6 + 0.25u8)^2)) / sqrt(dx^2 + dy^2))^2)^0.5)) + (0.25μ*(1 - ξ)*((-0.25u3*(1 + ξ)) / (0.5dy) + (-0.25u1*(1 - ξ)) / (0.5dy) + (0.25u5*(1 + ξ)) / (0.5dy) + (-0.25u2*(1 - η)) / (0.5dx) + (0.25u6*(1 + η)) / (0.5dx) + (0.25u4*(1 - η)) / (0.5dx) + (0.25u7*(1 - ξ)) / (0.5dy) + (-0.25u8*(1 + η)) / (0.5dx))) / (0.5dy) + (-0.25(1 + η)*((0.25p3*(1 + η)) / (0.5dx) + (-0.25p4*(1 + η)) / (0.5dx) + (-0.25p1*(1 - η)) / (0.5dx) + (0.25p2*(1 - η)) / (0.5dx))*(0.25u1*(1 - η)*(1 - ξ) + 0.25u5*(1 + η)*(1 + ξ) + 0.25u7*(1 + η)*(1 - ξ) + 0.25u3*(1 + ξ)*(1 - η))) / (0.5dx*(((α / ρ)^2 + ((12μ) / (ρ*(sqrt(dx^2 + dy^2)^2)))^2 + ((2sqrt((0.25u1 + 0.25u3 + 0.25u5 + 0.25u7)^2 + (0.25u2 + 0.25u4 + 0.25u6 + 0.25u8)^2)) / sqrt(dx^2 + dy^2))^2)^0.5)) + (-0.25α*(1 + η)*((0.25u1*(1 - η)*(1 - ξ) + 0.25u5*(1 + η)*(1 + ξ) + 0.25u7*(1 + η)*(1 - ξ) + 0.25u3*(1 + ξ)*(1 - η))^2)) / (0.5dx*(((α / ρ)^2 + ((12μ) / (ρ*(sqrt(dx^2 + dy^2)^2)))^2 + ((2sqrt((0.25u1 + 0.25u3 + 0.25u5 + 0.25u7)^2 + (0.25u2 + 0.25u4 + 0.25u6 + 0.25u8)^2)) / sqrt(dx^2 + dy^2))^2)^0.5)) + (0.25α*(1 - ξ)*(0.25u6*(1 + η)*(1 + ξ) + 0.25u8*(1 + η)*(1 - ξ) + 0.25u4*(1 + ξ)*(1 - η) + 0.25u2*(1 - η)*(1 - ξ))*(0.25u1*(1 - η)*(1 - ξ) + 0.25u5*(1 + η)*(1 + ξ) + 0.25u7*(1 + η)*(1 - ξ) + 0.25u3*(1 + ξ)*(1 - η))) / (0.5dy*(((α / ρ)^2 + ((12μ) / (ρ*(sqrt(dx^2 + dy^2)^2)))^2 + ((2sqrt((0.25u1 + 0.25u3 + 0.25u5 + 0.25u7)^2 + (0.25u2 + 0.25u4 + 0.25u6 + 0.25u8)^2)) / sqrt(dx^2 + dy^2))^2)^0.5)) + (0.25ρ*(1 - ξ)*((-0.25u3*(1 + ξ)) / (0.5dy) + (-0.25u1*(1 - ξ)) / (0.5dy) + (0.25u5*(1 + ξ)) / (0.5dy) + (0.25u7*(1 - ξ)) / (0.5dy))*((0.25u6*(1 + η)*(1 + ξ) + 0.25u8*(1 + η)*(1 - ξ) + 0.25u4*(1 + ξ)*(1 - η) + 0.25u2*(1 - η)*(1 - ξ))^2)) / (0.5dy*(((α / ρ)^2 + ((12μ) / (ρ*(sqrt(dx^2 + dy^2)^2)))^2 + ((2sqrt((0.25u1 + 0.25u3 + 0.25u5 + 0.25u7)^2 + (0.25u2 + 0.25u4 + 0.25u6 + 0.25u8)^2)) / sqrt(dx^2 + dy^2))^2)^0.5)) + (-0.25ρ*(1 + η)*((-0.25u1*(1 - η)) / (0.5dx) + (0.25u3*(1 - η)) / (0.5dx) + (0.25u5*(1 + η)) / (0.5dx) + (-0.25u7*(1 + η)) / (0.5dx))*((0.25u1*(1 - η)*(1 - ξ) + 0.25u5*(1 + η)*(1 + ξ) + 0.25u7*(1 + η)*(1 - ξ) + 0.25u3*(1 + ξ)*(1 - η))^2)) / (0.5dx*(((α / ρ)^2 + ((12μ) / (ρ*(sqrt(dx^2 + dy^2)^2)))^2 + ((2sqrt((0.25u1 + 0.25u3 + 0.25u5 + 0.25u7)^2 + (0.25u2 + 0.25u4 + 0.25u6 + 0.25u8)^2)) / sqrt(dx^2 + dy^2))^2)^0.5)) + (0.25ρ*(1 - ξ)*((-0.25u1*(1 - η)) / (0.5dx) + (0.25u3*(1 - η)) / (0.5dx) + (0.25u5*(1 + η)) / (0.5dx) + (-0.25u7*(1 + η)) / (0.5dx))*(0.25u6*(1 + η)*(1 + ξ) + 0.25u8*(1 + η)*(1 - ξ) + 0.25u4*(1 + ξ)*(1 - η) + 0.25u2*(1 - η)*(1 - ξ))*(0.25u1*(1 - η)*(1 - ξ) + 0.25u5*(1 + η)*(1 + ξ) + 0.25u7*(1 + η)*(1 - ξ) + 0.25u3*(1 + ξ)*(1 - η))) / (0.5dy*(((α / ρ)^2 + ((12μ) / (ρ*(sqrt(dx^2 + dy^2)^2)))^2 + ((2sqrt((0.25u1 + 0.25u3 + 0.25u5 + 0.25u7)^2 + (0.25u2 + 0.25u4 + 0.25u6 + 0.25u8)^2)) / sqrt(dx^2 + dy^2))^2)^0.5)) + (-0.25ρ*(1 + η)*((-0.25u3*(1 + ξ)) / (0.5dy) + (-0.25u1*(1 - ξ)) / (0.5dy) + (0.25u5*(1 + ξ)) / (0.5dy) + (0.25u7*(1 - ξ)) / (0.5dy))*(0.25u6*(1 + η)*(1 + ξ) + 0.25u8*(1 + η)*(1 - ξ) + 0.25u4*(1 + ξ)*(1 - η) + 0.25u2*(1 - η)*(1 - ξ))*(0.25u1*(1 - η)*(1 - ξ) + 0.25u5*(1 + η)*(1 + ξ) + 0.25u7*(1 + η)*(1 - ξ) + 0.25u3*(1 + ξ)*(1 - η))) / (0.5dx*(((α / ρ)^2 + ((12μ) / (ρ*(sqrt(dx^2 + dy^2)^2)))^2 + ((2sqrt((0.25u1 + 0.25u3 + 0.25u5 + 0.25u7)^2 + (0.25u2 + 0.25u4 + 0.25u6 + 0.25u8)^2)) / sqrt(dx^2 + dy^2))^2)^0.5)) + 0.25α*(1 + η)*(1 - ξ)*(0.25u1*(1 - η)*(1 - ξ) + 0.25u5*(1 + η)*(1 + ξ) + 0.25u7*(1 + η)*(1 - ξ) + 0.25u3*(1 + ξ)*(1 - η)) + 0.25ρ*(1 + η)*(1 - ξ)*((-0.25u1*(1 - η)) / (0.5dx) + (0.25u3*(1 - η)) / (0.5dx) + (0.25u5*(1 + η)) / (0.5dx) + (-0.25u7*(1 + η)) / (0.5dx))*(0.25u1*(1 - η)*(1 - ξ) + 0.25u5*(1 + η)*(1 + ξ) + 0.25u7*(1 + η)*(1 - ξ) + 0.25u3*(1 + ξ)*(1 - η)) + 0.25ρ*(1 + η)*(1 - ξ)*((-0.25u3*(1 + ξ)) / (0.5dy) + (-0.25u1*(1 - ξ)) / (0.5dy) + (0.25u5*(1 + ξ)) / (0.5dy) + (0.25u7*(1 - ξ)) / (0.5dy))*(0.25u6*(1 + η)*(1 + ξ) + 0.25u8*(1 + η)*(1 - ξ) + 0.25u4*(1 + ξ)*(1 - η) + 0.25u2*(1 - η)*(1 - ξ)))*(dx^2)*(dy^2)\n",
       " 0.0625((-0.25(1 - ξ)*(0.25p3*(1 + η)*(1 + ξ) + 0.25p2*(1 + ξ)*(1 - η) + 0.25p4*(1 + η)*(1 - ξ) + 0.25p1*(1 - η)*(1 - ξ))) / (0.5dy) + (0.25α*((0.25u6*(1 + η)*(1 + ξ) + 0.25u8*(1 + η)*(1 - ξ) + 0.25u4*(1 + ξ)*(1 - η) + 0.25u2*(1 - η)*(1 - ξ))^2)*(1 - ξ)) / (0.5dy*(((α / ρ)^2 + ((12μ) / (ρ*(sqrt(dx^2 + dy^2)^2)))^2 + ((2sqrt((0.25u1 + 0.25u3 + 0.25u5 + 0.25u7)^2 + (0.25u2 + 0.25u4 + 0.25u6 + 0.25u8)^2)) / sqrt(dx^2 + dy^2))^2)^0.5)) + (0.25μ*(1 - ξ)*((-0.5u2*(1 - ξ)) / (0.5dy) + (-0.5u4*(1 + ξ)) / (0.5dy) + (0.5u6*(1 + ξ)) / (0.5dy) + (0.5u8*(1 - ξ)) / (0.5dy))) / (0.5dy) + (0.25(1 - ξ)*((-0.25p2*(1 + ξ)) / (0.5dy) + (-0.25p1*(1 - ξ)) / (0.5dy) + (0.25p3*(1 + ξ)) / (0.5dy) + (0.25p4*(1 - ξ)) / (0.5dy))*(0.25u6*(1 + η)*(1 + ξ) + 0.25u8*(1 + η)*(1 - ξ) + 0.25u4*(1 + ξ)*(1 - η) + 0.25u2*(1 - η)*(1 - ξ))) / (0.5dy*(((α / ρ)^2 + ((12μ) / (ρ*(sqrt(dx^2 + dy^2)^2)))^2 + ((2sqrt((0.25u1 + 0.25u3 + 0.25u5 + 0.25u7)^2 + (0.25u2 + 0.25u4 + 0.25u6 + 0.25u8)^2)) / sqrt(dx^2 + dy^2))^2)^0.5)) + (-0.25μ*(1 + η)*((-0.25u3*(1 + ξ)) / (0.5dy) + (-0.25u1*(1 - ξ)) / (0.5dy) + (0.25u5*(1 + ξ)) / (0.5dy) + (-0.25u2*(1 - η)) / (0.5dx) + (0.25u6*(1 + η)) / (0.5dx) + (0.25u4*(1 - η)) / (0.5dx) + (0.25u7*(1 - ξ)) / (0.5dy) + (-0.25u8*(1 + η)) / (0.5dx))) / (0.5dx) + (-0.25(1 + η)*((-0.25p2*(1 + ξ)) / (0.5dy) + (-0.25p1*(1 - ξ)) / (0.5dy) + (0.25p3*(1 + ξ)) / (0.5dy) + (0.25p4*(1 - ξ)) / (0.5dy))*(0.25u1*(1 - η)*(1 - ξ) + 0.25u5*(1 + η)*(1 + ξ) + 0.25u7*(1 + η)*(1 - ξ) + 0.25u3*(1 + ξ)*(1 - η))) / (0.5dx*(((α / ρ)^2 + ((12μ) / (ρ*(sqrt(dx^2 + dy^2)^2)))^2 + ((2sqrt((0.25u1 + 0.25u3 + 0.25u5 + 0.25u7)^2 + (0.25u2 + 0.25u4 + 0.25u6 + 0.25u8)^2)) / sqrt(dx^2 + dy^2))^2)^0.5)) + (-0.25α*(1 + η)*(0.25u6*(1 + η)*(1 + ξ) + 0.25u8*(1 + η)*(1 - ξ) + 0.25u4*(1 + ξ)*(1 - η) + 0.25u2*(1 - η)*(1 - ξ))*(0.25u1*(1 - η)*(1 - ξ) + 0.25u5*(1 + η)*(1 + ξ) + 0.25u7*(1 + η)*(1 - ξ) + 0.25u3*(1 + ξ)*(1 - η))) / (0.5dx*(((α / ρ)^2 + ((12μ) / (ρ*(sqrt(dx^2 + dy^2)^2)))^2 + ((2sqrt((0.25u1 + 0.25u3 + 0.25u5 + 0.25u7)^2 + (0.25u2 + 0.25u4 + 0.25u6 + 0.25u8)^2)) / sqrt(dx^2 + dy^2))^2)^0.5)) + (0.25ρ*(1 - ξ)*((-0.25u2*(1 - ξ)) / (0.5dy) + (-0.25u4*(1 + ξ)) / (0.5dy) + (0.25u6*(1 + ξ)) / (0.5dy) + (0.25u8*(1 - ξ)) / (0.5dy))*((0.25u6*(1 + η)*(1 + ξ) + 0.25u8*(1 + η)*(1 - ξ) + 0.25u4*(1 + ξ)*(1 - η) + 0.25u2*(1 - η)*(1 - ξ))^2)) / (0.5dy*(((α / ρ)^2 + ((12μ) / (ρ*(sqrt(dx^2 + dy^2)^2)))^2 + ((2sqrt((0.25u1 + 0.25u3 + 0.25u5 + 0.25u7)^2 + (0.25u2 + 0.25u4 + 0.25u6 + 0.25u8)^2)) / sqrt(dx^2 + dy^2))^2)^0.5)) + (-0.25ρ*(1 + η)*((-0.25u2*(1 - η)) / (0.5dx) + (0.25u6*(1 + η)) / (0.5dx) + (0.25u4*(1 - η)) / (0.5dx) + (-0.25u8*(1 + η)) / (0.5dx))*((0.25u1*(1 - η)*(1 - ξ) + 0.25u5*(1 + η)*(1 + ξ) + 0.25u7*(1 + η)*(1 - ξ) + 0.25u3*(1 + ξ)*(1 - η))^2)) / (0.5dx*(((α / ρ)^2 + ((12μ) / (ρ*(sqrt(dx^2 + dy^2)^2)))^2 + ((2sqrt((0.25u1 + 0.25u3 + 0.25u5 + 0.25u7)^2 + (0.25u2 + 0.25u4 + 0.25u6 + 0.25u8)^2)) / sqrt(dx^2 + dy^2))^2)^0.5)) + (0.25ρ*(1 - ξ)*((-0.25u2*(1 - η)) / (0.5dx) + (0.25u6*(1 + η)) / (0.5dx) + (0.25u4*(1 - η)) / (0.5dx) + (-0.25u8*(1 + η)) / (0.5dx))*(0.25u6*(1 + η)*(1 + ξ) + 0.25u8*(1 + η)*(1 - ξ) + 0.25u4*(1 + ξ)*(1 - η) + 0.25u2*(1 - η)*(1 - ξ))*(0.25u1*(1 - η)*(1 - ξ) + 0.25u5*(1 + η)*(1 + ξ) + 0.25u7*(1 + η)*(1 - ξ) + 0.25u3*(1 + ξ)*(1 - η))) / (0.5dy*(((α / ρ)^2 + ((12μ) / (ρ*(sqrt(dx^2 + dy^2)^2)))^2 + ((2sqrt((0.25u1 + 0.25u3 + 0.25u5 + 0.25u7)^2 + (0.25u2 + 0.25u4 + 0.25u6 + 0.25u8)^2)) / sqrt(dx^2 + dy^2))^2)^0.5)) + (-0.25ρ*(1 + η)*((-0.25u2*(1 - ξ)) / (0.5dy) + (-0.25u4*(1 + ξ)) / (0.5dy) + (0.25u6*(1 + ξ)) / (0.5dy) + (0.25u8*(1 - ξ)) / (0.5dy))*(0.25u6*(1 + η)*(1 + ξ) + 0.25u8*(1 + η)*(1 - ξ) + 0.25u4*(1 + ξ)*(1 - η) + 0.25u2*(1 - η)*(1 - ξ))*(0.25u1*(1 - η)*(1 - ξ) + 0.25u5*(1 + η)*(1 + ξ) + 0.25u7*(1 + η)*(1 - ξ) + 0.25u3*(1 + ξ)*(1 - η))) / (0.5dx*(((α / ρ)^2 + ((12μ) / (ρ*(sqrt(dx^2 + dy^2)^2)))^2 + ((2sqrt((0.25u1 + 0.25u3 + 0.25u5 + 0.25u7)^2 + (0.25u2 + 0.25u4 + 0.25u6 + 0.25u8)^2)) / sqrt(dx^2 + dy^2))^2)^0.5)) + 0.25α*(1 + η)*(1 - ξ)*(0.25u6*(1 + η)*(1 + ξ) + 0.25u8*(1 + η)*(1 - ξ) + 0.25u4*(1 + ξ)*(1 - η) + 0.25u2*(1 - η)*(1 - ξ)) + 0.25ρ*(1 + η)*(1 - ξ)*((-0.25u2*(1 - η)) / (0.5dx) + (0.25u6*(1 + η)) / (0.5dx) + (0.25u4*(1 - η)) / (0.5dx) + (-0.25u8*(1 + η)) / (0.5dx))*(0.25u1*(1 - η)*(1 - ξ) + 0.25u5*(1 + η)*(1 + ξ) + 0.25u7*(1 + η)*(1 - ξ) + 0.25u3*(1 + ξ)*(1 - η)) + 0.25ρ*(1 + η)*(1 - ξ)*((-0.25u2*(1 - ξ)) / (0.5dy) + (-0.25u4*(1 + ξ)) / (0.5dy) + (0.25u6*(1 + ξ)) / (0.5dy) + (0.25u8*(1 - ξ)) / (0.5dy))*(0.25u6*(1 + η)*(1 + ξ) + 0.25u8*(1 + η)*(1 - ξ) + 0.25u4*(1 + ξ)*(1 - η) + 0.25u2*(1 - η)*(1 - ξ)))*(dx^2)*(dy^2)"
      ]
     },
     "metadata": {},
     "output_type": "display_data"
    }
   ],
   "source": [
    "Ru = vec(simplify(detJ * Ru))"
   ]
  },
  {
   "cell_type": "code",
   "execution_count": 104,
   "id": "65e24620",
   "metadata": {},
   "outputs": [
    {
     "data": {
      "text/latex": [
       "$$ \\begin{equation}\n",
       "\\left[\n",
       "\\begin{array}{c}\n",
       "0.25 dx dy \\left( \\frac{ - 0.25 \\left( 1 - \\eta \\right) \\left( \\frac{0.25 p3 \\left( 1 + \\eta \\right)}{0.5 dx} + \\frac{ - 0.25 p4 \\left( 1 + \\eta \\right)}{0.5 dx} + \\frac{ - 0.25 p1 \\left( 1 - \\eta \\right)}{0.5 dx} + \\frac{0.25 p2 \\left( 1 - \\eta \\right)}{0.5 dx} \\right)}{0.5 \\left( \\left( \\frac{\\alpha}{\\rho} \\right)^{2} + \\left( \\frac{12 \\mu}{\\left( \\sqrt{dx^{2} + dy^{2}} \\right)^{2} \\rho} \\right)^{2} + \\left( \\frac{2 \\sqrt{\\left( 0.25 u1 + 0.25 u3 + 0.25 u5 + 0.25 u7 \\right)^{2} + \\left( 0.25 u2 + 0.25 u4 + 0.25 u6 + 0.25 u8 \\right)^{2}}}{\\sqrt{dx^{2} + dy^{2}}} \\right)^{2} \\right)^{0.5} dx \\rho} + \\frac{ - 0.25 \\left( 1 - \\xi \\right) \\left( \\frac{ - 0.25 p2 \\left( 1 + \\xi \\right)}{0.5 dy} + \\frac{ - 0.25 p1 \\left( 1 - \\xi \\right)}{0.5 dy} + \\frac{0.25 p3 \\left( 1 + \\xi \\right)}{0.5 dy} + \\frac{0.25 p4 \\left( 1 - \\xi \\right)}{0.5 dy} \\right)}{0.5 \\left( \\left( \\frac{\\alpha}{\\rho} \\right)^{2} + \\left( \\frac{12 \\mu}{\\left( \\sqrt{dx^{2} + dy^{2}} \\right)^{2} \\rho} \\right)^{2} + \\left( \\frac{2 \\sqrt{\\left( 0.25 u1 + 0.25 u3 + 0.25 u5 + 0.25 u7 \\right)^{2} + \\left( 0.25 u2 + 0.25 u4 + 0.25 u6 + 0.25 u8 \\right)^{2}}}{\\sqrt{dx^{2} + dy^{2}}} \\right)^{2} \\right)^{0.5} dy \\rho} + \\frac{ - 0.25 \\alpha \\left( 1 - \\eta \\right) \\left( 0.25 u1 \\left( 1 - \\eta \\right) \\left( 1 - \\xi \\right) + 0.25 u5 \\left( 1 + \\eta \\right) \\left( 1 + \\xi \\right) + 0.25 u7 \\left( 1 + \\eta \\right) \\left( 1 - \\xi \\right) + 0.25 u3 \\left( 1 + \\xi \\right) \\left( 1 - \\eta \\right) \\right)}{0.5 \\left( \\left( \\frac{\\alpha}{\\rho} \\right)^{2} + \\left( \\frac{12 \\mu}{\\left( \\sqrt{dx^{2} + dy^{2}} \\right)^{2} \\rho} \\right)^{2} + \\left( \\frac{2 \\sqrt{\\left( 0.25 u1 + 0.25 u3 + 0.25 u5 + 0.25 u7 \\right)^{2} + \\left( 0.25 u2 + 0.25 u4 + 0.25 u6 + 0.25 u8 \\right)^{2}}}{\\sqrt{dx^{2} + dy^{2}}} \\right)^{2} \\right)^{0.5} dx \\rho} + \\frac{ - 0.25 \\left( 1 - \\xi \\right) \\left( \\frac{ - 0.25 u2 \\left( 1 - \\eta \\right)}{0.5 dx} + \\frac{0.25 u6 \\left( 1 + \\eta \\right)}{0.5 dx} + \\frac{0.25 u4 \\left( 1 - \\eta \\right)}{0.5 dx} + \\frac{ - 0.25 u8 \\left( 1 + \\eta \\right)}{0.5 dx} \\right) \\left( 0.25 u1 \\left( 1 - \\eta \\right) \\left( 1 - \\xi \\right) + 0.25 u5 \\left( 1 + \\eta \\right) \\left( 1 + \\xi \\right) + 0.25 u7 \\left( 1 + \\eta \\right) \\left( 1 - \\xi \\right) + 0.25 u3 \\left( 1 + \\xi \\right) \\left( 1 - \\eta \\right) \\right)}{0.5 \\left( \\left( \\frac{\\alpha}{\\rho} \\right)^{2} + \\left( \\frac{12 \\mu}{\\left( \\sqrt{dx^{2} + dy^{2}} \\right)^{2} \\rho} \\right)^{2} + \\left( \\frac{2 \\sqrt{\\left( 0.25 u1 + 0.25 u3 + 0.25 u5 + 0.25 u7 \\right)^{2} + \\left( 0.25 u2 + 0.25 u4 + 0.25 u6 + 0.25 u8 \\right)^{2}}}{\\sqrt{dx^{2} + dy^{2}}} \\right)^{2} \\right)^{0.5} dy} + \\frac{ - 0.25 \\alpha \\left( 1 - \\xi \\right) \\left( 0.25 u6 \\left( 1 + \\eta \\right) \\left( 1 + \\xi \\right) + 0.25 u8 \\left( 1 + \\eta \\right) \\left( 1 - \\xi \\right) + 0.25 u4 \\left( 1 + \\xi \\right) \\left( 1 - \\eta \\right) + 0.25 u2 \\left( 1 - \\eta \\right) \\left( 1 - \\xi \\right) \\right)}{0.5 \\left( \\left( \\frac{\\alpha}{\\rho} \\right)^{2} + \\left( \\frac{12 \\mu}{\\left( \\sqrt{dx^{2} + dy^{2}} \\right)^{2} \\rho} \\right)^{2} + \\left( \\frac{2 \\sqrt{\\left( 0.25 u1 + 0.25 u3 + 0.25 u5 + 0.25 u7 \\right)^{2} + \\left( 0.25 u2 + 0.25 u4 + 0.25 u6 + 0.25 u8 \\right)^{2}}}{\\sqrt{dx^{2} + dy^{2}}} \\right)^{2} \\right)^{0.5} dy \\rho} + \\frac{ - 0.25 \\left( 1 - \\xi \\right) \\left( \\frac{ - 0.25 u2 \\left( 1 - \\xi \\right)}{0.5 dy} + \\frac{ - 0.25 u4 \\left( 1 + \\xi \\right)}{0.5 dy} + \\frac{0.25 u6 \\left( 1 + \\xi \\right)}{0.5 dy} + \\frac{0.25 u8 \\left( 1 - \\xi \\right)}{0.5 dy} \\right) \\left( 0.25 u6 \\left( 1 + \\eta \\right) \\left( 1 + \\xi \\right) + 0.25 u8 \\left( 1 + \\eta \\right) \\left( 1 - \\xi \\right) + 0.25 u4 \\left( 1 + \\xi \\right) \\left( 1 - \\eta \\right) + 0.25 u2 \\left( 1 - \\eta \\right) \\left( 1 - \\xi \\right) \\right)}{0.5 \\left( \\left( \\frac{\\alpha}{\\rho} \\right)^{2} + \\left( \\frac{12 \\mu}{\\left( \\sqrt{dx^{2} + dy^{2}} \\right)^{2} \\rho} \\right)^{2} + \\left( \\frac{2 \\sqrt{\\left( 0.25 u1 + 0.25 u3 + 0.25 u5 + 0.25 u7 \\right)^{2} + \\left( 0.25 u2 + 0.25 u4 + 0.25 u6 + 0.25 u8 \\right)^{2}}}{\\sqrt{dx^{2} + dy^{2}}} \\right)^{2} \\right)^{0.5} dy} + \\frac{ - 0.25 \\left( 1 - \\eta \\right) \\left( \\frac{ - 0.25 u3 \\left( 1 + \\xi \\right)}{0.5 dy} + \\frac{ - 0.25 u1 \\left( 1 - \\xi \\right)}{0.5 dy} + \\frac{0.25 u5 \\left( 1 + \\xi \\right)}{0.5 dy} + \\frac{0.25 u7 \\left( 1 - \\xi \\right)}{0.5 dy} \\right) \\left( 0.25 u6 \\left( 1 + \\eta \\right) \\left( 1 + \\xi \\right) + 0.25 u8 \\left( 1 + \\eta \\right) \\left( 1 - \\xi \\right) + 0.25 u4 \\left( 1 + \\xi \\right) \\left( 1 - \\eta \\right) + 0.25 u2 \\left( 1 - \\eta \\right) \\left( 1 - \\xi \\right) \\right)}{0.5 \\left( \\left( \\frac{\\alpha}{\\rho} \\right)^{2} + \\left( \\frac{12 \\mu}{\\left( \\sqrt{dx^{2} + dy^{2}} \\right)^{2} \\rho} \\right)^{2} + \\left( \\frac{2 \\sqrt{\\left( 0.25 u1 + 0.25 u3 + 0.25 u5 + 0.25 u7 \\right)^{2} + \\left( 0.25 u2 + 0.25 u4 + 0.25 u6 + 0.25 u8 \\right)^{2}}}{\\sqrt{dx^{2} + dy^{2}}} \\right)^{2} \\right)^{0.5} dx} + \\frac{ - 0.25 \\left( 1 - \\eta \\right) \\left( \\frac{ - 0.25 u1 \\left( 1 - \\eta \\right)}{0.5 dx} + \\frac{0.25 u3 \\left( 1 - \\eta \\right)}{0.5 dx} + \\frac{0.25 u5 \\left( 1 + \\eta \\right)}{0.5 dx} + \\frac{ - 0.25 u7 \\left( 1 + \\eta \\right)}{0.5 dx} \\right) \\left( 0.25 u1 \\left( 1 - \\eta \\right) \\left( 1 - \\xi \\right) + 0.25 u5 \\left( 1 + \\eta \\right) \\left( 1 + \\xi \\right) + 0.25 u7 \\left( 1 + \\eta \\right) \\left( 1 - \\xi \\right) + 0.25 u3 \\left( 1 + \\xi \\right) \\left( 1 - \\eta \\right) \\right)}{0.5 \\left( \\left( \\frac{\\alpha}{\\rho} \\right)^{2} + \\left( \\frac{12 \\mu}{\\left( \\sqrt{dx^{2} + dy^{2}} \\right)^{2} \\rho} \\right)^{2} + \\left( \\frac{2 \\sqrt{\\left( 0.25 u1 + 0.25 u3 + 0.25 u5 + 0.25 u7 \\right)^{2} + \\left( 0.25 u2 + 0.25 u4 + 0.25 u6 + 0.25 u8 \\right)^{2}}}{\\sqrt{dx^{2} + dy^{2}}} \\right)^{2} \\right)^{0.5} dx} + 0.25 \\left( 1 - \\eta \\right) \\left( 1 - \\xi \\right) \\left( \\frac{ - 0.25 u1 \\left( 1 - \\eta \\right)}{0.5 dx} + \\frac{0.25 u3 \\left( 1 - \\eta \\right)}{0.5 dx} + \\frac{0.25 u5 \\left( 1 + \\eta \\right)}{0.5 dx} + \\frac{ - 0.25 u7 \\left( 1 + \\eta \\right)}{0.5 dx} \\right) + 0.25 \\left( 1 - \\eta \\right) \\left( 1 - \\xi \\right) \\left( \\frac{ - 0.25 u2 \\left( 1 - \\xi \\right)}{0.5 dy} + \\frac{ - 0.25 u4 \\left( 1 + \\xi \\right)}{0.5 dy} + \\frac{0.25 u6 \\left( 1 + \\xi \\right)}{0.5 dy} + \\frac{0.25 u8 \\left( 1 - \\xi \\right)}{0.5 dy} \\right) \\right) \\\\\n",
       "0.25 dx dy \\left( \\frac{0.25 \\left( 1 - \\eta \\right) \\left( \\frac{0.25 p3 \\left( 1 + \\eta \\right)}{0.5 dx} + \\frac{ - 0.25 p4 \\left( 1 + \\eta \\right)}{0.5 dx} + \\frac{ - 0.25 p1 \\left( 1 - \\eta \\right)}{0.5 dx} + \\frac{0.25 p2 \\left( 1 - \\eta \\right)}{0.5 dx} \\right)}{0.5 \\left( \\left( \\frac{\\alpha}{\\rho} \\right)^{2} + \\left( \\frac{12 \\mu}{\\left( \\sqrt{dx^{2} + dy^{2}} \\right)^{2} \\rho} \\right)^{2} + \\left( \\frac{2 \\sqrt{\\left( 0.25 u1 + 0.25 u3 + 0.25 u5 + 0.25 u7 \\right)^{2} + \\left( 0.25 u2 + 0.25 u4 + 0.25 u6 + 0.25 u8 \\right)^{2}}}{\\sqrt{dx^{2} + dy^{2}}} \\right)^{2} \\right)^{0.5} dx \\rho} + \\frac{ - 0.25 \\left( 1 + \\xi \\right) \\left( \\frac{ - 0.25 p2 \\left( 1 + \\xi \\right)}{0.5 dy} + \\frac{ - 0.25 p1 \\left( 1 - \\xi \\right)}{0.5 dy} + \\frac{0.25 p3 \\left( 1 + \\xi \\right)}{0.5 dy} + \\frac{0.25 p4 \\left( 1 - \\xi \\right)}{0.5 dy} \\right)}{0.5 \\left( \\left( \\frac{\\alpha}{\\rho} \\right)^{2} + \\left( \\frac{12 \\mu}{\\left( \\sqrt{dx^{2} + dy^{2}} \\right)^{2} \\rho} \\right)^{2} + \\left( \\frac{2 \\sqrt{\\left( 0.25 u1 + 0.25 u3 + 0.25 u5 + 0.25 u7 \\right)^{2} + \\left( 0.25 u2 + 0.25 u4 + 0.25 u6 + 0.25 u8 \\right)^{2}}}{\\sqrt{dx^{2} + dy^{2}}} \\right)^{2} \\right)^{0.5} dy \\rho} + \\frac{ - 0.25 \\alpha \\left( 1 + \\xi \\right) \\left( 0.25 u6 \\left( 1 + \\eta \\right) \\left( 1 + \\xi \\right) + 0.25 u8 \\left( 1 + \\eta \\right) \\left( 1 - \\xi \\right) + 0.25 u4 \\left( 1 + \\xi \\right) \\left( 1 - \\eta \\right) + 0.25 u2 \\left( 1 - \\eta \\right) \\left( 1 - \\xi \\right) \\right)}{0.5 \\left( \\left( \\frac{\\alpha}{\\rho} \\right)^{2} + \\left( \\frac{12 \\mu}{\\left( \\sqrt{dx^{2} + dy^{2}} \\right)^{2} \\rho} \\right)^{2} + \\left( \\frac{2 \\sqrt{\\left( 0.25 u1 + 0.25 u3 + 0.25 u5 + 0.25 u7 \\right)^{2} + \\left( 0.25 u2 + 0.25 u4 + 0.25 u6 + 0.25 u8 \\right)^{2}}}{\\sqrt{dx^{2} + dy^{2}}} \\right)^{2} \\right)^{0.5} dy \\rho} + \\frac{ - 0.25 \\left( 1 + \\xi \\right) \\left( \\frac{ - 0.25 u2 \\left( 1 - \\xi \\right)}{0.5 dy} + \\frac{ - 0.25 u4 \\left( 1 + \\xi \\right)}{0.5 dy} + \\frac{0.25 u6 \\left( 1 + \\xi \\right)}{0.5 dy} + \\frac{0.25 u8 \\left( 1 - \\xi \\right)}{0.5 dy} \\right) \\left( 0.25 u6 \\left( 1 + \\eta \\right) \\left( 1 + \\xi \\right) + 0.25 u8 \\left( 1 + \\eta \\right) \\left( 1 - \\xi \\right) + 0.25 u4 \\left( 1 + \\xi \\right) \\left( 1 - \\eta \\right) + 0.25 u2 \\left( 1 - \\eta \\right) \\left( 1 - \\xi \\right) \\right)}{0.5 \\left( \\left( \\frac{\\alpha}{\\rho} \\right)^{2} + \\left( \\frac{12 \\mu}{\\left( \\sqrt{dx^{2} + dy^{2}} \\right)^{2} \\rho} \\right)^{2} + \\left( \\frac{2 \\sqrt{\\left( 0.25 u1 + 0.25 u3 + 0.25 u5 + 0.25 u7 \\right)^{2} + \\left( 0.25 u2 + 0.25 u4 + 0.25 u6 + 0.25 u8 \\right)^{2}}}{\\sqrt{dx^{2} + dy^{2}}} \\right)^{2} \\right)^{0.5} dy} + \\frac{0.25 \\left( 1 - \\eta \\right) \\left( \\frac{ - 0.25 u3 \\left( 1 + \\xi \\right)}{0.5 dy} + \\frac{ - 0.25 u1 \\left( 1 - \\xi \\right)}{0.5 dy} + \\frac{0.25 u5 \\left( 1 + \\xi \\right)}{0.5 dy} + \\frac{0.25 u7 \\left( 1 - \\xi \\right)}{0.5 dy} \\right) \\left( 0.25 u6 \\left( 1 + \\eta \\right) \\left( 1 + \\xi \\right) + 0.25 u8 \\left( 1 + \\eta \\right) \\left( 1 - \\xi \\right) + 0.25 u4 \\left( 1 + \\xi \\right) \\left( 1 - \\eta \\right) + 0.25 u2 \\left( 1 - \\eta \\right) \\left( 1 - \\xi \\right) \\right)}{0.5 \\left( \\left( \\frac{\\alpha}{\\rho} \\right)^{2} + \\left( \\frac{12 \\mu}{\\left( \\sqrt{dx^{2} + dy^{2}} \\right)^{2} \\rho} \\right)^{2} + \\left( \\frac{2 \\sqrt{\\left( 0.25 u1 + 0.25 u3 + 0.25 u5 + 0.25 u7 \\right)^{2} + \\left( 0.25 u2 + 0.25 u4 + 0.25 u6 + 0.25 u8 \\right)^{2}}}{\\sqrt{dx^{2} + dy^{2}}} \\right)^{2} \\right)^{0.5} dx} + \\frac{0.25 \\alpha \\left( 1 - \\eta \\right) \\left( 0.25 u1 \\left( 1 - \\eta \\right) \\left( 1 - \\xi \\right) + 0.25 u5 \\left( 1 + \\eta \\right) \\left( 1 + \\xi \\right) + 0.25 u7 \\left( 1 + \\eta \\right) \\left( 1 - \\xi \\right) + 0.25 u3 \\left( 1 + \\xi \\right) \\left( 1 - \\eta \\right) \\right)}{0.5 \\left( \\left( \\frac{\\alpha}{\\rho} \\right)^{2} + \\left( \\frac{12 \\mu}{\\left( \\sqrt{dx^{2} + dy^{2}} \\right)^{2} \\rho} \\right)^{2} + \\left( \\frac{2 \\sqrt{\\left( 0.25 u1 + 0.25 u3 + 0.25 u5 + 0.25 u7 \\right)^{2} + \\left( 0.25 u2 + 0.25 u4 + 0.25 u6 + 0.25 u8 \\right)^{2}}}{\\sqrt{dx^{2} + dy^{2}}} \\right)^{2} \\right)^{0.5} dx \\rho} + \\frac{ - 0.25 \\left( 1 + \\xi \\right) \\left( \\frac{ - 0.25 u2 \\left( 1 - \\eta \\right)}{0.5 dx} + \\frac{0.25 u6 \\left( 1 + \\eta \\right)}{0.5 dx} + \\frac{0.25 u4 \\left( 1 - \\eta \\right)}{0.5 dx} + \\frac{ - 0.25 u8 \\left( 1 + \\eta \\right)}{0.5 dx} \\right) \\left( 0.25 u1 \\left( 1 - \\eta \\right) \\left( 1 - \\xi \\right) + 0.25 u5 \\left( 1 + \\eta \\right) \\left( 1 + \\xi \\right) + 0.25 u7 \\left( 1 + \\eta \\right) \\left( 1 - \\xi \\right) + 0.25 u3 \\left( 1 + \\xi \\right) \\left( 1 - \\eta \\right) \\right)}{0.5 \\left( \\left( \\frac{\\alpha}{\\rho} \\right)^{2} + \\left( \\frac{12 \\mu}{\\left( \\sqrt{dx^{2} + dy^{2}} \\right)^{2} \\rho} \\right)^{2} + \\left( \\frac{2 \\sqrt{\\left( 0.25 u1 + 0.25 u3 + 0.25 u5 + 0.25 u7 \\right)^{2} + \\left( 0.25 u2 + 0.25 u4 + 0.25 u6 + 0.25 u8 \\right)^{2}}}{\\sqrt{dx^{2} + dy^{2}}} \\right)^{2} \\right)^{0.5} dy} + \\frac{0.25 \\left( 1 - \\eta \\right) \\left( \\frac{ - 0.25 u1 \\left( 1 - \\eta \\right)}{0.5 dx} + \\frac{0.25 u3 \\left( 1 - \\eta \\right)}{0.5 dx} + \\frac{0.25 u5 \\left( 1 + \\eta \\right)}{0.5 dx} + \\frac{ - 0.25 u7 \\left( 1 + \\eta \\right)}{0.5 dx} \\right) \\left( 0.25 u1 \\left( 1 - \\eta \\right) \\left( 1 - \\xi \\right) + 0.25 u5 \\left( 1 + \\eta \\right) \\left( 1 + \\xi \\right) + 0.25 u7 \\left( 1 + \\eta \\right) \\left( 1 - \\xi \\right) + 0.25 u3 \\left( 1 + \\xi \\right) \\left( 1 - \\eta \\right) \\right)}{0.5 \\left( \\left( \\frac{\\alpha}{\\rho} \\right)^{2} + \\left( \\frac{12 \\mu}{\\left( \\sqrt{dx^{2} + dy^{2}} \\right)^{2} \\rho} \\right)^{2} + \\left( \\frac{2 \\sqrt{\\left( 0.25 u1 + 0.25 u3 + 0.25 u5 + 0.25 u7 \\right)^{2} + \\left( 0.25 u2 + 0.25 u4 + 0.25 u6 + 0.25 u8 \\right)^{2}}}{\\sqrt{dx^{2} + dy^{2}}} \\right)^{2} \\right)^{0.5} dx} + 0.25 \\left( 1 + \\xi \\right) \\left( 1 - \\eta \\right) \\left( \\frac{ - 0.25 u2 \\left( 1 - \\xi \\right)}{0.5 dy} + \\frac{ - 0.25 u4 \\left( 1 + \\xi \\right)}{0.5 dy} + \\frac{0.25 u6 \\left( 1 + \\xi \\right)}{0.5 dy} + \\frac{0.25 u8 \\left( 1 - \\xi \\right)}{0.5 dy} \\right) + 0.25 \\left( 1 + \\xi \\right) \\left( 1 - \\eta \\right) \\left( \\frac{ - 0.25 u1 \\left( 1 - \\eta \\right)}{0.5 dx} + \\frac{0.25 u3 \\left( 1 - \\eta \\right)}{0.5 dx} + \\frac{0.25 u5 \\left( 1 + \\eta \\right)}{0.5 dx} + \\frac{ - 0.25 u7 \\left( 1 + \\eta \\right)}{0.5 dx} \\right) \\right) \\\\\n",
       "0.25 dx dy \\left( \\frac{0.25 \\left( 1 + \\xi \\right) \\left( \\frac{ - 0.25 p2 \\left( 1 + \\xi \\right)}{0.5 dy} + \\frac{ - 0.25 p1 \\left( 1 - \\xi \\right)}{0.5 dy} + \\frac{0.25 p3 \\left( 1 + \\xi \\right)}{0.5 dy} + \\frac{0.25 p4 \\left( 1 - \\xi \\right)}{0.5 dy} \\right)}{0.5 \\left( \\left( \\frac{\\alpha}{\\rho} \\right)^{2} + \\left( \\frac{12 \\mu}{\\left( \\sqrt{dx^{2} + dy^{2}} \\right)^{2} \\rho} \\right)^{2} + \\left( \\frac{2 \\sqrt{\\left( 0.25 u1 + 0.25 u3 + 0.25 u5 + 0.25 u7 \\right)^{2} + \\left( 0.25 u2 + 0.25 u4 + 0.25 u6 + 0.25 u8 \\right)^{2}}}{\\sqrt{dx^{2} + dy^{2}}} \\right)^{2} \\right)^{0.5} dy \\rho} + \\frac{0.25 \\left( 1 + \\eta \\right) \\left( \\frac{0.25 p3 \\left( 1 + \\eta \\right)}{0.5 dx} + \\frac{ - 0.25 p4 \\left( 1 + \\eta \\right)}{0.5 dx} + \\frac{ - 0.25 p1 \\left( 1 - \\eta \\right)}{0.5 dx} + \\frac{0.25 p2 \\left( 1 - \\eta \\right)}{0.5 dx} \\right)}{0.5 \\left( \\left( \\frac{\\alpha}{\\rho} \\right)^{2} + \\left( \\frac{12 \\mu}{\\left( \\sqrt{dx^{2} + dy^{2}} \\right)^{2} \\rho} \\right)^{2} + \\left( \\frac{2 \\sqrt{\\left( 0.25 u1 + 0.25 u3 + 0.25 u5 + 0.25 u7 \\right)^{2} + \\left( 0.25 u2 + 0.25 u4 + 0.25 u6 + 0.25 u8 \\right)^{2}}}{\\sqrt{dx^{2} + dy^{2}}} \\right)^{2} \\right)^{0.5} dx \\rho} + \\frac{0.25 \\alpha \\left( 1 + \\xi \\right) \\left( 0.25 u6 \\left( 1 + \\eta \\right) \\left( 1 + \\xi \\right) + 0.25 u8 \\left( 1 + \\eta \\right) \\left( 1 - \\xi \\right) + 0.25 u4 \\left( 1 + \\xi \\right) \\left( 1 - \\eta \\right) + 0.25 u2 \\left( 1 - \\eta \\right) \\left( 1 - \\xi \\right) \\right)}{0.5 \\left( \\left( \\frac{\\alpha}{\\rho} \\right)^{2} + \\left( \\frac{12 \\mu}{\\left( \\sqrt{dx^{2} + dy^{2}} \\right)^{2} \\rho} \\right)^{2} + \\left( \\frac{2 \\sqrt{\\left( 0.25 u1 + 0.25 u3 + 0.25 u5 + 0.25 u7 \\right)^{2} + \\left( 0.25 u2 + 0.25 u4 + 0.25 u6 + 0.25 u8 \\right)^{2}}}{\\sqrt{dx^{2} + dy^{2}}} \\right)^{2} \\right)^{0.5} dy \\rho} + \\frac{0.25 \\left( 1 + \\eta \\right) \\left( \\frac{ - 0.25 u3 \\left( 1 + \\xi \\right)}{0.5 dy} + \\frac{ - 0.25 u1 \\left( 1 - \\xi \\right)}{0.5 dy} + \\frac{0.25 u5 \\left( 1 + \\xi \\right)}{0.5 dy} + \\frac{0.25 u7 \\left( 1 - \\xi \\right)}{0.5 dy} \\right) \\left( 0.25 u6 \\left( 1 + \\eta \\right) \\left( 1 + \\xi \\right) + 0.25 u8 \\left( 1 + \\eta \\right) \\left( 1 - \\xi \\right) + 0.25 u4 \\left( 1 + \\xi \\right) \\left( 1 - \\eta \\right) + 0.25 u2 \\left( 1 - \\eta \\right) \\left( 1 - \\xi \\right) \\right)}{0.5 \\left( \\left( \\frac{\\alpha}{\\rho} \\right)^{2} + \\left( \\frac{12 \\mu}{\\left( \\sqrt{dx^{2} + dy^{2}} \\right)^{2} \\rho} \\right)^{2} + \\left( \\frac{2 \\sqrt{\\left( 0.25 u1 + 0.25 u3 + 0.25 u5 + 0.25 u7 \\right)^{2} + \\left( 0.25 u2 + 0.25 u4 + 0.25 u6 + 0.25 u8 \\right)^{2}}}{\\sqrt{dx^{2} + dy^{2}}} \\right)^{2} \\right)^{0.5} dx} + \\frac{0.25 \\left( 1 + \\xi \\right) \\left( \\frac{ - 0.25 u2 \\left( 1 - \\xi \\right)}{0.5 dy} + \\frac{ - 0.25 u4 \\left( 1 + \\xi \\right)}{0.5 dy} + \\frac{0.25 u6 \\left( 1 + \\xi \\right)}{0.5 dy} + \\frac{0.25 u8 \\left( 1 - \\xi \\right)}{0.5 dy} \\right) \\left( 0.25 u6 \\left( 1 + \\eta \\right) \\left( 1 + \\xi \\right) + 0.25 u8 \\left( 1 + \\eta \\right) \\left( 1 - \\xi \\right) + 0.25 u4 \\left( 1 + \\xi \\right) \\left( 1 - \\eta \\right) + 0.25 u2 \\left( 1 - \\eta \\right) \\left( 1 - \\xi \\right) \\right)}{0.5 \\left( \\left( \\frac{\\alpha}{\\rho} \\right)^{2} + \\left( \\frac{12 \\mu}{\\left( \\sqrt{dx^{2} + dy^{2}} \\right)^{2} \\rho} \\right)^{2} + \\left( \\frac{2 \\sqrt{\\left( 0.25 u1 + 0.25 u3 + 0.25 u5 + 0.25 u7 \\right)^{2} + \\left( 0.25 u2 + 0.25 u4 + 0.25 u6 + 0.25 u8 \\right)^{2}}}{\\sqrt{dx^{2} + dy^{2}}} \\right)^{2} \\right)^{0.5} dy} + \\frac{0.25 \\alpha \\left( 1 + \\eta \\right) \\left( 0.25 u1 \\left( 1 - \\eta \\right) \\left( 1 - \\xi \\right) + 0.25 u5 \\left( 1 + \\eta \\right) \\left( 1 + \\xi \\right) + 0.25 u7 \\left( 1 + \\eta \\right) \\left( 1 - \\xi \\right) + 0.25 u3 \\left( 1 + \\xi \\right) \\left( 1 - \\eta \\right) \\right)}{0.5 \\left( \\left( \\frac{\\alpha}{\\rho} \\right)^{2} + \\left( \\frac{12 \\mu}{\\left( \\sqrt{dx^{2} + dy^{2}} \\right)^{2} \\rho} \\right)^{2} + \\left( \\frac{2 \\sqrt{\\left( 0.25 u1 + 0.25 u3 + 0.25 u5 + 0.25 u7 \\right)^{2} + \\left( 0.25 u2 + 0.25 u4 + 0.25 u6 + 0.25 u8 \\right)^{2}}}{\\sqrt{dx^{2} + dy^{2}}} \\right)^{2} \\right)^{0.5} dx \\rho} + \\frac{0.25 \\left( 1 + \\xi \\right) \\left( \\frac{ - 0.25 u2 \\left( 1 - \\eta \\right)}{0.5 dx} + \\frac{0.25 u6 \\left( 1 + \\eta \\right)}{0.5 dx} + \\frac{0.25 u4 \\left( 1 - \\eta \\right)}{0.5 dx} + \\frac{ - 0.25 u8 \\left( 1 + \\eta \\right)}{0.5 dx} \\right) \\left( 0.25 u1 \\left( 1 - \\eta \\right) \\left( 1 - \\xi \\right) + 0.25 u5 \\left( 1 + \\eta \\right) \\left( 1 + \\xi \\right) + 0.25 u7 \\left( 1 + \\eta \\right) \\left( 1 - \\xi \\right) + 0.25 u3 \\left( 1 + \\xi \\right) \\left( 1 - \\eta \\right) \\right)}{0.5 \\left( \\left( \\frac{\\alpha}{\\rho} \\right)^{2} + \\left( \\frac{12 \\mu}{\\left( \\sqrt{dx^{2} + dy^{2}} \\right)^{2} \\rho} \\right)^{2} + \\left( \\frac{2 \\sqrt{\\left( 0.25 u1 + 0.25 u3 + 0.25 u5 + 0.25 u7 \\right)^{2} + \\left( 0.25 u2 + 0.25 u4 + 0.25 u6 + 0.25 u8 \\right)^{2}}}{\\sqrt{dx^{2} + dy^{2}}} \\right)^{2} \\right)^{0.5} dy} + \\frac{0.25 \\left( 1 + \\eta \\right) \\left( \\frac{ - 0.25 u1 \\left( 1 - \\eta \\right)}{0.5 dx} + \\frac{0.25 u3 \\left( 1 - \\eta \\right)}{0.5 dx} + \\frac{0.25 u5 \\left( 1 + \\eta \\right)}{0.5 dx} + \\frac{ - 0.25 u7 \\left( 1 + \\eta \\right)}{0.5 dx} \\right) \\left( 0.25 u1 \\left( 1 - \\eta \\right) \\left( 1 - \\xi \\right) + 0.25 u5 \\left( 1 + \\eta \\right) \\left( 1 + \\xi \\right) + 0.25 u7 \\left( 1 + \\eta \\right) \\left( 1 - \\xi \\right) + 0.25 u3 \\left( 1 + \\xi \\right) \\left( 1 - \\eta \\right) \\right)}{0.5 \\left( \\left( \\frac{\\alpha}{\\rho} \\right)^{2} + \\left( \\frac{12 \\mu}{\\left( \\sqrt{dx^{2} + dy^{2}} \\right)^{2} \\rho} \\right)^{2} + \\left( \\frac{2 \\sqrt{\\left( 0.25 u1 + 0.25 u3 + 0.25 u5 + 0.25 u7 \\right)^{2} + \\left( 0.25 u2 + 0.25 u4 + 0.25 u6 + 0.25 u8 \\right)^{2}}}{\\sqrt{dx^{2} + dy^{2}}} \\right)^{2} \\right)^{0.5} dx} + 0.25 \\left( 1 + \\eta \\right) \\left( 1 + \\xi \\right) \\left( \\frac{ - 0.25 u2 \\left( 1 - \\xi \\right)}{0.5 dy} + \\frac{ - 0.25 u4 \\left( 1 + \\xi \\right)}{0.5 dy} + \\frac{0.25 u6 \\left( 1 + \\xi \\right)}{0.5 dy} + \\frac{0.25 u8 \\left( 1 - \\xi \\right)}{0.5 dy} \\right) + 0.25 \\left( 1 + \\eta \\right) \\left( 1 + \\xi \\right) \\left( \\frac{ - 0.25 u1 \\left( 1 - \\eta \\right)}{0.5 dx} + \\frac{0.25 u3 \\left( 1 - \\eta \\right)}{0.5 dx} + \\frac{0.25 u5 \\left( 1 + \\eta \\right)}{0.5 dx} + \\frac{ - 0.25 u7 \\left( 1 + \\eta \\right)}{0.5 dx} \\right) \\right) \\\\\n",
       "0.25 dx dy \\left( \\frac{0.25 \\left( 1 - \\xi \\right) \\left( \\frac{ - 0.25 p2 \\left( 1 + \\xi \\right)}{0.5 dy} + \\frac{ - 0.25 p1 \\left( 1 - \\xi \\right)}{0.5 dy} + \\frac{0.25 p3 \\left( 1 + \\xi \\right)}{0.5 dy} + \\frac{0.25 p4 \\left( 1 - \\xi \\right)}{0.5 dy} \\right)}{0.5 \\left( \\left( \\frac{\\alpha}{\\rho} \\right)^{2} + \\left( \\frac{12 \\mu}{\\left( \\sqrt{dx^{2} + dy^{2}} \\right)^{2} \\rho} \\right)^{2} + \\left( \\frac{2 \\sqrt{\\left( 0.25 u1 + 0.25 u3 + 0.25 u5 + 0.25 u7 \\right)^{2} + \\left( 0.25 u2 + 0.25 u4 + 0.25 u6 + 0.25 u8 \\right)^{2}}}{\\sqrt{dx^{2} + dy^{2}}} \\right)^{2} \\right)^{0.5} dy \\rho} + \\frac{ - 0.25 \\left( 1 + \\eta \\right) \\left( \\frac{0.25 p3 \\left( 1 + \\eta \\right)}{0.5 dx} + \\frac{ - 0.25 p4 \\left( 1 + \\eta \\right)}{0.5 dx} + \\frac{ - 0.25 p1 \\left( 1 - \\eta \\right)}{0.5 dx} + \\frac{0.25 p2 \\left( 1 - \\eta \\right)}{0.5 dx} \\right)}{0.5 \\left( \\left( \\frac{\\alpha}{\\rho} \\right)^{2} + \\left( \\frac{12 \\mu}{\\left( \\sqrt{dx^{2} + dy^{2}} \\right)^{2} \\rho} \\right)^{2} + \\left( \\frac{2 \\sqrt{\\left( 0.25 u1 + 0.25 u3 + 0.25 u5 + 0.25 u7 \\right)^{2} + \\left( 0.25 u2 + 0.25 u4 + 0.25 u6 + 0.25 u8 \\right)^{2}}}{\\sqrt{dx^{2} + dy^{2}}} \\right)^{2} \\right)^{0.5} dx \\rho} + \\frac{0.25 \\alpha \\left( 1 - \\xi \\right) \\left( 0.25 u6 \\left( 1 + \\eta \\right) \\left( 1 + \\xi \\right) + 0.25 u8 \\left( 1 + \\eta \\right) \\left( 1 - \\xi \\right) + 0.25 u4 \\left( 1 + \\xi \\right) \\left( 1 - \\eta \\right) + 0.25 u2 \\left( 1 - \\eta \\right) \\left( 1 - \\xi \\right) \\right)}{0.5 \\left( \\left( \\frac{\\alpha}{\\rho} \\right)^{2} + \\left( \\frac{12 \\mu}{\\left( \\sqrt{dx^{2} + dy^{2}} \\right)^{2} \\rho} \\right)^{2} + \\left( \\frac{2 \\sqrt{\\left( 0.25 u1 + 0.25 u3 + 0.25 u5 + 0.25 u7 \\right)^{2} + \\left( 0.25 u2 + 0.25 u4 + 0.25 u6 + 0.25 u8 \\right)^{2}}}{\\sqrt{dx^{2} + dy^{2}}} \\right)^{2} \\right)^{0.5} dy \\rho} + \\frac{ - 0.25 \\alpha \\left( 1 + \\eta \\right) \\left( 0.25 u1 \\left( 1 - \\eta \\right) \\left( 1 - \\xi \\right) + 0.25 u5 \\left( 1 + \\eta \\right) \\left( 1 + \\xi \\right) + 0.25 u7 \\left( 1 + \\eta \\right) \\left( 1 - \\xi \\right) + 0.25 u3 \\left( 1 + \\xi \\right) \\left( 1 - \\eta \\right) \\right)}{0.5 \\left( \\left( \\frac{\\alpha}{\\rho} \\right)^{2} + \\left( \\frac{12 \\mu}{\\left( \\sqrt{dx^{2} + dy^{2}} \\right)^{2} \\rho} \\right)^{2} + \\left( \\frac{2 \\sqrt{\\left( 0.25 u1 + 0.25 u3 + 0.25 u5 + 0.25 u7 \\right)^{2} + \\left( 0.25 u2 + 0.25 u4 + 0.25 u6 + 0.25 u8 \\right)^{2}}}{\\sqrt{dx^{2} + dy^{2}}} \\right)^{2} \\right)^{0.5} dx \\rho} + \\frac{0.25 \\left( 1 - \\xi \\right) \\left( \\frac{ - 0.25 u2 \\left( 1 - \\eta \\right)}{0.5 dx} + \\frac{0.25 u6 \\left( 1 + \\eta \\right)}{0.5 dx} + \\frac{0.25 u4 \\left( 1 - \\eta \\right)}{0.5 dx} + \\frac{ - 0.25 u8 \\left( 1 + \\eta \\right)}{0.5 dx} \\right) \\left( 0.25 u1 \\left( 1 - \\eta \\right) \\left( 1 - \\xi \\right) + 0.25 u5 \\left( 1 + \\eta \\right) \\left( 1 + \\xi \\right) + 0.25 u7 \\left( 1 + \\eta \\right) \\left( 1 - \\xi \\right) + 0.25 u3 \\left( 1 + \\xi \\right) \\left( 1 - \\eta \\right) \\right)}{0.5 \\left( \\left( \\frac{\\alpha}{\\rho} \\right)^{2} + \\left( \\frac{12 \\mu}{\\left( \\sqrt{dx^{2} + dy^{2}} \\right)^{2} \\rho} \\right)^{2} + \\left( \\frac{2 \\sqrt{\\left( 0.25 u1 + 0.25 u3 + 0.25 u5 + 0.25 u7 \\right)^{2} + \\left( 0.25 u2 + 0.25 u4 + 0.25 u6 + 0.25 u8 \\right)^{2}}}{\\sqrt{dx^{2} + dy^{2}}} \\right)^{2} \\right)^{0.5} dy} + \\frac{ - 0.25 \\left( 1 + \\eta \\right) \\left( \\frac{ - 0.25 u1 \\left( 1 - \\eta \\right)}{0.5 dx} + \\frac{0.25 u3 \\left( 1 - \\eta \\right)}{0.5 dx} + \\frac{0.25 u5 \\left( 1 + \\eta \\right)}{0.5 dx} + \\frac{ - 0.25 u7 \\left( 1 + \\eta \\right)}{0.5 dx} \\right) \\left( 0.25 u1 \\left( 1 - \\eta \\right) \\left( 1 - \\xi \\right) + 0.25 u5 \\left( 1 + \\eta \\right) \\left( 1 + \\xi \\right) + 0.25 u7 \\left( 1 + \\eta \\right) \\left( 1 - \\xi \\right) + 0.25 u3 \\left( 1 + \\xi \\right) \\left( 1 - \\eta \\right) \\right)}{0.5 \\left( \\left( \\frac{\\alpha}{\\rho} \\right)^{2} + \\left( \\frac{12 \\mu}{\\left( \\sqrt{dx^{2} + dy^{2}} \\right)^{2} \\rho} \\right)^{2} + \\left( \\frac{2 \\sqrt{\\left( 0.25 u1 + 0.25 u3 + 0.25 u5 + 0.25 u7 \\right)^{2} + \\left( 0.25 u2 + 0.25 u4 + 0.25 u6 + 0.25 u8 \\right)^{2}}}{\\sqrt{dx^{2} + dy^{2}}} \\right)^{2} \\right)^{0.5} dx} + \\frac{ - 0.25 \\left( 1 + \\eta \\right) \\left( \\frac{ - 0.25 u3 \\left( 1 + \\xi \\right)}{0.5 dy} + \\frac{ - 0.25 u1 \\left( 1 - \\xi \\right)}{0.5 dy} + \\frac{0.25 u5 \\left( 1 + \\xi \\right)}{0.5 dy} + \\frac{0.25 u7 \\left( 1 - \\xi \\right)}{0.5 dy} \\right) \\left( 0.25 u6 \\left( 1 + \\eta \\right) \\left( 1 + \\xi \\right) + 0.25 u8 \\left( 1 + \\eta \\right) \\left( 1 - \\xi \\right) + 0.25 u4 \\left( 1 + \\xi \\right) \\left( 1 - \\eta \\right) + 0.25 u2 \\left( 1 - \\eta \\right) \\left( 1 - \\xi \\right) \\right)}{0.5 \\left( \\left( \\frac{\\alpha}{\\rho} \\right)^{2} + \\left( \\frac{12 \\mu}{\\left( \\sqrt{dx^{2} + dy^{2}} \\right)^{2} \\rho} \\right)^{2} + \\left( \\frac{2 \\sqrt{\\left( 0.25 u1 + 0.25 u3 + 0.25 u5 + 0.25 u7 \\right)^{2} + \\left( 0.25 u2 + 0.25 u4 + 0.25 u6 + 0.25 u8 \\right)^{2}}}{\\sqrt{dx^{2} + dy^{2}}} \\right)^{2} \\right)^{0.5} dx} + \\frac{0.25 \\left( 1 - \\xi \\right) \\left( \\frac{ - 0.25 u2 \\left( 1 - \\xi \\right)}{0.5 dy} + \\frac{ - 0.25 u4 \\left( 1 + \\xi \\right)}{0.5 dy} + \\frac{0.25 u6 \\left( 1 + \\xi \\right)}{0.5 dy} + \\frac{0.25 u8 \\left( 1 - \\xi \\right)}{0.5 dy} \\right) \\left( 0.25 u6 \\left( 1 + \\eta \\right) \\left( 1 + \\xi \\right) + 0.25 u8 \\left( 1 + \\eta \\right) \\left( 1 - \\xi \\right) + 0.25 u4 \\left( 1 + \\xi \\right) \\left( 1 - \\eta \\right) + 0.25 u2 \\left( 1 - \\eta \\right) \\left( 1 - \\xi \\right) \\right)}{0.5 \\left( \\left( \\frac{\\alpha}{\\rho} \\right)^{2} + \\left( \\frac{12 \\mu}{\\left( \\sqrt{dx^{2} + dy^{2}} \\right)^{2} \\rho} \\right)^{2} + \\left( \\frac{2 \\sqrt{\\left( 0.25 u1 + 0.25 u3 + 0.25 u5 + 0.25 u7 \\right)^{2} + \\left( 0.25 u2 + 0.25 u4 + 0.25 u6 + 0.25 u8 \\right)^{2}}}{\\sqrt{dx^{2} + dy^{2}}} \\right)^{2} \\right)^{0.5} dy} + 0.25 \\left( 1 + \\eta \\right) \\left( 1 - \\xi \\right) \\left( \\frac{ - 0.25 u1 \\left( 1 - \\eta \\right)}{0.5 dx} + \\frac{0.25 u3 \\left( 1 - \\eta \\right)}{0.5 dx} + \\frac{0.25 u5 \\left( 1 + \\eta \\right)}{0.5 dx} + \\frac{ - 0.25 u7 \\left( 1 + \\eta \\right)}{0.5 dx} \\right) + 0.25 \\left( 1 + \\eta \\right) \\left( 1 - \\xi \\right) \\left( \\frac{ - 0.25 u2 \\left( 1 - \\xi \\right)}{0.5 dy} + \\frac{ - 0.25 u4 \\left( 1 + \\xi \\right)}{0.5 dy} + \\frac{0.25 u6 \\left( 1 + \\xi \\right)}{0.5 dy} + \\frac{0.25 u8 \\left( 1 - \\xi \\right)}{0.5 dy} \\right) \\right) \\\\\n",
       "\\end{array}\n",
       "\\right]\n",
       "\\end{equation}\n",
       " $$"
      ],
      "text/plain": [
       "4-element Vector{Num}:\n",
       " 0.25dx*dy*((-0.25(1 - η)*((0.25p3*(1 + η)) / (0.5dx) + (-0.25p4*(1 + η)) / (0.5dx) + (-0.25p1*(1 - η)) / (0.5dx) + (0.25p2*(1 - η)) / (0.5dx))) / (0.5dx*ρ*(((α / ρ)^2 + ((12μ) / (ρ*(sqrt(dx^2 + dy^2)^2)))^2 + ((2sqrt((0.25u1 + 0.25u3 + 0.25u5 + 0.25u7)^2 + (0.25u2 + 0.25u4 + 0.25u6 + 0.25u8)^2)) / sqrt(dx^2 + dy^2))^2)^0.5)) + (-0.25(1 - ξ)*((-0.25p2*(1 + ξ)) / (0.5dy) + (-0.25p1*(1 - ξ)) / (0.5dy) + (0.25p3*(1 + ξ)) / (0.5dy) + (0.25p4*(1 - ξ)) / (0.5dy))) / (0.5dy*ρ*(((α / ρ)^2 + ((12μ) / (ρ*(sqrt(dx^2 + dy^2)^2)))^2 + ((2sqrt((0.25u1 + 0.25u3 + 0.25u5 + 0.25u7)^2 + (0.25u2 + 0.25u4 + 0.25u6 + 0.25u8)^2)) / sqrt(dx^2 + dy^2))^2)^0.5)) + (-0.25α*(1 - η)*(0.25u1*(1 - η)*(1 - ξ) + 0.25u5*(1 + η)*(1 + ξ) + 0.25u7*(1 + η)*(1 - ξ) + 0.25u3*(1 + ξ)*(1 - η))) / (0.5dx*ρ*(((α / ρ)^2 + ((12μ) / (ρ*(sqrt(dx^2 + dy^2)^2)))^2 + ((2sqrt((0.25u1 + 0.25u3 + 0.25u5 + 0.25u7)^2 + (0.25u2 + 0.25u4 + 0.25u6 + 0.25u8)^2)) / sqrt(dx^2 + dy^2))^2)^0.5)) + (-0.25(1 - ξ)*((-0.25u2*(1 - η)) / (0.5dx) + (0.25u6*(1 + η)) / (0.5dx) + (0.25u4*(1 - η)) / (0.5dx) + (-0.25u8*(1 + η)) / (0.5dx))*(0.25u1*(1 - η)*(1 - ξ) + 0.25u5*(1 + η)*(1 + ξ) + 0.25u7*(1 + η)*(1 - ξ) + 0.25u3*(1 + ξ)*(1 - η))) / (0.5dy*(((α / ρ)^2 + ((12μ) / (ρ*(sqrt(dx^2 + dy^2)^2)))^2 + ((2sqrt((0.25u1 + 0.25u3 + 0.25u5 + 0.25u7)^2 + (0.25u2 + 0.25u4 + 0.25u6 + 0.25u8)^2)) / sqrt(dx^2 + dy^2))^2)^0.5)) + (-0.25α*(1 - ξ)*(0.25u6*(1 + η)*(1 + ξ) + 0.25u8*(1 + η)*(1 - ξ) + 0.25u4*(1 + ξ)*(1 - η) + 0.25u2*(1 - η)*(1 - ξ))) / (0.5dy*ρ*(((α / ρ)^2 + ((12μ) / (ρ*(sqrt(dx^2 + dy^2)^2)))^2 + ((2sqrt((0.25u1 + 0.25u3 + 0.25u5 + 0.25u7)^2 + (0.25u2 + 0.25u4 + 0.25u6 + 0.25u8)^2)) / sqrt(dx^2 + dy^2))^2)^0.5)) + (-0.25(1 - ξ)*((-0.25u2*(1 - ξ)) / (0.5dy) + (-0.25u4*(1 + ξ)) / (0.5dy) + (0.25u6*(1 + ξ)) / (0.5dy) + (0.25u8*(1 - ξ)) / (0.5dy))*(0.25u6*(1 + η)*(1 + ξ) + 0.25u8*(1 + η)*(1 - ξ) + 0.25u4*(1 + ξ)*(1 - η) + 0.25u2*(1 - η)*(1 - ξ))) / (0.5dy*(((α / ρ)^2 + ((12μ) / (ρ*(sqrt(dx^2 + dy^2)^2)))^2 + ((2sqrt((0.25u1 + 0.25u3 + 0.25u5 + 0.25u7)^2 + (0.25u2 + 0.25u4 + 0.25u6 + 0.25u8)^2)) / sqrt(dx^2 + dy^2))^2)^0.5)) + (-0.25(1 - η)*((-0.25u3*(1 + ξ)) / (0.5dy) + (-0.25u1*(1 - ξ)) / (0.5dy) + (0.25u5*(1 + ξ)) / (0.5dy) + (0.25u7*(1 - ξ)) / (0.5dy))*(0.25u6*(1 + η)*(1 + ξ) + 0.25u8*(1 + η)*(1 - ξ) + 0.25u4*(1 + ξ)*(1 - η) + 0.25u2*(1 - η)*(1 - ξ))) / (0.5dx*(((α / ρ)^2 + ((12μ) / (ρ*(sqrt(dx^2 + dy^2)^2)))^2 + ((2sqrt((0.25u1 + 0.25u3 + 0.25u5 + 0.25u7)^2 + (0.25u2 + 0.25u4 + 0.25u6 + 0.25u8)^2)) / sqrt(dx^2 + dy^2))^2)^0.5)) + (-0.25(1 - η)*((-0.25u1*(1 - η)) / (0.5dx) + (0.25u3*(1 - η)) / (0.5dx) + (0.25u5*(1 + η)) / (0.5dx) + (-0.25u7*(1 + η)) / (0.5dx))*(0.25u1*(1 - η)*(1 - ξ) + 0.25u5*(1 + η)*(1 + ξ) + 0.25u7*(1 + η)*(1 - ξ) + 0.25u3*(1 + ξ)*(1 - η))) / (0.5dx*(((α / ρ)^2 + ((12μ) / (ρ*(sqrt(dx^2 + dy^2)^2)))^2 + ((2sqrt((0.25u1 + 0.25u3 + 0.25u5 + 0.25u7)^2 + (0.25u2 + 0.25u4 + 0.25u6 + 0.25u8)^2)) / sqrt(dx^2 + dy^2))^2)^0.5)) + 0.25(1 - η)*(1 - ξ)*((-0.25u1*(1 - η)) / (0.5dx) + (0.25u3*(1 - η)) / (0.5dx) + (0.25u5*(1 + η)) / (0.5dx) + (-0.25u7*(1 + η)) / (0.5dx)) + 0.25(1 - η)*(1 - ξ)*((-0.25u2*(1 - ξ)) / (0.5dy) + (-0.25u4*(1 + ξ)) / (0.5dy) + (0.25u6*(1 + ξ)) / (0.5dy) + (0.25u8*(1 - ξ)) / (0.5dy)))\n",
       " 0.25dx*dy*((0.25(1 - η)*((0.25p3*(1 + η)) / (0.5dx) + (-0.25p4*(1 + η)) / (0.5dx) + (-0.25p1*(1 - η)) / (0.5dx) + (0.25p2*(1 - η)) / (0.5dx))) / (0.5dx*ρ*(((α / ρ)^2 + ((12μ) / (ρ*(sqrt(dx^2 + dy^2)^2)))^2 + ((2sqrt((0.25u1 + 0.25u3 + 0.25u5 + 0.25u7)^2 + (0.25u2 + 0.25u4 + 0.25u6 + 0.25u8)^2)) / sqrt(dx^2 + dy^2))^2)^0.5)) + (-0.25(1 + ξ)*((-0.25p2*(1 + ξ)) / (0.5dy) + (-0.25p1*(1 - ξ)) / (0.5dy) + (0.25p3*(1 + ξ)) / (0.5dy) + (0.25p4*(1 - ξ)) / (0.5dy))) / (0.5dy*ρ*(((α / ρ)^2 + ((12μ) / (ρ*(sqrt(dx^2 + dy^2)^2)))^2 + ((2sqrt((0.25u1 + 0.25u3 + 0.25u5 + 0.25u7)^2 + (0.25u2 + 0.25u4 + 0.25u6 + 0.25u8)^2)) / sqrt(dx^2 + dy^2))^2)^0.5)) + (-0.25α*(1 + ξ)*(0.25u6*(1 + η)*(1 + ξ) + 0.25u8*(1 + η)*(1 - ξ) + 0.25u4*(1 + ξ)*(1 - η) + 0.25u2*(1 - η)*(1 - ξ))) / (0.5dy*ρ*(((α / ρ)^2 + ((12μ) / (ρ*(sqrt(dx^2 + dy^2)^2)))^2 + ((2sqrt((0.25u1 + 0.25u3 + 0.25u5 + 0.25u7)^2 + (0.25u2 + 0.25u4 + 0.25u6 + 0.25u8)^2)) / sqrt(dx^2 + dy^2))^2)^0.5)) + (-0.25(1 + ξ)*((-0.25u2*(1 - ξ)) / (0.5dy) + (-0.25u4*(1 + ξ)) / (0.5dy) + (0.25u6*(1 + ξ)) / (0.5dy) + (0.25u8*(1 - ξ)) / (0.5dy))*(0.25u6*(1 + η)*(1 + ξ) + 0.25u8*(1 + η)*(1 - ξ) + 0.25u4*(1 + ξ)*(1 - η) + 0.25u2*(1 - η)*(1 - ξ))) / (0.5dy*(((α / ρ)^2 + ((12μ) / (ρ*(sqrt(dx^2 + dy^2)^2)))^2 + ((2sqrt((0.25u1 + 0.25u3 + 0.25u5 + 0.25u7)^2 + (0.25u2 + 0.25u4 + 0.25u6 + 0.25u8)^2)) / sqrt(dx^2 + dy^2))^2)^0.5)) + (0.25(1 - η)*((-0.25u3*(1 + ξ)) / (0.5dy) + (-0.25u1*(1 - ξ)) / (0.5dy) + (0.25u5*(1 + ξ)) / (0.5dy) + (0.25u7*(1 - ξ)) / (0.5dy))*(0.25u6*(1 + η)*(1 + ξ) + 0.25u8*(1 + η)*(1 - ξ) + 0.25u4*(1 + ξ)*(1 - η) + 0.25u2*(1 - η)*(1 - ξ))) / (0.5dx*(((α / ρ)^2 + ((12μ) / (ρ*(sqrt(dx^2 + dy^2)^2)))^2 + ((2sqrt((0.25u1 + 0.25u3 + 0.25u5 + 0.25u7)^2 + (0.25u2 + 0.25u4 + 0.25u6 + 0.25u8)^2)) / sqrt(dx^2 + dy^2))^2)^0.5)) + (0.25α*(1 - η)*(0.25u1*(1 - η)*(1 - ξ) + 0.25u5*(1 + η)*(1 + ξ) + 0.25u7*(1 + η)*(1 - ξ) + 0.25u3*(1 + ξ)*(1 - η))) / (0.5dx*ρ*(((α / ρ)^2 + ((12μ) / (ρ*(sqrt(dx^2 + dy^2)^2)))^2 + ((2sqrt((0.25u1 + 0.25u3 + 0.25u5 + 0.25u7)^2 + (0.25u2 + 0.25u4 + 0.25u6 + 0.25u8)^2)) / sqrt(dx^2 + dy^2))^2)^0.5)) + (-0.25(1 + ξ)*((-0.25u2*(1 - η)) / (0.5dx) + (0.25u6*(1 + η)) / (0.5dx) + (0.25u4*(1 - η)) / (0.5dx) + (-0.25u8*(1 + η)) / (0.5dx))*(0.25u1*(1 - η)*(1 - ξ) + 0.25u5*(1 + η)*(1 + ξ) + 0.25u7*(1 + η)*(1 - ξ) + 0.25u3*(1 + ξ)*(1 - η))) / (0.5dy*(((α / ρ)^2 + ((12μ) / (ρ*(sqrt(dx^2 + dy^2)^2)))^2 + ((2sqrt((0.25u1 + 0.25u3 + 0.25u5 + 0.25u7)^2 + (0.25u2 + 0.25u4 + 0.25u6 + 0.25u8)^2)) / sqrt(dx^2 + dy^2))^2)^0.5)) + (0.25(1 - η)*((-0.25u1*(1 - η)) / (0.5dx) + (0.25u3*(1 - η)) / (0.5dx) + (0.25u5*(1 + η)) / (0.5dx) + (-0.25u7*(1 + η)) / (0.5dx))*(0.25u1*(1 - η)*(1 - ξ) + 0.25u5*(1 + η)*(1 + ξ) + 0.25u7*(1 + η)*(1 - ξ) + 0.25u3*(1 + ξ)*(1 - η))) / (0.5dx*(((α / ρ)^2 + ((12μ) / (ρ*(sqrt(dx^2 + dy^2)^2)))^2 + ((2sqrt((0.25u1 + 0.25u3 + 0.25u5 + 0.25u7)^2 + (0.25u2 + 0.25u4 + 0.25u6 + 0.25u8)^2)) / sqrt(dx^2 + dy^2))^2)^0.5)) + 0.25(1 + ξ)*(1 - η)*((-0.25u2*(1 - ξ)) / (0.5dy) + (-0.25u4*(1 + ξ)) / (0.5dy) + (0.25u6*(1 + ξ)) / (0.5dy) + (0.25u8*(1 - ξ)) / (0.5dy)) + 0.25(1 + ξ)*(1 - η)*((-0.25u1*(1 - η)) / (0.5dx) + (0.25u3*(1 - η)) / (0.5dx) + (0.25u5*(1 + η)) / (0.5dx) + (-0.25u7*(1 + η)) / (0.5dx)))\n",
       " 0.25dx*dy*((0.25(1 + ξ)*((-0.25p2*(1 + ξ)) / (0.5dy) + (-0.25p1*(1 - ξ)) / (0.5dy) + (0.25p3*(1 + ξ)) / (0.5dy) + (0.25p4*(1 - ξ)) / (0.5dy))) / (0.5dy*ρ*(((α / ρ)^2 + ((12μ) / (ρ*(sqrt(dx^2 + dy^2)^2)))^2 + ((2sqrt((0.25u1 + 0.25u3 + 0.25u5 + 0.25u7)^2 + (0.25u2 + 0.25u4 + 0.25u6 + 0.25u8)^2)) / sqrt(dx^2 + dy^2))^2)^0.5)) + (0.25(1 + η)*((0.25p3*(1 + η)) / (0.5dx) + (-0.25p4*(1 + η)) / (0.5dx) + (-0.25p1*(1 - η)) / (0.5dx) + (0.25p2*(1 - η)) / (0.5dx))) / (0.5dx*ρ*(((α / ρ)^2 + ((12μ) / (ρ*(sqrt(dx^2 + dy^2)^2)))^2 + ((2sqrt((0.25u1 + 0.25u3 + 0.25u5 + 0.25u7)^2 + (0.25u2 + 0.25u4 + 0.25u6 + 0.25u8)^2)) / sqrt(dx^2 + dy^2))^2)^0.5)) + (0.25α*(1 + ξ)*(0.25u6*(1 + η)*(1 + ξ) + 0.25u8*(1 + η)*(1 - ξ) + 0.25u4*(1 + ξ)*(1 - η) + 0.25u2*(1 - η)*(1 - ξ))) / (0.5dy*ρ*(((α / ρ)^2 + ((12μ) / (ρ*(sqrt(dx^2 + dy^2)^2)))^2 + ((2sqrt((0.25u1 + 0.25u3 + 0.25u5 + 0.25u7)^2 + (0.25u2 + 0.25u4 + 0.25u6 + 0.25u8)^2)) / sqrt(dx^2 + dy^2))^2)^0.5)) + (0.25(1 + η)*((-0.25u3*(1 + ξ)) / (0.5dy) + (-0.25u1*(1 - ξ)) / (0.5dy) + (0.25u5*(1 + ξ)) / (0.5dy) + (0.25u7*(1 - ξ)) / (0.5dy))*(0.25u6*(1 + η)*(1 + ξ) + 0.25u8*(1 + η)*(1 - ξ) + 0.25u4*(1 + ξ)*(1 - η) + 0.25u2*(1 - η)*(1 - ξ))) / (0.5dx*(((α / ρ)^2 + ((12μ) / (ρ*(sqrt(dx^2 + dy^2)^2)))^2 + ((2sqrt((0.25u1 + 0.25u3 + 0.25u5 + 0.25u7)^2 + (0.25u2 + 0.25u4 + 0.25u6 + 0.25u8)^2)) / sqrt(dx^2 + dy^2))^2)^0.5)) + (0.25(1 + ξ)*((-0.25u2*(1 - ξ)) / (0.5dy) + (-0.25u4*(1 + ξ)) / (0.5dy) + (0.25u6*(1 + ξ)) / (0.5dy) + (0.25u8*(1 - ξ)) / (0.5dy))*(0.25u6*(1 + η)*(1 + ξ) + 0.25u8*(1 + η)*(1 - ξ) + 0.25u4*(1 + ξ)*(1 - η) + 0.25u2*(1 - η)*(1 - ξ))) / (0.5dy*(((α / ρ)^2 + ((12μ) / (ρ*(sqrt(dx^2 + dy^2)^2)))^2 + ((2sqrt((0.25u1 + 0.25u3 + 0.25u5 + 0.25u7)^2 + (0.25u2 + 0.25u4 + 0.25u6 + 0.25u8)^2)) / sqrt(dx^2 + dy^2))^2)^0.5)) + (0.25α*(1 + η)*(0.25u1*(1 - η)*(1 - ξ) + 0.25u5*(1 + η)*(1 + ξ) + 0.25u7*(1 + η)*(1 - ξ) + 0.25u3*(1 + ξ)*(1 - η))) / (0.5dx*ρ*(((α / ρ)^2 + ((12μ) / (ρ*(sqrt(dx^2 + dy^2)^2)))^2 + ((2sqrt((0.25u1 + 0.25u3 + 0.25u5 + 0.25u7)^2 + (0.25u2 + 0.25u4 + 0.25u6 + 0.25u8)^2)) / sqrt(dx^2 + dy^2))^2)^0.5)) + (0.25(1 + ξ)*((-0.25u2*(1 - η)) / (0.5dx) + (0.25u6*(1 + η)) / (0.5dx) + (0.25u4*(1 - η)) / (0.5dx) + (-0.25u8*(1 + η)) / (0.5dx))*(0.25u1*(1 - η)*(1 - ξ) + 0.25u5*(1 + η)*(1 + ξ) + 0.25u7*(1 + η)*(1 - ξ) + 0.25u3*(1 + ξ)*(1 - η))) / (0.5dy*(((α / ρ)^2 + ((12μ) / (ρ*(sqrt(dx^2 + dy^2)^2)))^2 + ((2sqrt((0.25u1 + 0.25u3 + 0.25u5 + 0.25u7)^2 + (0.25u2 + 0.25u4 + 0.25u6 + 0.25u8)^2)) / sqrt(dx^2 + dy^2))^2)^0.5)) + (0.25(1 + η)*((-0.25u1*(1 - η)) / (0.5dx) + (0.25u3*(1 - η)) / (0.5dx) + (0.25u5*(1 + η)) / (0.5dx) + (-0.25u7*(1 + η)) / (0.5dx))*(0.25u1*(1 - η)*(1 - ξ) + 0.25u5*(1 + η)*(1 + ξ) + 0.25u7*(1 + η)*(1 - ξ) + 0.25u3*(1 + ξ)*(1 - η))) / (0.5dx*(((α / ρ)^2 + ((12μ) / (ρ*(sqrt(dx^2 + dy^2)^2)))^2 + ((2sqrt((0.25u1 + 0.25u3 + 0.25u5 + 0.25u7)^2 + (0.25u2 + 0.25u4 + 0.25u6 + 0.25u8)^2)) / sqrt(dx^2 + dy^2))^2)^0.5)) + 0.25(1 + η)*(1 + ξ)*((-0.25u2*(1 - ξ)) / (0.5dy) + (-0.25u4*(1 + ξ)) / (0.5dy) + (0.25u6*(1 + ξ)) / (0.5dy) + (0.25u8*(1 - ξ)) / (0.5dy)) + 0.25(1 + η)*(1 + ξ)*((-0.25u1*(1 - η)) / (0.5dx) + (0.25u3*(1 - η)) / (0.5dx) + (0.25u5*(1 + η)) / (0.5dx) + (-0.25u7*(1 + η)) / (0.5dx)))\n",
       " 0.25dx*dy*((0.25(1 - ξ)*((-0.25p2*(1 + ξ)) / (0.5dy) + (-0.25p1*(1 - ξ)) / (0.5dy) + (0.25p3*(1 + ξ)) / (0.5dy) + (0.25p4*(1 - ξ)) / (0.5dy))) / (0.5dy*ρ*(((α / ρ)^2 + ((12μ) / (ρ*(sqrt(dx^2 + dy^2)^2)))^2 + ((2sqrt((0.25u1 + 0.25u3 + 0.25u5 + 0.25u7)^2 + (0.25u2 + 0.25u4 + 0.25u6 + 0.25u8)^2)) / sqrt(dx^2 + dy^2))^2)^0.5)) + (-0.25(1 + η)*((0.25p3*(1 + η)) / (0.5dx) + (-0.25p4*(1 + η)) / (0.5dx) + (-0.25p1*(1 - η)) / (0.5dx) + (0.25p2*(1 - η)) / (0.5dx))) / (0.5dx*ρ*(((α / ρ)^2 + ((12μ) / (ρ*(sqrt(dx^2 + dy^2)^2)))^2 + ((2sqrt((0.25u1 + 0.25u3 + 0.25u5 + 0.25u7)^2 + (0.25u2 + 0.25u4 + 0.25u6 + 0.25u8)^2)) / sqrt(dx^2 + dy^2))^2)^0.5)) + (0.25α*(1 - ξ)*(0.25u6*(1 + η)*(1 + ξ) + 0.25u8*(1 + η)*(1 - ξ) + 0.25u4*(1 + ξ)*(1 - η) + 0.25u2*(1 - η)*(1 - ξ))) / (0.5dy*ρ*(((α / ρ)^2 + ((12μ) / (ρ*(sqrt(dx^2 + dy^2)^2)))^2 + ((2sqrt((0.25u1 + 0.25u3 + 0.25u5 + 0.25u7)^2 + (0.25u2 + 0.25u4 + 0.25u6 + 0.25u8)^2)) / sqrt(dx^2 + dy^2))^2)^0.5)) + (-0.25α*(1 + η)*(0.25u1*(1 - η)*(1 - ξ) + 0.25u5*(1 + η)*(1 + ξ) + 0.25u7*(1 + η)*(1 - ξ) + 0.25u3*(1 + ξ)*(1 - η))) / (0.5dx*ρ*(((α / ρ)^2 + ((12μ) / (ρ*(sqrt(dx^2 + dy^2)^2)))^2 + ((2sqrt((0.25u1 + 0.25u3 + 0.25u5 + 0.25u7)^2 + (0.25u2 + 0.25u4 + 0.25u6 + 0.25u8)^2)) / sqrt(dx^2 + dy^2))^2)^0.5)) + (0.25(1 - ξ)*((-0.25u2*(1 - η)) / (0.5dx) + (0.25u6*(1 + η)) / (0.5dx) + (0.25u4*(1 - η)) / (0.5dx) + (-0.25u8*(1 + η)) / (0.5dx))*(0.25u1*(1 - η)*(1 - ξ) + 0.25u5*(1 + η)*(1 + ξ) + 0.25u7*(1 + η)*(1 - ξ) + 0.25u3*(1 + ξ)*(1 - η))) / (0.5dy*(((α / ρ)^2 + ((12μ) / (ρ*(sqrt(dx^2 + dy^2)^2)))^2 + ((2sqrt((0.25u1 + 0.25u3 + 0.25u5 + 0.25u7)^2 + (0.25u2 + 0.25u4 + 0.25u6 + 0.25u8)^2)) / sqrt(dx^2 + dy^2))^2)^0.5)) + (-0.25(1 + η)*((-0.25u1*(1 - η)) / (0.5dx) + (0.25u3*(1 - η)) / (0.5dx) + (0.25u5*(1 + η)) / (0.5dx) + (-0.25u7*(1 + η)) / (0.5dx))*(0.25u1*(1 - η)*(1 - ξ) + 0.25u5*(1 + η)*(1 + ξ) + 0.25u7*(1 + η)*(1 - ξ) + 0.25u3*(1 + ξ)*(1 - η))) / (0.5dx*(((α / ρ)^2 + ((12μ) / (ρ*(sqrt(dx^2 + dy^2)^2)))^2 + ((2sqrt((0.25u1 + 0.25u3 + 0.25u5 + 0.25u7)^2 + (0.25u2 + 0.25u4 + 0.25u6 + 0.25u8)^2)) / sqrt(dx^2 + dy^2))^2)^0.5)) + (-0.25(1 + η)*((-0.25u3*(1 + ξ)) / (0.5dy) + (-0.25u1*(1 - ξ)) / (0.5dy) + (0.25u5*(1 + ξ)) / (0.5dy) + (0.25u7*(1 - ξ)) / (0.5dy))*(0.25u6*(1 + η)*(1 + ξ) + 0.25u8*(1 + η)*(1 - ξ) + 0.25u4*(1 + ξ)*(1 - η) + 0.25u2*(1 - η)*(1 - ξ))) / (0.5dx*(((α / ρ)^2 + ((12μ) / (ρ*(sqrt(dx^2 + dy^2)^2)))^2 + ((2sqrt((0.25u1 + 0.25u3 + 0.25u5 + 0.25u7)^2 + (0.25u2 + 0.25u4 + 0.25u6 + 0.25u8)^2)) / sqrt(dx^2 + dy^2))^2)^0.5)) + (0.25(1 - ξ)*((-0.25u2*(1 - ξ)) / (0.5dy) + (-0.25u4*(1 + ξ)) / (0.5dy) + (0.25u6*(1 + ξ)) / (0.5dy) + (0.25u8*(1 - ξ)) / (0.5dy))*(0.25u6*(1 + η)*(1 + ξ) + 0.25u8*(1 + η)*(1 - ξ) + 0.25u4*(1 + ξ)*(1 - η) + 0.25u2*(1 - η)*(1 - ξ))) / (0.5dy*(((α / ρ)^2 + ((12μ) / (ρ*(sqrt(dx^2 + dy^2)^2)))^2 + ((2sqrt((0.25u1 + 0.25u3 + 0.25u5 + 0.25u7)^2 + (0.25u2 + 0.25u4 + 0.25u6 + 0.25u8)^2)) / sqrt(dx^2 + dy^2))^2)^0.5)) + 0.25(1 + η)*(1 - ξ)*((-0.25u1*(1 - η)) / (0.5dx) + (0.25u3*(1 - η)) / (0.5dx) + (0.25u5*(1 + η)) / (0.5dx) + (-0.25u7*(1 + η)) / (0.5dx)) + 0.25(1 + η)*(1 - ξ)*((-0.25u2*(1 - ξ)) / (0.5dy) + (-0.25u4*(1 + ξ)) / (0.5dy) + (0.25u6*(1 + ξ)) / (0.5dy) + (0.25u8*(1 - ξ)) / (0.5dy)))"
      ]
     },
     "metadata": {},
     "output_type": "display_data"
    }
   ],
   "source": [
    "Rp = simplify(detJ * Rp)"
   ]
  },
  {
   "cell_type": "code",
   "execution_count": 105,
   "id": "0de54ada",
   "metadata": {},
   "outputs": [
    {
     "data": {
      "text/plain": [
       "(4,)"
      ]
     },
     "metadata": {},
     "output_type": "display_data"
    }
   ],
   "source": [
    "size(Rp)"
   ]
  },
  {
   "cell_type": "code",
   "execution_count": 108,
   "id": "1e86861f",
   "metadata": {},
   "outputs": [
    {
     "data": {
      "text/plain": [
       "(8,)"
      ]
     },
     "metadata": {},
     "output_type": "display_data"
    }
   ],
   "source": [
    "size(Ru)"
   ]
  },
  {
   "cell_type": "code",
   "execution_count": 138,
   "id": "c1bcfe1c",
   "metadata": {},
   "outputs": [
    {
     "name": "stdout",
     "output_type": "stream",
     "text": [
      "Integrating Ru...\n"
     ]
    },
    {
     "name": "stdout",
     "output_type": "stream",
     "text": [
      "Integrating Rp...\n"
     ]
    },
    {
     "data": {
      "text/latex": [
       "$$ \\begin{equation}\n",
       "\\left[\n",
       "\\begin{array}{c}\n",
       "0.25 dx dy \\left( \\frac{ - 0.5 \\left( \\frac{ - 0.5 p1}{0.5 dx} + \\frac{0.5 p2}{0.5 dx} \\right)}{0.5 \\left( \\left( \\frac{\\alpha}{\\rho} \\right)^{2} + \\left( \\frac{12 \\mu}{\\left( \\sqrt{dx^{2} + dy^{2}} \\right)^{2} \\rho} \\right)^{2} + \\left( \\frac{2 \\sqrt{\\left( 0.25 u1 + 0.25 u3 + 0.25 u5 + 0.25 u7 \\right)^{2} + \\left( 0.25 u2 + 0.25 u4 + 0.25 u6 + 0.25 u8 \\right)^{2}}}{\\sqrt{dx^{2} + dy^{2}}} \\right)^{2} \\right)^{0.5} dx \\rho} + \\frac{ - 0.5 u3 \\alpha}{0.5 \\left( \\left( \\frac{\\alpha}{\\rho} \\right)^{2} + \\left( \\frac{12 \\mu}{\\left( \\sqrt{dx^{2} + dy^{2}} \\right)^{2} \\rho} \\right)^{2} + \\left( \\frac{2 \\sqrt{\\left( 0.25 u1 + 0.25 u3 + 0.25 u5 + 0.25 u7 \\right)^{2} + \\left( 0.25 u2 + 0.25 u4 + 0.25 u6 + 0.25 u8 \\right)^{2}}}{\\sqrt{dx^{2} + dy^{2}}} \\right)^{2} \\right)^{0.5} dx \\rho} + \\frac{ - 0.5 u3 \\left( \\frac{ - 0.5 u1}{0.5 dx} + \\frac{0.5 u3}{0.5 dx} \\right)}{0.5 \\left( \\left( \\frac{\\alpha}{\\rho} \\right)^{2} + \\left( \\frac{12 \\mu}{\\left( \\sqrt{dx^{2} + dy^{2}} \\right)^{2} \\rho} \\right)^{2} + \\left( \\frac{2 \\sqrt{\\left( 0.25 u1 + 0.25 u3 + 0.25 u5 + 0.25 u7 \\right)^{2} + \\left( 0.25 u2 + 0.25 u4 + 0.25 u6 + 0.25 u8 \\right)^{2}}}{\\sqrt{dx^{2} + dy^{2}}} \\right)^{2} \\right)^{0.5} dx} + \\frac{ - 0.5 u4 \\left( \\frac{ - 0.5 u3}{0.5 dy} + \\frac{0.5 u5}{0.5 dy} \\right)}{0.5 \\left( \\left( \\frac{\\alpha}{\\rho} \\right)^{2} + \\left( \\frac{12 \\mu}{\\left( \\sqrt{dx^{2} + dy^{2}} \\right)^{2} \\rho} \\right)^{2} + \\left( \\frac{2 \\sqrt{\\left( 0.25 u1 + 0.25 u3 + 0.25 u5 + 0.25 u7 \\right)^{2} + \\left( 0.25 u2 + 0.25 u4 + 0.25 u6 + 0.25 u8 \\right)^{2}}}{\\sqrt{dx^{2} + dy^{2}}} \\right)^{2} \\right)^{0.5} dx} \\right) + 0.25 dx dy \\left( \\frac{ - 0.5 \\left( \\frac{ - 0.5 p1}{0.5 dy} + \\frac{0.5 p4}{0.5 dy} \\right)}{0.5 \\left( \\left( \\frac{\\alpha}{\\rho} \\right)^{2} + \\left( \\frac{12 \\mu}{\\left( \\sqrt{dx^{2} + dy^{2}} \\right)^{2} \\rho} \\right)^{2} + \\left( \\frac{2 \\sqrt{\\left( 0.25 u1 + 0.25 u3 + 0.25 u5 + 0.25 u7 \\right)^{2} + \\left( 0.25 u2 + 0.25 u4 + 0.25 u6 + 0.25 u8 \\right)^{2}}}{\\sqrt{dx^{2} + dy^{2}}} \\right)^{2} \\right)^{0.5} dy \\rho} + \\frac{ - 0.5 u8 \\alpha}{0.5 \\left( \\left( \\frac{\\alpha}{\\rho} \\right)^{2} + \\left( \\frac{12 \\mu}{\\left( \\sqrt{dx^{2} + dy^{2}} \\right)^{2} \\rho} \\right)^{2} + \\left( \\frac{2 \\sqrt{\\left( 0.25 u1 + 0.25 u3 + 0.25 u5 + 0.25 u7 \\right)^{2} + \\left( 0.25 u2 + 0.25 u4 + 0.25 u6 + 0.25 u8 \\right)^{2}}}{\\sqrt{dx^{2} + dy^{2}}} \\right)^{2} \\right)^{0.5} dy \\rho} + \\frac{ - 0.5 u8 \\left( \\frac{ - 0.5 u2}{0.5 dy} + \\frac{0.5 u8}{0.5 dy} \\right)}{0.5 \\left( \\left( \\frac{\\alpha}{\\rho} \\right)^{2} + \\left( \\frac{12 \\mu}{\\left( \\sqrt{dx^{2} + dy^{2}} \\right)^{2} \\rho} \\right)^{2} + \\left( \\frac{2 \\sqrt{\\left( 0.25 u1 + 0.25 u3 + 0.25 u5 + 0.25 u7 \\right)^{2} + \\left( 0.25 u2 + 0.25 u4 + 0.25 u6 + 0.25 u8 \\right)^{2}}}{\\sqrt{dx^{2} + dy^{2}}} \\right)^{2} \\right)^{0.5} dy} + \\frac{ - 0.5 u7 \\left( \\frac{0.5 u6}{0.5 dx} + \\frac{ - 0.5 u8}{0.5 dx} \\right)}{0.5 \\left( \\left( \\frac{\\alpha}{\\rho} \\right)^{2} + \\left( \\frac{12 \\mu}{\\left( \\sqrt{dx^{2} + dy^{2}} \\right)^{2} \\rho} \\right)^{2} + \\left( \\frac{2 \\sqrt{\\left( 0.25 u1 + 0.25 u3 + 0.25 u5 + 0.25 u7 \\right)^{2} + \\left( 0.25 u2 + 0.25 u4 + 0.25 u6 + 0.25 u8 \\right)^{2}}}{\\sqrt{dx^{2} + dy^{2}}} \\right)^{2} \\right)^{0.5} dy} \\right) + 0.25 dx dy \\left( \\frac{ - 0.5 u1}{0.5 dx} + \\frac{ - 0.5 u2}{0.5 dy} + \\frac{0.5 u3}{0.5 dx} + \\frac{0.5 u8}{0.5 dy} + \\frac{ - 0.5 \\left( \\frac{ - 0.5 p1}{0.5 dx} + \\frac{0.5 p2}{0.5 dx} \\right)}{0.5 \\left( \\left( \\frac{\\alpha}{\\rho} \\right)^{2} + \\left( \\frac{12 \\mu}{\\left( \\sqrt{dx^{2} + dy^{2}} \\right)^{2} \\rho} \\right)^{2} + \\left( \\frac{2 \\sqrt{\\left( 0.25 u1 + 0.25 u3 + 0.25 u5 + 0.25 u7 \\right)^{2} + \\left( 0.25 u2 + 0.25 u4 + 0.25 u6 + 0.25 u8 \\right)^{2}}}{\\sqrt{dx^{2} + dy^{2}}} \\right)^{2} \\right)^{0.5} dx \\rho} + \\frac{ - 0.5 \\left( \\frac{ - 0.5 p1}{0.5 dy} + \\frac{0.5 p4}{0.5 dy} \\right)}{0.5 \\left( \\left( \\frac{\\alpha}{\\rho} \\right)^{2} + \\left( \\frac{12 \\mu}{\\left( \\sqrt{dx^{2} + dy^{2}} \\right)^{2} \\rho} \\right)^{2} + \\left( \\frac{2 \\sqrt{\\left( 0.25 u1 + 0.25 u3 + 0.25 u5 + 0.25 u7 \\right)^{2} + \\left( 0.25 u2 + 0.25 u4 + 0.25 u6 + 0.25 u8 \\right)^{2}}}{\\sqrt{dx^{2} + dy^{2}}} \\right)^{2} \\right)^{0.5} dy \\rho} + \\frac{ - 0.5 u1 \\alpha}{0.5 \\left( \\left( \\frac{\\alpha}{\\rho} \\right)^{2} + \\left( \\frac{12 \\mu}{\\left( \\sqrt{dx^{2} + dy^{2}} \\right)^{2} \\rho} \\right)^{2} + \\left( \\frac{2 \\sqrt{\\left( 0.25 u1 + 0.25 u3 + 0.25 u5 + 0.25 u7 \\right)^{2} + \\left( 0.25 u2 + 0.25 u4 + 0.25 u6 + 0.25 u8 \\right)^{2}}}{\\sqrt{dx^{2} + dy^{2}}} \\right)^{2} \\right)^{0.5} dx \\rho} + \\frac{ - 0.5 u1 \\left( \\frac{ - 0.5 u1}{0.5 dx} + \\frac{0.5 u3}{0.5 dx} \\right)}{0.5 \\left( \\left( \\frac{\\alpha}{\\rho} \\right)^{2} + \\left( \\frac{12 \\mu}{\\left( \\sqrt{dx^{2} + dy^{2}} \\right)^{2} \\rho} \\right)^{2} + \\left( \\frac{2 \\sqrt{\\left( 0.25 u1 + 0.25 u3 + 0.25 u5 + 0.25 u7 \\right)^{2} + \\left( 0.25 u2 + 0.25 u4 + 0.25 u6 + 0.25 u8 \\right)^{2}}}{\\sqrt{dx^{2} + dy^{2}}} \\right)^{2} \\right)^{0.5} dx} + \\frac{ - 0.5 u1 \\left( \\frac{ - 0.5 u2}{0.5 dx} + \\frac{0.5 u4}{0.5 dx} \\right)}{0.5 \\left( \\left( \\frac{\\alpha}{\\rho} \\right)^{2} + \\left( \\frac{12 \\mu}{\\left( \\sqrt{dx^{2} + dy^{2}} \\right)^{2} \\rho} \\right)^{2} + \\left( \\frac{2 \\sqrt{\\left( 0.25 u1 + 0.25 u3 + 0.25 u5 + 0.25 u7 \\right)^{2} + \\left( 0.25 u2 + 0.25 u4 + 0.25 u6 + 0.25 u8 \\right)^{2}}}{\\sqrt{dx^{2} + dy^{2}}} \\right)^{2} \\right)^{0.5} dy} + \\frac{ - 0.5 u2 \\alpha}{0.5 \\left( \\left( \\frac{\\alpha}{\\rho} \\right)^{2} + \\left( \\frac{12 \\mu}{\\left( \\sqrt{dx^{2} + dy^{2}} \\right)^{2} \\rho} \\right)^{2} + \\left( \\frac{2 \\sqrt{\\left( 0.25 u1 + 0.25 u3 + 0.25 u5 + 0.25 u7 \\right)^{2} + \\left( 0.25 u2 + 0.25 u4 + 0.25 u6 + 0.25 u8 \\right)^{2}}}{\\sqrt{dx^{2} + dy^{2}}} \\right)^{2} \\right)^{0.5} dy \\rho} + \\frac{ - 0.5 u2 \\left( \\frac{ - 0.5 u1}{0.5 dy} + \\frac{0.5 u7}{0.5 dy} \\right)}{0.5 \\left( \\left( \\frac{\\alpha}{\\rho} \\right)^{2} + \\left( \\frac{12 \\mu}{\\left( \\sqrt{dx^{2} + dy^{2}} \\right)^{2} \\rho} \\right)^{2} + \\left( \\frac{2 \\sqrt{\\left( 0.25 u1 + 0.25 u3 + 0.25 u5 + 0.25 u7 \\right)^{2} + \\left( 0.25 u2 + 0.25 u4 + 0.25 u6 + 0.25 u8 \\right)^{2}}}{\\sqrt{dx^{2} + dy^{2}}} \\right)^{2} \\right)^{0.5} dx} + \\frac{ - 0.5 u2 \\left( \\frac{ - 0.5 u2}{0.5 dy} + \\frac{0.5 u8}{0.5 dy} \\right)}{0.5 \\left( \\left( \\frac{\\alpha}{\\rho} \\right)^{2} + \\left( \\frac{12 \\mu}{\\left( \\sqrt{dx^{2} + dy^{2}} \\right)^{2} \\rho} \\right)^{2} + \\left( \\frac{2 \\sqrt{\\left( 0.25 u1 + 0.25 u3 + 0.25 u5 + 0.25 u7 \\right)^{2} + \\left( 0.25 u2 + 0.25 u4 + 0.25 u6 + 0.25 u8 \\right)^{2}}}{\\sqrt{dx^{2} + dy^{2}}} \\right)^{2} \\right)^{0.5} dy} \\right) \\\\\n",
       "0.25 dx dy \\left( \\frac{ - 0.5 \\left( \\frac{ - 0.5 p2}{0.5 dy} + \\frac{0.5 p3}{0.5 dy} \\right)}{0.5 \\left( \\left( \\frac{\\alpha}{\\rho} \\right)^{2} + \\left( \\frac{12 \\mu}{\\left( \\sqrt{dx^{2} + dy^{2}} \\right)^{2} \\rho} \\right)^{2} + \\left( \\frac{2 \\sqrt{\\left( 0.25 u1 + 0.25 u3 + 0.25 u5 + 0.25 u7 \\right)^{2} + \\left( 0.25 u2 + 0.25 u4 + 0.25 u6 + 0.25 u8 \\right)^{2}}}{\\sqrt{dx^{2} + dy^{2}}} \\right)^{2} \\right)^{0.5} dy \\rho} + \\frac{ - 0.5 u5 \\left( \\frac{0.5 u6}{0.5 dx} + \\frac{ - 0.5 u8}{0.5 dx} \\right)}{0.5 \\left( \\left( \\frac{\\alpha}{\\rho} \\right)^{2} + \\left( \\frac{12 \\mu}{\\left( \\sqrt{dx^{2} + dy^{2}} \\right)^{2} \\rho} \\right)^{2} + \\left( \\frac{2 \\sqrt{\\left( 0.25 u1 + 0.25 u3 + 0.25 u5 + 0.25 u7 \\right)^{2} + \\left( 0.25 u2 + 0.25 u4 + 0.25 u6 + 0.25 u8 \\right)^{2}}}{\\sqrt{dx^{2} + dy^{2}}} \\right)^{2} \\right)^{0.5} dy} + \\frac{ - 0.5 u6 \\alpha}{0.5 \\left( \\left( \\frac{\\alpha}{\\rho} \\right)^{2} + \\left( \\frac{12 \\mu}{\\left( \\sqrt{dx^{2} + dy^{2}} \\right)^{2} \\rho} \\right)^{2} + \\left( \\frac{2 \\sqrt{\\left( 0.25 u1 + 0.25 u3 + 0.25 u5 + 0.25 u7 \\right)^{2} + \\left( 0.25 u2 + 0.25 u4 + 0.25 u6 + 0.25 u8 \\right)^{2}}}{\\sqrt{dx^{2} + dy^{2}}} \\right)^{2} \\right)^{0.5} dy \\rho} + \\frac{ - 0.5 u6 \\left( \\frac{ - 0.5 u4}{0.5 dy} + \\frac{0.5 u6}{0.5 dy} \\right)}{0.5 \\left( \\left( \\frac{\\alpha}{\\rho} \\right)^{2} + \\left( \\frac{12 \\mu}{\\left( \\sqrt{dx^{2} + dy^{2}} \\right)^{2} \\rho} \\right)^{2} + \\left( \\frac{2 \\sqrt{\\left( 0.25 u1 + 0.25 u3 + 0.25 u5 + 0.25 u7 \\right)^{2} + \\left( 0.25 u2 + 0.25 u4 + 0.25 u6 + 0.25 u8 \\right)^{2}}}{\\sqrt{dx^{2} + dy^{2}}} \\right)^{2} \\right)^{0.5} dy} \\right) + 0.25 dx dy \\left( \\frac{0.5 \\left( \\frac{ - 0.5 p1}{0.5 dx} + \\frac{0.5 p2}{0.5 dx} \\right)}{0.5 \\left( \\left( \\frac{\\alpha}{\\rho} \\right)^{2} + \\left( \\frac{12 \\mu}{\\left( \\sqrt{dx^{2} + dy^{2}} \\right)^{2} \\rho} \\right)^{2} + \\left( \\frac{2 \\sqrt{\\left( 0.25 u1 + 0.25 u3 + 0.25 u5 + 0.25 u7 \\right)^{2} + \\left( 0.25 u2 + 0.25 u4 + 0.25 u6 + 0.25 u8 \\right)^{2}}}{\\sqrt{dx^{2} + dy^{2}}} \\right)^{2} \\right)^{0.5} dx \\rho} + \\frac{0.5 u1 \\alpha}{0.5 \\left( \\left( \\frac{\\alpha}{\\rho} \\right)^{2} + \\left( \\frac{12 \\mu}{\\left( \\sqrt{dx^{2} + dy^{2}} \\right)^{2} \\rho} \\right)^{2} + \\left( \\frac{2 \\sqrt{\\left( 0.25 u1 + 0.25 u3 + 0.25 u5 + 0.25 u7 \\right)^{2} + \\left( 0.25 u2 + 0.25 u4 + 0.25 u6 + 0.25 u8 \\right)^{2}}}{\\sqrt{dx^{2} + dy^{2}}} \\right)^{2} \\right)^{0.5} dx \\rho} + \\frac{0.5 u1 \\left( \\frac{ - 0.5 u1}{0.5 dx} + \\frac{0.5 u3}{0.5 dx} \\right)}{0.5 \\left( \\left( \\frac{\\alpha}{\\rho} \\right)^{2} + \\left( \\frac{12 \\mu}{\\left( \\sqrt{dx^{2} + dy^{2}} \\right)^{2} \\rho} \\right)^{2} + \\left( \\frac{2 \\sqrt{\\left( 0.25 u1 + 0.25 u3 + 0.25 u5 + 0.25 u7 \\right)^{2} + \\left( 0.25 u2 + 0.25 u4 + 0.25 u6 + 0.25 u8 \\right)^{2}}}{\\sqrt{dx^{2} + dy^{2}}} \\right)^{2} \\right)^{0.5} dx} + \\frac{0.5 u2 \\left( \\frac{ - 0.5 u1}{0.5 dy} + \\frac{0.5 u7}{0.5 dy} \\right)}{0.5 \\left( \\left( \\frac{\\alpha}{\\rho} \\right)^{2} + \\left( \\frac{12 \\mu}{\\left( \\sqrt{dx^{2} + dy^{2}} \\right)^{2} \\rho} \\right)^{2} + \\left( \\frac{2 \\sqrt{\\left( 0.25 u1 + 0.25 u3 + 0.25 u5 + 0.25 u7 \\right)^{2} + \\left( 0.25 u2 + 0.25 u4 + 0.25 u6 + 0.25 u8 \\right)^{2}}}{\\sqrt{dx^{2} + dy^{2}}} \\right)^{2} \\right)^{0.5} dx} \\right) + 0.25 dx dy \\left( \\frac{ - 0.5 u1}{0.5 dx} + \\frac{0.5 u3}{0.5 dx} + \\frac{ - 0.5 u4}{0.5 dy} + \\frac{0.5 u6}{0.5 dy} + \\frac{0.5 \\left( \\frac{ - 0.5 p1}{0.5 dx} + \\frac{0.5 p2}{0.5 dx} \\right)}{0.5 \\left( \\left( \\frac{\\alpha}{\\rho} \\right)^{2} + \\left( \\frac{12 \\mu}{\\left( \\sqrt{dx^{2} + dy^{2}} \\right)^{2} \\rho} \\right)^{2} + \\left( \\frac{2 \\sqrt{\\left( 0.25 u1 + 0.25 u3 + 0.25 u5 + 0.25 u7 \\right)^{2} + \\left( 0.25 u2 + 0.25 u4 + 0.25 u6 + 0.25 u8 \\right)^{2}}}{\\sqrt{dx^{2} + dy^{2}}} \\right)^{2} \\right)^{0.5} dx \\rho} + \\frac{ - 0.5 \\left( \\frac{ - 0.5 p2}{0.5 dy} + \\frac{0.5 p3}{0.5 dy} \\right)}{0.5 \\left( \\left( \\frac{\\alpha}{\\rho} \\right)^{2} + \\left( \\frac{12 \\mu}{\\left( \\sqrt{dx^{2} + dy^{2}} \\right)^{2} \\rho} \\right)^{2} + \\left( \\frac{2 \\sqrt{\\left( 0.25 u1 + 0.25 u3 + 0.25 u5 + 0.25 u7 \\right)^{2} + \\left( 0.25 u2 + 0.25 u4 + 0.25 u6 + 0.25 u8 \\right)^{2}}}{\\sqrt{dx^{2} + dy^{2}}} \\right)^{2} \\right)^{0.5} dy \\rho} + \\frac{0.5 u3 \\alpha}{0.5 \\left( \\left( \\frac{\\alpha}{\\rho} \\right)^{2} + \\left( \\frac{12 \\mu}{\\left( \\sqrt{dx^{2} + dy^{2}} \\right)^{2} \\rho} \\right)^{2} + \\left( \\frac{2 \\sqrt{\\left( 0.25 u1 + 0.25 u3 + 0.25 u5 + 0.25 u7 \\right)^{2} + \\left( 0.25 u2 + 0.25 u4 + 0.25 u6 + 0.25 u8 \\right)^{2}}}{\\sqrt{dx^{2} + dy^{2}}} \\right)^{2} \\right)^{0.5} dx \\rho} + \\frac{0.5 u3 \\left( \\frac{ - 0.5 u1}{0.5 dx} + \\frac{0.5 u3}{0.5 dx} \\right)}{0.5 \\left( \\left( \\frac{\\alpha}{\\rho} \\right)^{2} + \\left( \\frac{12 \\mu}{\\left( \\sqrt{dx^{2} + dy^{2}} \\right)^{2} \\rho} \\right)^{2} + \\left( \\frac{2 \\sqrt{\\left( 0.25 u1 + 0.25 u3 + 0.25 u5 + 0.25 u7 \\right)^{2} + \\left( 0.25 u2 + 0.25 u4 + 0.25 u6 + 0.25 u8 \\right)^{2}}}{\\sqrt{dx^{2} + dy^{2}}} \\right)^{2} \\right)^{0.5} dx} + \\frac{ - 0.5 u3 \\left( \\frac{ - 0.5 u2}{0.5 dx} + \\frac{0.5 u4}{0.5 dx} \\right)}{0.5 \\left( \\left( \\frac{\\alpha}{\\rho} \\right)^{2} + \\left( \\frac{12 \\mu}{\\left( \\sqrt{dx^{2} + dy^{2}} \\right)^{2} \\rho} \\right)^{2} + \\left( \\frac{2 \\sqrt{\\left( 0.25 u1 + 0.25 u3 + 0.25 u5 + 0.25 u7 \\right)^{2} + \\left( 0.25 u2 + 0.25 u4 + 0.25 u6 + 0.25 u8 \\right)^{2}}}{\\sqrt{dx^{2} + dy^{2}}} \\right)^{2} \\right)^{0.5} dy} + \\frac{ - 0.5 u4 \\alpha}{0.5 \\left( \\left( \\frac{\\alpha}{\\rho} \\right)^{2} + \\left( \\frac{12 \\mu}{\\left( \\sqrt{dx^{2} + dy^{2}} \\right)^{2} \\rho} \\right)^{2} + \\left( \\frac{2 \\sqrt{\\left( 0.25 u1 + 0.25 u3 + 0.25 u5 + 0.25 u7 \\right)^{2} + \\left( 0.25 u2 + 0.25 u4 + 0.25 u6 + 0.25 u8 \\right)^{2}}}{\\sqrt{dx^{2} + dy^{2}}} \\right)^{2} \\right)^{0.5} dy \\rho} + \\frac{0.5 u4 \\left( \\frac{ - 0.5 u3}{0.5 dy} + \\frac{0.5 u5}{0.5 dy} \\right)}{0.5 \\left( \\left( \\frac{\\alpha}{\\rho} \\right)^{2} + \\left( \\frac{12 \\mu}{\\left( \\sqrt{dx^{2} + dy^{2}} \\right)^{2} \\rho} \\right)^{2} + \\left( \\frac{2 \\sqrt{\\left( 0.25 u1 + 0.25 u3 + 0.25 u5 + 0.25 u7 \\right)^{2} + \\left( 0.25 u2 + 0.25 u4 + 0.25 u6 + 0.25 u8 \\right)^{2}}}{\\sqrt{dx^{2} + dy^{2}}} \\right)^{2} \\right)^{0.5} dx} + \\frac{ - 0.5 u4 \\left( \\frac{ - 0.5 u4}{0.5 dy} + \\frac{0.5 u6}{0.5 dy} \\right)}{0.5 \\left( \\left( \\frac{\\alpha}{\\rho} \\right)^{2} + \\left( \\frac{12 \\mu}{\\left( \\sqrt{dx^{2} + dy^{2}} \\right)^{2} \\rho} \\right)^{2} + \\left( \\frac{2 \\sqrt{\\left( 0.25 u1 + 0.25 u3 + 0.25 u5 + 0.25 u7 \\right)^{2} + \\left( 0.25 u2 + 0.25 u4 + 0.25 u6 + 0.25 u8 \\right)^{2}}}{\\sqrt{dx^{2} + dy^{2}}} \\right)^{2} \\right)^{0.5} dy} \\right) \\\\\n",
       "0.25 dx dy \\left( \\frac{0.5 \\left( \\frac{ - 0.5 p2}{0.5 dy} + \\frac{0.5 p3}{0.5 dy} \\right)}{0.5 \\left( \\left( \\frac{\\alpha}{\\rho} \\right)^{2} + \\left( \\frac{12 \\mu}{\\left( \\sqrt{dx^{2} + dy^{2}} \\right)^{2} \\rho} \\right)^{2} + \\left( \\frac{2 \\sqrt{\\left( 0.25 u1 + 0.25 u3 + 0.25 u5 + 0.25 u7 \\right)^{2} + \\left( 0.25 u2 + 0.25 u4 + 0.25 u6 + 0.25 u8 \\right)^{2}}}{\\sqrt{dx^{2} + dy^{2}}} \\right)^{2} \\right)^{0.5} dy \\rho} + \\frac{0.5 u4 \\alpha}{0.5 \\left( \\left( \\frac{\\alpha}{\\rho} \\right)^{2} + \\left( \\frac{12 \\mu}{\\left( \\sqrt{dx^{2} + dy^{2}} \\right)^{2} \\rho} \\right)^{2} + \\left( \\frac{2 \\sqrt{\\left( 0.25 u1 + 0.25 u3 + 0.25 u5 + 0.25 u7 \\right)^{2} + \\left( 0.25 u2 + 0.25 u4 + 0.25 u6 + 0.25 u8 \\right)^{2}}}{\\sqrt{dx^{2} + dy^{2}}} \\right)^{2} \\right)^{0.5} dy \\rho} + \\frac{0.5 u3 \\left( \\frac{ - 0.5 u2}{0.5 dx} + \\frac{0.5 u4}{0.5 dx} \\right)}{0.5 \\left( \\left( \\frac{\\alpha}{\\rho} \\right)^{2} + \\left( \\frac{12 \\mu}{\\left( \\sqrt{dx^{2} + dy^{2}} \\right)^{2} \\rho} \\right)^{2} + \\left( \\frac{2 \\sqrt{\\left( 0.25 u1 + 0.25 u3 + 0.25 u5 + 0.25 u7 \\right)^{2} + \\left( 0.25 u2 + 0.25 u4 + 0.25 u6 + 0.25 u8 \\right)^{2}}}{\\sqrt{dx^{2} + dy^{2}}} \\right)^{2} \\right)^{0.5} dy} + \\frac{0.5 u4 \\left( \\frac{ - 0.5 u4}{0.5 dy} + \\frac{0.5 u6}{0.5 dy} \\right)}{0.5 \\left( \\left( \\frac{\\alpha}{\\rho} \\right)^{2} + \\left( \\frac{12 \\mu}{\\left( \\sqrt{dx^{2} + dy^{2}} \\right)^{2} \\rho} \\right)^{2} + \\left( \\frac{2 \\sqrt{\\left( 0.25 u1 + 0.25 u3 + 0.25 u5 + 0.25 u7 \\right)^{2} + \\left( 0.25 u2 + 0.25 u4 + 0.25 u6 + 0.25 u8 \\right)^{2}}}{\\sqrt{dx^{2} + dy^{2}}} \\right)^{2} \\right)^{0.5} dy} \\right) + 0.25 dx dy \\left( \\frac{0.5 \\left( \\frac{0.5 p3}{0.5 dx} + \\frac{ - 0.5 p4}{0.5 dx} \\right)}{0.5 \\left( \\left( \\frac{\\alpha}{\\rho} \\right)^{2} + \\left( \\frac{12 \\mu}{\\left( \\sqrt{dx^{2} + dy^{2}} \\right)^{2} \\rho} \\right)^{2} + \\left( \\frac{2 \\sqrt{\\left( 0.25 u1 + 0.25 u3 + 0.25 u5 + 0.25 u7 \\right)^{2} + \\left( 0.25 u2 + 0.25 u4 + 0.25 u6 + 0.25 u8 \\right)^{2}}}{\\sqrt{dx^{2} + dy^{2}}} \\right)^{2} \\right)^{0.5} dx \\rho} + \\frac{0.5 u7 \\alpha}{0.5 \\left( \\left( \\frac{\\alpha}{\\rho} \\right)^{2} + \\left( \\frac{12 \\mu}{\\left( \\sqrt{dx^{2} + dy^{2}} \\right)^{2} \\rho} \\right)^{2} + \\left( \\frac{2 \\sqrt{\\left( 0.25 u1 + 0.25 u3 + 0.25 u5 + 0.25 u7 \\right)^{2} + \\left( 0.25 u2 + 0.25 u4 + 0.25 u6 + 0.25 u8 \\right)^{2}}}{\\sqrt{dx^{2} + dy^{2}}} \\right)^{2} \\right)^{0.5} dx \\rho} + \\frac{0.5 u7 \\left( \\frac{0.5 u5}{0.5 dx} + \\frac{ - 0.5 u7}{0.5 dx} \\right)}{0.5 \\left( \\left( \\frac{\\alpha}{\\rho} \\right)^{2} + \\left( \\frac{12 \\mu}{\\left( \\sqrt{dx^{2} + dy^{2}} \\right)^{2} \\rho} \\right)^{2} + \\left( \\frac{2 \\sqrt{\\left( 0.25 u1 + 0.25 u3 + 0.25 u5 + 0.25 u7 \\right)^{2} + \\left( 0.25 u2 + 0.25 u4 + 0.25 u6 + 0.25 u8 \\right)^{2}}}{\\sqrt{dx^{2} + dy^{2}}} \\right)^{2} \\right)^{0.5} dx} + \\frac{0.5 u8 \\left( \\frac{ - 0.5 u1}{0.5 dy} + \\frac{0.5 u7}{0.5 dy} \\right)}{0.5 \\left( \\left( \\frac{\\alpha}{\\rho} \\right)^{2} + \\left( \\frac{12 \\mu}{\\left( \\sqrt{dx^{2} + dy^{2}} \\right)^{2} \\rho} \\right)^{2} + \\left( \\frac{2 \\sqrt{\\left( 0.25 u1 + 0.25 u3 + 0.25 u5 + 0.25 u7 \\right)^{2} + \\left( 0.25 u2 + 0.25 u4 + 0.25 u6 + 0.25 u8 \\right)^{2}}}{\\sqrt{dx^{2} + dy^{2}}} \\right)^{2} \\right)^{0.5} dx} \\right) + 0.25 dx dy \\left( \\frac{ - 0.5 u4}{0.5 dy} + \\frac{0.5 u5}{0.5 dx} + \\frac{0.5 u6}{0.5 dy} + \\frac{ - 0.5 u7}{0.5 dx} + \\frac{0.5 \\left( \\frac{ - 0.5 p2}{0.5 dy} + \\frac{0.5 p3}{0.5 dy} \\right)}{0.5 \\left( \\left( \\frac{\\alpha}{\\rho} \\right)^{2} + \\left( \\frac{12 \\mu}{\\left( \\sqrt{dx^{2} + dy^{2}} \\right)^{2} \\rho} \\right)^{2} + \\left( \\frac{2 \\sqrt{\\left( 0.25 u1 + 0.25 u3 + 0.25 u5 + 0.25 u7 \\right)^{2} + \\left( 0.25 u2 + 0.25 u4 + 0.25 u6 + 0.25 u8 \\right)^{2}}}{\\sqrt{dx^{2} + dy^{2}}} \\right)^{2} \\right)^{0.5} dy \\rho} + \\frac{0.5 \\left( \\frac{0.5 p3}{0.5 dx} + \\frac{ - 0.5 p4}{0.5 dx} \\right)}{0.5 \\left( \\left( \\frac{\\alpha}{\\rho} \\right)^{2} + \\left( \\frac{12 \\mu}{\\left( \\sqrt{dx^{2} + dy^{2}} \\right)^{2} \\rho} \\right)^{2} + \\left( \\frac{2 \\sqrt{\\left( 0.25 u1 + 0.25 u3 + 0.25 u5 + 0.25 u7 \\right)^{2} + \\left( 0.25 u2 + 0.25 u4 + 0.25 u6 + 0.25 u8 \\right)^{2}}}{\\sqrt{dx^{2} + dy^{2}}} \\right)^{2} \\right)^{0.5} dx \\rho} + \\frac{0.5 u5 \\alpha}{0.5 \\left( \\left( \\frac{\\alpha}{\\rho} \\right)^{2} + \\left( \\frac{12 \\mu}{\\left( \\sqrt{dx^{2} + dy^{2}} \\right)^{2} \\rho} \\right)^{2} + \\left( \\frac{2 \\sqrt{\\left( 0.25 u1 + 0.25 u3 + 0.25 u5 + 0.25 u7 \\right)^{2} + \\left( 0.25 u2 + 0.25 u4 + 0.25 u6 + 0.25 u8 \\right)^{2}}}{\\sqrt{dx^{2} + dy^{2}}} \\right)^{2} \\right)^{0.5} dx \\rho} + \\frac{0.5 u6 \\alpha}{0.5 \\left( \\left( \\frac{\\alpha}{\\rho} \\right)^{2} + \\left( \\frac{12 \\mu}{\\left( \\sqrt{dx^{2} + dy^{2}} \\right)^{2} \\rho} \\right)^{2} + \\left( \\frac{2 \\sqrt{\\left( 0.25 u1 + 0.25 u3 + 0.25 u5 + 0.25 u7 \\right)^{2} + \\left( 0.25 u2 + 0.25 u4 + 0.25 u6 + 0.25 u8 \\right)^{2}}}{\\sqrt{dx^{2} + dy^{2}}} \\right)^{2} \\right)^{0.5} dy \\rho} + \\frac{0.5 u6 \\left( \\frac{ - 0.5 u3}{0.5 dy} + \\frac{0.5 u5}{0.5 dy} \\right)}{0.5 \\left( \\left( \\frac{\\alpha}{\\rho} \\right)^{2} + \\left( \\frac{12 \\mu}{\\left( \\sqrt{dx^{2} + dy^{2}} \\right)^{2} \\rho} \\right)^{2} + \\left( \\frac{2 \\sqrt{\\left( 0.25 u1 + 0.25 u3 + 0.25 u5 + 0.25 u7 \\right)^{2} + \\left( 0.25 u2 + 0.25 u4 + 0.25 u6 + 0.25 u8 \\right)^{2}}}{\\sqrt{dx^{2} + dy^{2}}} \\right)^{2} \\right)^{0.5} dx} + \\frac{0.5 u6 \\left( \\frac{ - 0.5 u4}{0.5 dy} + \\frac{0.5 u6}{0.5 dy} \\right)}{0.5 \\left( \\left( \\frac{\\alpha}{\\rho} \\right)^{2} + \\left( \\frac{12 \\mu}{\\left( \\sqrt{dx^{2} + dy^{2}} \\right)^{2} \\rho} \\right)^{2} + \\left( \\frac{2 \\sqrt{\\left( 0.25 u1 + 0.25 u3 + 0.25 u5 + 0.25 u7 \\right)^{2} + \\left( 0.25 u2 + 0.25 u4 + 0.25 u6 + 0.25 u8 \\right)^{2}}}{\\sqrt{dx^{2} + dy^{2}}} \\right)^{2} \\right)^{0.5} dy} + \\frac{0.5 u5 \\left( \\frac{0.5 u5}{0.5 dx} + \\frac{ - 0.5 u7}{0.5 dx} \\right)}{0.5 \\left( \\left( \\frac{\\alpha}{\\rho} \\right)^{2} + \\left( \\frac{12 \\mu}{\\left( \\sqrt{dx^{2} + dy^{2}} \\right)^{2} \\rho} \\right)^{2} + \\left( \\frac{2 \\sqrt{\\left( 0.25 u1 + 0.25 u3 + 0.25 u5 + 0.25 u7 \\right)^{2} + \\left( 0.25 u2 + 0.25 u4 + 0.25 u6 + 0.25 u8 \\right)^{2}}}{\\sqrt{dx^{2} + dy^{2}}} \\right)^{2} \\right)^{0.5} dx} + \\frac{0.5 u5 \\left( \\frac{0.5 u6}{0.5 dx} + \\frac{ - 0.5 u8}{0.5 dx} \\right)}{0.5 \\left( \\left( \\frac{\\alpha}{\\rho} \\right)^{2} + \\left( \\frac{12 \\mu}{\\left( \\sqrt{dx^{2} + dy^{2}} \\right)^{2} \\rho} \\right)^{2} + \\left( \\frac{2 \\sqrt{\\left( 0.25 u1 + 0.25 u3 + 0.25 u5 + 0.25 u7 \\right)^{2} + \\left( 0.25 u2 + 0.25 u4 + 0.25 u6 + 0.25 u8 \\right)^{2}}}{\\sqrt{dx^{2} + dy^{2}}} \\right)^{2} \\right)^{0.5} dy} \\right) \\\\\n",
       "0.25 dx dy \\left( \\frac{ - 0.5 \\left( \\frac{0.5 p3}{0.5 dx} + \\frac{ - 0.5 p4}{0.5 dx} \\right)}{0.5 \\left( \\left( \\frac{\\alpha}{\\rho} \\right)^{2} + \\left( \\frac{12 \\mu}{\\left( \\sqrt{dx^{2} + dy^{2}} \\right)^{2} \\rho} \\right)^{2} + \\left( \\frac{2 \\sqrt{\\left( 0.25 u1 + 0.25 u3 + 0.25 u5 + 0.25 u7 \\right)^{2} + \\left( 0.25 u2 + 0.25 u4 + 0.25 u6 + 0.25 u8 \\right)^{2}}}{\\sqrt{dx^{2} + dy^{2}}} \\right)^{2} \\right)^{0.5} dx \\rho} + \\frac{ - 0.5 u5 \\alpha}{0.5 \\left( \\left( \\frac{\\alpha}{\\rho} \\right)^{2} + \\left( \\frac{12 \\mu}{\\left( \\sqrt{dx^{2} + dy^{2}} \\right)^{2} \\rho} \\right)^{2} + \\left( \\frac{2 \\sqrt{\\left( 0.25 u1 + 0.25 u3 + 0.25 u5 + 0.25 u7 \\right)^{2} + \\left( 0.25 u2 + 0.25 u4 + 0.25 u6 + 0.25 u8 \\right)^{2}}}{\\sqrt{dx^{2} + dy^{2}}} \\right)^{2} \\right)^{0.5} dx \\rho} + \\frac{ - 0.5 u6 \\left( \\frac{ - 0.5 u3}{0.5 dy} + \\frac{0.5 u5}{0.5 dy} \\right)}{0.5 \\left( \\left( \\frac{\\alpha}{\\rho} \\right)^{2} + \\left( \\frac{12 \\mu}{\\left( \\sqrt{dx^{2} + dy^{2}} \\right)^{2} \\rho} \\right)^{2} + \\left( \\frac{2 \\sqrt{\\left( 0.25 u1 + 0.25 u3 + 0.25 u5 + 0.25 u7 \\right)^{2} + \\left( 0.25 u2 + 0.25 u4 + 0.25 u6 + 0.25 u8 \\right)^{2}}}{\\sqrt{dx^{2} + dy^{2}}} \\right)^{2} \\right)^{0.5} dx} + \\frac{ - 0.5 u5 \\left( \\frac{0.5 u5}{0.5 dx} + \\frac{ - 0.5 u7}{0.5 dx} \\right)}{0.5 \\left( \\left( \\frac{\\alpha}{\\rho} \\right)^{2} + \\left( \\frac{12 \\mu}{\\left( \\sqrt{dx^{2} + dy^{2}} \\right)^{2} \\rho} \\right)^{2} + \\left( \\frac{2 \\sqrt{\\left( 0.25 u1 + 0.25 u3 + 0.25 u5 + 0.25 u7 \\right)^{2} + \\left( 0.25 u2 + 0.25 u4 + 0.25 u6 + 0.25 u8 \\right)^{2}}}{\\sqrt{dx^{2} + dy^{2}}} \\right)^{2} \\right)^{0.5} dx} \\right) + 0.25 dx dy \\left( \\frac{0.5 \\left( \\frac{ - 0.5 p1}{0.5 dy} + \\frac{0.5 p4}{0.5 dy} \\right)}{0.5 \\left( \\left( \\frac{\\alpha}{\\rho} \\right)^{2} + \\left( \\frac{12 \\mu}{\\left( \\sqrt{dx^{2} + dy^{2}} \\right)^{2} \\rho} \\right)^{2} + \\left( \\frac{2 \\sqrt{\\left( 0.25 u1 + 0.25 u3 + 0.25 u5 + 0.25 u7 \\right)^{2} + \\left( 0.25 u2 + 0.25 u4 + 0.25 u6 + 0.25 u8 \\right)^{2}}}{\\sqrt{dx^{2} + dy^{2}}} \\right)^{2} \\right)^{0.5} dy \\rho} + \\frac{0.5 u2 \\alpha}{0.5 \\left( \\left( \\frac{\\alpha}{\\rho} \\right)^{2} + \\left( \\frac{12 \\mu}{\\left( \\sqrt{dx^{2} + dy^{2}} \\right)^{2} \\rho} \\right)^{2} + \\left( \\frac{2 \\sqrt{\\left( 0.25 u1 + 0.25 u3 + 0.25 u5 + 0.25 u7 \\right)^{2} + \\left( 0.25 u2 + 0.25 u4 + 0.25 u6 + 0.25 u8 \\right)^{2}}}{\\sqrt{dx^{2} + dy^{2}}} \\right)^{2} \\right)^{0.5} dy \\rho} + \\frac{0.5 u1 \\left( \\frac{ - 0.5 u2}{0.5 dx} + \\frac{0.5 u4}{0.5 dx} \\right)}{0.5 \\left( \\left( \\frac{\\alpha}{\\rho} \\right)^{2} + \\left( \\frac{12 \\mu}{\\left( \\sqrt{dx^{2} + dy^{2}} \\right)^{2} \\rho} \\right)^{2} + \\left( \\frac{2 \\sqrt{\\left( 0.25 u1 + 0.25 u3 + 0.25 u5 + 0.25 u7 \\right)^{2} + \\left( 0.25 u2 + 0.25 u4 + 0.25 u6 + 0.25 u8 \\right)^{2}}}{\\sqrt{dx^{2} + dy^{2}}} \\right)^{2} \\right)^{0.5} dy} + \\frac{0.5 u2 \\left( \\frac{ - 0.5 u2}{0.5 dy} + \\frac{0.5 u8}{0.5 dy} \\right)}{0.5 \\left( \\left( \\frac{\\alpha}{\\rho} \\right)^{2} + \\left( \\frac{12 \\mu}{\\left( \\sqrt{dx^{2} + dy^{2}} \\right)^{2} \\rho} \\right)^{2} + \\left( \\frac{2 \\sqrt{\\left( 0.25 u1 + 0.25 u3 + 0.25 u5 + 0.25 u7 \\right)^{2} + \\left( 0.25 u2 + 0.25 u4 + 0.25 u6 + 0.25 u8 \\right)^{2}}}{\\sqrt{dx^{2} + dy^{2}}} \\right)^{2} \\right)^{0.5} dy} \\right) + 0.25 dx dy \\left( \\frac{ - 0.5 u2}{0.5 dy} + \\frac{0.5 u5}{0.5 dx} + \\frac{ - 0.5 u7}{0.5 dx} + \\frac{0.5 u8}{0.5 dy} + \\frac{0.5 \\left( \\frac{ - 0.5 p1}{0.5 dy} + \\frac{0.5 p4}{0.5 dy} \\right)}{0.5 \\left( \\left( \\frac{\\alpha}{\\rho} \\right)^{2} + \\left( \\frac{12 \\mu}{\\left( \\sqrt{dx^{2} + dy^{2}} \\right)^{2} \\rho} \\right)^{2} + \\left( \\frac{2 \\sqrt{\\left( 0.25 u1 + 0.25 u3 + 0.25 u5 + 0.25 u7 \\right)^{2} + \\left( 0.25 u2 + 0.25 u4 + 0.25 u6 + 0.25 u8 \\right)^{2}}}{\\sqrt{dx^{2} + dy^{2}}} \\right)^{2} \\right)^{0.5} dy \\rho} + \\frac{ - 0.5 \\left( \\frac{0.5 p3}{0.5 dx} + \\frac{ - 0.5 p4}{0.5 dx} \\right)}{0.5 \\left( \\left( \\frac{\\alpha}{\\rho} \\right)^{2} + \\left( \\frac{12 \\mu}{\\left( \\sqrt{dx^{2} + dy^{2}} \\right)^{2} \\rho} \\right)^{2} + \\left( \\frac{2 \\sqrt{\\left( 0.25 u1 + 0.25 u3 + 0.25 u5 + 0.25 u7 \\right)^{2} + \\left( 0.25 u2 + 0.25 u4 + 0.25 u6 + 0.25 u8 \\right)^{2}}}{\\sqrt{dx^{2} + dy^{2}}} \\right)^{2} \\right)^{0.5} dx \\rho} + \\frac{ - 0.5 u7 \\alpha}{0.5 \\left( \\left( \\frac{\\alpha}{\\rho} \\right)^{2} + \\left( \\frac{12 \\mu}{\\left( \\sqrt{dx^{2} + dy^{2}} \\right)^{2} \\rho} \\right)^{2} + \\left( \\frac{2 \\sqrt{\\left( 0.25 u1 + 0.25 u3 + 0.25 u5 + 0.25 u7 \\right)^{2} + \\left( 0.25 u2 + 0.25 u4 + 0.25 u6 + 0.25 u8 \\right)^{2}}}{\\sqrt{dx^{2} + dy^{2}}} \\right)^{2} \\right)^{0.5} dx \\rho} + \\frac{ - 0.5 u7 \\left( \\frac{0.5 u5}{0.5 dx} + \\frac{ - 0.5 u7}{0.5 dx} \\right)}{0.5 \\left( \\left( \\frac{\\alpha}{\\rho} \\right)^{2} + \\left( \\frac{12 \\mu}{\\left( \\sqrt{dx^{2} + dy^{2}} \\right)^{2} \\rho} \\right)^{2} + \\left( \\frac{2 \\sqrt{\\left( 0.25 u1 + 0.25 u3 + 0.25 u5 + 0.25 u7 \\right)^{2} + \\left( 0.25 u2 + 0.25 u4 + 0.25 u6 + 0.25 u8 \\right)^{2}}}{\\sqrt{dx^{2} + dy^{2}}} \\right)^{2} \\right)^{0.5} dx} + \\frac{0.5 u7 \\left( \\frac{0.5 u6}{0.5 dx} + \\frac{ - 0.5 u8}{0.5 dx} \\right)}{0.5 \\left( \\left( \\frac{\\alpha}{\\rho} \\right)^{2} + \\left( \\frac{12 \\mu}{\\left( \\sqrt{dx^{2} + dy^{2}} \\right)^{2} \\rho} \\right)^{2} + \\left( \\frac{2 \\sqrt{\\left( 0.25 u1 + 0.25 u3 + 0.25 u5 + 0.25 u7 \\right)^{2} + \\left( 0.25 u2 + 0.25 u4 + 0.25 u6 + 0.25 u8 \\right)^{2}}}{\\sqrt{dx^{2} + dy^{2}}} \\right)^{2} \\right)^{0.5} dy} + \\frac{0.5 u8 \\alpha}{0.5 \\left( \\left( \\frac{\\alpha}{\\rho} \\right)^{2} + \\left( \\frac{12 \\mu}{\\left( \\sqrt{dx^{2} + dy^{2}} \\right)^{2} \\rho} \\right)^{2} + \\left( \\frac{2 \\sqrt{\\left( 0.25 u1 + 0.25 u3 + 0.25 u5 + 0.25 u7 \\right)^{2} + \\left( 0.25 u2 + 0.25 u4 + 0.25 u6 + 0.25 u8 \\right)^{2}}}{\\sqrt{dx^{2} + dy^{2}}} \\right)^{2} \\right)^{0.5} dy \\rho} + \\frac{ - 0.5 u8 \\left( \\frac{ - 0.5 u1}{0.5 dy} + \\frac{0.5 u7}{0.5 dy} \\right)}{0.5 \\left( \\left( \\frac{\\alpha}{\\rho} \\right)^{2} + \\left( \\frac{12 \\mu}{\\left( \\sqrt{dx^{2} + dy^{2}} \\right)^{2} \\rho} \\right)^{2} + \\left( \\frac{2 \\sqrt{\\left( 0.25 u1 + 0.25 u3 + 0.25 u5 + 0.25 u7 \\right)^{2} + \\left( 0.25 u2 + 0.25 u4 + 0.25 u6 + 0.25 u8 \\right)^{2}}}{\\sqrt{dx^{2} + dy^{2}}} \\right)^{2} \\right)^{0.5} dx} + \\frac{0.5 u8 \\left( \\frac{ - 0.5 u2}{0.5 dy} + \\frac{0.5 u8}{0.5 dy} \\right)}{0.5 \\left( \\left( \\frac{\\alpha}{\\rho} \\right)^{2} + \\left( \\frac{12 \\mu}{\\left( \\sqrt{dx^{2} + dy^{2}} \\right)^{2} \\rho} \\right)^{2} + \\left( \\frac{2 \\sqrt{\\left( 0.25 u1 + 0.25 u3 + 0.25 u5 + 0.25 u7 \\right)^{2} + \\left( 0.25 u2 + 0.25 u4 + 0.25 u6 + 0.25 u8 \\right)^{2}}}{\\sqrt{dx^{2} + dy^{2}}} \\right)^{2} \\right)^{0.5} dy} \\right) \\\\\n",
       "\\end{array}\n",
       "\\right]\n",
       "\\end{equation}\n",
       " $$"
      ],
      "text/plain": [
       "4-element Vector{Num}:\n",
       " 0.25dx*dy*((-0.5((-0.5p1) / (0.5dx) + (0.5p2) / (0.5dx))) / (0.5dx*ρ*(((α / ρ)^2 + ((12μ) / (ρ*(sqrt(dx^2 + dy^2)^2)))^2 + ((2sqrt((0.25u1 + 0.25u3 + 0.25u5 + 0.25u7)^2 + (0.25u2 + 0.25u4 + 0.25u6 + 0.25u8)^2)) / sqrt(dx^2 + dy^2))^2)^0.5)) + (-0.5u3*α) / (0.5dx*ρ*(((α / ρ)^2 + ((12μ) / (ρ*(sqrt(dx^2 + dy^2)^2)))^2 + ((2sqrt((0.25u1 + 0.25u3 + 0.25u5 + 0.25u7)^2 + (0.25u2 + 0.25u4 + 0.25u6 + 0.25u8)^2)) / sqrt(dx^2 + dy^2))^2)^0.5)) + (-0.5u3*((-0.5u1) / (0.5dx) + (0.5u3) / (0.5dx))) / (0.5dx*(((α / ρ)^2 + ((12μ) / (ρ*(sqrt(dx^2 + dy^2)^2)))^2 + ((2sqrt((0.25u1 + 0.25u3 + 0.25u5 + 0.25u7)^2 + (0.25u2 + 0.25u4 + 0.25u6 + 0.25u8)^2)) / sqrt(dx^2 + dy^2))^2)^0.5)) + (-0.5u4*((-0.5u3) / (0.5dy) + (0.5u5) / (0.5dy))) / (0.5dx*(((α / ρ)^2 + ((12μ) / (ρ*(sqrt(dx^2 + dy^2)^2)))^2 + ((2sqrt((0.25u1 + 0.25u3 + 0.25u5 + 0.25u7)^2 + (0.25u2 + 0.25u4 + 0.25u6 + 0.25u8)^2)) / sqrt(dx^2 + dy^2))^2)^0.5))) + 0.25dx*dy*((-0.5((-0.5p1) / (0.5dy) + (0.5p4) / (0.5dy))) / (0.5dy*ρ*(((α / ρ)^2 + ((12μ) / (ρ*(sqrt(dx^2 + dy^2)^2)))^2 + ((2sqrt((0.25u1 + 0.25u3 + 0.25u5 + 0.25u7)^2 + (0.25u2 + 0.25u4 + 0.25u6 + 0.25u8)^2)) / sqrt(dx^2 + dy^2))^2)^0.5)) + (-0.5u8*α) / (0.5dy*ρ*(((α / ρ)^2 + ((12μ) / (ρ*(sqrt(dx^2 + dy^2)^2)))^2 + ((2sqrt((0.25u1 + 0.25u3 + 0.25u5 + 0.25u7)^2 + (0.25u2 + 0.25u4 + 0.25u6 + 0.25u8)^2)) / sqrt(dx^2 + dy^2))^2)^0.5)) + (-0.5u8*((-0.5u2) / (0.5dy) + (0.5u8) / (0.5dy))) / (0.5dy*(((α / ρ)^2 + ((12μ) / (ρ*(sqrt(dx^2 + dy^2)^2)))^2 + ((2sqrt((0.25u1 + 0.25u3 + 0.25u5 + 0.25u7)^2 + (0.25u2 + 0.25u4 + 0.25u6 + 0.25u8)^2)) / sqrt(dx^2 + dy^2))^2)^0.5)) + (-0.5u7*((0.5u6) / (0.5dx) + (-0.5u8) / (0.5dx))) / (0.5dy*(((α / ρ)^2 + ((12μ) / (ρ*(sqrt(dx^2 + dy^2)^2)))^2 + ((2sqrt((0.25u1 + 0.25u3 + 0.25u5 + 0.25u7)^2 + (0.25u2 + 0.25u4 + 0.25u6 + 0.25u8)^2)) / sqrt(dx^2 + dy^2))^2)^0.5))) + 0.25dx*dy*((-0.5u1) / (0.5dx) + (-0.5u2) / (0.5dy) + (0.5u3) / (0.5dx) + (0.5u8) / (0.5dy) + (-0.5((-0.5p1) / (0.5dx) + (0.5p2) / (0.5dx))) / (0.5dx*ρ*(((α / ρ)^2 + ((12μ) / (ρ*(sqrt(dx^2 + dy^2)^2)))^2 + ((2sqrt((0.25u1 + 0.25u3 + 0.25u5 + 0.25u7)^2 + (0.25u2 + 0.25u4 + 0.25u6 + 0.25u8)^2)) / sqrt(dx^2 + dy^2))^2)^0.5)) + (-0.5((-0.5p1) / (0.5dy) + (0.5p4) / (0.5dy))) / (0.5dy*ρ*(((α / ρ)^2 + ((12μ) / (ρ*(sqrt(dx^2 + dy^2)^2)))^2 + ((2sqrt((0.25u1 + 0.25u3 + 0.25u5 + 0.25u7)^2 + (0.25u2 + 0.25u4 + 0.25u6 + 0.25u8)^2)) / sqrt(dx^2 + dy^2))^2)^0.5)) + (-0.5u1*α) / (0.5dx*ρ*(((α / ρ)^2 + ((12μ) / (ρ*(sqrt(dx^2 + dy^2)^2)))^2 + ((2sqrt((0.25u1 + 0.25u3 + 0.25u5 + 0.25u7)^2 + (0.25u2 + 0.25u4 + 0.25u6 + 0.25u8)^2)) / sqrt(dx^2 + dy^2))^2)^0.5)) + (-0.5u1*((-0.5u1) / (0.5dx) + (0.5u3) / (0.5dx))) / (0.5dx*(((α / ρ)^2 + ((12μ) / (ρ*(sqrt(dx^2 + dy^2)^2)))^2 + ((2sqrt((0.25u1 + 0.25u3 + 0.25u5 + 0.25u7)^2 + (0.25u2 + 0.25u4 + 0.25u6 + 0.25u8)^2)) / sqrt(dx^2 + dy^2))^2)^0.5)) + (-0.5u1*((-0.5u2) / (0.5dx) + (0.5u4) / (0.5dx))) / (0.5dy*(((α / ρ)^2 + ((12μ) / (ρ*(sqrt(dx^2 + dy^2)^2)))^2 + ((2sqrt((0.25u1 + 0.25u3 + 0.25u5 + 0.25u7)^2 + (0.25u2 + 0.25u4 + 0.25u6 + 0.25u8)^2)) / sqrt(dx^2 + dy^2))^2)^0.5)) + (-0.5u2*α) / (0.5dy*ρ*(((α / ρ)^2 + ((12μ) / (ρ*(sqrt(dx^2 + dy^2)^2)))^2 + ((2sqrt((0.25u1 + 0.25u3 + 0.25u5 + 0.25u7)^2 + (0.25u2 + 0.25u4 + 0.25u6 + 0.25u8)^2)) / sqrt(dx^2 + dy^2))^2)^0.5)) + (-0.5u2*((-0.5u1) / (0.5dy) + (0.5u7) / (0.5dy))) / (0.5dx*(((α / ρ)^2 + ((12μ) / (ρ*(sqrt(dx^2 + dy^2)^2)))^2 + ((2sqrt((0.25u1 + 0.25u3 + 0.25u5 + 0.25u7)^2 + (0.25u2 + 0.25u4 + 0.25u6 + 0.25u8)^2)) / sqrt(dx^2 + dy^2))^2)^0.5)) + (-0.5u2*((-0.5u2) / (0.5dy) + (0.5u8) / (0.5dy))) / (0.5dy*(((α / ρ)^2 + ((12μ) / (ρ*(sqrt(dx^2 + dy^2)^2)))^2 + ((2sqrt((0.25u1 + 0.25u3 + 0.25u5 + 0.25u7)^2 + (0.25u2 + 0.25u4 + 0.25u6 + 0.25u8)^2)) / sqrt(dx^2 + dy^2))^2)^0.5)))\n",
       " 0.25dx*dy*((-0.5((-0.5p2) / (0.5dy) + (0.5p3) / (0.5dy))) / (0.5dy*ρ*(((α / ρ)^2 + ((12μ) / (ρ*(sqrt(dx^2 + dy^2)^2)))^2 + ((2sqrt((0.25u1 + 0.25u3 + 0.25u5 + 0.25u7)^2 + (0.25u2 + 0.25u4 + 0.25u6 + 0.25u8)^2)) / sqrt(dx^2 + dy^2))^2)^0.5)) + (-0.5u5*((0.5u6) / (0.5dx) + (-0.5u8) / (0.5dx))) / (0.5dy*(((α / ρ)^2 + ((12μ) / (ρ*(sqrt(dx^2 + dy^2)^2)))^2 + ((2sqrt((0.25u1 + 0.25u3 + 0.25u5 + 0.25u7)^2 + (0.25u2 + 0.25u4 + 0.25u6 + 0.25u8)^2)) / sqrt(dx^2 + dy^2))^2)^0.5)) + (-0.5u6*α) / (0.5dy*ρ*(((α / ρ)^2 + ((12μ) / (ρ*(sqrt(dx^2 + dy^2)^2)))^2 + ((2sqrt((0.25u1 + 0.25u3 + 0.25u5 + 0.25u7)^2 + (0.25u2 + 0.25u4 + 0.25u6 + 0.25u8)^2)) / sqrt(dx^2 + dy^2))^2)^0.5)) + (-0.5u6*((-0.5u4) / (0.5dy) + (0.5u6) / (0.5dy))) / (0.5dy*(((α / ρ)^2 + ((12μ) / (ρ*(sqrt(dx^2 + dy^2)^2)))^2 + ((2sqrt((0.25u1 + 0.25u3 + 0.25u5 + 0.25u7)^2 + (0.25u2 + 0.25u4 + 0.25u6 + 0.25u8)^2)) / sqrt(dx^2 + dy^2))^2)^0.5))) + 0.25dx*dy*((0.5((-0.5p1) / (0.5dx) + (0.5p2) / (0.5dx))) / (0.5dx*ρ*(((α / ρ)^2 + ((12μ) / (ρ*(sqrt(dx^2 + dy^2)^2)))^2 + ((2sqrt((0.25u1 + 0.25u3 + 0.25u5 + 0.25u7)^2 + (0.25u2 + 0.25u4 + 0.25u6 + 0.25u8)^2)) / sqrt(dx^2 + dy^2))^2)^0.5)) + (0.5u1*α) / (0.5dx*ρ*(((α / ρ)^2 + ((12μ) / (ρ*(sqrt(dx^2 + dy^2)^2)))^2 + ((2sqrt((0.25u1 + 0.25u3 + 0.25u5 + 0.25u7)^2 + (0.25u2 + 0.25u4 + 0.25u6 + 0.25u8)^2)) / sqrt(dx^2 + dy^2))^2)^0.5)) + (0.5u1*((-0.5u1) / (0.5dx) + (0.5u3) / (0.5dx))) / (0.5dx*(((α / ρ)^2 + ((12μ) / (ρ*(sqrt(dx^2 + dy^2)^2)))^2 + ((2sqrt((0.25u1 + 0.25u3 + 0.25u5 + 0.25u7)^2 + (0.25u2 + 0.25u4 + 0.25u6 + 0.25u8)^2)) / sqrt(dx^2 + dy^2))^2)^0.5)) + (0.5u2*((-0.5u1) / (0.5dy) + (0.5u7) / (0.5dy))) / (0.5dx*(((α / ρ)^2 + ((12μ) / (ρ*(sqrt(dx^2 + dy^2)^2)))^2 + ((2sqrt((0.25u1 + 0.25u3 + 0.25u5 + 0.25u7)^2 + (0.25u2 + 0.25u4 + 0.25u6 + 0.25u8)^2)) / sqrt(dx^2 + dy^2))^2)^0.5))) + 0.25dx*dy*((-0.5u1) / (0.5dx) + (0.5u3) / (0.5dx) + (-0.5u4) / (0.5dy) + (0.5u6) / (0.5dy) + (0.5((-0.5p1) / (0.5dx) + (0.5p2) / (0.5dx))) / (0.5dx*ρ*(((α / ρ)^2 + ((12μ) / (ρ*(sqrt(dx^2 + dy^2)^2)))^2 + ((2sqrt((0.25u1 + 0.25u3 + 0.25u5 + 0.25u7)^2 + (0.25u2 + 0.25u4 + 0.25u6 + 0.25u8)^2)) / sqrt(dx^2 + dy^2))^2)^0.5)) + (-0.5((-0.5p2) / (0.5dy) + (0.5p3) / (0.5dy))) / (0.5dy*ρ*(((α / ρ)^2 + ((12μ) / (ρ*(sqrt(dx^2 + dy^2)^2)))^2 + ((2sqrt((0.25u1 + 0.25u3 + 0.25u5 + 0.25u7)^2 + (0.25u2 + 0.25u4 + 0.25u6 + 0.25u8)^2)) / sqrt(dx^2 + dy^2))^2)^0.5)) + (0.5u3*α) / (0.5dx*ρ*(((α / ρ)^2 + ((12μ) / (ρ*(sqrt(dx^2 + dy^2)^2)))^2 + ((2sqrt((0.25u1 + 0.25u3 + 0.25u5 + 0.25u7)^2 + (0.25u2 + 0.25u4 + 0.25u6 + 0.25u8)^2)) / sqrt(dx^2 + dy^2))^2)^0.5)) + (0.5u3*((-0.5u1) / (0.5dx) + (0.5u3) / (0.5dx))) / (0.5dx*(((α / ρ)^2 + ((12μ) / (ρ*(sqrt(dx^2 + dy^2)^2)))^2 + ((2sqrt((0.25u1 + 0.25u3 + 0.25u5 + 0.25u7)^2 + (0.25u2 + 0.25u4 + 0.25u6 + 0.25u8)^2)) / sqrt(dx^2 + dy^2))^2)^0.5)) + (-0.5u3*((-0.5u2) / (0.5dx) + (0.5u4) / (0.5dx))) / (0.5dy*(((α / ρ)^2 + ((12μ) / (ρ*(sqrt(dx^2 + dy^2)^2)))^2 + ((2sqrt((0.25u1 + 0.25u3 + 0.25u5 + 0.25u7)^2 + (0.25u2 + 0.25u4 + 0.25u6 + 0.25u8)^2)) / sqrt(dx^2 + dy^2))^2)^0.5)) + (-0.5u4*α) / (0.5dy*ρ*(((α / ρ)^2 + ((12μ) / (ρ*(sqrt(dx^2 + dy^2)^2)))^2 + ((2sqrt((0.25u1 + 0.25u3 + 0.25u5 + 0.25u7)^2 + (0.25u2 + 0.25u4 + 0.25u6 + 0.25u8)^2)) / sqrt(dx^2 + dy^2))^2)^0.5)) + (0.5u4*((-0.5u3) / (0.5dy) + (0.5u5) / (0.5dy))) / (0.5dx*(((α / ρ)^2 + ((12μ) / (ρ*(sqrt(dx^2 + dy^2)^2)))^2 + ((2sqrt((0.25u1 + 0.25u3 + 0.25u5 + 0.25u7)^2 + (0.25u2 + 0.25u4 + 0.25u6 + 0.25u8)^2)) / sqrt(dx^2 + dy^2))^2)^0.5)) + (-0.5u4*((-0.5u4) / (0.5dy) + (0.5u6) / (0.5dy))) / (0.5dy*(((α / ρ)^2 + ((12μ) / (ρ*(sqrt(dx^2 + dy^2)^2)))^2 + ((2sqrt((0.25u1 + 0.25u3 + 0.25u5 + 0.25u7)^2 + (0.25u2 + 0.25u4 + 0.25u6 + 0.25u8)^2)) / sqrt(dx^2 + dy^2))^2)^0.5)))\n",
       " 0.25dx*dy*((0.5((-0.5p2) / (0.5dy) + (0.5p3) / (0.5dy))) / (0.5dy*ρ*(((α / ρ)^2 + ((12μ) / (ρ*(sqrt(dx^2 + dy^2)^2)))^2 + ((2sqrt((0.25u1 + 0.25u3 + 0.25u5 + 0.25u7)^2 + (0.25u2 + 0.25u4 + 0.25u6 + 0.25u8)^2)) / sqrt(dx^2 + dy^2))^2)^0.5)) + (0.5u4*α) / (0.5dy*ρ*(((α / ρ)^2 + ((12μ) / (ρ*(sqrt(dx^2 + dy^2)^2)))^2 + ((2sqrt((0.25u1 + 0.25u3 + 0.25u5 + 0.25u7)^2 + (0.25u2 + 0.25u4 + 0.25u6 + 0.25u8)^2)) / sqrt(dx^2 + dy^2))^2)^0.5)) + (0.5u3*((-0.5u2) / (0.5dx) + (0.5u4) / (0.5dx))) / (0.5dy*(((α / ρ)^2 + ((12μ) / (ρ*(sqrt(dx^2 + dy^2)^2)))^2 + ((2sqrt((0.25u1 + 0.25u3 + 0.25u5 + 0.25u7)^2 + (0.25u2 + 0.25u4 + 0.25u6 + 0.25u8)^2)) / sqrt(dx^2 + dy^2))^2)^0.5)) + (0.5u4*((-0.5u4) / (0.5dy) + (0.5u6) / (0.5dy))) / (0.5dy*(((α / ρ)^2 + ((12μ) / (ρ*(sqrt(dx^2 + dy^2)^2)))^2 + ((2sqrt((0.25u1 + 0.25u3 + 0.25u5 + 0.25u7)^2 + (0.25u2 + 0.25u4 + 0.25u6 + 0.25u8)^2)) / sqrt(dx^2 + dy^2))^2)^0.5))) + 0.25dx*dy*((0.5((0.5p3) / (0.5dx) + (-0.5p4) / (0.5dx))) / (0.5dx*ρ*(((α / ρ)^2 + ((12μ) / (ρ*(sqrt(dx^2 + dy^2)^2)))^2 + ((2sqrt((0.25u1 + 0.25u3 + 0.25u5 + 0.25u7)^2 + (0.25u2 + 0.25u4 + 0.25u6 + 0.25u8)^2)) / sqrt(dx^2 + dy^2))^2)^0.5)) + (0.5u7*α) / (0.5dx*ρ*(((α / ρ)^2 + ((12μ) / (ρ*(sqrt(dx^2 + dy^2)^2)))^2 + ((2sqrt((0.25u1 + 0.25u3 + 0.25u5 + 0.25u7)^2 + (0.25u2 + 0.25u4 + 0.25u6 + 0.25u8)^2)) / sqrt(dx^2 + dy^2))^2)^0.5)) + (0.5u7*((0.5u5) / (0.5dx) + (-0.5u7) / (0.5dx))) / (0.5dx*(((α / ρ)^2 + ((12μ) / (ρ*(sqrt(dx^2 + dy^2)^2)))^2 + ((2sqrt((0.25u1 + 0.25u3 + 0.25u5 + 0.25u7)^2 + (0.25u2 + 0.25u4 + 0.25u6 + 0.25u8)^2)) / sqrt(dx^2 + dy^2))^2)^0.5)) + (0.5u8*((-0.5u1) / (0.5dy) + (0.5u7) / (0.5dy))) / (0.5dx*(((α / ρ)^2 + ((12μ) / (ρ*(sqrt(dx^2 + dy^2)^2)))^2 + ((2sqrt((0.25u1 + 0.25u3 + 0.25u5 + 0.25u7)^2 + (0.25u2 + 0.25u4 + 0.25u6 + 0.25u8)^2)) / sqrt(dx^2 + dy^2))^2)^0.5))) + 0.25dx*dy*((-0.5u4) / (0.5dy) + (0.5u5) / (0.5dx) + (0.5u6) / (0.5dy) + (-0.5u7) / (0.5dx) + (0.5((-0.5p2) / (0.5dy) + (0.5p3) / (0.5dy))) / (0.5dy*ρ*(((α / ρ)^2 + ((12μ) / (ρ*(sqrt(dx^2 + dy^2)^2)))^2 + ((2sqrt((0.25u1 + 0.25u3 + 0.25u5 + 0.25u7)^2 + (0.25u2 + 0.25u4 + 0.25u6 + 0.25u8)^2)) / sqrt(dx^2 + dy^2))^2)^0.5)) + (0.5((0.5p3) / (0.5dx) + (-0.5p4) / (0.5dx))) / (0.5dx*ρ*(((α / ρ)^2 + ((12μ) / (ρ*(sqrt(dx^2 + dy^2)^2)))^2 + ((2sqrt((0.25u1 + 0.25u3 + 0.25u5 + 0.25u7)^2 + (0.25u2 + 0.25u4 + 0.25u6 + 0.25u8)^2)) / sqrt(dx^2 + dy^2))^2)^0.5)) + (0.5u5*α) / (0.5dx*ρ*(((α / ρ)^2 + ((12μ) / (ρ*(sqrt(dx^2 + dy^2)^2)))^2 + ((2sqrt((0.25u1 + 0.25u3 + 0.25u5 + 0.25u7)^2 + (0.25u2 + 0.25u4 + 0.25u6 + 0.25u8)^2)) / sqrt(dx^2 + dy^2))^2)^0.5)) + (0.5u6*α) / (0.5dy*ρ*(((α / ρ)^2 + ((12μ) / (ρ*(sqrt(dx^2 + dy^2)^2)))^2 + ((2sqrt((0.25u1 + 0.25u3 + 0.25u5 + 0.25u7)^2 + (0.25u2 + 0.25u4 + 0.25u6 + 0.25u8)^2)) / sqrt(dx^2 + dy^2))^2)^0.5)) + (0.5u6*((-0.5u3) / (0.5dy) + (0.5u5) / (0.5dy))) / (0.5dx*(((α / ρ)^2 + ((12μ) / (ρ*(sqrt(dx^2 + dy^2)^2)))^2 + ((2sqrt((0.25u1 + 0.25u3 + 0.25u5 + 0.25u7)^2 + (0.25u2 + 0.25u4 + 0.25u6 + 0.25u8)^2)) / sqrt(dx^2 + dy^2))^2)^0.5)) + (0.5u6*((-0.5u4) / (0.5dy) + (0.5u6) / (0.5dy))) / (0.5dy*(((α / ρ)^2 + ((12μ) / (ρ*(sqrt(dx^2 + dy^2)^2)))^2 + ((2sqrt((0.25u1 + 0.25u3 + 0.25u5 + 0.25u7)^2 + (0.25u2 + 0.25u4 + 0.25u6 + 0.25u8)^2)) / sqrt(dx^2 + dy^2))^2)^0.5)) + (0.5u5*((0.5u5) / (0.5dx) + (-0.5u7) / (0.5dx))) / (0.5dx*(((α / ρ)^2 + ((12μ) / (ρ*(sqrt(dx^2 + dy^2)^2)))^2 + ((2sqrt((0.25u1 + 0.25u3 + 0.25u5 + 0.25u7)^2 + (0.25u2 + 0.25u4 + 0.25u6 + 0.25u8)^2)) / sqrt(dx^2 + dy^2))^2)^0.5)) + (0.5u5*((0.5u6) / (0.5dx) + (-0.5u8) / (0.5dx))) / (0.5dy*(((α / ρ)^2 + ((12μ) / (ρ*(sqrt(dx^2 + dy^2)^2)))^2 + ((2sqrt((0.25u1 + 0.25u3 + 0.25u5 + 0.25u7)^2 + (0.25u2 + 0.25u4 + 0.25u6 + 0.25u8)^2)) / sqrt(dx^2 + dy^2))^2)^0.5)))\n",
       " 0.25dx*dy*((-0.5((0.5p3) / (0.5dx) + (-0.5p4) / (0.5dx))) / (0.5dx*ρ*(((α / ρ)^2 + ((12μ) / (ρ*(sqrt(dx^2 + dy^2)^2)))^2 + ((2sqrt((0.25u1 + 0.25u3 + 0.25u5 + 0.25u7)^2 + (0.25u2 + 0.25u4 + 0.25u6 + 0.25u8)^2)) / sqrt(dx^2 + dy^2))^2)^0.5)) + (-0.5u5*α) / (0.5dx*ρ*(((α / ρ)^2 + ((12μ) / (ρ*(sqrt(dx^2 + dy^2)^2)))^2 + ((2sqrt((0.25u1 + 0.25u3 + 0.25u5 + 0.25u7)^2 + (0.25u2 + 0.25u4 + 0.25u6 + 0.25u8)^2)) / sqrt(dx^2 + dy^2))^2)^0.5)) + (-0.5u6*((-0.5u3) / (0.5dy) + (0.5u5) / (0.5dy))) / (0.5dx*(((α / ρ)^2 + ((12μ) / (ρ*(sqrt(dx^2 + dy^2)^2)))^2 + ((2sqrt((0.25u1 + 0.25u3 + 0.25u5 + 0.25u7)^2 + (0.25u2 + 0.25u4 + 0.25u6 + 0.25u8)^2)) / sqrt(dx^2 + dy^2))^2)^0.5)) + (-0.5u5*((0.5u5) / (0.5dx) + (-0.5u7) / (0.5dx))) / (0.5dx*(((α / ρ)^2 + ((12μ) / (ρ*(sqrt(dx^2 + dy^2)^2)))^2 + ((2sqrt((0.25u1 + 0.25u3 + 0.25u5 + 0.25u7)^2 + (0.25u2 + 0.25u4 + 0.25u6 + 0.25u8)^2)) / sqrt(dx^2 + dy^2))^2)^0.5))) + 0.25dx*dy*((0.5((-0.5p1) / (0.5dy) + (0.5p4) / (0.5dy))) / (0.5dy*ρ*(((α / ρ)^2 + ((12μ) / (ρ*(sqrt(dx^2 + dy^2)^2)))^2 + ((2sqrt((0.25u1 + 0.25u3 + 0.25u5 + 0.25u7)^2 + (0.25u2 + 0.25u4 + 0.25u6 + 0.25u8)^2)) / sqrt(dx^2 + dy^2))^2)^0.5)) + (0.5u2*α) / (0.5dy*ρ*(((α / ρ)^2 + ((12μ) / (ρ*(sqrt(dx^2 + dy^2)^2)))^2 + ((2sqrt((0.25u1 + 0.25u3 + 0.25u5 + 0.25u7)^2 + (0.25u2 + 0.25u4 + 0.25u6 + 0.25u8)^2)) / sqrt(dx^2 + dy^2))^2)^0.5)) + (0.5u1*((-0.5u2) / (0.5dx) + (0.5u4) / (0.5dx))) / (0.5dy*(((α / ρ)^2 + ((12μ) / (ρ*(sqrt(dx^2 + dy^2)^2)))^2 + ((2sqrt((0.25u1 + 0.25u3 + 0.25u5 + 0.25u7)^2 + (0.25u2 + 0.25u4 + 0.25u6 + 0.25u8)^2)) / sqrt(dx^2 + dy^2))^2)^0.5)) + (0.5u2*((-0.5u2) / (0.5dy) + (0.5u8) / (0.5dy))) / (0.5dy*(((α / ρ)^2 + ((12μ) / (ρ*(sqrt(dx^2 + dy^2)^2)))^2 + ((2sqrt((0.25u1 + 0.25u3 + 0.25u5 + 0.25u7)^2 + (0.25u2 + 0.25u4 + 0.25u6 + 0.25u8)^2)) / sqrt(dx^2 + dy^2))^2)^0.5))) + 0.25dx*dy*((-0.5u2) / (0.5dy) + (0.5u5) / (0.5dx) + (-0.5u7) / (0.5dx) + (0.5u8) / (0.5dy) + (0.5((-0.5p1) / (0.5dy) + (0.5p4) / (0.5dy))) / (0.5dy*ρ*(((α / ρ)^2 + ((12μ) / (ρ*(sqrt(dx^2 + dy^2)^2)))^2 + ((2sqrt((0.25u1 + 0.25u3 + 0.25u5 + 0.25u7)^2 + (0.25u2 + 0.25u4 + 0.25u6 + 0.25u8)^2)) / sqrt(dx^2 + dy^2))^2)^0.5)) + (-0.5((0.5p3) / (0.5dx) + (-0.5p4) / (0.5dx))) / (0.5dx*ρ*(((α / ρ)^2 + ((12μ) / (ρ*(sqrt(dx^2 + dy^2)^2)))^2 + ((2sqrt((0.25u1 + 0.25u3 + 0.25u5 + 0.25u7)^2 + (0.25u2 + 0.25u4 + 0.25u6 + 0.25u8)^2)) / sqrt(dx^2 + dy^2))^2)^0.5)) + (-0.5u7*α) / (0.5dx*ρ*(((α / ρ)^2 + ((12μ) / (ρ*(sqrt(dx^2 + dy^2)^2)))^2 + ((2sqrt((0.25u1 + 0.25u3 + 0.25u5 + 0.25u7)^2 + (0.25u2 + 0.25u4 + 0.25u6 + 0.25u8)^2)) / sqrt(dx^2 + dy^2))^2)^0.5)) + (-0.5u7*((0.5u5) / (0.5dx) + (-0.5u7) / (0.5dx))) / (0.5dx*(((α / ρ)^2 + ((12μ) / (ρ*(sqrt(dx^2 + dy^2)^2)))^2 + ((2sqrt((0.25u1 + 0.25u3 + 0.25u5 + 0.25u7)^2 + (0.25u2 + 0.25u4 + 0.25u6 + 0.25u8)^2)) / sqrt(dx^2 + dy^2))^2)^0.5)) + (0.5u7*((0.5u6) / (0.5dx) + (-0.5u8) / (0.5dx))) / (0.5dy*(((α / ρ)^2 + ((12μ) / (ρ*(sqrt(dx^2 + dy^2)^2)))^2 + ((2sqrt((0.25u1 + 0.25u3 + 0.25u5 + 0.25u7)^2 + (0.25u2 + 0.25u4 + 0.25u6 + 0.25u8)^2)) / sqrt(dx^2 + dy^2))^2)^0.5)) + (0.5u8*α) / (0.5dy*ρ*(((α / ρ)^2 + ((12μ) / (ρ*(sqrt(dx^2 + dy^2)^2)))^2 + ((2sqrt((0.25u1 + 0.25u3 + 0.25u5 + 0.25u7)^2 + (0.25u2 + 0.25u4 + 0.25u6 + 0.25u8)^2)) / sqrt(dx^2 + dy^2))^2)^0.5)) + (-0.5u8*((-0.5u1) / (0.5dy) + (0.5u7) / (0.5dy))) / (0.5dx*(((α / ρ)^2 + ((12μ) / (ρ*(sqrt(dx^2 + dy^2)^2)))^2 + ((2sqrt((0.25u1 + 0.25u3 + 0.25u5 + 0.25u7)^2 + (0.25u2 + 0.25u4 + 0.25u6 + 0.25u8)^2)) / sqrt(dx^2 + dy^2))^2)^0.5)) + (0.5u8*((-0.5u2) / (0.5dy) + (0.5u8) / (0.5dy))) / (0.5dy*(((α / ρ)^2 + ((12μ) / (ρ*(sqrt(dx^2 + dy^2)^2)))^2 + ((2sqrt((0.25u1 + 0.25u3 + 0.25u5 + 0.25u7)^2 + (0.25u2 + 0.25u4 + 0.25u6 + 0.25u8)^2)) / sqrt(dx^2 + dy^2))^2)^0.5)))"
      ]
     },
     "metadata": {},
     "output_type": "display_data"
    }
   ],
   "source": [
    "    # FToC\n",
    "    println(\"Integrating Ru...\")\n",
    "    F = integrate(Ru, ξ; symbolic=true)\n",
    "    @assert F[2] == 0.0\n",
    "    @assert F[3] == 0.0\n",
    "    F = F[1]\n",
    "\n",
    "    F = simplify(SymbolicUtils.substitute(F, Dict([ξ => 1])) - SymbolicUtils.substitute(F, Dict([ξ => -1])))\n",
    "    F = integrate(F, η; symbolic=true)\n",
    "    @assert F[2] == 0.0\n",
    "    @assert F[3] == 0.0\n",
    "    F = F[1]\n",
    "\n",
    "    Ru = simplify(SymbolicUtils.substitute(F, Dict([η => 1])) - SymbolicUtils.substitute(F, Dict([η => -1])))\n",
    "\n",
    "    println(\"Integrating Rp...\")\n",
    "    G = integrate(Rp, ξ; symbolic=true)\n",
    "    @assert G[2] == 0.0\n",
    "    @assert G[3] == 0.0\n",
    "    G = G[1]\n",
    "\n",
    "    G = simplify(SymbolicUtils.substitute(G, Dict([ξ => 1])) - SymbolicUtils.substitute(G, Dict([ξ => -1])))\n",
    "    G = integrate(G, η; symbolic=true)\n",
    "    @assert G[2] == 0.0\n",
    "    @assert G[3] == 0.0\n",
    "    G = G[1]\n",
    "\n",
    "    Rp = simplify(SymbolicUtils.substitute(G, Dict([η => 1])) - SymbolicUtils.substitute(G, Dict([η => -1])))"
   ]
  },
  {
   "cell_type": "code",
   "execution_count": 139,
   "id": "6ff07e21",
   "metadata": {},
   "outputs": [
    {
     "data": {
      "text/plain": [
       "(8,)"
      ]
     },
     "metadata": {},
     "output_type": "display_data"
    }
   ],
   "source": [
    "size(Ru)"
   ]
  },
  {
   "cell_type": "code",
   "execution_count": 140,
   "id": "34e84d59",
   "metadata": {},
   "outputs": [
    {
     "data": {
      "text/plain": [
       "(4,)"
      ]
     },
     "metadata": {},
     "output_type": "display_data"
    }
   ],
   "source": [
    "size(Rp)"
   ]
  },
  {
   "cell_type": "code",
   "execution_count": 146,
   "id": "750287f9",
   "metadata": {},
   "outputs": [],
   "source": [
    "Re = [Ru ; Rp];"
   ]
  },
  {
   "cell_type": "code",
   "execution_count": 143,
   "id": "34f26077",
   "metadata": {},
   "outputs": [
    {
     "data": {
      "text/plain": [
       "(12,)"
      ]
     },
     "metadata": {},
     "output_type": "display_data"
    }
   ],
   "source": [
    "size(Re) # Checks out!"
   ]
  },
  {
   "cell_type": "code",
   "execution_count": 147,
   "id": "e5035cac",
   "metadata": {},
   "outputs": [],
   "source": [
    "Je = Symbolics.jacobian(Re, s);"
   ]
  },
  {
   "cell_type": "code",
   "execution_count": 145,
   "id": "bb41137c",
   "metadata": {},
   "outputs": [
    {
     "data": {
      "text/plain": [
       "(12, 12)"
      ]
     },
     "metadata": {},
     "output_type": "display_data"
    }
   ],
   "source": [
    "size(Je)"
   ]
  },
  {
   "cell_type": "code",
   "execution_count": 154,
   "id": "38a6dbaa",
   "metadata": {},
   "outputs": [],
   "source": [
    "JAC = Symbolics.build_function(\n",
    "    Je, dx, dy, μ, ρ, α, [u1, u2, u3, u4, u5, u6, u7, u8, p1, p2, p3, p4]\n",
    ");"
   ]
  },
  {
   "cell_type": "code",
   "execution_count": null,
   "id": "0fa3c780",
   "metadata": {},
   "outputs": [],
   "source": [
    "RES = Symbolic.build_function(\n",
    "    Re, dx, dy, μ, ρ, α, [u1, u2, u3, u4, u5, u6, u7, u8, p1, p2, p3, p4]\n",
    ")"
   ]
  },
  {
   "attachments": {},
   "cell_type": "markdown",
   "id": "8e66b57d",
   "metadata": {},
   "source": [
    "# OBJECTIVE FUNCTIONAL"
   ]
  },
  {
   "cell_type": "code",
   "execution_count": null,
   "id": "0e4fb4dd",
   "metadata": {},
   "outputs": [],
   "source": []
  }
 ],
 "metadata": {
  "kernelspec": {
   "display_name": "Julia 1.8.5",
   "language": "julia",
   "name": "julia-1.8"
  },
  "language_info": {
   "file_extension": ".jl",
   "mimetype": "application/julia",
   "name": "julia",
   "version": "1.8.5"
  }
 },
 "nbformat": 4,
 "nbformat_minor": 5
}
