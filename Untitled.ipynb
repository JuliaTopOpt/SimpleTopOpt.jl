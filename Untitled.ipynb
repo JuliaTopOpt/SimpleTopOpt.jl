{
 "cells": [
  {
   "cell_type": "code",
   "execution_count": 2,
   "id": "5fc0d928",
   "metadata": {},
   "outputs": [],
   "source": [
    "using Test\n",
    "using SimpleTopOpt\n",
    "using SimpleTopOpt.TopFlow.analyticElement:\n",
    "    Symbols, shapeFunctionDerivatives, shapeFunctionsAndMatrices,\n",
    "    nodalCoordsTransforms, nodalDofs, stabilizationParameters,\n",
    "    residualFormation, doubleIntegrate, formJe, computePhi,\n",
    "    computePartialJeDF, computePartialPhiDF, computePartialPhiSF,\n",
    "    jacobianConstruction\n",
    "using SymbolicUtils\n",
    "using LinearAlgebra"
   ]
  },
  {
   "cell_type": "code",
   "execution_count": 3,
   "id": "8c75262f",
   "metadata": {},
   "outputs": [],
   "source": [
    "vars = Symbols()\n",
    "DIR_PATH = @__DIR__\n",
    "\n",
    "# Analytic part\n",
    "# Shape functions and matrices\n",
    "xv, yv, Np, Nu = shapeFunctionsAndMatrices(vars)\n",
    "\n",
    "# Nodal coordinates, interpolation and coordinate transforms\n",
    "x, y = nodalCoordsTransforms(vars, xv, yv, Np)\n",
    "\n",
    "# Jacobian\n",
    "iJ, detJ, _ = jacobianConstruction(vars, x, y)\n",
    "\n",
    "# Derivatives of shape functions\n",
    "dNpdx, dNudx = shapeFunctionDerivatives(iJ, Np, Nu, vars)\n",
    "\n",
    "# Nodal DOFs\n",
    "s, ux, px, dudx, dpdx = nodalDofs(vars, Nu, Np, dNudx, dNpdx)\n",
    "# Stabilization parameters τ\n",
    "τ, _ = stabilizationParameters(vars, ux)\n",
    "\n",
    "# Loop over the tensor weak form to form residual\n",
    "Ru, Rp = residualFormation(vars, τ, Nu, ux, dNudx, dudx, dpdx, px, Np, dNpdx, detJ);"
   ]
  },
  {
   "cell_type": "code",
   "execution_count": 8,
   "id": "abb14bec",
   "metadata": {},
   "outputs": [],
   "source": [
    "Ru;"
   ]
  },
  {
   "cell_type": "code",
   "execution_count": 6,
   "id": "d1c2a466",
   "metadata": {},
   "outputs": [],
   "source": [
    "using SimpleTopOpt.TopFlow.analyticElement"
   ]
  },
  {
   "cell_type": "code",
   "execution_count": null,
   "id": "3f700781",
   "metadata": {},
   "outputs": [],
   "source": []
  }
 ],
 "metadata": {
  "kernelspec": {
   "display_name": "Julia 1.9.2",
   "language": "julia",
   "name": "julia-1.9"
  },
  "language_info": {
   "file_extension": ".jl",
   "mimetype": "application/julia",
   "name": "julia",
   "version": "1.9.2"
  }
 },
 "nbformat": 4,
 "nbformat_minor": 5
}
